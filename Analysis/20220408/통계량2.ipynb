{
 "cells": [
  {
   "cell_type": "markdown",
   "metadata": {},
   "source": [
    "### 통계량 2\n",
    "- 표본을 이용하여 모집단의 성질을 파악하는 계산 결과\n",
    "- 표본의 평균, 분산, 표준편차, 표준화값등을 이용하여 모집단의 모수를 추정\n",
    "- 모집단의 모수: 모집단의 특성을 갖는 평균(μ), 분산(σ²), 표준편차(σ)등을 말함\n",
    "- 다양한 단위의 통계량를 구하기위하여 표준적인 절차가 필요함으로 표준정규분포표를 사용한다.\n",
    "- 표준정규분포표는 적분에 기반한 0~1 사이의 값으로 구성된 표형태\n",
    "- 표준정규분포표를 이용하면 적분을 계산하는 수고를 줄일 수 있다.\n",
    "- 표준정규분포표를 이용해서 Z값을 적분값으로 변환 할 수 있다.\n",
    "- 표준정규분포는 좌우 대칭이며 평균 0, 분산 1을 기반으로한 분포이다.\n",
    "- 표준정규분포는 평균 0을 기준으로 ±표준편차로 구성되어 있다.\n",
    "\n",
    "- 모집단 표준화 값의 산출: Z = (x - μ) / σ => (x - mu) / sigma\n",
    "\n",
    "- 모분산(모표준편차)을 아는 경우 표본집단 표준화 값의 산출: \n",
    "- Z = (xbar - μ) / (σ / √n) => (xbar - mu) / (sigma / np.sqrt(n))\n",
    "- t = (xbar - μ) / (σ / √n) => (xbar - mu) / (sigma / np.sqrt(n))\n",
    "\n",
    "- 모분산(모표준편차)을 모르는 경우 표본집단 표준화 값의 산출: \n",
    "- Z = (xbar - μ) / (S / √n) => (xbar - mu) / (sigma / np.sqrt(n))\n",
    "- t = (xbar - μ) / (S / √n) => (xbar - mu) / (sigma / np.sqrt(n))\n",
    "- S: 표본 표준편차"
   ]
  },
  {
   "cell_type": "code",
   "execution_count": 64,
   "metadata": {},
   "outputs": [],
   "source": [
    "import numpy as np"
   ]
  },
  {
   "cell_type": "markdown",
   "metadata": {},
   "source": [
    "<img src='05.jpg'>"
   ]
  },
  {
   "cell_type": "code",
   "execution_count": 65,
   "metadata": {},
   "outputs": [
    {
     "name": "stdout",
     "output_type": "stream",
     "text": [
      "3.3333333333333335\n",
      "표준정규분포표: 0.043 %\n",
      "t-value -> p-value: 0.139 %\n"
     ]
    }
   ],
   "source": [
    "# H0 귀무가설: 휴식시간 22분은 20분 휴식 규정을 준수한다.\n",
    "# H1 대립가설: 휴식시간 22분은 20분 휴식 규정을 위배한다.\n",
    "mu=20; n=25; xbar=22; s=3 # xbar: 표본평균, s: 표본 표준편차\n",
    "# z = (xbar - mu) / (s / np.sqrt(n))\n",
    "t = (xbar - mu) / (s / np.sqrt(n)) # z 통계량과 공식 동일\n",
    "print(t) # 휴식시간 22분은 20분 휴식 규정을 준수한다는 비율\n",
    "# z 귀무가설이 참일 확률: 1-0.999566\n",
    "print('표준정규분포표:', round((1-0.999566) * 100, 3), '%')\n",
    "print('t-value -> p-value:', round((.001388*100),3), '%')"
   ]
  },
  {
   "cell_type": "code",
   "execution_count": 66,
   "metadata": {},
   "outputs": [
    {
     "name": "stdout",
     "output_type": "stream",
     "text": [
      "직원들은 20분동안 휴식을하고 있다고 말할수 없다. 더 길게 쉬고있다.\n"
     ]
    }
   ],
   "source": [
    "# 표본수가 30미만이면 정규분포의 성질이 적게 나타날 수 있어 t분포표를 이용함\n",
    "# t(0.05, 24)=1.711: 비정상적인 경우를 0.05즉 5%안에 나타낼경우로하며 표본수는\n",
    "# n-1을하여 25-1하여 24일경우로 t분포표를 참고함, 단측 검정.\n",
    "# t(0.05, 24)=1.711: t 분포표를 확인한 결과 단측 검정을 제시함.\n",
    "# t-value: 1.711 -> p-value: 0.0499 -> 0.05*100 -> 5%\n",
    "if t > 1.711: # 5%의 특이한 영역에 포함되는 값인지 확인\n",
    "    print('직원들은 20분동안 휴식을하고 있다고 말할수 없다. 더 길게 쉬고있다.')\n",
    "else:\n",
    "    print('규정대로 직원들은 20분동안 휴식을 취하고 있다.')"
   ]
  },
  {
   "cell_type": "code",
   "execution_count": 67,
   "metadata": {},
   "outputs": [
    {
     "name": "stdout",
     "output_type": "stream",
     "text": [
      "1.6666666666666667\n",
      "규정대로 직원들은 20분동안 휴식을 취하고 있다.\n"
     ]
    }
   ],
   "source": [
    "mu=20; n=25; xbar=21; s=3 # xbar: 표본평균, s: 표본 표준편차\n",
    "t = (xbar - mu) / (s / np.sqrt(n))\n",
    "print(t)\n",
    "if t > 1.711:\n",
    "    print('직원들은 20분동안 휴식을하고 있다고 말할수 없다. 더 길게 쉬고있다.')\n",
    "else:\n",
    "    print('규정대로 직원들은 20분동안 휴식을 취하고 있다.')"
   ]
  },
  {
   "cell_type": "code",
   "execution_count": 68,
   "metadata": {},
   "outputs": [
    {
     "name": "stdout",
     "output_type": "stream",
     "text": [
      "0.8333333333333334\n",
      "규정대로 직원들은 20분동안 휴식을 취하고 있다.\n"
     ]
    }
   ],
   "source": [
    "mu=20; n=25; xbar=20.5; s=3 # xbar: 표본평균, s: 표본 표준편차\n",
    "t = (xbar - mu) / (s / np.sqrt(n))\n",
    "print(t)\n",
    "if t > 1.711:\n",
    "    print('직원들은 20분동안 휴식을하고 있다고 말할수 없다. 더 길게 쉬고있다.')\n",
    "else:\n",
    "    print('규정대로 직원들은 20분동안 휴식을 취하고 있다.')"
   ]
  },
  {
   "cell_type": "code",
   "execution_count": 69,
   "metadata": {},
   "outputs": [
    {
     "name": "stdout",
     "output_type": "stream",
     "text": [
      "0.0\n",
      "규정대로 직원들은 20분동안 휴식을 취하고 있다.\n"
     ]
    }
   ],
   "source": [
    "mu=20; n=25; xbar=20; s=3 # xbar: 표본평균, s: 표본 표준편차\n",
    "t = (xbar - mu) / (s / np.sqrt(n))\n",
    "print(t)\n",
    "if t > 1.711:\n",
    "    print('직원들은 20분동안 휴식을하고 있다고 말할수 없다. 더 길게 쉬고있다.')\n",
    "else:\n",
    "    print('규정대로 직원들은 20분동안 휴식을 취하고 있다.')"
   ]
  },
  {
   "cell_type": "markdown",
   "metadata": {},
   "source": [
    "<img src='06.jpg'>"
   ]
  },
  {
   "cell_type": "code",
   "execution_count": 70,
   "metadata": {},
   "outputs": [
    {
     "name": "stdout",
     "output_type": "stream",
     "text": [
      "z: 1.25\n",
      "p-value: 89.43 %\n"
     ]
    }
   ],
   "source": [
    "# 240그램의 과자를 생산하는 회사는 8그램의 오차가 있는 것을 알고있음\n",
    "# 소비자 단체에서 25개의 상품을 식자재마트에서 무작위 추출하여 \n",
    "# 제시한 240그램을 초과하여 242 그램 이하(단측, 좌측검정)의 과자가 몇 %나 있는지\n",
    "# 파악하고자 데이터분석 컨설팅 업체에 문의를 하게되었다.\n",
    "mu=240; sigma=8; n=25; xbar=242\n",
    "z = (xbar - mu) / (sigma / np.sqrt(n))\n",
    "print('z:', z)\n",
    "print('p-value:', round((0.8943*100), 2), '%')"
   ]
  },
  {
   "cell_type": "code",
   "execution_count": 71,
   "metadata": {},
   "outputs": [
    {
     "name": "stdout",
     "output_type": "stream",
     "text": [
      "z: -2.5\n",
      "pvalue: 0.006299999999999972\n",
      "pvalue: 0.63 %\n",
      "생산되는 제품은 통계적으로 5% 미만으로 생산되는 제품으로\n",
      "기준 미달로 판정되었습니다.\n"
     ]
    }
   ],
   "source": [
    "# 소비자 단체에서 다시 연락이 왔는데 1차 결과를 전달받고 25개의 상품을\n",
    "# 다시 조사하였더니 평균이 240g에 못미치는 236g이 나왔서\n",
    "# 이게 정상적인지 다시 데이터분석 컨설팅 업체에 문의를 하였다.\n",
    "# 유의수준 p-value(a) 0.05(5%), Z: 1.64\n",
    "mu=240; sigma=8; n=25; xbar=236\n",
    "z = (xbar - mu) / (sigma / np.sqrt(n))\n",
    "print('z:', z) \n",
    "# -2.5이 결과를 대칭으로 생각하여 2.5에 해당하는 영역을 검색 0.9937\n",
    "pvalue = 1-0.9937 # p-value:'-' X\n",
    "print('pvalue:', pvalue)\n",
    "print('pvalue:', round(pvalue*100, 2) , '%')\n",
    "if pvalue < 0.05:\n",
    "    print('생산되는 제품은 통계적으로 5% 미만으로 생산되는 제품으로')\n",
    "    print('기준 미달로 판정되었습니다.')"
   ]
  },
  {
   "cell_type": "code",
   "execution_count": 72,
   "metadata": {},
   "outputs": [
    {
     "name": "stdout",
     "output_type": "stream",
     "text": [
      "z: -1.875\n",
      "pvalue: 0.03080000000000005\n",
      "pvalue: 3.08 %\n",
      "생산되는 제품은 통계적으로 5% 미만으로 생산되는 제품으로\n",
      "기준 미달로 판정되었습니다.\n"
     ]
    }
   ],
   "source": [
    "mu=240; sigma=8; n=25; xbar=237\n",
    "z = (xbar - mu) / (sigma / np.sqrt(n))\n",
    "print('z:', z) \n",
    "pvalue = 1-0.9692 # p-value:'-' X\n",
    "print('pvalue:', pvalue)\n",
    "print('pvalue:', round(pvalue*100, 2) , '%')\n",
    "if pvalue < 0.05:\n",
    "    print('생산되는 제품은 통계적으로 5% 미만으로 생산되는 제품으로')\n",
    "    print('기준 미달로 판정되었습니다.')"
   ]
  },
  {
   "cell_type": "code",
   "execution_count": 73,
   "metadata": {},
   "outputs": [
    {
     "name": "stdout",
     "output_type": "stream",
     "text": [
      "z: -1.25\n",
      "pvalue: 0.10570000000000002\n",
      "pvalue: 10.57 %\n",
      "제품의 함량이 미달되나 제시한 표준편차안에 있음으로 이의제기를 취소함\n"
     ]
    }
   ],
   "source": [
    "mu=240; sigma=8; n=25; xbar=238\n",
    "z = (xbar - mu) / (sigma / np.sqrt(n))\n",
    "print('z:', z) \n",
    "pvalue = 1-0.8943 # p-value:'-' X\n",
    "print('pvalue:', pvalue)\n",
    "print('pvalue:', round(pvalue*100, 2) , '%')\n",
    "if pvalue < 0.05:\n",
    "    print('생산되는 제품은 통계적으로 5% 미만으로 생산되는 제품으로')\n",
    "    print('기준 미달로 판정되었습니다.')\n",
    "else:\n",
    "    print('제품의 함량이 미달되나 제시한 표준편차안에 있음으로 이의제기를 취소함')"
   ]
  },
  {
   "cell_type": "code",
   "execution_count": 74,
   "metadata": {},
   "outputs": [
    {
     "name": "stdout",
     "output_type": "stream",
     "text": [
      "z: 1.25\n",
      "생산되는 제품에 문제가 없습니다.\n"
     ]
    }
   ],
   "source": [
    "# z 값만 이용하여 이상유무 판단\n",
    "mu=240; sigma=8; n=25; xbar=242\n",
    "z = (xbar - mu) / (sigma / np.sqrt(n))\n",
    "print('z:', z)\n",
    "if z > 1.64: # 평균에서 멀리 떨어져 5%영역에 있는 데이터임\n",
    "    print('생산되는 제품에 문제 있음')\n",
    "else:\n",
    "    print('생산되는 제품에 문제가 없습니다.')"
   ]
  },
  {
   "cell_type": "code",
   "execution_count": 75,
   "metadata": {},
   "outputs": [
    {
     "name": "stdout",
     "output_type": "stream",
     "text": [
      "z: 2.5\n",
      "생산되는 제품에 문제 있음\n"
     ]
    }
   ],
   "source": [
    "# z 값만 이용하여 이상유무 판단\n",
    "mu=240; sigma=8; n=25; xbar=236\n",
    "z = abs((xbar - mu) / (sigma / np.sqrt(n))) # -2.5 -> 2.5\n",
    "print('z:', z)\n",
    "if z > 1.64: # 평균에서 멀리 떨어져 5%영역에 있는 데이터임\n",
    "    print('생산되는 제품에 문제 있음')\n",
    "else:\n",
    "    print('생산되는 제품에 문제가 없습니다.')"
   ]
  },
  {
   "cell_type": "code",
   "execution_count": 76,
   "metadata": {},
   "outputs": [
    {
     "name": "stdout",
     "output_type": "stream",
     "text": [
      "z: 1.875\n",
      "생산되는 제품에 문제 있음\n"
     ]
    }
   ],
   "source": [
    "# z 값만 이용하여 이상유무 판단\n",
    "mu=240; sigma=8; n=25; xbar=237\n",
    "z = abs((xbar - mu) / (sigma / np.sqrt(n))) # -2.5 -> 2.5\n",
    "print('z:', z)\n",
    "if z > 1.64: # 평균에서 멀리 떨어져 5%영역에 있는 데이터임\n",
    "    print('생산되는 제품에 문제 있음')\n",
    "else:\n",
    "    print('생산되는 제품에 문제가 없습니다.')"
   ]
  },
  {
   "cell_type": "code",
   "execution_count": null,
   "metadata": {},
   "outputs": [],
   "source": []
  },
  {
   "cell_type": "markdown",
   "metadata": {},
   "source": [
    "<img src='07.jpg'>"
   ]
  },
  {
   "cell_type": "code",
   "execution_count": 77,
   "metadata": {},
   "outputs": [
    {
     "name": "stdout",
     "output_type": "stream",
     "text": [
      "z: 1.8\n",
      "pvalue: 0.964\n",
      "평균에서 96.40%의 위치에 있는 특이한 값임\n",
      "급여 인상되었다.\n"
     ]
    }
   ],
   "source": [
    "# |z|: 양측 검정, P(|Z|>1.640)=0.10 / 2 = 0.05\n",
    "# |z|: 양측 검정, P(|Z|>1.96)=0.05 / 2 = 0.025\n",
    "# |z|: 양측 검정, P(|Z|>2.58)=0.01 / 2 = 0.005\n",
    "mu=200; n=100; xbar=209; sigma=50 \n",
    "z = (xbar-mu) / (sigma/np.sqrt(n)) \n",
    "print('z:', z) # 인상되었는지...단측검정, 우측검정\n",
    "print('pvalue:', 0.9640)\n",
    "print('평균에서 96.40%의 위치에 있는 특이한 값임')\n",
    "if z > 1.64:\n",
    "    print('급여 인상되었다.')"
   ]
  },
  {
   "cell_type": "code",
   "execution_count": 78,
   "metadata": {},
   "outputs": [
    {
     "name": "stdout",
     "output_type": "stream",
     "text": [
      "z: 1.0\n",
      "pvalue: 0.8413\n",
      "평균에서 84.13%의 위치에 있는 평균 근처의 값임\n",
      "평균과 큰차이가 없음으로 급여는 인상되었다고 결정하기 어렵다.\n"
     ]
    }
   ],
   "source": [
    "mu=200; n=100; xbar=205; sigma=50 \n",
    "z = (xbar-mu) / (sigma/np.sqrt(n)) \n",
    "print('z:', z) # 인상되었는지...단측검정, 우측검정\n",
    "print('pvalue:', 0.8413)\n",
    "print('평균에서 84.13%의 위치에 있는 평균 근처의 값임')\n",
    "if z > 1.64:\n",
    "    print('급여 인상되었다.')\n",
    "else:\n",
    "    print('평균과 큰차이가 없음으로 급여는 인상되었다고 결정하기 어렵다.')"
   ]
  },
  {
   "cell_type": "markdown",
   "metadata": {},
   "source": [
    "<img src='08.jpg'>"
   ]
  },
  {
   "cell_type": "code",
   "execution_count": 79,
   "metadata": {},
   "outputs": [
    {
     "name": "stdout",
     "output_type": "stream",
     "text": [
      "z: -1.6666666666666667\n",
      "167cm이상인 비율은 95.25%임\n",
      "z: 0.0\n",
      "z: 1.6666666666666667\n",
      "z: 1.6666666666666667\n",
      "169cm이하인 비율은 95.25%임\n",
      "키가 167cm미만이거나 169cm 초과인 사람의 비율: 9.5 %\n",
      "키가 167cm이상이거나 169cm 이하인 사람의 비율: 90.5 %\n"
     ]
    }
   ],
   "source": [
    "mu=168; sigma=6; n=100; xbar1=167; xbar2=169\n",
    "\n",
    "xbar = xbar1\n",
    "z = (xbar - mu) / (sigma / np.sqrt(n))\n",
    "print('z:', z)\n",
    "print('167cm이상인 비율은 95.25%임')\n",
    "\n",
    "xbar = 168\n",
    "z = (xbar - mu) / (sigma / np.sqrt(n))\n",
    "print('z:', z)\n",
    "\n",
    "xbar = xbar2\n",
    "z = (xbar - mu) / (sigma / np.sqrt(n))\n",
    "print('z:', z)\n",
    "print('z:', z)\n",
    "print('169cm이하인 비율은 95.25%임')\n",
    "\n",
    "area = round(((1-0.9525) * 2)*100, 2)\n",
    "print('키가 167cm미만이거나 169cm 초과인 사람의 비율:', area, '%')\n",
    "print('키가 167cm이상이거나 169cm 이하인 사람의 비율:', (100-area), '%')"
   ]
  },
  {
   "cell_type": "code",
   "execution_count": null,
   "metadata": {},
   "outputs": [],
   "source": []
  },
  {
   "cell_type": "markdown",
   "metadata": {},
   "source": [
    "<img src='09.jpg'>"
   ]
  },
  {
   "cell_type": "code",
   "execution_count": 80,
   "metadata": {},
   "outputs": [
    {
     "name": "stdout",
     "output_type": "stream",
     "text": [
      "z: -1.9599999999999937\n",
      "0.025임으로 외곽의 5%안에 들어감으로 평균은 50점다 작다고 말할 수 있다.\n"
     ]
    }
   ],
   "source": [
    "# p-value(유의확률)는 z값을 구해야 산출 할 수 있음\n",
    "# p-value가 0.95를 넘어가면 일반적인 사례가 이닌것으로 파단\n",
    "# 유의 수준은 0.05를 사용하며 1 - p-value한 결과가 0.05이하이면 대립가설 채택\n",
    "# 표준정규분포표에서 95%영역은 정상적인 문제가 없는 영역으로 인정\n",
    "# 표준정규분포표에서 양끝단의 5%(-2.5, 2.5%)영역은 문제가 있는 영역으로 인정\n",
    "mu=50; n=100; xbar=49.02; sigma=5\n",
    "z = (xbar-mu) / (sigma / np.sqrt(n))\n",
    "print('z:', z)\n",
    "print('0.025임으로 외곽의 5%안에 들어감으로 평균은 50점다 작다고 말할 수 있다.')"
   ]
  },
  {
   "cell_type": "code",
   "execution_count": 81,
   "metadata": {},
   "outputs": [
    {
     "name": "stdout",
     "output_type": "stream",
     "text": [
      "z: 1.9599999999999937\n",
      "0.025임으로 외곽의 5%안에 들어감으로 평균은 50점다 크다고 말할 수 있다.\n"
     ]
    }
   ],
   "source": [
    "mu=50; n=100; xbar=50.98; sigma=5\n",
    "z = (xbar-mu) / (sigma / np.sqrt(n))\n",
    "print('z:', z)\n",
    "print('0.025임으로 외곽의 5%안에 들어감으로 평균은 50점다 크다고 말할 수 있다.')"
   ]
  },
  {
   "cell_type": "code",
   "execution_count": null,
   "metadata": {},
   "outputs": [],
   "source": []
  },
  {
   "cell_type": "markdown",
   "metadata": {},
   "source": [
    "<img src='10.jpg'>"
   ]
  },
  {
   "cell_type": "code",
   "execution_count": 82,
   "metadata": {},
   "outputs": [
    {
     "name": "stdout",
     "output_type": "stream",
     "text": [
      "z: -1.9599999999999909\n",
      "p-value: 2.5\n"
     ]
    }
   ],
   "source": [
    "mu = 800; sigma = 40; n = 64; xbar = 790.2 # 단측 검정, 평균을 넘지 못함으로 좌측 확률 계산\n",
    "z = (xbar - mu) / (sigma / np.sqrt(n))\n",
    "print('z:', z)\n",
    "print('p-value:', (0.025)*100)"
   ]
  },
  {
   "cell_type": "code",
   "execution_count": 83,
   "metadata": {},
   "outputs": [
    {
     "name": "stdout",
     "output_type": "stream",
     "text": [
      "z: -0.8\n",
      "p-value: 78.81\n",
      "796 시간 사용한 전구는 78.81% 영역에 들어감으로 환불 불가능합니다.\n"
     ]
    }
   ],
   "source": [
    "mu = 800; sigma = 40; n = 64; xbar = 796 # 단측 검정, 평균을 넘지 못함으로 좌측 확률 계산\n",
    "z = (xbar - mu) / (sigma / np.sqrt(n))\n",
    "print('z:', z)\n",
    "print('p-value:', (0.7881)*100)\n",
    "print('796 시간 사용한 전구는 78.81% 영역에 들어감으로 환불 불가능합니다.')"
   ]
  },
  {
   "cell_type": "code",
   "execution_count": null,
   "metadata": {},
   "outputs": [],
   "source": []
  },
  {
   "cell_type": "markdown",
   "metadata": {},
   "source": [
    "<img src='11.jpg'>"
   ]
  },
  {
   "cell_type": "code",
   "execution_count": 84,
   "metadata": {},
   "outputs": [
    {
     "name": "stdout",
     "output_type": "stream",
     "text": [
      "z: -2.0\n",
      "z값 -2.0의 p-value는 양측검정 유의수준 0.025보다 작음으로 귀무 가설 기각\n",
      "귀무가설이 참일 확률이 유의수준 0.025보다 작음으로 귀무 가설을 기각한다.\n",
      "따라서 우리나라 대학생들은 유의 수준 0.05에서 평균 독서 시간은 20시간이 아니다.\n",
      "독서 시간이 모두 20시간이 나와야하는데 36명의 표본은 19시간이 나왔다.\n",
      "20시간 독서한다고 한 기준에서 양측검정기준 2.5%이하에 위치함으로\n",
      "표본을 바탕으로 모집단을 추론한다면 20시간 독서가 아니라고 생각할 수 있다.\n"
     ]
    }
   ],
   "source": [
    "# |z|: 양측 검정, P(|Z|>1.640)=0.10 / 2 = 0.05\n",
    "# |z|: 양측 검정, P(|Z|>1.96)=0.05 / 2 = 0.025\n",
    "# |z|: 양측 검정, P(|Z|>2.58)=0.01 / 2 = 0.005\n",
    "mu=20; std=3; n=36\n",
    "xbar=19 \n",
    "z = (xbar - mu) / (std / np.sqrt(n))\n",
    "print('z:', z)\n",
    "print('z값 -2.0의 p-value는 양측검정 유의수준 0.025보다 작음으로 귀무 가설 기각')\n",
    "print('귀무가설이 참일 확률이 유의수준 0.025보다 작음으로 귀무 가설을 기각한다.')\n",
    "print('따라서 우리나라 대학생들은 유의 수준 0.05에서 평균 독서 시간은 20시간이 아니다.')\n",
    "print('독서 시간이 모두 20시간이 나와야하는데 36명의 표본은 19시간이 나왔다.')\n",
    "print('20시간 독서한다고 한 기준에서 양측검정기준 2.5%이하에 위치함으로')\n",
    "print('표본을 바탕으로 모집단을 추론한다면 20시간 독서가 아니라고 생각할 수 있다.')"
   ]
  },
  {
   "cell_type": "markdown",
   "metadata": {},
   "source": [
    "<img src='12.jpg'>"
   ]
  },
  {
   "cell_type": "code",
   "execution_count": 85,
   "metadata": {},
   "outputs": [
    {
     "name": "stdout",
     "output_type": "stream",
     "text": [
      "t: -2.0\n"
     ]
    }
   ],
   "source": [
    "mu=10; n=25; xbar=9; std=2.5\n",
    "t = (xbar - mu) / (std / np.sqrt(n))\n",
    "print('t:', t)"
   ]
  },
  {
   "cell_type": "code",
   "execution_count": null,
   "metadata": {},
   "outputs": [],
   "source": []
  },
  {
   "cell_type": "markdown",
   "metadata": {},
   "source": [
    "<img src='14.jpg'>"
   ]
  },
  {
   "cell_type": "code",
   "execution_count": 86,
   "metadata": {},
   "outputs": [
    {
     "name": "stdout",
     "output_type": "stream",
     "text": [
      "z: -3.0\n",
      "표본이 109cm이고 제시된 평균키 112cm기준 외곽 5%이내에 있음으로\n",
      "귀무가설을 기각하여 평균키는 112cm가 아니라고 주장할 수 있다.\n"
     ]
    }
   ],
   "source": [
    "mu=112; sigma=6; n=36; xbar=109\n",
    "z = (xbar-mu) / (sigma / np.sqrt(n))\n",
    "print('z:', z)\n",
    "print('표본이 109cm이고 제시된 평균키 112cm기준 외곽 5%이내에 있음으로')\n",
    "print('귀무가설을 기각하여 평균키는 112cm가 아니라고 주장할 수 있다.')"
   ]
  },
  {
   "cell_type": "code",
   "execution_count": null,
   "metadata": {},
   "outputs": [],
   "source": []
  },
  {
   "cell_type": "code",
   "execution_count": null,
   "metadata": {},
   "outputs": [],
   "source": []
  },
  {
   "cell_type": "code",
   "execution_count": null,
   "metadata": {},
   "outputs": [],
   "source": []
  },
  {
   "cell_type": "code",
   "execution_count": null,
   "metadata": {},
   "outputs": [],
   "source": []
  }
 ],
 "metadata": {
  "kernelspec": {
   "display_name": "ai",
   "language": "python",
   "name": "ai"
  },
  "language_info": {
   "codemirror_mode": {
    "name": "ipython",
    "version": 3
   },
   "file_extension": ".py",
   "mimetype": "text/x-python",
   "name": "python",
   "nbconvert_exporter": "python",
   "pygments_lexer": "ipython3",
   "version": "3.7.11"
  }
 },
 "nbformat": 4,
 "nbformat_minor": 4
}
