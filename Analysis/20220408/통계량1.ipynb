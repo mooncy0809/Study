{
 "cells": [
  {
   "cell_type": "markdown",
   "metadata": {},
   "source": [
    "### 통계량\n",
    "- 표본을 이용하여 모집단의 성질을 파악하는 계산 결과\n",
    "- 표본의 평균 , 분산, 표준편차, 표준화 값 등을 이용하여 모집단의 모수를 추정\n",
    "- 모집단의 모수: 모집단의 특성을 갖는 평균,분산,표준편차 등을 말함\n",
    "- 다양한 단위의 통계량을 구하기 위하여 표준적인 절차가 필요하므로 표준정규분포표를 사용한다.\n",
    "- 표준정규분포표는 적분에 기반한  0~1 사이의 값으로 구성된 표 형태\n",
    "- 표준정규분포표를 이용하면 적분을 계산하는 수고를 줄일수있다.\n",
    "- 표준정규분포표를 이용해서 Z값을 적분값으로 변환할 수 있다.\n",
    "- 표준정규분포는 평균 0, 분산 1을 기반으로한 분포이다\n",
    "- 표준정규분포는 평균 0을 기준으로 ±표준편차로 구성되어 있다\n",
    "- \n",
    "- 모집단 표준화 값의 산출: Z = (x - μ) / σ => (x - mu) / sigma\n",
    "- \n",
    "- 모분산(모표준편차)을 아는 경우 표본집단 표준화 값의 산출: \n",
    "- Z = (xbar - μ) / (σ / √n) => (xbar - mu) / (sigma / np.sqrt(n))\n",
    "- \n",
    "- 모분산(모표준편차)을 모르는 경우 표본집단 표준화 값의 산출: \n",
    "- Z = (xbar - μ) / (S / √n) => (xbar - mu) / (sigma / np.sqrt(n))\n",
    "- S : 표본 표준편차"
   ]
  },
  {
   "cell_type": "code",
   "execution_count": 28,
   "metadata": {},
   "outputs": [],
   "source": [
    "import numpy as np"
   ]
  },
  {
   "cell_type": "code",
   "execution_count": 29,
   "metadata": {},
   "outputs": [
    {
     "name": "stdout",
     "output_type": "stream",
     "text": [
      "[ 1  2  3  4  5  6  7  8  9 10]\n",
      "5.5\n",
      "2.8722813232690143\n",
      "[ 10  20  30  40  50  60  70  80  90 100]\n",
      "55.0\n",
      "28.722813232690143\n"
     ]
    }
   ],
   "source": [
    "a = np.array([v for v in range(1,11)])\n",
    "b = np.array([v*10 for v in range(1,11)])\n",
    "print(a)\n",
    "print(a.mean())\n",
    "print(a.std())\n",
    "print(b)\n",
    "print(b.mean())\n",
    "print(b.std())"
   ]
  },
  {
   "cell_type": "code",
   "execution_count": 30,
   "metadata": {},
   "outputs": [
    {
     "name": "stdout",
     "output_type": "stream",
     "text": [
      "[-1.5666989036012806, -1.2185435916898848, -0.8703882797784892, -0.5222329678670935, -0.17407765595569785, 0.17407765595569785, 0.5222329678670935, 0.8703882797784892, 1.2185435916898848, 1.5666989036012806]\n"
     ]
    }
   ],
   "source": [
    "#(X-mu) / sigma\n",
    "mu = a.mean()\n",
    "sigma = a.std()\n",
    "print([(v - mu) / sigma for v in a])"
   ]
  },
  {
   "cell_type": "code",
   "execution_count": 31,
   "metadata": {},
   "outputs": [
    {
     "name": "stdout",
     "output_type": "stream",
     "text": [
      "[-1.5666989036012806, -1.2185435916898848, -0.8703882797784892, -0.5222329678670935, -0.17407765595569785, 0.17407765595569785, 0.5222329678670935, 0.8703882797784892, 1.2185435916898848, 1.5666989036012806]\n"
     ]
    }
   ],
   "source": [
    "#(X-mu) / sigma\n",
    "mu = b.mean()\n",
    "sigma = b.std()\n",
    "print([(v - mu) / sigma for v in b])"
   ]
  },
  {
   "cell_type": "code",
   "execution_count": 32,
   "metadata": {},
   "outputs": [
    {
     "name": "stdout",
     "output_type": "stream",
     "text": [
      "  -1.56670   -1.56670\n",
      "  -1.21854   -1.21854\n",
      "  -0.87039   -0.87039\n",
      "  -0.52223   -0.52223\n",
      "  -0.17408   -0.17408\n",
      "   0.17408    0.17408\n",
      "   0.52223    0.52223\n",
      "   0.87039    0.87039\n",
      "   1.21854    1.21854\n",
      "   1.56670    1.56670\n"
     ]
    }
   ],
   "source": [
    "mu = a.mean(); sigma = a.std(); az = [(v - mu) / sigma for v in a]\n",
    "mu = b.mean(); sigma = b.std(); bz = [(v - mu) / sigma for v in b]\n",
    "for i in range(0, len(az)):\n",
    "    print('{0:10.5f} {1:10.5f}'.format(az[i],bz[i]))"
   ]
  },
  {
   "cell_type": "code",
   "execution_count": 33,
   "metadata": {},
   "outputs": [],
   "source": [
    "# 표준정규분포를 이용해 -1.56670은 적분값으로 얼마일까?\n",
    "# 값이 음수/양수로 존재하여 양측검정 실시 -1.56 => 0.4406\n",
    "# 적분은 영역이므로 음수가 없다. 면적이 없으면 0이다\n",
    "#표준정규분호는 좌우대칭이다. 따라서 -1.56과 1.56은 면적이 같다\n",
    "# -1.56 -> 0.4406 , 1.56 -> 0.4406\n",
    "# 1.56은 평균에서 얼마나 떨어져 있나? 100% 영역에서 44.06% 위치한다\n",
    "# %값이 클수록 평균에서 멀리 떨어진것이다\n",
    "# 1.56은 평균으로부터의 차이(편차)가 표준편차보다 1.56배 크다\n",
    "# 평균에서 멀어진다는 것은 우리가 설정한 가설이 틀릴수도 있다\n",
    "# 직원들의 휴식시간을 20분이라고 알려져 있으나 그렇지 않을수도 있다"
   ]
  },
  {
   "cell_type": "code",
   "execution_count": 34,
   "metadata": {},
   "outputs": [
    {
     "name": "stdout",
     "output_type": "stream",
     "text": [
      "0.899\n",
      "0.95\n",
      "0.9902\n"
     ]
    }
   ],
   "source": [
    "# p-value: 데이터 X가 Z값으로 변환된 후 표준정규분포표에서 어느 영역에 있는지 확인하기 위한 값의 명칭\n",
    "# 양측검정 기준 1.64의 p-value: 0.4495 -> 0.4495 * 2 -> 0.90\n",
    "print(0.4495*2)# 90%의 영역에 있음\n",
    "# 양측검정 기준 1.96의 p-value: 0.4750 -> 0.4750 * 2 -> 0.95\n",
    "print(0.4750*2)# 95%의 영역에 있음\n",
    "# 양측검정 기준 2.58의 p-value: 0.4951 -> 0.4951 * 2 -> 0.99\n",
    "print(0.4951*2)\n",
    "# 단측검정 기준 Z값 1.27의 p-value: 0.8997 -> 0.8997 -> 90%영역\n",
    "# 단측검정 기준 Z값 1.64의 p-value: 0.9494 -> 0.9494 -> 95%영역\n",
    "# 단측검정 기준 Z값 1.96의 p-value: 0.9750 -> 0.9750 -> 97.5%영역\n",
    "# 단측검정 기준 Z값 2.58의 p-value: 0.9950 -> 0.9950 -> 99.5%영역"
   ]
  },
  {
   "cell_type": "code",
   "execution_count": 35,
   "metadata": {},
   "outputs": [],
   "source": [
    "# 표준정규분포표 양측검정 : 값이 같은지 비교할때 참고\n",
    "# 표준정규분포표 단측검정 : 값이 크거나 또는 작은지 비교할때 참고\n",
    "# 검정 : 가설이 맞는지 테스트하는 절차\n",
    "# 귀무가설 : 우리 회사의 상품을 구입한 고객은 10년이상 제품을 사용한다\n",
    "# 대립가설 : 우리 회사의 상품을 구입한 고객은 10년미만 제품을 사용한다.\n",
    "# 귀무가설이 맞는지 검사하는 절차가 검정임"
   ]
  },
  {
   "cell_type": "code",
   "execution_count": 36,
   "metadata": {},
   "outputs": [],
   "source": [
    "# Z값이 크다는 것은 평균에서 멀리 있는 데이터라는 의미\n",
    "# 어느정도 멀리 있는지 파악하기 위해 표준정규분포표를 보고 p-value로 변환시행\n",
    "# p-value가 단측검정이면 0.4750(Z=1.96), 양측검정이면 0.9494(Z=1.64)로 변환가능하며 95%의 영역을 나타냄\n",
    "# 이 적분의 개념은 확률의 개념과 대응함.\n",
    "# 평균으로부터 떨어진 정도를 계산하면 Z값이 나오고 Z값은 p-value로 변환되므로 평균으로부터 얼마나 떨어져 있는지 알수있음\n",
    "# p-value가 단측검정에서 0.4650(Z=1.96)이라면 0.4750*2 해서 표준정규분포표에서 95% 영역을 나타(포함됨)내며 \n",
    "# 그 영역의 경계또한 나타냄\n",
    "# p-value가 양측검정에서 0.9494(Z=1.64)라면 표준정규분포표에서 95%영역을 나타(포함됨)내며 그 영역의 경계또한 나타냄"
   ]
  },
  {
   "cell_type": "code",
   "execution_count": 37,
   "metadata": {},
   "outputs": [],
   "source": [
    "# 일반적인 사회조사에서 적용하는 통계이론\n",
    "# 평균을 기준으로 95% 영역 안에 존재하면 그 평균을 기준으로 정상적인 값으로 인정\n",
    "# 평균을 기준으로 95% 영역 밖에 존재하면 평균에서 너무 멀리 떨어져 있어\n",
    "# 비 정상적인 값이라고 생각함 ★\n",
    "# 떨어진 정도는 양측검정이면 표준정규분포 기준 표준편차 1.96 이상이면 95%영역 밖으로 문제가 있는 상황으로 인식\n",
    "# 떨어진 정도는 단측검정이면 표준정규분포 기준 표준편차 1.64 이상이면 95%영역 밖으로 문제가 있는 상황으로 인식"
   ]
  },
  {
   "cell_type": "code",
   "execution_count": 38,
   "metadata": {},
   "outputs": [],
   "source": [
    "# 유의수준은 일반적으로 5%(0.05)를 사용함\n",
    "# 양측검정일 경우 유의수준 5%의 의미는 평균에서 멀리 떨어진 \n",
    "# 양 끝단 2.5%영역을 나타내면 이영역에 Z값이 오면 상식을 인정하기 어려움\n",
    "# 단측검정일 경우 유의수준 5%의 의미는 평균에서 멀리 떨어진 한쪽 끝단\n",
    "# 5%영역을 나타내면 이영역에 Z값이 오면 상식을 인정하기 어려움"
   ]
  },
  {
   "cell_type": "markdown",
   "metadata": {},
   "source": [
    "<img src='04.jpg'>"
   ]
  },
  {
   "cell_type": "code",
   "execution_count": 39,
   "metadata": {},
   "outputs": [],
   "source": [
    "# 우리 회사에서 판매한 모든 PC의 수명은 5년이다. 하지만 여러 사용자의 이용환경 등을 고려하여 표준편차가 0.6년 발생가능\n",
    "# 따라서 평균적으로 6개월 정도를 더 사용하거나 덜 사용할 수도 있다.\n",
    "# 종로에 있는 소비자 단체에서 9대의 PC를 임의로 추출하여 검사할 경우 평균 수명이 4.6년이 나올 수 있는지 알고싶다\n",
    "# 현실적으로 모든 데이터를 가지고 통계량을 구할 수는 없다\n",
    "# 모집단이 어떨지 모르기 때문에 가설을 설정함\n",
    "# 귀무가설: H0, 상식, 기존에 알려진 이론, 모기업에서 제시된 정보 등\n",
    "# 대립가설 : H1, 상식이 틀리다. 기존의 이론에 반대되는 이름, 모 기업에서 제시된 정보는 틀리다\n",
    "# 귀무가설: 판매 기업에서 제시한 PC의 수명은 5년이다\n",
    "# 대립가설: 판매 기업에서 제시한 PC의 수명은 4.6년 이하다\n",
    "# 값이 같은지 비교 : 양측검정\n",
    "# 대소비교: 단측검정 사용"
   ]
  },
  {
   "cell_type": "code",
   "execution_count": 40,
   "metadata": {
    "scrolled": true
   },
   "outputs": [
    {
     "name": "stdout",
     "output_type": "stream",
     "text": [
      "-2.0000000000000018\n",
      "0.022750000000000048\n",
      "평균(표본평균) 수명이 4.6년 이하가 나올수 있는 확률: 2.3 %\n"
     ]
    }
   ],
   "source": [
    "# mu: 모평균(기업 주장) , sigma:표준편차(여러 사용 조건)\n",
    "# n: 수집가능한 표본의 갯수,xbar: 수집된 표본의 평균\n",
    "mu=5; sigma=0.6; n=9; xbar=4.6\n",
    "z = (xbar - mu) / (sigma /np.sqrt(n))\n",
    "print(z)\n",
    "# -2.0000000000000018 -> 확률기반 적분 값으로 변경 필요 -> 표준정규분포표\n",
    "# 표준정규분포표는 적분 기준이라 마이너스 영역없다\n",
    "# 표준정규분포 좌우 대칭이므로 2에 해당하는 값을 찾는다\n",
    "# 0.977250\n",
    "print(1-0.977250)\n",
    "p=(1-0.977250)*100\n",
    "print(\"평균(표본평균) 수명이 4.6년 이하가 나올수 있는 확률:\", round(p,1),'%')"
   ]
  },
  {
   "cell_type": "code",
   "execution_count": 41,
   "metadata": {},
   "outputs": [],
   "source": [
    "# p(|Z| > 2) == 0.046 : |Z|는 음수 양수가 존재하며 양측 검정이라는 의미\n",
    "# 음수영역 0.023, 양수영역 0.023\n",
    "# 현재 검정은 단측검정이고 평균보다 적은 확률을 구하는 것이므로 음수영역 0.023 하나만 사용함\n",
    "\n",
    "# p(|Z| > 1.96) == 0.05 : |Z|는 음수 양수가 존재하며 양측 검정이라는 의미\n",
    "# 음수영역 0.025, 양수영역 0.025\n",
    "\n",
    "# p(|Z| > 2.58) == 0.01 : |Z|는 음수 양수가 존재하며 양측 검정이라는 의미\n",
    "# 음수영역 0.005, 양수영역 0.005"
   ]
  },
  {
   "cell_type": "code",
   "execution_count": 42,
   "metadata": {},
   "outputs": [],
   "source": [
    "# 9대의 PC를 표본으로 하여 통계량 산출했더니 4.6년이하를 사용할 확률이 전체 모든 PC사용자 기준으로 2.3%에 해당한다\n",
    "# 연속하여 9대의 PC를 100회에 걸쳐 사용 기간 조사했더니 모집단 기준 2.3회는 4.6년 이하를 사용한다.\n",
    "\n",
    "# 대립가설에 따라 유의수준 5%(0.05)기준으로 표준정규분포표에서 5%의 영역에 포함되므로 기업에서 제시한 5년을 사용한다는 의견은\n",
    "# 문제가 있는것으로 판단되어 검정에 참여한 9대의 PC는 회수하여 정밀 조사를 할 필요가 있다\n",
    "#기업은 자신들이 사용가능하다고한 5년에 대한 사과를 진행하고 보상을 실시한다"
   ]
  },
  {
   "cell_type": "code",
   "execution_count": 43,
   "metadata": {},
   "outputs": [
    {
     "name": "stdout",
     "output_type": "stream",
     "text": [
      "z: -1.4999999999999993\n",
      "p-value: 93.31\n",
      "p-value: 6.689999999999996\n"
     ]
    }
   ],
   "source": [
    "# mu: 모평균(기업 주장) , sigma:표준편차(여러 사용 조건)\n",
    "# n: 수집가능한 표본의 갯수,xbar: 수집된 표본의 평균\n",
    "mu=5; sigma=0.6; n=9; xbar=4.7\n",
    "z = (xbar - mu) / (sigma /np.sqrt(n))\n",
    "print('z:',z)\n",
    "print('p-value:',0.9331*100) #93.31%는 PC를 4.7년 이상 사용\n",
    "print('p-value:',(1 - 0.9331)*100) #6.68%"
   ]
  },
  {
   "cell_type": "code",
   "execution_count": 44,
   "metadata": {},
   "outputs": [
    {
     "name": "stdout",
     "output_type": "stream",
     "text": [
      "z: -1.0000000000000009\n",
      "p-value: 84.13000000000001\n",
      "p-value: 15.869999999999996\n"
     ]
    }
   ],
   "source": [
    "# mu: 모평균(기업 주장) , sigma:표준편차(여러 사용 조건)\n",
    "# n: 수집가능한 표본의 갯수,xbar: 수집된 표본의 평균\n",
    "mu=5; sigma=0.6; n=9; xbar=4.8\n",
    "z = (xbar - mu) / (sigma /np.sqrt(n))\n",
    "print('z:',z)\n",
    "print('p-value:',0.8413*100) #84.13%는 PC를 4.8년 이상 사용\n",
    "print('p-value:',(1 - 0.8413)*100) #15.86%는 PC를 4.8년 미만 사용"
   ]
  },
  {
   "cell_type": "code",
   "execution_count": 45,
   "metadata": {},
   "outputs": [
    {
     "name": "stdout",
     "output_type": "stream",
     "text": [
      "z: -0.4999999999999983\n",
      "p-value: 69.14\n",
      "p-value: 30.86\n"
     ]
    }
   ],
   "source": [
    "# mu: 모평균(기업 주장) , sigma:표준편차(여러 사용 조건)\n",
    "# n: 수집가능한 표본의 갯수,xbar: 수집된 표본의 평균\n",
    "mu=5; sigma=0.6; n=9; xbar=4.9\n",
    "z = (xbar - mu) / (sigma /np.sqrt(n))\n",
    "print('z:',z)\n",
    "print('p-value:',0.6914*100) #69.14%는 PC를 4.9년 이상 사용\n",
    "print('p-value:',(1 - 0.6914)*100) #30.86%는 PC를 4.9년 미만 사용"
   ]
  },
  {
   "cell_type": "code",
   "execution_count": 46,
   "metadata": {},
   "outputs": [
    {
     "name": "stdout",
     "output_type": "stream",
     "text": [
      "z: -0.24999999999999914\n",
      "p-value: 59.870000000000005\n",
      "p-value: 40.129999999999995\n"
     ]
    }
   ],
   "source": [
    "# mu: 모평균(기업 주장) , sigma:표준편차(여러 사용 조건)\n",
    "# n: 수집가능한 표본의 갯수,xbar: 수집된 표본의 평균\n",
    "mu=5; sigma=0.6; n=9; xbar=4.95\n",
    "z = (xbar - mu) / (sigma /np.sqrt(n))\n",
    "print('z:',z)\n",
    "print('p-value:',0.5987*100) #59.87%는 PC를 4.95년 이상 사용\n",
    "print('p-value:',(1 - 0.5987)*100) #40.12%는 PC를 4.95년 미만 사용"
   ]
  },
  {
   "cell_type": "code",
   "execution_count": 47,
   "metadata": {
    "scrolled": true
   },
   "outputs": [
    {
     "name": "stdout",
     "output_type": "stream",
     "text": [
      "z: 0.0\n",
      "p-value: 50.0\n",
      "p-value: 50.0\n"
     ]
    }
   ],
   "source": [
    "# mu: 모평균(기업 주장) , sigma:표준편차(여러 사용 조건)\n",
    "# n: 수집가능한 표본의 갯수,xbar: 수집된 표본의 평균\n",
    "mu=5; sigma=0.6; n=9; xbar=5\n",
    "z = (xbar - mu) / (sigma /np.sqrt(n))\n",
    "print('z:',z)\n",
    "print('p-value:',0.5*100) #50%는 PC를 5년 이상 사용\n",
    "print('p-value:',(1 - 0.5)*100) #50% PC를 5년 미만 사용"
   ]
  },
  {
   "cell_type": "code",
   "execution_count": 48,
   "metadata": {},
   "outputs": [
    {
     "name": "stdout",
     "output_type": "stream",
     "text": [
      "z: 0.4999999999999983\n",
      "p-value: 69.14\n",
      "p-value: 30.86\n"
     ]
    }
   ],
   "source": [
    "# mu: 모평균(기업 주장) , sigma:표준편차(여러 사용 조건)\n",
    "# n: 수집가능한 표본의 갯수,xbar: 수집된 표본의 평균\n",
    "mu=5; sigma=0.6; n=9; xbar=5.1\n",
    "z = (xbar - mu) / (sigma /np.sqrt(n))\n",
    "print('z:',z)\n",
    "print('p-value:',0.6914*100) #69.14%는 PC를 5.1년 미만 사용\n",
    "print('p-value:',(1 - 0.6914)*100) #30.86%는 PC를 5.1년 이상 사용"
   ]
  },
  {
   "cell_type": "code",
   "execution_count": 51,
   "metadata": {},
   "outputs": [
    {
     "name": "stdout",
     "output_type": "stream",
     "text": [
      "z: 2.5\n",
      "p-value: 99.37\n",
      "p-value: 0.6299999999999972\n"
     ]
    }
   ],
   "source": [
    "# mu: 모평균(기업 주장) , sigma:표준편차(여러 사용 조건)\n",
    "# n: 수집가능한 표본의 갯수,xbar: 수집된 표본의 평균\n",
    "mu=5; sigma=0.6; n=9; xbar=5.5\n",
    "z = (xbar - mu) / (sigma /np.sqrt(n))\n",
    "print('z:',z)\n",
    "print('p-value:',0.9937*100) #99.37%는 PC를 5.5년 미만 사용\n",
    "print('p-value:',(1 - 0.9937)*100) #0.62%는 PC를 5.5년 이상 사용"
   ]
  }
 ],
 "metadata": {
  "kernelspec": {
   "display_name": "ai",
   "language": "python",
   "name": "ai"
  },
  "language_info": {
   "codemirror_mode": {
    "name": "ipython",
    "version": 3
   },
   "file_extension": ".py",
   "mimetype": "text/x-python",
   "name": "python",
   "nbconvert_exporter": "python",
   "pygments_lexer": "ipython3",
   "version": "3.7.11"
  }
 },
 "nbformat": 4,
 "nbformat_minor": 4
}
