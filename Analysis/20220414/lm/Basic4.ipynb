{
 "cells": [
  {
   "cell_type": "markdown",
   "metadata": {},
   "source": [
    "### 입력값 2개, 출력값 2개\n",
    "### y1 = w1 * X1 + w2 * X2 + bias, y2 = w1 * X1 + w2 * X2 + bias"
   ]
  },
  {
   "cell_type": "code",
   "execution_count": 24,
   "metadata": {},
   "outputs": [],
   "source": [
    "# %autosave 0 \n",
    "import warnings\n",
    "warnings.filterwarnings(action='ignore')\n",
    "\n",
    "import numpy as np\n",
    "\n",
    "import tensorflow as tf\n",
    "\n",
    "# tensorflow 2.x에 내장된 Keras 사용\n",
    "from tensorflow.keras.models import Sequential  # class\n",
    "from tensorflow.keras.models import load_model  # model 파일 로딩\n",
    "from tensorflow.keras.layers import Dense       # 전결합층\n",
    "from tensorflow.keras.optimizers import Adam    # 가중치, bias 최적화\n",
    "from tensorflow.keras.utils import plot_model   # 네트워크 입출력 시각화\n",
    "\n",
    "import matplotlib.pyplot as plt\n",
    "import matplotlib\n",
    "from matplotlib import rc\n",
    "rc('font', family='Malgun Gothic')\n",
    "\n",
    "# print(tf.__version__)"
   ]
  },
  {
   "cell_type": "code",
   "execution_count": 25,
   "metadata": {},
   "outputs": [
    {
     "name": "stdout",
     "output_type": "stream",
     "text": [
      "(30, 2)\n",
      "(2,)\n",
      "[[ 1  1]\n",
      " [ 2  2]\n",
      " [ 3  3]\n",
      " [ 4  4]\n",
      " [ 5  5]\n",
      " [ 6  6]\n",
      " [ 7  7]\n",
      " [ 8  8]\n",
      " [ 9  9]\n",
      " [10 10]\n",
      " [11 11]\n",
      " [12 12]\n",
      " [13 13]\n",
      " [14 14]\n",
      " [15 15]\n",
      " [16 16]\n",
      " [17 17]\n",
      " [18 18]\n",
      " [19 19]\n",
      " [20 20]\n",
      " [21 21]\n",
      " [22 22]\n",
      " [23 23]\n",
      " [24 24]\n",
      " [25 25]\n",
      " [26 26]\n",
      " [27 27]\n",
      " [28 28]\n",
      " [29 29]\n",
      " [30 30]]\n"
     ]
    }
   ],
   "source": [
    "# 데이터\n",
    "# x_train = np.array([[1, 5], [2, 6], [3, 7], [4, 8], [5, 9], [6, 10], [7, 11], [8, 12], [9, 13], [10, 14]])\n",
    "x_train = np.array([[i, i] for i in range(1, 31)])\n",
    "print(x_train.shape)\n",
    "print(x_train[0].shape) # 한행의 구조\n",
    "print(x_train)"
   ]
  },
  {
   "cell_type": "code",
   "execution_count": 26,
   "metadata": {},
   "outputs": [
    {
     "name": "stdout",
     "output_type": "stream",
     "text": [
      "(30, 2)\n",
      "[[ 3  6]\n",
      " [ 4  7]\n",
      " [ 5  8]\n",
      " [ 6  9]\n",
      " [ 7 10]\n",
      " [ 8 11]\n",
      " [ 9 12]\n",
      " [10 13]\n",
      " [11 14]\n",
      " [12 15]\n",
      " [13 16]\n",
      " [14 17]\n",
      " [15 18]\n",
      " [16 19]\n",
      " [17 20]\n",
      " [18 21]\n",
      " [19 22]\n",
      " [20 23]\n",
      " [21 24]\n",
      " [22 25]\n",
      " [23 26]\n",
      " [24 27]\n",
      " [25 28]\n",
      " [26 29]\n",
      " [27 30]\n",
      " [28 31]\n",
      " [29 32]\n",
      " [30 33]\n",
      " [31 34]\n",
      " [32 35]]\n"
     ]
    }
   ],
   "source": [
    "# 컷번째 컬럼에는 2를 더함, 두번째 컬럼에는 5를 더함.\n",
    "y_train = []\n",
    "for i in range(len(x_train)): # [ 1  5]...\n",
    "    y_train.append([x_train[i][0]+2, x_train[i][1]+5])\n",
    "\n",
    "y_train = np.array(y_train)\n",
    "print(y_train.shape)\n",
    "print(y_train)"
   ]
  },
  {
   "cell_type": "code",
   "execution_count": 27,
   "metadata": {
    "scrolled": false
   },
   "outputs": [
    {
     "name": "stdout",
     "output_type": "stream",
     "text": [
      "Model: \"sequential_3\"\n",
      "_________________________________________________________________\n",
      "Layer (type)                 Output Shape              Param #   \n",
      "=================================================================\n",
      "dense_12 (Dense)             (None, 60)                180       \n",
      "_________________________________________________________________\n",
      "dense_13 (Dense)             (None, 80)                4880      \n",
      "_________________________________________________________________\n",
      "dense_14 (Dense)             (None, 20)                1620      \n",
      "_________________________________________________________________\n",
      "dense_15 (Dense)             (None, 2)                 42        \n",
      "=================================================================\n",
      "Total params: 6,722\n",
      "Trainable params: 6,722\n",
      "Non-trainable params: 0\n",
      "_________________________________________________________________\n",
      "Epoch 1/100\n",
      "24/24 [==============================] - 1s 9ms/step - loss: 67.9964 - val_loss: 60.5459\n",
      "Epoch 2/100\n",
      "24/24 [==============================] - 0s 9ms/step - loss: 10.6685 - val_loss: 36.6246\n",
      "Epoch 3/100\n",
      "24/24 [==============================] - 0s 3ms/step - loss: 7.1780 - val_loss: 33.1301\n",
      "Epoch 4/100\n",
      "24/24 [==============================] - 0s 3ms/step - loss: 2.9656 - val_loss: 0.1312\n",
      "Epoch 5/100\n",
      "24/24 [==============================] - 0s 3ms/step - loss: 2.8757 - val_loss: 5.0886\n",
      "Epoch 6/100\n",
      "24/24 [==============================] - 0s 3ms/step - loss: 3.0019 - val_loss: 13.4994\n",
      "Epoch 7/100\n",
      "24/24 [==============================] - 0s 3ms/step - loss: 3.3468 - val_loss: 0.1920\n",
      "Epoch 8/100\n",
      "24/24 [==============================] - 0s 3ms/step - loss: 0.8646 - val_loss: 0.4866\n",
      "Epoch 9/100\n",
      "24/24 [==============================] - 0s 3ms/step - loss: 0.3534 - val_loss: 0.1587\n",
      "Epoch 10/100\n",
      "24/24 [==============================] - 0s 3ms/step - loss: 0.1688 - val_loss: 0.1639\n",
      "Epoch 11/100\n",
      "24/24 [==============================] - 0s 3ms/step - loss: 0.0686 - val_loss: 0.0944\n",
      "Epoch 12/100\n",
      "24/24 [==============================] - 0s 3ms/step - loss: 0.0302 - val_loss: 0.1224\n",
      "Epoch 13/100\n",
      "24/24 [==============================] - 0s 3ms/step - loss: 0.0188 - val_loss: 0.0687\n",
      "Epoch 14/100\n",
      "24/24 [==============================] - 0s 3ms/step - loss: 0.0093 - val_loss: 9.5203e-04\n",
      "Epoch 15/100\n",
      "24/24 [==============================] - 0s 3ms/step - loss: 0.0048 - val_loss: 0.0117\n",
      "Epoch 16/100\n",
      "24/24 [==============================] - 0s 3ms/step - loss: 0.0038 - val_loss: 0.0610\n",
      "Epoch 17/100\n",
      "24/24 [==============================] - 0s 3ms/step - loss: 0.0061 - val_loss: 0.0175\n",
      "Epoch 18/100\n",
      "24/24 [==============================] - 0s 3ms/step - loss: 0.0100 - val_loss: 0.2445\n",
      "Epoch 19/100\n",
      "24/24 [==============================] - 0s 3ms/step - loss: 0.6814 - val_loss: 1.4732\n",
      "Epoch 20/100\n",
      "24/24 [==============================] - 0s 3ms/step - loss: 0.2117 - val_loss: 0.2918\n",
      "Epoch 21/100\n",
      "24/24 [==============================] - 0s 3ms/step - loss: 1.5217 - val_loss: 8.0303\n",
      "Epoch 22/100\n",
      "24/24 [==============================] - 0s 3ms/step - loss: 1.6518 - val_loss: 8.2235\n",
      "Epoch 23/100\n",
      "24/24 [==============================] - 0s 3ms/step - loss: 2.5548 - val_loss: 7.3092\n",
      "Epoch 24/100\n",
      "24/24 [==============================] - 0s 3ms/step - loss: 0.6891 - val_loss: 0.0433\n",
      "Epoch 25/100\n",
      "24/24 [==============================] - 0s 3ms/step - loss: 0.0377 - val_loss: 0.1844\n",
      "Epoch 26/100\n",
      "24/24 [==============================] - 0s 3ms/step - loss: 0.0311 - val_loss: 0.0052\n",
      "Epoch 27/100\n",
      "24/24 [==============================] - 0s 3ms/step - loss: 0.0018 - val_loss: 0.0015\n",
      "Epoch 28/100\n",
      "24/24 [==============================] - 0s 3ms/step - loss: 4.0801e-04 - val_loss: 0.0024\n",
      "Epoch 29/100\n",
      "24/24 [==============================] - 0s 3ms/step - loss: 5.7263e-04 - val_loss: 2.0630e-04\n",
      "Epoch 30/100\n",
      "24/24 [==============================] - 0s 3ms/step - loss: 4.0820e-04 - val_loss: 2.5975e-04\n",
      "Epoch 31/100\n",
      "24/24 [==============================] - 0s 3ms/step - loss: 3.1452e-04 - val_loss: 1.0774e-04\n",
      "Epoch 32/100\n",
      "24/24 [==============================] - 0s 3ms/step - loss: 4.8775e-05 - val_loss: 7.7422e-04\n",
      "Epoch 33/100\n",
      "24/24 [==============================] - 0s 3ms/step - loss: 2.1260e-04 - val_loss: 3.9756e-05\n",
      "Epoch 34/100\n",
      "24/24 [==============================] - 0s 3ms/step - loss: 1.7506e-04 - val_loss: 4.8270e-06\n",
      "Epoch 35/100\n",
      "24/24 [==============================] - 0s 3ms/step - loss: 1.6016e-05 - val_loss: 1.4706e-04\n",
      "Epoch 36/100\n",
      "24/24 [==============================] - 0s 3ms/step - loss: 2.6840e-05 - val_loss: 7.2759e-05\n",
      "Epoch 37/100\n",
      "24/24 [==============================] - 0s 3ms/step - loss: 1.5588e-05 - val_loss: 6.1499e-06\n",
      "Epoch 38/100\n",
      "24/24 [==============================] - 0s 3ms/step - loss: 2.8423e-06 - val_loss: 4.0741e-06\n",
      "Epoch 39/100\n",
      "24/24 [==============================] - 0s 3ms/step - loss: 9.7578e-07 - val_loss: 7.5611e-06\n",
      "Epoch 40/100\n",
      "24/24 [==============================] - 0s 3ms/step - loss: 4.5754e-06 - val_loss: 5.7871e-05\n",
      "Epoch 41/100\n",
      "24/24 [==============================] - 0s 3ms/step - loss: 6.7346e-06 - val_loss: 1.3357e-05\n",
      "Epoch 42/100\n",
      "24/24 [==============================] - 0s 3ms/step - loss: 3.5190e-06 - val_loss: 6.1286e-06\n",
      "Epoch 43/100\n",
      "24/24 [==============================] - 0s 3ms/step - loss: 2.4425e-06 - val_loss: 4.6088e-06\n",
      "Epoch 44/100\n",
      "24/24 [==============================] - 0s 3ms/step - loss: 2.5515e-07 - val_loss: 6.8545e-07\n",
      "Epoch 45/100\n",
      "24/24 [==============================] - 0s 3ms/step - loss: 6.5241e-08 - val_loss: 7.0592e-07\n",
      "Epoch 46/100\n",
      "24/24 [==============================] - 0s 3ms/step - loss: 1.2863e-07 - val_loss: 1.8729e-06\n",
      "Epoch 47/100\n",
      "24/24 [==============================] - 0s 3ms/step - loss: 1.0542e-06 - val_loss: 1.0308e-05\n",
      "Epoch 48/100\n",
      "24/24 [==============================] - 0s 3ms/step - loss: 1.7696e-06 - val_loss: 1.4981e-07\n",
      "Epoch 49/100\n",
      "24/24 [==============================] - 0s 3ms/step - loss: 2.5898e-07 - val_loss: 1.9731e-07\n",
      "Epoch 50/100\n",
      "24/24 [==============================] - 0s 3ms/step - loss: 3.5772e-07 - val_loss: 1.6347e-06\n",
      "Epoch 51/100\n",
      "24/24 [==============================] - 0s 3ms/step - loss: 1.1007e-06 - val_loss: 1.3326e-05\n",
      "Epoch 52/100\n",
      "24/24 [==============================] - 0s 3ms/step - loss: 5.1016e-06 - val_loss: 5.9750e-05\n",
      "Epoch 53/100\n",
      "24/24 [==============================] - 0s 3ms/step - loss: 7.2197e-06 - val_loss: 1.4798e-05\n",
      "Epoch 54/100\n",
      "24/24 [==============================] - 0s 3ms/step - loss: 6.7367e-07 - val_loss: 2.1283e-06\n",
      "Epoch 55/100\n",
      "24/24 [==============================] - 0s 3ms/step - loss: 4.8504e-06 - val_loss: 1.2709e-05\n",
      "Epoch 56/100\n",
      "24/24 [==============================] - 0s 3ms/step - loss: 2.3978e-06 - val_loss: 4.2833e-06\n",
      "Epoch 57/100\n",
      "24/24 [==============================] - 0s 3ms/step - loss: 1.0701e-05 - val_loss: 3.3217e-05\n",
      "Epoch 58/100\n",
      "24/24 [==============================] - 0s 3ms/step - loss: 3.2293e-06 - val_loss: 2.9238e-06\n",
      "Epoch 59/100\n",
      "24/24 [==============================] - 0s 3ms/step - loss: 2.0265e-06 - val_loss: 1.4147e-05\n",
      "Epoch 60/100\n",
      "24/24 [==============================] - 0s 3ms/step - loss: 3.0492e-06 - val_loss: 1.3589e-06\n",
      "Epoch 61/100\n",
      "24/24 [==============================] - 0s 3ms/step - loss: 5.5796e-06 - val_loss: 4.6878e-07\n",
      "Epoch 62/100\n",
      "24/24 [==============================] - 0s 3ms/step - loss: 1.3947e-04 - val_loss: 7.6124e-04\n",
      "Epoch 63/100\n",
      "24/24 [==============================] - 0s 3ms/step - loss: 3.7563e-04 - val_loss: 5.8400e-07\n",
      "Epoch 64/100\n",
      "24/24 [==============================] - 0s 3ms/step - loss: 3.5775e-04 - val_loss: 0.0021\n",
      "Epoch 65/100\n",
      "24/24 [==============================] - 0s 3ms/step - loss: 0.0043 - val_loss: 0.0017\n",
      "Epoch 66/100\n",
      "24/24 [==============================] - 0s 3ms/step - loss: 6.7582e-04 - val_loss: 0.0015\n",
      "Epoch 67/100\n",
      "24/24 [==============================] - 0s 3ms/step - loss: 0.0017 - val_loss: 2.5115e-04\n",
      "Epoch 68/100\n",
      "24/24 [==============================] - 0s 3ms/step - loss: 0.0025 - val_loss: 0.0396\n",
      "Epoch 69/100\n",
      "24/24 [==============================] - 0s 3ms/step - loss: 0.0864 - val_loss: 4.0858\n",
      "Epoch 70/100\n",
      "24/24 [==============================] - 0s 3ms/step - loss: 0.5529 - val_loss: 0.4841\n",
      "Epoch 71/100\n"
     ]
    },
    {
     "name": "stdout",
     "output_type": "stream",
     "text": [
      "24/24 [==============================] - 0s 3ms/step - loss: 0.1964 - val_loss: 1.4215\n",
      "Epoch 72/100\n",
      "24/24 [==============================] - 0s 3ms/step - loss: 0.2509 - val_loss: 0.0163\n",
      "Epoch 73/100\n",
      "24/24 [==============================] - 0s 3ms/step - loss: 0.1047 - val_loss: 9.8067\n",
      "Epoch 74/100\n",
      "24/24 [==============================] - 0s 3ms/step - loss: 1.6787 - val_loss: 5.1762\n",
      "Epoch 75/100\n",
      "24/24 [==============================] - 0s 3ms/step - loss: 1.7182 - val_loss: 39.9447\n",
      "Epoch 76/100\n",
      "24/24 [==============================] - 0s 3ms/step - loss: 21.4174 - val_loss: 157.4598\n",
      "Epoch 77/100\n",
      "24/24 [==============================] - 0s 3ms/step - loss: 42.5411 - val_loss: 8.6139\n",
      "Epoch 78/100\n",
      "24/24 [==============================] - 0s 3ms/step - loss: 7.7903 - val_loss: 57.8522\n",
      "Epoch 79/100\n",
      "24/24 [==============================] - 0s 3ms/step - loss: 17.6652 - val_loss: 1.2380\n",
      "Epoch 80/100\n",
      "24/24 [==============================] - 0s 3ms/step - loss: 3.6500 - val_loss: 11.7694\n",
      "Epoch 81/100\n",
      "24/24 [==============================] - 0s 3ms/step - loss: 1.2342 - val_loss: 0.6831\n",
      "Epoch 82/100\n",
      "24/24 [==============================] - 0s 3ms/step - loss: 0.1272 - val_loss: 0.1781\n",
      "Epoch 83/100\n",
      "24/24 [==============================] - 0s 3ms/step - loss: 0.0830 - val_loss: 0.3805\n",
      "Epoch 84/100\n",
      "24/24 [==============================] - 0s 3ms/step - loss: 0.1123 - val_loss: 0.0805\n",
      "Epoch 85/100\n",
      "24/24 [==============================] - 0s 3ms/step - loss: 0.0223 - val_loss: 0.0139\n",
      "Epoch 86/100\n",
      "24/24 [==============================] - 0s 3ms/step - loss: 0.0034 - val_loss: 0.0145\n",
      "Epoch 87/100\n",
      "24/24 [==============================] - 0s 3ms/step - loss: 0.0033 - val_loss: 8.2945e-04\n",
      "Epoch 88/100\n",
      "24/24 [==============================] - 0s 3ms/step - loss: 1.7193e-04 - val_loss: 8.1506e-05\n",
      "Epoch 89/100\n",
      "24/24 [==============================] - 0s 3ms/step - loss: 6.7931e-05 - val_loss: 2.0757e-06\n",
      "Epoch 90/100\n",
      "24/24 [==============================] - 0s 3ms/step - loss: 1.1995e-05 - val_loss: 2.7033e-05\n",
      "Epoch 91/100\n",
      "24/24 [==============================] - 0s 3ms/step - loss: 5.0512e-06 - val_loss: 9.7745e-06\n",
      "Epoch 92/100\n",
      "24/24 [==============================] - 0s 3ms/step - loss: 1.6712e-06 - val_loss: 8.5928e-08\n",
      "Epoch 93/100\n",
      "24/24 [==============================] - 0s 3ms/step - loss: 9.5532e-08 - val_loss: 1.0118e-08\n",
      "Epoch 94/100\n",
      "24/24 [==============================] - 0s 3ms/step - loss: 4.0522e-08 - val_loss: 4.2245e-08\n",
      "Epoch 95/100\n",
      "24/24 [==============================] - 0s 3ms/step - loss: 1.0036e-07 - val_loss: 1.5668e-07\n",
      "Epoch 96/100\n",
      "24/24 [==============================] - 0s 3ms/step - loss: 3.1237e-08 - val_loss: 1.3316e-07\n",
      "Epoch 97/100\n",
      "24/24 [==============================] - 0s 3ms/step - loss: 1.0920e-08 - val_loss: 1.1585e-07\n",
      "Epoch 98/100\n",
      "24/24 [==============================] - 0s 3ms/step - loss: 5.4404e-08 - val_loss: 8.5592e-08\n",
      "Epoch 99/100\n",
      "24/24 [==============================] - 0s 3ms/step - loss: 4.7859e-08 - val_loss: 1.2658e-08\n",
      "Epoch 100/100\n",
      "24/24 [==============================] - 0s 4ms/step - loss: 5.6153e-09 - val_loss: 2.0364e-09\n"
     ]
    }
   ],
   "source": [
    "# del model # 객체 삭제\n",
    "# tf.random.set_seed(0)\n",
    "model = Sequential()\n",
    "model.add(Dense(60, input_dim=2, activation='linear')) # 입력: 2, 출력: 60\n",
    "model.add(Dense(80, activation='linear')) # 입력: 60, 출력: 80\n",
    "model.add(Dense(20, activation='linear')) # 입력: 80, 출력: 20\n",
    "model.add(Dense(2, activation='linear'))  # 입력: 20, 출력: 2\n",
    "# model.compile(optimizer='adam', loss='mse')\n",
    "model.compile(optimizer=Adam(lr=0.01), loss='mse')\n",
    "model.summary()\n",
    "hist = model.fit(x_train, y_train, validation_split=0.2, shuffle=True,\n",
    "                epochs=100, batch_size=1)"
   ]
  },
  {
   "cell_type": "code",
   "execution_count": 28,
   "metadata": {},
   "outputs": [
    {
     "data": {
      "image/png": "[encoded data removed]",
      "text/plain": [
       "<Figure size 720x360 with 1 Axes>"
      ]
     },
     "metadata": {
      "needs_background": "light"
     },
     "output_type": "display_data"
    }
   ],
   "source": [
    "import matplotlib.pyplot as plt\n",
    "%matplotlib inline  \n",
    "\n",
    "fig, loss_ax = plt.subplots()\n",
    "# plt.figure(figsize=(6,4)) # ERROR\n",
    "fig.set_size_inches(10, 5)  # 챠트 크기 설정\n",
    "\n",
    "# 왼쪽 y 축 설정\n",
    "loss_ax.plot(hist.history['loss'], 'y', label='train loss')\n",
    "loss_ax.plot(hist.history['val_loss'], 'r', label='val loss')\n",
    "loss_ax.set_ylim([0.0, 65.2674]) # 값을 반영하여 변경 ★\n",
    "\n",
    "# 축 레이블 설정\n",
    "loss_ax.set_xlabel('epoch')  # 학습 횟수\n",
    "loss_ax.set_ylabel('loss')   # 오차\n",
    "\n",
    "loss_ax.legend(loc='upper left') # 오차 레이블 위치\n",
    "\n",
    "plt.show()\n",
    "# train loss: 하강하면 훈련이 정상적으로 진행되고 있음\n",
    "# val loss: 하강하면 훈련되지 않은 데이터를 대상으로 한 테스트도 정상적으로 진행됨."
   ]
  },
  {
   "cell_type": "code",
   "execution_count": 29,
   "metadata": {},
   "outputs": [
    {
     "name": "stdout",
     "output_type": "stream",
     "text": [
      "(11, 2)\n",
      "(2,)\n",
      "[[100 100]\n",
      " [101 101]\n",
      " [102 102]\n",
      " [103 103]\n",
      " [104 104]\n",
      " [105 105]\n",
      " [106 106]\n",
      " [107 107]\n",
      " [108 108]\n",
      " [109 109]\n",
      " [110 110]]\n"
     ]
    }
   ],
   "source": [
    "# 테스트 데이터\n",
    "x = np.array([[i, i] for i in range(100, 111)])\n",
    "print(x.shape)\n",
    "print(x[0].shape) # 한행의 구조\n",
    "print(x)"
   ]
  },
  {
   "cell_type": "code",
   "execution_count": 30,
   "metadata": {},
   "outputs": [
    {
     "name": "stdout",
     "output_type": "stream",
     "text": [
      "(11, 2)\n",
      "[[102 105]\n",
      " [103 106]\n",
      " [104 107]\n",
      " [105 108]\n",
      " [106 109]\n",
      " [107 110]\n",
      " [108 111]\n",
      " [109 112]\n",
      " [110 113]\n",
      " [111 114]\n",
      " [112 115]]\n"
     ]
    }
   ],
   "source": [
    "y = [] # 찾아야할 데이터 비교용 생성\n",
    "for i in range(len(x)): # [ 1  5]...\n",
    "    y.append([x[i][0]+2, x[i][1]+5])\n",
    "\n",
    "y = np.array(y)\n",
    "print(y.shape)\n",
    "print(y)"
   ]
  },
  {
   "cell_type": "code",
   "execution_count": 31,
   "metadata": {},
   "outputs": [
    {
     "name": "stdout",
     "output_type": "stream",
     "text": [
      "x: [100 100], 실제값: [102 105], 예측값: 101.99981 105.00007, 정제된값: 102 105\n",
      "x: [101 101], 실제값: [103 106], 예측값: 102.99980 106.00008, 정제된값: 103 106\n",
      "x: [102 102], 실제값: [104 107], 예측값: 103.99979 107.00007, 정제된값: 104 107\n",
      "x: [103 103], 실제값: [105 108], 예측값: 104.99979 108.00008, 정제된값: 105 108\n",
      "x: [104 104], 실제값: [106 109], 예측값: 105.99979 109.00009, 정제된값: 106 109\n",
      "x: [105 105], 실제값: [107 110], 예측값: 106.99979 110.00006, 정제된값: 107 110\n",
      "x: [106 106], 실제값: [108 111], 예측값: 107.99979 111.00008, 정제된값: 108 111\n",
      "x: [107 107], 실제값: [109 112], 예측값: 108.99978 112.00008, 정제된값: 109 112\n",
      "x: [108 108], 실제값: [110 113], 예측값: 109.99979 113.00009, 정제된값: 110 113\n",
      "x: [109 109], 실제값: [111 114], 예측값: 110.99977 114.00008, 정제된값: 111 114\n",
      "x: [110 110], 실제값: [112 115], 예측값: 111.99979 115.00009, 정제된값: 112 115\n"
     ]
    },
    {
     "data": {
      "image/png": "[encoded data removed]",
      "text/plain": [
       "<Figure size 432x288 with 1 Axes>"
      ]
     },
     "metadata": {
      "needs_background": "light"
     },
     "output_type": "display_data"
    }
   ],
   "source": [
    "p = model.predict(x) # 모델 사용\n",
    "\n",
    "for i in range(len(x)):\n",
    "    fmt = 'x: {0}, 실제값: {1}, 예측값: {2:.5f} {3:.5f}, 정제된값: {4:.0f} {5:.0f}'\n",
    "    print(fmt.format(x[i], y[i], p[i][0], p[i][1], p[i][0], p[i][1]))\n",
    "    \n",
    "plt.scatter(x[:,0], y[:,0], color='r')  # 실제값\n",
    "plt.plot(x[:,0], y[:,0], color='r')\n",
    "plt.scatter(x[:,0], p[:,0], color='y')  # 예측값\n",
    "plt.plot(x[:,0], p[:,0], color='y')\n",
    "\n",
    "plt.scatter(x[:,1], y[:,1], color='b')  # 실제값\n",
    "plt.plot(x[:,1], y[:,1], color='b')\n",
    "plt.scatter(x[:,1], p[:,1], color='y')  # 예측값\n",
    "plt.plot(x[:,1], p[:,1], color='y')\n",
    "\n",
    "plt.grid(True)\n",
    "plt.show()    "
   ]
  },
  {
   "cell_type": "code",
   "execution_count": 32,
   "metadata": {},
   "outputs": [],
   "source": [
    "model.save('./Basic4.h5')"
   ]
  },
  {
   "cell_type": "code",
   "execution_count": 33,
   "metadata": {},
   "outputs": [
    {
     "name": "stdout",
     "output_type": "stream",
     "text": [
      " C 드라이브의 볼륨에는 이름이 없습니다.\n",
      " 볼륨 일련 번호: DC48-5F8B\n",
      "\n",
      " C:\\kd\\ws_python\\notebook\\machine\\dnn\\lm 디렉터리\n",
      "\n",
      "[.]                  [..]                 [.ipynb_checkpoints]\n",
      "Basic1.ipynb         Basic1.png           Basic2.ipynb\n",
      "Basic3.ipynb         Basic3.png           Basic4.h5\n",
      "Basic4.ipynb         Basic4.png           Basic4_use.ipynb\n",
      "model.png            \n",
      "              10개 파일             764,531 바이트\n",
      "               3개 디렉터리  86,711,046,144 바이트 남음\n"
     ]
    }
   ],
   "source": [
    "!dir/w"
   ]
  },
  {
   "cell_type": "code",
   "execution_count": null,
   "metadata": {},
   "outputs": [],
   "source": []
  }
 ],
 "metadata": {
  "kernelspec": {
   "display_name": "ai",
   "language": "python",
   "name": "ai"
  },
  "language_info": {
   "codemirror_mode": {
    "name": "ipython",
    "version": 3
   },
   "file_extension": ".py",
   "mimetype": "text/x-python",
   "name": "python",
   "nbconvert_exporter": "python",
   "pygments_lexer": "ipython3",
   "version": "3.7.11"
  }
 },
 "nbformat": 4,
 "nbformat_minor": 4
}
