{
 "cells": [
  {
   "cell_type": "markdown",
   "metadata": {},
   "source": [
    "### 통계량\n",
    "- 모분산을 아는 경우: xbar-Za/2 * (σ/√n) ≤ μ ≤ xbar + Za/2 * (σ/√n)\n",
    "- 모분산을 모르는 경우: xbar-Za/2 * (S/√n) ≤ μ ≤ xbar + Za/2 * (S/√n)\n",
    "- 모비율 p에 대한 신뢰 구간: phat ± 1.96 * (np.sqrt(phat * (1-phat) / n))"
   ]
  },
  {
   "cell_type": "code",
   "execution_count": 1,
   "metadata": {},
   "outputs": [],
   "source": [
    "import numpy as np"
   ]
  },
  {
   "cell_type": "markdown",
   "metadata": {},
   "source": [
    "<img src='01.jpg'>"
   ]
  },
  {
   "cell_type": "code",
   "execution_count": 6,
   "metadata": {},
   "outputs": [
    {
     "name": "stdout",
     "output_type": "stream",
     "text": [
      "xbar: 170\n",
      "(s/ np.sqrt(n)): 1.0\n",
      "1.96 * (s / np.sqrt(n)): 1.96\n",
      "lower 168.04\n",
      "소그룹을 100회 추출하여 평균 산출시 95%는 168.040 ~ 171.960\n",
      "전체 대학생의 95%는 168.040 ~ 171.960 포함될수도 있음\n"
     ]
    }
   ],
   "source": [
    "# A 대학교 학생들중 1명 이상의 소그룹을 임의로 추출하여 평균을 산출시 \n",
    "# 100회 시도했을때 95번(95%) 포함될 구간의 최소/최대값을 찾아내는 과정\n",
    "# 양측검정, |Z|1.96 = 0.95 = 95%\n",
    "n=100; xbar=170; s=10\n",
    "# 전체에서 100명을 임의 추출함으로써 표본분산을 이용하는 경우에 해당\n",
    "lower = xbar - 1.96 * (s / np.sqrt(n))\n",
    "print('xbar:', xbar)\n",
    "print('(s/ np.sqrt(n)):',(s / np.sqrt(n)))\n",
    "print('1.96 * (s / np.sqrt(n)):', 1.96 * (s / np.sqrt(n)))\n",
    "\n",
    "print('lower', lower)\n",
    "upper = xbar + 1.96 * (s / np.sqrt(n))\n",
    "print('소그룹을 100회 추출하여 평균 산출시 95%는 {0:.3f} ~ {1:.3f}'.format(lower,upper))\n",
    "print('모집단 평균 예측시 95%가 포함될 영역 {0:.3f} ~ {1:.3f}'.format(lower,upper))"
   ]
  },
  {
   "cell_type": "markdown",
   "metadata": {},
   "source": [
    "<img src='03.jpg'>"
   ]
  },
  {
   "cell_type": "code",
   "execution_count": 10,
   "metadata": {},
   "outputs": [
    {
     "name": "stdout",
     "output_type": "stream",
     "text": [
      "(np.sqrt(phat*(1-phat)/n): 0.049749371855331\n",
      "1.96 * (np.sqrt(phat*(1-phat)/n): 0.09750876883644877\n",
      "35.249 ≤ 정당지지도 ≤ 54.751\n",
      "95% 영역에 포함되는 지지 인원은 36명 ~ 54명에 포함됨\n",
      "주말 집회등 특별한 상황에서 평균이 30명만 나오면\n",
      "정말 45명이 지지하는지 의심하고 확인이 필요함\n"
     ]
    }
   ],
   "source": [
    "# 전국의 대학생중에 100명을 뽑은 결과 45명이 특정 정당 지지\n",
    "# 100번 전국의 대학생중에 100명을 뽑았을때 95번은 특정 영역에  포함되는\n",
    "# 최소값/쵀다값을 산출할 것\n",
    "n=100; phat = 0.45 # 모비율, 표준편차가 없는 상황이므로 비율을 이용한 구간 산출\n",
    "lower = phat - 1.96 * (np.sqrt(phat*(1-phat)/n))\n",
    "print('(np.sqrt(phat*(1-phat)/n):',(np.sqrt(phat*(1-phat)/n)))\n",
    "print('1.96 * (np.sqrt(phat*(1-phat)/n):', 1.96 * (np.sqrt(phat*(1-phat)/n)))\n",
    "upper = phat +1.96 * (np.sqrt(phat*(1-phat)/n))\n",
    "print('{0:.3f} ≤ 정당지지도 ≤ {1:.3f}'.format((lower*100),(upper*100)))\n",
    "print('95% 영역에 포함되는 지지 인원은 36명 ~ 54명에 포함됨')\n",
    "print('주말 집회등 특별한 상황에서 평균이 30명만 나오면')\n",
    "print('정말 45명이 지지하는지 의심하고 확인이 필요함')"
   ]
  },
  {
   "cell_type": "markdown",
   "metadata": {},
   "source": [
    "<img src='04.jpg'>"
   ]
  },
  {
   "cell_type": "code",
   "execution_count": 14,
   "metadata": {},
   "outputs": [
    {
     "name": "stdout",
     "output_type": "stream",
     "text": [
      "8.684 ≤ 모평균 ≤ 11.316\n"
     ]
    }
   ],
   "source": [
    "n=25; xbar=10; sigma=4 # √16 √4², |Z|1.645 = 0.05 * 2 = 0.1\n",
    "lower = xbar - 1.645 * (sigma / np.sqrt(n))\n",
    "upper = xbar + 1.645 * (sigma / np.sqrt(n))\n",
    "print('{0:.3f} ≤ 모평균 ≤ {1:.3f}'.format(lower,upper))"
   ]
  },
  {
   "cell_type": "markdown",
   "metadata": {},
   "source": [
    "<img src='05.jpg'>"
   ]
  },
  {
   "cell_type": "code",
   "execution_count": 17,
   "metadata": {},
   "outputs": [
    {
     "name": "stdout",
     "output_type": "stream",
     "text": [
      "194.400 ≤생산되는 모든 공의 모평균 95% 구간 ≤205.600\n",
      "어느날 49개의 공을 구입하여 탄력을 조사했더니 190이 나오면 공장에 문의하거나 AS를 생각 할 수 있음.\n"
     ]
    }
   ],
   "source": [
    "n=49; xbar=200; sigma=20; z=1.96 # |Z|1.96 = 0.025 * 2 = 0.05\n",
    "lower = xbar - z * (sigma / np.sqrt(n))\n",
    "upper = xbar + z * (sigma / np.sqrt(n))\n",
    "print('{0:.3f} ≤생산되는 모든 공의 모평균 95% 구간 ≤{1:.3f}'.format(lower,upper))\n",
    "print('어느날 49개의 공을 구입하여 탄력을 조사했더니 190이 나오면 공장에 문의하거나 AS를 생각 할 수 있음.')\n"
   ]
  },
  {
   "cell_type": "markdown",
   "metadata": {},
   "source": [
    "<img src='06.jpg'>"
   ]
  },
  {
   "cell_type": "code",
   "execution_count": 19,
   "metadata": {},
   "outputs": [
    {
     "name": "stdout",
     "output_type": "stream",
     "text": [
      "27.130 ≤ 모평균이 포함될 95% 구간 ≤ 37.010\n",
      "전체 대학생 흡연률을 조사하면 95% 신뢰구간에서 27% ~ 37%에 포함됨\n",
      "어떤 조사에서는 금연 열풍으로 인하여 15%만 흡연 경험이 있다는 조사결과가 나왔다.\n",
      "따라서 27% ~ 372%가 흡연 경험이 있다는\n",
      "조사는 추가적인 조사가 필요하다\n"
     ]
    }
   ],
   "source": [
    "# n=343; xbar=110; sigma=20; z=1.96 # |Z|1.96 = 0.025 * 2 = 0.05\n",
    "#분산이나 표준편차를 모르므로 모비율로 처리\n",
    "n=343; xbar=110; phat=xbar/n\n",
    "lower = phat - (z*(np.sqrt((phat * (1-phat)) / n)))\n",
    "upper = phat + (z*(np.sqrt((phat * (1-phat)) / n)))\n",
    "print('{0:.3f} ≤ 모평균이 포함될 95% 구간 ≤ {1:.3f}'.format((lower*100),(upper*100)))\n",
    "print('전체 대학생 흡연률을 조사하면 95% 신뢰구간에서 27% ~ 37%에 포함됨')\n",
    "print('어떤 조사에서는 금연 열풍으로 인하여 15%만 흡연 경험이 있다는 조사결과가 나왔다.')\n",
    "print('따라서 27% ~ 372%가 흡연 경험이 있다는')\n",
    "print('조사는 추가적인 조사가 필요하다')"
   ]
  },
  {
   "cell_type": "markdown",
   "metadata": {},
   "source": [
    "<img src='07.jpg'>"
   ]
  },
  {
   "cell_type": "code",
   "execution_count": 23,
   "metadata": {},
   "outputs": [
    {
     "name": "stdout",
     "output_type": "stream",
     "text": [
      "1.468 ≤생산되는 모든 공의 모평균 95% 구간 ≤2.532\n",
      "배터리 보증기간을 1년으로 지정. 수명은 최저 1468년~ 최대 2.532년 해당\n",
      "보증기간을 2년으로 지정하면 많은 AS가 50% 발생예상됨:0~2년\n"
     ]
    }
   ],
   "source": [
    "# t분포 2.13 => t분포표 좌측 자유도 n-1: 15, Two tails: 0.05\n",
    "n=16; xbar=2; sigma=1; t=2.13 # |Z|2.57 = 1-(0.4949 *2) = 0.01\n",
    "\n",
    "lower = xbar - t * (sigma / np.sqrt(n))\n",
    "upper = xbar + t * (sigma / np.sqrt(n))\n",
    "print('{0:.3f} ≤생산되는 모든 공의 모평균 95% 구간 ≤{1:.3f}'.format(lower,upper))\n",
    "print('배터리 보증기간을 1년으로 지정. 수명은 최저 1468년~ 최대 2.532년 해당')\n",
    "print('보증기간을 2년으로 지정하면 많은 AS가 50% 발생예상됨:0~2년')"
   ]
  },
  {
   "cell_type": "markdown",
   "metadata": {},
   "source": [
    "<img src='09.jpg'>"
   ]
  },
  {
   "cell_type": "code",
   "execution_count": 35,
   "metadata": {},
   "outputs": [
    {
     "name": "stdout",
     "output_type": "stream",
     "text": [
      "0.010199999999999987\n",
      "1.0199999999999987\n",
      "1.0 %\n"
     ]
    }
   ],
   "source": [
    "print(1-(0.4949 *2))\n",
    "print((1-(0.4949 *2))*100)\n",
    "print(round(((1-(0.4949 *2))*100),1),'%')"
   ]
  },
  {
   "cell_type": "code",
   "execution_count": 39,
   "metadata": {},
   "outputs": [
    {
     "name": "stdout",
     "output_type": "stream",
     "text": [
      "16.703 ≤ 생존시간 모평균 95% 구간 ≤19.897\n",
      "하지만 모소비자단체에서 모기가 안죽는다는 의견이 접수되어\n",
      "직접확인을 하였더니 모기가 아무리 살충제를 분사해도\n",
      "바로죽지않고 25초후에 죽는 일이 발생하여 판매회사를 방문하기로 함\n"
     ]
    }
   ],
   "source": [
    "# 100번 조사하여 99번이 포함될 구간 산출\n",
    "n=70; xbar=18.3; sigma=5.2; z=2.57\n",
    "\n",
    "lower = xbar - z * (sigma / np.sqrt(n))\n",
    "upper = xbar + z * (sigma / np.sqrt(n))\n",
    "print('{0:.3f} ≤ 생존시간 모평균 95% 구간 ≤{1:.3f}'.format(lower,upper))\n",
    "print('하지만 모소비자단체에서 모기가 안죽는다는 의견이 접수되어')\n",
    "print('직접확인을 하였더니 모기가 아무리 살충제를 분사해도')\n",
    "print('바로죽지않고 25초후에 죽는 일이 발생하여 판매회사를 방문하기로 함')"
   ]
  },
  {
   "cell_type": "markdown",
   "metadata": {},
   "source": [
    "<img src='10.jpg'>"
   ]
  },
  {
   "cell_type": "code",
   "execution_count": 42,
   "metadata": {},
   "outputs": [
    {
     "name": "stdout",
     "output_type": "stream",
     "text": [
      "28.775 ≤소요시간 모평균 95% 구간 ≤31.225\n"
     ]
    }
   ],
   "source": [
    "n=64; xbar=30; sigma=5; z=1.96\n",
    "\n",
    "lower = xbar - z * (sigma / np.sqrt(n))\n",
    "upper = xbar + z * (sigma / np.sqrt(n))\n",
    "print('{0:.3f} ≤소요시간 모평균 95% 구간 ≤{1:.3f}'.format(lower,upper))"
   ]
  },
  {
   "cell_type": "markdown",
   "metadata": {},
   "source": [
    "<img src='11.jpg'>"
   ]
  },
  {
   "cell_type": "code",
   "execution_count": 49,
   "metadata": {},
   "outputs": [
    {
     "name": "stdout",
     "output_type": "stream",
     "text": [
      "취업률 phat: 80.0 %\n",
      "76.494 ≤모평균 95% 구간 ≤83.506\n"
     ]
    }
   ],
   "source": [
    "#n=500; xbar=400; sigma=?; z=1.96 #표본비율 사용해야함\n",
    "n=500; phat=400/500; z=1.96\n",
    "print('취업률 phat:', (phat*100), '%')\n",
    "lower = phat - z * np.sqrt((phat*(1-phat))/n)\n",
    "upper = phat + z * np.sqrt((phat*(1-phat))/n)\n",
    "print('{0:.3f} ≤모평균 95% 구간 ≤{1:.3f}'.format((lower*100),(upper*100)))"
   ]
  },
  {
   "cell_type": "code",
   "execution_count": 48,
   "metadata": {},
   "outputs": [
    {
     "name": "stdout",
     "output_type": "stream",
     "text": [
      "취업률 phat: 80.0 %\n",
      "75.403 ≤모평균 99% 구간 ≤84.597\n"
     ]
    }
   ],
   "source": [
    "#n=500; xbar=400; sigma=?; z=1.96 #표본비율 사용해야함\n",
    "n=500; phat=400/500; z=2.57\n",
    "print('취업률 phat:', (phat*100), '%')\n",
    "lower = phat - z * np.sqrt((phat*(1-phat))/n)\n",
    "upper = phat + z * np.sqrt((phat*(1-phat))/n)\n",
    "print('{0:.3f} ≤모평균 99% 구간 ≤{1:.3f}'.format((lower*100),(upper*100)))"
   ]
  },
  {
   "cell_type": "markdown",
   "metadata": {},
   "source": [
    "<img src='12.jpg'>"
   ]
  },
  {
   "cell_type": "code",
   "execution_count": 50,
   "metadata": {},
   "outputs": [
    {
     "name": "stdout",
     "output_type": "stream",
     "text": [
      "지지율 phat: 50.0 %\n",
      "40.200 ≤모평균 90% 구간 ≤59.800\n"
     ]
    }
   ],
   "source": [
    "n=100; phat=50/100; z=1.96\n",
    "print('지지율 phat:', (phat*100), '%')\n",
    "lower = phat - z * np.sqrt((phat*(1-phat))/n)\n",
    "upper = phat + z * np.sqrt((phat*(1-phat))/n)\n",
    "print('{0:.3f} ≤모평균 90% 구간 ≤{1:.3f}'.format((lower*100),(upper*100)))"
   ]
  },
  {
   "cell_type": "code",
   "execution_count": 51,
   "metadata": {
    "scrolled": true
   },
   "outputs": [
    {
     "name": "stdout",
     "output_type": "stream",
     "text": [
      "지지율 phat: 50.0 %\n",
      "41.800 ≤모평균 90% 구간 ≤58.200\n"
     ]
    }
   ],
   "source": [
    "n=100; phat=50/100; z=1.64\n",
    "print('지지율 phat:', (phat*100), '%')\n",
    "lower = phat - z * np.sqrt((phat*(1-phat))/n)\n",
    "upper = phat + z * np.sqrt((phat*(1-phat))/n)\n",
    "print('{0:.3f} ≤모평균 90% 구간 ≤{1:.3f}'.format((lower*100),(upper*100)))"
   ]
  },
  {
   "cell_type": "code",
   "execution_count": 53,
   "metadata": {},
   "outputs": [
    {
     "name": "stdout",
     "output_type": "stream",
     "text": [
      "지지율 phat: 50.0 %\n",
      "49.400 ≤모평균 90% 구간 ≤50.600\n"
     ]
    }
   ],
   "source": [
    "n=100; phat=50/100; z=0.12\n",
    "print('지지율 phat:', (phat*100), '%')\n",
    "lower = phat - z * np.sqrt((phat*(1-phat))/n)\n",
    "upper = phat + z * np.sqrt((phat*(1-phat))/n)\n",
    "print('{0:.3f} ≤모평균 90% 구간 ≤{1:.3f}'.format((lower*100),(upper*100)))"
   ]
  },
  {
   "cell_type": "markdown",
   "metadata": {},
   "source": [
    "<img src='13.jpg'>"
   ]
  },
  {
   "cell_type": "code",
   "execution_count": 54,
   "metadata": {},
   "outputs": [
    {
     "name": "stdout",
     "output_type": "stream",
     "text": [
      "지지율 phat: 10.0 %\n",
      "4.120 ≤모평균 90% 구간 ≤15.880\n"
     ]
    }
   ],
   "source": [
    "n=100; phat=10/100; z=1.96\n",
    "print('지지율 phat:', (phat*100), '%')\n",
    "lower = phat - z * np.sqrt((phat*(1-phat))/n)\n",
    "upper = phat + z * np.sqrt((phat*(1-phat))/n)\n",
    "print('{0:.3f} ≤모평균 90% 구간 ≤{1:.3f}'.format((lower*100),(upper*100)))"
   ]
  }
 ],
 "metadata": {
  "kernelspec": {
   "display_name": "ai",
   "language": "python",
   "name": "ai"
  },
  "language_info": {
   "codemirror_mode": {
    "name": "ipython",
    "version": 3
   },
   "file_extension": ".py",
   "mimetype": "text/x-python",
   "name": "python",
   "nbconvert_exporter": "python",
   "pygments_lexer": "ipython3",
   "version": "3.7.11"
  }
 },
 "nbformat": 4,
 "nbformat_minor": 4
}
