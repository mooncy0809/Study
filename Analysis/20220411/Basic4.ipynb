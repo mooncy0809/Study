{
 "cells": [
  {
   "cell_type": "markdown",
   "metadata": {},
   "source": [
    "### 입력값 2개, 출력값 2개\n",
    "### y1 = w1 * X1 + w2 * X2 + bias, y2 = w1 * X1 + w2 * X2 + bias"
   ]
  },
  {
   "cell_type": "code",
   "execution_count": 1,
   "metadata": {},
   "outputs": [],
   "source": [
    "# %autosave 0 \n",
    "\n",
    "import numpy as np\n",
    "\n",
    "import tensorflow as tf\n",
    "\n",
    "# tensorflow 2.x에 내장된 Keras 사용\n",
    "from tensorflow.keras.models import Sequential  # class\n",
    "from tensorflow.keras.models import load_model  # model 파일 로딩\n",
    "from tensorflow.keras.layers import Dense       # 전결합층\n",
    "from tensorflow.keras.optimizers import Adam    # 가중치, bias 최적화\n",
    "from tensorflow.keras.utils import plot_model   # 네트워크 입출력 시각화\n",
    "\n",
    "import matplotlib.pyplot as plt\n",
    "import matplotlib\n",
    "from matplotlib import rc\n",
    "rc('font', family='Malgun Gothic')\n",
    "\n",
    "# print(tf.__version__)"
   ]
  },
  {
   "cell_type": "code",
   "execution_count": 2,
   "metadata": {},
   "outputs": [
    {
     "name": "stdout",
     "output_type": "stream",
     "text": [
      "(10, 2)\n",
      "(2,)\n",
      "[[ 1  5]\n",
      " [ 2  6]\n",
      " [ 3  7]\n",
      " [ 4  8]\n",
      " [ 5  9]\n",
      " [ 6 10]\n",
      " [ 7 11]\n",
      " [ 8 12]\n",
      " [ 9 13]\n",
      " [10 14]]\n"
     ]
    }
   ],
   "source": [
    "# 데이터\n",
    "# x_train = np.array([[1, 5], [2, 6], [3, 7], [4, 8], [5, 9], [6, 10], [7, 11], [8, 12], [9, 13], [10, 14]])\n",
    "x_train = np.array([[i, i+4] for i in range(1, 11)])\n",
    "print(x_train.shape)\n",
    "print(x_train[0].shape) # 한행의 구조\n",
    "print(x_train)"
   ]
  },
  {
   "cell_type": "code",
   "execution_count": 3,
   "metadata": {},
   "outputs": [
    {
     "name": "stdout",
     "output_type": "stream",
     "text": [
      "(10, 2)\n",
      "[[ 2 10]\n",
      " [ 4 12]\n",
      " [ 6 14]\n",
      " [ 8 16]\n",
      " [10 18]\n",
      " [12 20]\n",
      " [14 22]\n",
      " [16 24]\n",
      " [18 26]\n",
      " [20 28]]\n"
     ]
    }
   ],
   "source": [
    "# 1 * 2 = 2, 5 * 2 = 10\n",
    "# y_train = np.array([[2, 10], [4, 12], [6, 14], [8, 16], [10, 18], [12, 20], [14, 22], [16, 24], [18, 26], [20, 28]])\n",
    "y_train = []\n",
    "for i in range(len(x_train)): # [ 1  5]...\n",
    "    y_train.append([x_train[i][0]*2, x_train[i][1]*2])\n",
    "\n",
    "y_train = np.array(y_train)\n",
    "print(y_train.shape)\n",
    "print(y_train)"
   ]
  },
  {
   "cell_type": "markdown",
   "metadata": {},
   "source": [
    "### 정확도가 떨어지는 모델"
   ]
  },
  {
   "cell_type": "code",
   "execution_count": 28,
   "metadata": {},
   "outputs": [
    {
     "name": "stdout",
     "output_type": "stream",
     "text": [
      "Model: \"sequential_12\"\n",
      "_________________________________________________________________\n",
      "Layer (type)                 Output Shape              Param #   \n",
      "=================================================================\n",
      "dense_24 (Dense)             (None, 10)                30        \n",
      "_________________________________________________________________\n",
      "dense_25 (Dense)             (None, 2)                 22        \n",
      "=================================================================\n",
      "Total params: 52\n",
      "Trainable params: 52\n",
      "Non-trainable params: 0\n",
      "_________________________________________________________________\n",
      "Epoch 1/30\n",
      "8/8 [==============================] - 1s 51ms/step - loss: 94.5936 - val_loss: 75.0571\n",
      "Epoch 2/30\n",
      "8/8 [==============================] - 0s 39ms/step - loss: 17.3749 - val_loss: 13.0990\n",
      "Epoch 3/30\n",
      "8/8 [==============================] - 0s 35ms/step - loss: 2.5006 - val_loss: 8.8808\n",
      "Epoch 4/30\n",
      "8/8 [==============================] - 0s 26ms/step - loss: 5.0672 - val_loss: 5.0772\n",
      "Epoch 5/30\n",
      "8/8 [==============================] - 0s 31ms/step - loss: 2.5730 - val_loss: 3.8495\n",
      "Epoch 6/30\n",
      "8/8 [==============================] - 0s 28ms/step - loss: 1.3855 - val_loss: 6.1111\n",
      "Epoch 7/30\n",
      "8/8 [==============================] - 0s 35ms/step - loss: 2.2799 - val_loss: 10.0872\n",
      "Epoch 8/30\n",
      "8/8 [==============================] - 0s 30ms/step - loss: 2.6021 - val_loss: 3.7941\n",
      "Epoch 9/30\n",
      "8/8 [==============================] - 0s 31ms/step - loss: 0.9019 - val_loss: 3.3040\n",
      "Epoch 10/30\n",
      "8/8 [==============================] - 0s 31ms/step - loss: 1.6213 - val_loss: 4.4835\n",
      "Epoch 11/30\n",
      "8/8 [==============================] - 0s 33ms/step - loss: 1.5699 - val_loss: 4.9766\n",
      "Epoch 12/30\n",
      "8/8 [==============================] - 0s 32ms/step - loss: 0.8932 - val_loss: 3.6680\n",
      "Epoch 13/30\n",
      "8/8 [==============================] - 0s 37ms/step - loss: 1.0288 - val_loss: 2.4780\n",
      "Epoch 14/30\n",
      "8/8 [==============================] - 0s 28ms/step - loss: 1.4622 - val_loss: 3.0530\n",
      "Epoch 15/30\n",
      "8/8 [==============================] - 0s 33ms/step - loss: 1.1777 - val_loss: 2.4655\n",
      "Epoch 16/30\n",
      "8/8 [==============================] - 0s 35ms/step - loss: 1.0362 - val_loss: 3.2756\n",
      "Epoch 17/30\n",
      "8/8 [==============================] - 0s 34ms/step - loss: 0.9467 - val_loss: 2.5206\n",
      "Epoch 18/30\n",
      "8/8 [==============================] - 0s 28ms/step - loss: 0.6803 - val_loss: 0.5863\n",
      "Epoch 19/30\n",
      "8/8 [==============================] - 0s 26ms/step - loss: 0.8678 - val_loss: 2.3633\n",
      "Epoch 20/30\n",
      "8/8 [==============================] - 0s 28ms/step - loss: 0.4489 - val_loss: 2.2631\n",
      "Epoch 21/30\n",
      "8/8 [==============================] - 0s 39ms/step - loss: 0.3720 - val_loss: 1.7030\n",
      "Epoch 22/30\n",
      "8/8 [==============================] - 0s 26ms/step - loss: 0.5689 - val_loss: 1.1468\n",
      "Epoch 23/30\n",
      "8/8 [==============================] - 0s 29ms/step - loss: 0.6144 - val_loss: 1.2606\n",
      "Epoch 24/30\n",
      "8/8 [==============================] - 0s 33ms/step - loss: 0.4319 - val_loss: 1.1110\n",
      "Epoch 25/30\n",
      "8/8 [==============================] - 0s 33ms/step - loss: 0.3472 - val_loss: 0.7843\n",
      "Epoch 26/30\n",
      "8/8 [==============================] - 0s 30ms/step - loss: 0.1928 - val_loss: 0.8782\n",
      "Epoch 27/30\n",
      "8/8 [==============================] - 0s 30ms/step - loss: 0.1919 - val_loss: 0.9121\n",
      "Epoch 28/30\n",
      "8/8 [==============================] - 0s 30ms/step - loss: 0.1827 - val_loss: 0.7969\n",
      "Epoch 29/30\n",
      "8/8 [==============================] - 0s 33ms/step - loss: 0.1626 - val_loss: 0.4693\n",
      "Epoch 30/30\n",
      "8/8 [==============================] - 0s 31ms/step - loss: 0.3630 - val_loss: 0.6908\n"
     ]
    }
   ],
   "source": [
    "del model # 객체 삭제\n",
    "tf.random.set_seed(0)\n",
    "model = Sequential()\n",
    "model.add(Dense(10, input_dim=2, activation='linear')) \n",
    "model.add(Dense(2, activation='linear')) \n",
    "# model.compile(optimizer='adam', loss='mse')\n",
    "model.compile(optimizer=Adam(lr=0.01), loss='mse')\n",
    "model.summary()\n",
    "hist = model.fit(x_train, y_train, validation_split=0.2, shuffle=True,\n",
    "                epochs=30, batch_size=1)\n",
    "# (데이터 건수 / batch_size) * epochs -> 파라미터 변환 횟수"
   ]
  },
  {
   "cell_type": "code",
   "execution_count": 29,
   "metadata": {
    "scrolled": true
   },
   "outputs": [
    {
     "data": {
      "image/png": "[encoded data removed]",
      "text/plain": [
       "<Figure size 720x360 with 1 Axes>"
      ]
     },
     "metadata": {
      "needs_background": "light"
     },
     "output_type": "display_data"
    }
   ],
   "source": [
    "import matplotlib.pyplot as plt\n",
    "%matplotlib inline  \n",
    "\n",
    "fig, loss_ax = plt.subplots()\n",
    "# plt.figure(figsize=(6,4)) # ERROR\n",
    "fig.set_size_inches(10, 5)  # 챠트 크기 설정\n",
    "\n",
    "# 왼쪽 y 축 설정\n",
    "loss_ax.plot(hist.history['loss'], 'y', label='train loss')\n",
    "loss_ax.plot(hist.history['val_loss'], 'r', label='val loss')\n",
    "loss_ax.set_ylim([0.0,100.3603]) # 값을 반영하여 변경 ★\n",
    "\n",
    "# 축 레이블 설정\n",
    "loss_ax.set_xlabel('epoch')  # 학습 횟수\n",
    "loss_ax.set_ylabel('loss')   # 오차\n",
    "\n",
    "loss_ax.legend(loc='upper left') # 오차 레이블 위치\n",
    "\n",
    "plt.show()\n",
    "# train loss: 하강하면 훈련이 정상적으로 진행되고 있음\n",
    "# val loss: 하강하면 훈련되지 않은 데이터를 대상으로 한 테스트도 정상적으로 진행됨."
   ]
  },
  {
   "cell_type": "code",
   "execution_count": 6,
   "metadata": {},
   "outputs": [
    {
     "data": {
      "image/png": "[encoded data removed]",
      "text/plain": [
       "<IPython.core.display.Image object>"
      ]
     },
     "execution_count": 6,
     "metadata": {},
     "output_type": "execute_result"
    }
   ],
   "source": [
    "plot_model(model, to_file='./Basic4.png', show_shapes=True, show_layer_names=True)"
   ]
  },
  {
   "cell_type": "code",
   "execution_count": 7,
   "metadata": {},
   "outputs": [
    {
     "name": "stdout",
     "output_type": "stream",
     "text": [
      "(5, 2)\n",
      "[[23.267616 35.90351 ]\n",
      " [25.266493 37.903618]\n",
      " [27.265368 39.903732]\n",
      " [29.264242 41.903835]\n",
      " [31.26312  43.903946]]\n"
     ]
    }
   ],
   "source": [
    "# 모델 사용\n",
    "x = np.array([[11, 19], [12, 20], [13, 21], [14, 22], [15, 23]])\n",
    "\n",
    "p = model.predict(x) # 모델 사용\n",
    "print(p.shape)\n",
    "print(p)"
   ]
  },
  {
   "cell_type": "code",
   "execution_count": 8,
   "metadata": {},
   "outputs": [
    {
     "name": "stdout",
     "output_type": "stream",
     "text": [
      "x: [11 19], 실제값: [22 38], 예측값: 23.26762 35.90351, 정제된값: 23 36\n",
      "x: [12 20], 실제값: [24 40], 예측값: 25.26649 37.90362, 정제된값: 25 38\n",
      "x: [13 21], 실제값: [26 42], 예측값: 27.26537 39.90373, 정제된값: 27 40\n",
      "x: [14 22], 실제값: [28 44], 예측값: 29.26424 41.90384, 정제된값: 29 42\n",
      "x: [15 23], 실제값: [30 46], 예측값: 31.26312 43.90395, 정제된값: 31 44\n"
     ]
    }
   ],
   "source": [
    "y = np.array([[22, 38], [24, 40], [26, 42], [28, 44], [30, 46]]) # 타겟\n",
    "for i in range(len(x)):\n",
    "    fmt = 'x: {0}, 실제값: {1}, 예측값: {2:.5f} {3:.5f}, 정제된값: {4:.0f} {5:.0f}'\n",
    "    print(fmt.format(x[i], y[i], p[i][0], p[i][1], p[i][0], p[i][1]))"
   ]
  },
  {
   "cell_type": "code",
   "execution_count": 9,
   "metadata": {},
   "outputs": [
    {
     "data": {
      "image/png": "[encoded data removed]",
      "text/plain": [
       "<Figure size 432x288 with 1 Axes>"
      ]
     },
     "metadata": {
      "needs_background": "light"
     },
     "output_type": "display_data"
    }
   ],
   "source": [
    "# x: 11 --> y: 22, x: 12 --> y: 24\n",
    "plt.scatter(x, y, color='g')  # 실제값\n",
    "plt.plot(x, y, color='g')\n",
    "plt.scatter(x, p, color='r')  # 예측값\n",
    "plt.plot(x, p, color='r')\n",
    "plt.grid(True)\n",
    "plt.show()"
   ]
  },
  {
   "cell_type": "code",
   "execution_count": 10,
   "metadata": {},
   "outputs": [],
   "source": [
    "# 학습률만 가지고는 정확도 향상에 한계가 있음.\n",
    "# 해결책\n",
    "# 훈련/검증 데이터의 증가\n",
    "# 네트워크의 크기를 변경\n",
    "# 학습률을 미세하게 조절"
   ]
  },
  {
   "cell_type": "markdown",
   "metadata": {},
   "source": [
    "### 네트워크의 크기를 변경"
   ]
  },
  {
   "cell_type": "code",
   "execution_count": 30,
   "metadata": {
    "scrolled": false
   },
   "outputs": [
    {
     "name": "stdout",
     "output_type": "stream",
     "text": [
      "Model: \"sequential_5\"\n",
      "_________________________________________________________________\n",
      "Layer (type)                 Output Shape              Param #   \n",
      "=================================================================\n",
      "dense_15 (Dense)             (None, 60)                180       \n",
      "_________________________________________________________________\n",
      "dense_16 (Dense)             (None, 80)                4880      \n",
      "_________________________________________________________________\n",
      "dense_17 (Dense)             (None, 20)                1620      \n",
      "_________________________________________________________________\n",
      "dense_18 (Dense)             (None, 2)                 42        \n",
      "=================================================================\n",
      "Total params: 6,722\n",
      "Trainable params: 6,722\n",
      "Non-trainable params: 0\n",
      "_________________________________________________________________\n",
      "Epoch 1/100\n",
      "8/8 [==============================] - 1s 36ms/step - loss: 104.3935 - val_loss: 151.6605\n",
      "Epoch 2/100\n",
      "8/8 [==============================] - 0s 9ms/step - loss: 48.0146 - val_loss: 75.7321\n",
      "Epoch 3/100\n",
      "8/8 [==============================] - 0s 49ms/step - loss: 13.1904 - val_loss: 1.1952\n",
      "Epoch 4/100\n",
      "8/8 [==============================] - 0s 12ms/step - loss: 2.8967 - val_loss: 7.0298\n",
      "Epoch 5/100\n",
      "8/8 [==============================] - 0s 12ms/step - loss: 2.2043 - val_loss: 1.3000\n",
      "Epoch 6/100\n",
      "8/8 [==============================] - 0s 10ms/step - loss: 0.7587 - val_loss: 0.8515\n",
      "Epoch 7/100\n",
      "8/8 [==============================] - 0s 12ms/step - loss: 0.4222 - val_loss: 0.0140\n",
      "Epoch 8/100\n",
      "8/8 [==============================] - 0s 10ms/step - loss: 0.2297 - val_loss: 0.2638\n",
      "Epoch 9/100\n",
      "8/8 [==============================] - 0s 15ms/step - loss: 0.0320 - val_loss: 0.2749\n",
      "Epoch 10/100\n",
      "8/8 [==============================] - 0s 8ms/step - loss: 0.0975 - val_loss: 0.7016\n",
      "Epoch 11/100\n",
      "8/8 [==============================] - 0s 11ms/step - loss: 0.1352 - val_loss: 0.1558\n",
      "Epoch 12/100\n",
      "8/8 [==============================] - 0s 11ms/step - loss: 0.0756 - val_loss: 0.0029\n",
      "Epoch 13/100\n",
      "8/8 [==============================] - 0s 10ms/step - loss: 0.0480 - val_loss: 0.0419\n",
      "Epoch 14/100\n",
      "8/8 [==============================] - 0s 11ms/step - loss: 0.0616 - val_loss: 0.0028\n",
      "Epoch 15/100\n",
      "8/8 [==============================] - 0s 11ms/step - loss: 0.1278 - val_loss: 0.6517\n",
      "Epoch 16/100\n",
      "8/8 [==============================] - 0s 10ms/step - loss: 1.2104 - val_loss: 2.6158\n",
      "Epoch 17/100\n",
      "8/8 [==============================] - 0s 12ms/step - loss: 1.2291 - val_loss: 18.0428\n",
      "Epoch 18/100\n",
      "8/8 [==============================] - 0s 9ms/step - loss: 6.3995 - val_loss: 45.3183\n",
      "Epoch 19/100\n",
      "8/8 [==============================] - 0s 13ms/step - loss: 8.9027 - val_loss: 14.0811\n",
      "Epoch 20/100\n",
      "8/8 [==============================] - 0s 11ms/step - loss: 2.1295 - val_loss: 1.8014\n",
      "Epoch 21/100\n",
      "8/8 [==============================] - 0s 13ms/step - loss: 0.8094 - val_loss: 0.9040\n",
      "Epoch 22/100\n",
      "8/8 [==============================] - 0s 10ms/step - loss: 0.0906 - val_loss: 0.3783\n",
      "Epoch 23/100\n",
      "8/8 [==============================] - 0s 12ms/step - loss: 0.0974 - val_loss: 0.0168\n",
      "Epoch 24/100\n",
      "8/8 [==============================] - 0s 11ms/step - loss: 0.0229 - val_loss: 0.0736\n",
      "Epoch 25/100\n",
      "8/8 [==============================] - 0s 10ms/step - loss: 0.0184 - val_loss: 0.0079\n",
      "Epoch 26/100\n",
      "8/8 [==============================] - 0s 13ms/step - loss: 0.0054 - val_loss: 0.0567\n",
      "Epoch 27/100\n",
      "8/8 [==============================] - 0s 11ms/step - loss: 0.0164 - val_loss: 0.0033\n",
      "Epoch 28/100\n",
      "8/8 [==============================] - 0s 12ms/step - loss: 0.0084 - val_loss: 0.0330\n",
      "Epoch 29/100\n",
      "8/8 [==============================] - 0s 10ms/step - loss: 0.0052 - val_loss: 0.0039\n",
      "Epoch 30/100\n",
      "8/8 [==============================] - 0s 12ms/step - loss: 0.0106 - val_loss: 0.0217\n",
      "Epoch 31/100\n",
      "8/8 [==============================] - 0s 10ms/step - loss: 0.0141 - val_loss: 0.0048\n",
      "Epoch 32/100\n",
      "8/8 [==============================] - 0s 8ms/step - loss: 0.0147 - val_loss: 0.0189\n",
      "Epoch 33/100\n",
      "8/8 [==============================] - 0s 10ms/step - loss: 0.0242 - val_loss: 0.0578\n",
      "Epoch 34/100\n",
      "8/8 [==============================] - 0s 10ms/step - loss: 0.0366 - val_loss: 0.1775\n",
      "Epoch 35/100\n",
      "8/8 [==============================] - 0s 9ms/step - loss: 0.0324 - val_loss: 0.0481\n",
      "Epoch 36/100\n",
      "8/8 [==============================] - 0s 12ms/step - loss: 0.0178 - val_loss: 1.1883e-04\n",
      "Epoch 37/100\n",
      "8/8 [==============================] - 0s 10ms/step - loss: 0.0042 - val_loss: 0.0258\n",
      "Epoch 38/100\n",
      "8/8 [==============================] - 0s 11ms/step - loss: 0.0053 - val_loss: 0.0051\n",
      "Epoch 39/100\n",
      "8/8 [==============================] - 0s 9ms/step - loss: 0.0026 - val_loss: 0.0164\n",
      "Epoch 40/100\n",
      "8/8 [==============================] - 0s 7ms/step - loss: 0.0027 - val_loss: 0.0047\n",
      "Epoch 41/100\n",
      "8/8 [==============================] - 0s 10ms/step - loss: 0.0045 - val_loss: 0.0054\n",
      "Epoch 42/100\n",
      "8/8 [==============================] - 0s 11ms/step - loss: 0.0068 - val_loss: 0.0415\n",
      "Epoch 43/100\n",
      "8/8 [==============================] - 0s 9ms/step - loss: 0.0100 - val_loss: 0.0127\n",
      "Epoch 44/100\n",
      "8/8 [==============================] - 0s 11ms/step - loss: 0.0016 - val_loss: 0.0263\n",
      "Epoch 45/100\n",
      "8/8 [==============================] - 0s 10ms/step - loss: 0.0061 - val_loss: 0.0055\n",
      "Epoch 46/100\n",
      "8/8 [==============================] - 0s 10ms/step - loss: 0.0012 - val_loss: 0.0020\n",
      "Epoch 47/100\n",
      "8/8 [==============================] - 0s 11ms/step - loss: 0.0030 - val_loss: 0.0044\n",
      "Epoch 48/100\n",
      "8/8 [==============================] - 0s 9ms/step - loss: 2.3571e-04 - val_loss: 7.8306e-04\n",
      "Epoch 49/100\n",
      "8/8 [==============================] - 0s 12ms/step - loss: 2.6061e-04 - val_loss: 2.0862e-04\n",
      "Epoch 50/100\n",
      "8/8 [==============================] - 0s 10ms/step - loss: 1.5147e-04 - val_loss: 7.9937e-04\n",
      "Epoch 51/100\n",
      "8/8 [==============================] - 0s 10ms/step - loss: 3.4822e-04 - val_loss: 4.4299e-04\n",
      "Epoch 52/100\n",
      "8/8 [==============================] - 0s 10ms/step - loss: 8.0886e-05 - val_loss: 2.0078e-05\n",
      "Epoch 53/100\n",
      "8/8 [==============================] - 0s 11ms/step - loss: 1.7241e-05 - val_loss: 1.2874e-06\n",
      "Epoch 54/100\n",
      "8/8 [==============================] - 0s 9ms/step - loss: 1.5104e-05 - val_loss: 7.3370e-04\n",
      "Epoch 55/100\n",
      "8/8 [==============================] - 0s 9ms/step - loss: 9.9263e-05 - val_loss: 4.3849e-04\n",
      "Epoch 56/100\n",
      "8/8 [==============================] - 0s 10ms/step - loss: 9.5586e-05 - val_loss: 1.3547e-04\n",
      "Epoch 57/100\n",
      "8/8 [==============================] - 0s 11ms/step - loss: 5.1279e-05 - val_loss: 1.7834e-06\n",
      "Epoch 58/100\n",
      "8/8 [==============================] - 0s 10ms/step - loss: 3.7202e-05 - val_loss: 5.7647e-05\n",
      "Epoch 59/100\n",
      "8/8 [==============================] - 0s 11ms/step - loss: 4.2217e-05 - val_loss: 2.4973e-05\n",
      "Epoch 60/100\n",
      "8/8 [==============================] - 0s 11ms/step - loss: 8.5421e-06 - val_loss: 9.4154e-05\n",
      "Epoch 61/100\n",
      "8/8 [==============================] - 0s 9ms/step - loss: 1.0194e-05 - val_loss: 8.1168e-05\n",
      "Epoch 62/100\n",
      "8/8 [==============================] - 0s 11ms/step - loss: 2.1262e-05 - val_loss: 2.9991e-05\n",
      "Epoch 63/100\n",
      "8/8 [==============================] - 0s 8ms/step - loss: 1.9369e-05 - val_loss: 3.7354e-06\n",
      "Epoch 64/100\n",
      "8/8 [==============================] - 0s 11ms/step - loss: 1.5795e-06 - val_loss: 6.0354e-06\n",
      "Epoch 65/100\n",
      "8/8 [==============================] - 0s 10ms/step - loss: 1.4460e-06 - val_loss: 2.7642e-05\n",
      "Epoch 66/100\n",
      "8/8 [==============================] - 0s 10ms/step - loss: 5.3894e-06 - val_loss: 5.0463e-06\n",
      "Epoch 67/100\n",
      "8/8 [==============================] - 0s 11ms/step - loss: 2.0227e-06 - val_loss: 3.2107e-05\n",
      "Epoch 68/100\n",
      "8/8 [==============================] - 0s 10ms/step - loss: 1.0215e-05 - val_loss: 3.1636e-05\n",
      "Epoch 69/100\n",
      "8/8 [==============================] - 0s 11ms/step - loss: 6.3901e-06 - val_loss: 8.5765e-05\n",
      "Epoch 70/100\n",
      "8/8 [==============================] - 0s 10ms/step - loss: 1.9116e-05 - val_loss: 4.0150e-05\n",
      "Epoch 71/100\n",
      "8/8 [==============================] - 0s 10ms/step - loss: 7.5775e-06 - val_loss: 1.6861e-06\n",
      "Epoch 72/100\n",
      "8/8 [==============================] - 0s 10ms/step - loss: 7.9402e-06 - val_loss: 1.7142e-05\n"
     ]
    },
    {
     "name": "stdout",
     "output_type": "stream",
     "text": [
      "Epoch 73/100\n",
      "8/8 [==============================] - 0s 11ms/step - loss: 1.6712e-05 - val_loss: 5.3946e-05\n",
      "Epoch 74/100\n",
      "8/8 [==============================] - 0s 9ms/step - loss: 1.9850e-05 - val_loss: 1.5756e-04\n",
      "Epoch 75/100\n",
      "8/8 [==============================] - 0s 10ms/step - loss: 5.3772e-05 - val_loss: 5.3420e-06\n",
      "Epoch 76/100\n",
      "8/8 [==============================] - 0s 11ms/step - loss: 1.4329e-05 - val_loss: 1.1292e-05\n",
      "Epoch 77/100\n",
      "8/8 [==============================] - 0s 10ms/step - loss: 2.6221e-06 - val_loss: 1.6070e-06\n",
      "Epoch 78/100\n",
      "8/8 [==============================] - 0s 9ms/step - loss: 3.3492e-06 - val_loss: 3.1632e-06\n",
      "Epoch 79/100\n",
      "8/8 [==============================] - 0s 11ms/step - loss: 4.7672e-06 - val_loss: 5.3088e-05\n",
      "Epoch 80/100\n",
      "8/8 [==============================] - 0s 9ms/step - loss: 2.9129e-05 - val_loss: 1.4762e-04\n",
      "Epoch 81/100\n",
      "8/8 [==============================] - 0s 10ms/step - loss: 7.8446e-06 - val_loss: 1.6036e-04\n",
      "Epoch 82/100\n",
      "8/8 [==============================] - 0s 9ms/step - loss: 5.1952e-05 - val_loss: 5.0136e-05\n",
      "Epoch 83/100\n",
      "8/8 [==============================] - 0s 11ms/step - loss: 4.8959e-05 - val_loss: 6.4087e-04\n",
      "Epoch 84/100\n",
      "8/8 [==============================] - 0s 10ms/step - loss: 1.0523e-04 - val_loss: 1.7879e-04\n",
      "Epoch 85/100\n",
      "8/8 [==============================] - 0s 11ms/step - loss: 6.7467e-05 - val_loss: 8.8519e-05\n",
      "Epoch 86/100\n",
      "8/8 [==============================] - 0s 9ms/step - loss: 1.5266e-04 - val_loss: 3.4318e-05\n",
      "Epoch 87/100\n",
      "8/8 [==============================] - 0s 10ms/step - loss: 9.4869e-05 - val_loss: 6.5847e-05\n",
      "Epoch 88/100\n",
      "8/8 [==============================] - 0s 9ms/step - loss: 2.4738e-05 - val_loss: 1.1857e-06\n",
      "Epoch 89/100\n",
      "8/8 [==============================] - 0s 10ms/step - loss: 3.1055e-05 - val_loss: 6.9231e-04\n",
      "Epoch 90/100\n",
      "8/8 [==============================] - 0s 11ms/step - loss: 2.4763e-04 - val_loss: 1.6805e-06\n",
      "Epoch 91/100\n",
      "8/8 [==============================] - 0s 10ms/step - loss: 2.4450e-05 - val_loss: 6.1929e-07\n",
      "Epoch 92/100\n",
      "8/8 [==============================] - 0s 10ms/step - loss: 1.4431e-05 - val_loss: 4.3119e-05\n",
      "Epoch 93/100\n",
      "8/8 [==============================] - 0s 10ms/step - loss: 2.1067e-05 - val_loss: 2.0020e-05\n",
      "Epoch 94/100\n",
      "8/8 [==============================] - 0s 10ms/step - loss: 1.7501e-05 - val_loss: 3.2782e-05\n",
      "Epoch 95/100\n",
      "8/8 [==============================] - 0s 9ms/step - loss: 1.5941e-05 - val_loss: 8.6950e-06\n",
      "Epoch 96/100\n",
      "8/8 [==============================] - 0s 11ms/step - loss: 7.1938e-06 - val_loss: 1.9095e-06\n",
      "Epoch 97/100\n",
      "8/8 [==============================] - 0s 9ms/step - loss: 1.0874e-05 - val_loss: 3.1595e-05\n",
      "Epoch 98/100\n",
      "8/8 [==============================] - 0s 12ms/step - loss: 5.3348e-06 - val_loss: 4.6070e-07\n",
      "Epoch 99/100\n",
      "8/8 [==============================] - 0s 11ms/step - loss: 5.0478e-06 - val_loss: 6.4919e-06\n",
      "Epoch 100/100\n",
      "8/8 [==============================] - 0s 10ms/step - loss: 1.9287e-05 - val_loss: 3.6139e-04\n"
     ]
    }
   ],
   "source": [
    "# del model # 객체 삭제\n",
    "tf.random.set_seed(0)\n",
    "model = Sequential()\n",
    "model.add(Dense(60, input_dim=2, activation='linear')) \n",
    "model.add(Dense(80, activation='linear')) \n",
    "model.add(Dense(20, activation='linear')) \n",
    "model.add(Dense(2, activation='linear')) \n",
    "# model.compile(optimizer='adam', loss='mse')\n",
    "model.compile(optimizer=Adam(lr=0.01), loss='mse')\n",
    "model.summary()\n",
    "hist = model.fit(x_train, y_train, validation_split=0.2, shuffle=True,\n",
    "                epochs=100, batch_size=1)"
   ]
  },
  {
   "cell_type": "code",
   "execution_count": 31,
   "metadata": {},
   "outputs": [
    {
     "data": {
      "image/png": "[encoded data removed]",
      "text/plain": [
       "<Figure size 720x360 with 1 Axes>"
      ]
     },
     "metadata": {
      "needs_background": "light"
     },
     "output_type": "display_data"
    }
   ],
   "source": [
    "import matplotlib.pyplot as plt\n",
    "%matplotlib inline  \n",
    "\n",
    "fig, loss_ax = plt.subplots()\n",
    "# plt.figure(figsize=(6,4)) # ERROR\n",
    "fig.set_size_inches(10, 5)  # 챠트 크기 설정\n",
    "\n",
    "# 왼쪽 y 축 설정\n",
    "loss_ax.plot(hist.history['loss'], 'y', label='train loss')\n",
    "loss_ax.plot(hist.history['val_loss'], 'r', label='val loss')\n",
    "loss_ax.set_ylim([0.0, 341.3603]) # 값을 반영하여 변경 ★\n",
    "\n",
    "# 축 레이블 설정\n",
    "loss_ax.set_xlabel('epoch')  # 학습 횟수\n",
    "loss_ax.set_ylabel('loss')   # 오차\n",
    "\n",
    "loss_ax.legend(loc='upper left') # 오차 레이블 위치\n",
    "\n",
    "plt.show()\n",
    "# train loss: 하강하면 훈련이 정상적으로 진행되고 있음\n",
    "# val loss: 하강하면 훈련되지 않은 데이터를 대상으로 한 테스트도 정상적으로 진행됨."
   ]
  },
  {
   "cell_type": "code",
   "execution_count": 32,
   "metadata": {},
   "outputs": [
    {
     "name": "stdout",
     "output_type": "stream",
     "text": [
      "WARNING:tensorflow:6 out of the last 7 calls to <function Model.make_predict_function.<locals>.predict_function at 0x000001BAC79BAD38> triggered tf.function retracing. Tracing is expensive and the excessive number of tracings could be due to (1) creating @tf.function repeatedly in a loop, (2) passing tensors with different shapes, (3) passing Python objects instead of tensors. For (1), please define your @tf.function outside of the loop. For (2), @tf.function has experimental_relax_shapes=True option that relaxes argument shapes that can avoid unnecessary retracing. For (3), please refer to https://www.tensorflow.org/guide/function#controlling_retracing and https://www.tensorflow.org/api_docs/python/tf/function for  more details.\n",
      "x: [11 19], 실제값: [22 38], 예측값: 22.28627 38.07635, 정제된값: 22 38\n",
      "x: [12 20], 실제값: [24 40], 예측값: 24.28793 40.07825, 정제된값: 24 40\n",
      "x: [13 21], 실제값: [26 42], 예측값: 26.28959 42.08015, 정제된값: 26 42\n",
      "x: [14 22], 실제값: [28 44], 예측값: 28.29125 44.08204, 정제된값: 28 44\n",
      "x: [15 23], 실제값: [30 46], 예측값: 30.29291 46.08393, 정제된값: 30 46\n"
     ]
    },
    {
     "data": {
      "image/png": "[encoded data removed]",
      "text/plain": [
       "<Figure size 432x288 with 1 Axes>"
      ]
     },
     "metadata": {
      "needs_background": "light"
     },
     "output_type": "display_data"
    }
   ],
   "source": [
    "# 모델 사용, 16, 17, 18을 제외함\n",
    "x = np.array([[11, 19], [12, 20], [13, 21], [14, 22], [15, 23]])\n",
    "p = model.predict(x) # 모델 사용\n",
    "y = np.array([[22, 38], [24, 40], [26, 42], [28, 44], [30, 46]]) # 타겟\n",
    "for i in range(len(x)):\n",
    "    fmt = 'x: {0}, 실제값: {1}, 예측값: {2:.5f} {3:.5f}, 정제된값: {4:.0f} {5:.0f}'\n",
    "    print(fmt.format(x[i], y[i], p[i][0], p[i][1], p[i][0], p[i][1]))\n",
    "    \n",
    "plt.scatter(x, y, color='g')  # 실제값\n",
    "plt.plot(x, y, color='g')\n",
    "plt.scatter(x, p, color='r')  # 예측값\n",
    "plt.plot(x, p, color='r')\n",
    "plt.grid(True)\n",
    "plt.show()    "
   ]
  },
  {
   "cell_type": "code",
   "execution_count": 33,
   "metadata": {},
   "outputs": [
    {
     "data": {
      "image/png": "[encoded data removed]",
      "text/plain": [
       "<IPython.core.display.Image object>"
      ]
     },
     "execution_count": 33,
     "metadata": {},
     "output_type": "execute_result"
    }
   ],
   "source": [
    "plot_model(model, show_shapes=True, show_layer_names=True)"
   ]
  },
  {
   "cell_type": "code",
   "execution_count": 34,
   "metadata": {},
   "outputs": [],
   "source": [
    "model.save('./Basic4.h5')"
   ]
  },
  {
   "cell_type": "code",
   "execution_count": 35,
   "metadata": {},
   "outputs": [
    {
     "name": "stdout",
     "output_type": "stream",
     "text": [
      " C 드라이브의 볼륨에는 이름이 없습니다.\n",
      " 볼륨 일련 번호: DC48-5F8B\n",
      "\n",
      " C:\\kd1\\ws_python\\notebook\\machine\\dnn\\lm 디렉터리\n",
      "\n",
      "[.]                  [..]                 [.ipynb_checkpoints]\n",
      "Basic1.ipynb         Basic1.png           Basic2.ipynb\n",
      "Basic3.ipynb         Basic3.png           Basic4.h5\n",
      "Basic4.ipynb         Basic4.png           Basic4_use.ipynb\n",
      "model.png            \n",
      "              10개 파일             659,523 바이트\n",
      "               3개 디렉터리  18,993,811,456 바이트 남음\n"
     ]
    }
   ],
   "source": [
    "!dir/w"
   ]
  },
  {
   "cell_type": "code",
   "execution_count": null,
   "metadata": {},
   "outputs": [],
   "source": []
  }
 ],
 "metadata": {
  "kernelspec": {
   "display_name": "ai",
   "language": "python",
   "name": "ai"
  },
  "language_info": {
   "codemirror_mode": {
    "name": "ipython",
    "version": 3
   },
   "file_extension": ".py",
   "mimetype": "text/x-python",
   "name": "python",
   "nbconvert_exporter": "python",
   "pygments_lexer": "ipython3",
   "version": "3.7.11"
  }
 },
 "nbformat": 4,
 "nbformat_minor": 4
}
