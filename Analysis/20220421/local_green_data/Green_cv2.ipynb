{
 "cells": [
  {
   "cell_type": "code",
   "execution_count": 5,
   "id": "086151de",
   "metadata": {},
   "outputs": [],
   "source": [
    "import warnings\n",
    "warnings.filterwarnings(action='ignore')\n",
    "\n",
    "import os\n",
    "import time\n",
    "import cv2\n",
    "\n",
    "import numpy as np\n",
    "import pandas as pd\n",
    "import seaborn as sb\n",
    "\n",
    "from tensorflow.keras.models import Sequential  # class\n",
    "from tensorflow.keras.models import load_model  # model 사용\n",
    "from tensorflow.keras.layers import Dense       # 전결합\n",
    "from tensorflow.keras.layers import Dropout     # 특정 node를 사용안함.\n",
    "from tensorflow.keras.layers import Conv2D\n",
    "from tensorflow.keras.layers import MaxPooling2D\n",
    "from tensorflow.keras.layers import Flatten\n",
    "\n",
    "from tensorflow.keras.callbacks import EarlyStopping   # 학습 자동 중지\n",
    "from tensorflow.keras.callbacks import ModelCheckpoint # 우수한 학습 모델 파일 저장\n",
    "from tensorflow.keras import regularizers \n",
    "from tensorflow.keras.utils import to_categorical   # one-hot 엔코딩\n",
    "from tensorflow.keras.optimizers import Adam\n",
    "\n",
    "from tensorflow.keras.datasets import mnist\n",
    "\n",
    "from sklearn.preprocessing import LabelEncoder\n",
    "from sklearn.model_selection import train_test_split # 학습셋과 테스트셋의 분리 지원\n",
    "from sklearn.model_selection import StratifiedKFold  # K겹 교차 검증\n",
    "\n",
    "from PIL import Image\n",
    "\n",
    "import matplotlib.pyplot as plt\n",
    "from matplotlib import font_manager, rc\n",
    "\n",
    "import platform \n",
    "# Windows, Linux, Darwin\n",
    "if (platform.system() == 'Windows'):  \n",
    "    rc('font', family=font_manager.FontProperties(fname=\"C:/Windows/Fonts/malgun.ttf\").get_name())\n",
    "    path = '.' # Local\n",
    "else:    \n",
    "    rc('font', family='NanumBarunGothic')  # Ubuntu 18.04 기준 한글 처리\n",
    "    path = '/content/drive/My Drive/kd_ml' # Colab\n",
    "\n",
    "os.chdir(path) # 기본 경로 설정\n",
    "\n",
    "plt.rcParams[\"font.size\"] = 12         # 글자 크기\n",
    "# plt.rcParams[\"figure.figsize\"] = (10, 4) # 10:4의 그래프 비율\n",
    "plt.rcParams['axes.unicode_minus'] = False  # minus 부호는 unicode 적용시 한글이 깨짐으로 설정\n",
    "\n",
    "%matplotlib inline\n",
    "\n",
    "# ---------------------------------------------------------------------\n",
    "# gpu 사용시 런타임에서 필요한 양만큼의 GPU 메모리를 할당후 자동 증가 처리\n",
    "# OS 메모리도 초기화됨.\n",
    "# ---------------------------------------------------------------------\n",
    "import tensorflow as tf\n",
    "\n",
    "gpus = tf.config.experimental.list_physical_devices('GPU')\n",
    "if gpus:\n",
    "    try:\n",
    "        tf.config.experimental.set_memory_growth(gpus[0], True)\n",
    "    except RuntimeError as e:\n",
    "        # 프로그램 시작시에 메모리 증가가 설정되어야만 합니다\n",
    "        print(e)\n",
    "    \n",
    "# ---------------------------------------------------------------------"
   ]
  },
  {
   "cell_type": "code",
   "execution_count": 6,
   "id": "1c835871",
   "metadata": {},
   "outputs": [],
   "source": [
    "width = 128\n",
    "height = 128\n",
    "\n",
    "# 주어진 폴더의 모든 파일을 numpy array로 변환하는 함수\n",
    "def convertArray(path):\n",
    "    file_list = os.listdir(path)\n",
    "    img_X = [] # data\n",
    "    img_Y = [] # target\n",
    "    \n",
    "    for i in range(len(file_list)):\n",
    "        spt = os.path.splitext(file_list[i])\n",
    "        # print(spt) # ('0', '.jpg')\n",
    "        img_Y.append(int(spt[0])) # 파일명\n",
    "        \n",
    "#         img = Image.open(path + \"/\" + file_list[i])\n",
    "#         img_array = np.array(img)\n",
    "        image_bgr = cv2.imread(path + \"/\" + file_list[i], cv2.IMREAD_COLOR)\n",
    "        image_rgb = cv2.cvtColor(image_bgr, cv2.COLOR_BGR2RGB)\n",
    "\n",
    "        # 1차원 list안에 3차원 배열로 변경된 이미지를 저장     \n",
    "        img_X.append(image_rgb) \n",
    "\n",
    "    img_X = np.array(img_X) # 이미지 데이터 [] -> ndarray\n",
    "    img_Y = np.array(img_Y) # Target, Y\n",
    "\n",
    "    \n",
    "    # OpenCV는 흰색을 255로 나타냄으로 변환이 필요함.\n",
    "    img_X = 255 - img_X # 색이 없으면 0으로 인식되게 변환, 255 - 4차원 배열\n",
    "    \n",
    "    # 텐서플로와 GPU 미분 기반에 최적화되어 있어\n",
    "    # 0 ~ 1 사이의 실수 값으로 변경하면 정확도 상승, 정규화\n",
    "    img_X = img_X / 255.0\n",
    "    print('img_X: ', img_X.shape);\n",
    "    \n",
    "    # img_Y.reshape(img_Y.shape[0], 1): target은 2차원 배열의 형태이어야함.\n",
    "    # 행수는 이미지 수, 컬럼이 1개인 2차원 배열\n",
    "    # astype(int): 찾아야하는 값은 정수이기 때문에 형변환\n",
    "    return img_X, img_Y.reshape(img_Y.shape[0], 1).astype(int)"
   ]
  },
  {
   "cell_type": "code",
   "execution_count": 7,
   "id": "f0d240c8",
   "metadata": {},
   "outputs": [
    {
     "name": "stdout",
     "output_type": "stream",
     "text": [
      "img_X:  (70, 128, 128, 3)\n",
      "img_X:  (18, 128, 128, 3)\n",
      "img_X:  (5, 128, 128, 3)\n"
     ]
    }
   ],
   "source": [
    "# 데이터 준비\n",
    "x_train, y_train = convertArray('./train') # 훈련용\n",
    "x_val, y_val = convertArray('./val')       # 검증용\n",
    "x_test, y_test = convertArray('./test')    # 테스트용 \n",
    "# (70, 128, 128, 3): 칼라 이미지 70장, (count, width, height, color channel)"
   ]
  },
  {
   "cell_type": "code",
   "execution_count": 8,
   "id": "e8823348",
   "metadata": {},
   "outputs": [
    {
     "name": "stdout",
     "output_type": "stream",
     "text": [
      "(70, 128, 128, 3)\n",
      "(70, 1)\n",
      "(18, 128, 128, 3)\n",
      "(18, 1)\n",
      "(5, 128, 128, 3)\n",
      "(5, 1)\n",
      "[[100]\n",
      " [150]\n",
      " [200]\n",
      " [ 47]\n",
      " [ 50]]\n"
     ]
    }
   ],
   "source": [
    "print(x_train.shape) \n",
    "print(y_train.shape) # (67, 1), 녹초 수치, 정수형\n",
    "\n",
    "print(x_val.shape)   # 검증데이터\n",
    "print(y_val.shape)   \n",
    "\n",
    "print(x_test.shape)  # 테스트 데이터\n",
    "print(y_test.shape) \n",
    "print(y_test)"
   ]
  },
  {
   "cell_type": "code",
   "execution_count": 9,
   "id": "6a822ad8",
   "metadata": {},
   "outputs": [
    {
     "name": "stdout",
     "output_type": "stream",
     "text": [
      "<class 'numpy.float64'>\n",
      "[[[[0. 0. 0.]\n",
      "   [0. 0. 0.]\n",
      "   [0. 0. 0.]\n",
      "   ...\n",
      "   [0. 0. 0.]\n",
      "   [0. 0. 0.]\n",
      "   [0. 0. 0.]]\n",
      "\n",
      "  [[0. 0. 0.]\n",
      "   [0. 0. 0.]\n",
      "   [0. 0. 0.]\n",
      "   ...\n",
      "   [0. 0. 0.]\n",
      "   [0. 0. 0.]\n",
      "   [0. 0. 0.]]\n",
      "\n",
      "  [[0. 0. 0.]\n",
      "   [0. 0. 0.]\n",
      "   [0. 0. 0.]\n",
      "   ...\n",
      "   [0. 0. 0.]\n",
      "   [0. 0. 0.]\n",
      "   [0. 0. 0.]]\n",
      "\n",
      "  ...\n",
      "\n",
      "  [[0. 0. 0.]\n",
      "   [0. 0. 0.]\n",
      "   [0. 0. 0.]\n",
      "   ...\n",
      "   [0. 0. 0.]\n",
      "   [0. 0. 0.]\n",
      "   [0. 0. 0.]]\n",
      "\n",
      "  [[0. 0. 0.]\n",
      "   [0. 0. 0.]\n",
      "   [0. 0. 0.]\n",
      "   ...\n",
      "   [0. 0. 0.]\n",
      "   [0. 0. 0.]\n",
      "   [0. 0. 0.]]\n",
      "\n",
      "  [[0. 0. 0.]\n",
      "   [0. 0. 0.]\n",
      "   [0. 0. 0.]\n",
      "   ...\n",
      "   [0. 0. 0.]\n",
      "   [0. 0. 0.]\n",
      "   [0. 0. 0.]]]]\n"
     ]
    }
   ],
   "source": [
    "print(type(x_train[0, 0, 0, 0])) # 첫번째 이미지 첫번째 픽셀의 type 확인\n",
    "print(x_train[0:1]) # 첫번째 이미지 배열 값"
   ]
  },
  {
   "cell_type": "code",
   "execution_count": 10,
   "id": "5a7e5c8a",
   "metadata": {},
   "outputs": [
    {
     "name": "stdout",
     "output_type": "stream",
     "text": [
      "[[  0]\n",
      " [  1]\n",
      " [105]\n",
      " [108]\n",
      " [ 11]\n",
      " [115]\n",
      " [117]\n",
      " [120]\n",
      " [125]\n",
      " [127]]\n"
     ]
    }
   ],
   "source": [
    "print(y_train[0:10]) # 훈련 target 확인"
   ]
  },
  {
   "cell_type": "code",
   "execution_count": 17,
   "id": "489cce3d",
   "metadata": {
    "scrolled": true
   },
   "outputs": [
    {
     "name": "stdout",
     "output_type": "stream",
     "text": [
      "Model: \"sequential_2\"\n",
      "_________________________________________________________________\n",
      "Layer (type)                 Output Shape              Param #   \n",
      "=================================================================\n",
      "conv2d_8 (Conv2D)            (None, 128, 128, 128)     3584      \n",
      "_________________________________________________________________\n",
      "conv2d_9 (Conv2D)            (None, 128, 128, 32)      36896     \n",
      "_________________________________________________________________\n",
      "max_pooling2d_4 (MaxPooling2 (None, 64, 64, 32)        0         \n",
      "_________________________________________________________________\n",
      "conv2d_10 (Conv2D)           (None, 64, 64, 16)        4624      \n",
      "_________________________________________________________________\n",
      "conv2d_11 (Conv2D)           (None, 64, 64, 16)        2320      \n",
      "_________________________________________________________________\n",
      "max_pooling2d_5 (MaxPooling2 (None, 32, 32, 16)        0         \n",
      "_________________________________________________________________\n",
      "flatten_2 (Flatten)          (None, 16384)             0         \n",
      "_________________________________________________________________\n",
      "dense_10 (Dense)             (None, 128)               2097280   \n",
      "_________________________________________________________________\n",
      "dense_11 (Dense)             (None, 64)                8256      \n",
      "_________________________________________________________________\n",
      "dense_12 (Dense)             (None, 32)                2080      \n",
      "_________________________________________________________________\n",
      "dense_13 (Dense)             (None, 16)                528       \n",
      "_________________________________________________________________\n",
      "dense_14 (Dense)             (None, 1)                 17        \n",
      "=================================================================\n",
      "Total params: 2,155,585\n",
      "Trainable params: 2,155,585\n",
      "Non-trainable params: 0\n",
      "_________________________________________________________________\n"
     ]
    }
   ],
   "source": [
    "width=128\n",
    "height=128\n",
    "\n",
    "tf.random.set_seed(0)\n",
    "model = Sequential()\n",
    "# 128: 128 개의 2차원 특징맵이 생성됨, 필터(커널)의 수.\n",
    "# kernel_size = (3, 3): 필터 크기는 3행 3열의 난수기반 행렬이 생성됨.\n",
    "# padding='same': 차원 축소를 방지, 외곽에 0을 추가 \n",
    "# input_shape = (width, height, 3): 칼라 입력 이미지, 흑백: 1\n",
    "# model.add(Conv2D(64, kernel_size = (3, 3), padding='same',\n",
    "#                  input_shape = (width, height, 3), activation='relu'))\n",
    "\n",
    "model.add(Conv2D(128, kernel_size = (3, 3), padding='same',\n",
    "                 input_shape = (width, height, 3), activation='relu'))\n",
    "# (None, 128, 128, 128)     3584: 128 x 128 이미지, 128 channel\n",
    "# 3584: 필터_size * 필터 갯수 * color 수 + Bias 수\n",
    "#       9 * 128 * 3 + 128  \n",
    "\n",
    "# 특성맵이 128 -> 32개로 감소\n",
    "model.add(Conv2D(32, (3, 3), padding='same', activation='relu'))\n",
    "\n",
    "# 4개중에 최대값 1개만 다음 레이어로 전달, 특징만 추출\n",
    "model.add(MaxPooling2D(pool_size=(2, 2)))\n",
    "\n",
    "model.add(Conv2D(16, (3, 3), padding='same', activation='relu'))\n",
    "model.add(Conv2D(16, (3, 3), padding='same', activation='relu'))\n",
    "model.add(MaxPooling2D(pool_size=(2, 2))) # 25%만 사용\n",
    "# model.add(Dropout(0.25)) # node 25% 사용하지 않음, 파라미터 감소.\n",
    "\n",
    "model.add(Flatten()) # 3차원 텐서의 형태를 1차원 열방향으로 변경\n",
    "model.add(Dense(128, activation='relu'))\n",
    "model.add(Dense(64, activation='relu'))\n",
    "model.add(Dense(32, activation='relu'))\n",
    "model.add(Dense(16, activation='relu'))\n",
    "# model.add(Dropout(0.25)) # node 25% 사용하지 않음.\n",
    "\n",
    "model.add(Dense(1)) # 활성화 함수 생략시 수치 예측(회귀 산출)\n",
    "model.compile(optimizer='adam', loss='mse')\n",
    "\n",
    "model.summary()"
   ]
  },
  {
   "cell_type": "code",
   "execution_count": 18,
   "id": "5ccc1024",
   "metadata": {},
   "outputs": [
    {
     "name": "stdout",
     "output_type": "stream",
     "text": [
      "Epoch 1/1000\n",
      "70/70 [==============================] - 8s 113ms/step - loss: 9944.8857 - val_loss: 39.0984\n",
      "Epoch 2/1000\n",
      "70/70 [==============================] - 8s 121ms/step - loss: 101.3359 - val_loss: 287.5643\n",
      "Epoch 3/1000\n",
      "70/70 [==============================] - 8s 114ms/step - loss: 432.1190 - val_loss: 63.9688\n",
      "Epoch 4/1000\n",
      "70/70 [==============================] - 8s 117ms/step - loss: 10.2101 - val_loss: 6.1447\n",
      "Epoch 5/1000\n",
      "70/70 [==============================] - 8s 116ms/step - loss: 3.7156 - val_loss: 21.2037\n",
      "Epoch 6/1000\n",
      "70/70 [==============================] - 7s 103ms/step - loss: 7.1513 - val_loss: 7.7574\n",
      "Epoch 7/1000\n",
      "70/70 [==============================] - 7s 104ms/step - loss: 4.5899 - val_loss: 8.0458\n",
      "Epoch 8/1000\n",
      "70/70 [==============================] - 8s 114ms/step - loss: 3.5969 - val_loss: 114.4032\n",
      "Epoch 9/1000\n",
      "70/70 [==============================] - 7s 106ms/step - loss: 382.1545 - val_loss: 26.5178\n",
      "Runtime: 70.98 초\n"
     ]
    }
   ],
   "source": [
    "# mcp = ModelCheckpoint(filepath='./Iris.h5', monitor='val_accuracy',\n",
    "#                       verbose=1, save_best_only=True)\n",
    "\n",
    "es = EarlyStopping(monitor='val_loss', patience=5, restore_best_weights=True)\n",
    "\n",
    "start = time.time()\n",
    "hist = model.fit(x_train, y_train, validation_data = (x_val, y_val), \n",
    "                 shuffle=True, epochs=1000, \n",
    "                 batch_size=1, callbacks=[es])\n",
    "end = time.time()\n",
    "print('Runtime: {0:.2f} 초'.format(end-start))\n",
    "# patience=20\n",
    "# i5 2320: 313초 i5 8500 6core: 160 초\n",
    "# gtx 1060: 30 초, Colab: 21.40 초"
   ]
  },
  {
   "cell_type": "markdown",
   "id": "3546bf81",
   "metadata": {},
   "source": [
    "### Local에서는 너무 느려서 검증과 테스트를 진행하지 않음"
   ]
  },
  {
   "cell_type": "code",
   "execution_count": 19,
   "id": "6bfa142a",
   "metadata": {},
   "outputs": [
    {
     "data": {
      "image/png": "[encoded data removed]",
      "text/plain": [
       "<Figure size 720x360 with 1 Axes>"
      ]
     },
     "metadata": {
      "needs_background": "light"
     },
     "output_type": "display_data"
    }
   ],
   "source": [
    "fig, loss_ax = plt.subplots()\n",
    "# plt.figure(figsize=(6,4)) # ERROR\n",
    "fig.set_size_inches(10, 5)  # 챠트 크기 설정\n",
    "\n",
    "# acc_ax = loss_ax.twinx()  # 오른쪽 y 출 설정\n",
    "\n",
    "# 왼쪽 y 축 설정\n",
    "loss_ax.plot(hist.history['loss'], 'y', label='train loss')\n",
    "loss_ax.plot(hist.history['val_loss'], 'r', label='val loss')\n",
    "loss_ax.set_ylim([0.0, 4087.1168]) # 값을 반영하여 변경\n",
    "\n",
    "# 오른쪽 y 축 설정\n",
    "# acc_ax.plot(hist.history['accuracy'], 'b', label='train accuracy')\n",
    "# acc_ax.plot(hist.history['val_accuracy'], 'g', label='val accuracy')\n",
    "# acc_ax.set_ylim([0.0, 1.0])\n",
    "\n",
    "# 축 레이블 설정\n",
    "loss_ax.set_xlabel('epoch')  # 학습 횟수\n",
    "loss_ax.set_ylabel('loss')   # 오차\n",
    "# acc_ax.set_ylabel('accuracy') # 정확도\n",
    "\n",
    "loss_ax.legend(loc='upper left') # 오차 레이블 위치\n",
    "# acc_ax.legend(loc='lower left')  # 정확도 레이블 위치\n",
    "\n",
    "plt.show()"
   ]
  },
  {
   "cell_type": "code",
   "execution_count": null,
   "id": "d443b8a3",
   "metadata": {},
   "outputs": [],
   "source": []
  }
 ],
 "metadata": {
  "kernelspec": {
   "display_name": "ai",
   "language": "python",
   "name": "ai"
  },
  "language_info": {
   "codemirror_mode": {
    "name": "ipython",
    "version": 3
   },
   "file_extension": ".py",
   "mimetype": "text/x-python",
   "name": "python",
   "nbconvert_exporter": "python",
   "pygments_lexer": "ipython3",
   "version": "3.7.11"
  }
 },
 "nbformat": 4,
 "nbformat_minor": 5
}
