{
 "cells": [
  {
   "cell_type": "markdown",
   "metadata": {},
   "source": [
    "### CNN 기법을 이용한 안면(얼굴) 인식"
   ]
  },
  {
   "cell_type": "code",
   "execution_count": 78,
   "metadata": {},
   "outputs": [],
   "source": [
    "# %autosave 0\n",
    "import warnings\n",
    "warnings.filterwarnings(action='ignore')\n",
    "\n",
    "import os\n",
    "import time\n",
    "import random\n",
    "\n",
    "import numpy as np\n",
    "import pandas as pd\n",
    "import seaborn as sb\n",
    "import tensorflow as tf\n",
    "\n",
    "from tensorflow.keras.models import Sequential  # class\n",
    "from tensorflow.keras.models import load_model  # model 사용\n",
    "from tensorflow.keras.layers import Dense       # 전결합\n",
    "from tensorflow.keras.layers import Dropout     # 특정 node를 사용안함.\n",
    "from tensorflow.keras.layers import Conv2D\n",
    "from tensorflow.keras.layers import MaxPooling2D\n",
    "from tensorflow.keras.layers import Flatten\n",
    "\n",
    "from tensorflow.keras.callbacks import EarlyStopping   # 학습 자동 중지\n",
    "from tensorflow.keras.callbacks import ModelCheckpoint # 우수한 학습 모델 파일 저장\n",
    "from tensorflow.keras import regularizers \n",
    "from tensorflow.keras.utils import to_categorical   # one-hot 엔코딩\n",
    "\n",
    "from tensorflow.keras.preprocessing.image import ImageDataGenerator\n",
    "\n",
    "from tensorflow.keras.datasets import mnist\n",
    "\n",
    "from sklearn.preprocessing import LabelEncoder\n",
    "from sklearn.model_selection import train_test_split # 학습셋과 테스트셋의 분리 지원\n",
    "from sklearn.model_selection import StratifiedKFold  # K겹 교차 검증\n",
    "\n",
    "import matplotlib.pyplot as plt\n",
    "from matplotlib import font_manager, rc\n",
    "\n",
    "import platform \n",
    "\n",
    "if (platform.system() == 'Windows'):  # Windows, Linux, Darwin\n",
    "    rc('font', family=font_manager.FontProperties(fname=\"C:/Windows/Fonts/malgun.ttf\").get_name())\n",
    "    path = '.' # Local\n",
    "else:    \n",
    "    plt.rc('font', family='NanumBarunGothic')  # Ubuntu 18.04 기준 한글 처리\n",
    "    path = '/content/drive/My Drive/ai_202104_ml' # Colab\n",
    "\n",
    "plt.rcParams[\"font.size\"] = 12         # 글자 크기\n",
    "# plt.rcParams[\"figure.figsize\"] = (10, 4) # 10:4의 그래프 비율\n",
    "plt.rcParams['axes.unicode_minus'] = False  # minus 부호는 unicode 적용시 한글이 깨짐으로 설정\n",
    "\n",
    "%matplotlib inline  "
   ]
  },
  {
   "cell_type": "code",
   "execution_count": 79,
   "metadata": {
    "scrolled": true
   },
   "outputs": [
    {
     "name": "stdout",
     "output_type": "stream",
     "text": [
      "Found 251 images belonging to 8 classes.\n",
      "Found 74 images belonging to 8 classes.\n"
     ]
    }
   ],
   "source": [
    "width=64\n",
    "height=64\n",
    "\n",
    "# 훈련용 데이터 생성기\n",
    "# rescale=1./255: 실수형태로 정규화, 0~1 사이의 값\n",
    "train_datagen = ImageDataGenerator(rescale=1./255)\n",
    " \n",
    "train_generator = train_datagen.flow_from_directory(\n",
    "        './train',                   # 파일이 있는 폴더 \n",
    "        target_size=(width, height), # 훈련데이터 크기\n",
    "        batch_size=1,                # 이미지 1건씩 처리\n",
    "        class_mode='categorical')    # 다중분류\n",
    "\n",
    "# 검증용 데이터 생성기\n",
    "vali_datagen = ImageDataGenerator(rescale=1./255)\n",
    " \n",
    "vali_generator = vali_datagen.flow_from_directory(\n",
    "        './validation',\n",
    "        target_size=(width, height),    \n",
    "        batch_size=1,\n",
    "        class_mode='categorical')\n",
    "# 3 classes: ./train/circle, ./train/rectangle, ./train/triangle"
   ]
  },
  {
   "cell_type": "code",
   "execution_count": 80,
   "metadata": {},
   "outputs": [
    {
     "name": "stdout",
     "output_type": "stream",
     "text": [
      "Model: \"sequential_5\"\n",
      "_________________________________________________________________\n",
      "Layer (type)                 Output Shape              Param #   \n",
      "=================================================================\n",
      "conv2d_10 (Conv2D)           (None, 64, 64, 32)        896       \n",
      "_________________________________________________________________\n",
      "conv2d_11 (Conv2D)           (None, 64, 64, 32)        9248      \n",
      "_________________________________________________________________\n",
      "max_pooling2d_5 (MaxPooling2 (None, 32, 32, 32)        0         \n",
      "_________________________________________________________________\n",
      "flatten_5 (Flatten)          (None, 32768)             0         \n",
      "_________________________________________________________________\n",
      "dense_10 (Dense)             (None, 32)                1048608   \n",
      "_________________________________________________________________\n",
      "dropout_5 (Dropout)          (None, 32)                0         \n",
      "_________________________________________________________________\n",
      "dense_11 (Dense)             (None, 8)                 264       \n",
      "=================================================================\n",
      "Total params: 1,059,016\n",
      "Trainable params: 1,059,016\n",
      "Non-trainable params: 0\n",
      "_________________________________________________________________\n",
      "Epoch 1/50\n",
      "251/251 [==============================] - 4s 15ms/step - loss: 2.3499 - accuracy: 0.1796 - val_loss: 2.0415 - val_accuracy: 0.2027\n",
      "\n",
      "Epoch 00001: val_accuracy improved from -inf to 0.20270, saving model to .\\Actor.h5\n",
      "Epoch 2/50\n",
      "251/251 [==============================] - 4s 15ms/step - loss: 1.9647 - accuracy: 0.2462 - val_loss: 1.7791 - val_accuracy: 0.3919\n",
      "\n",
      "Epoch 00002: val_accuracy improved from 0.20270 to 0.39189, saving model to .\\Actor.h5\n",
      "Epoch 3/50\n",
      "251/251 [==============================] - 4s 14ms/step - loss: 1.5599 - accuracy: 0.4324 - val_loss: 1.2758 - val_accuracy: 0.5676\n",
      "\n",
      "Epoch 00003: val_accuracy improved from 0.39189 to 0.56757, saving model to .\\Actor.h5\n",
      "Epoch 4/50\n",
      "251/251 [==============================] - 4s 15ms/step - loss: 1.2816 - accuracy: 0.5075 - val_loss: 1.0443 - val_accuracy: 0.6892\n",
      "\n",
      "Epoch 00004: val_accuracy improved from 0.56757 to 0.68919, saving model to .\\Actor.h5\n",
      "Epoch 5/50\n",
      "251/251 [==============================] - 4s 16ms/step - loss: 1.0471 - accuracy: 0.5558 - val_loss: 1.1333 - val_accuracy: 0.5676\n",
      "\n",
      "Epoch 00005: val_accuracy did not improve from 0.68919\n",
      "Epoch 6/50\n",
      "251/251 [==============================] - 4s 14ms/step - loss: 0.8454 - accuracy: 0.6276 - val_loss: 0.9234 - val_accuracy: 0.7297\n",
      "\n",
      "Epoch 00006: val_accuracy improved from 0.68919 to 0.72973, saving model to .\\Actor.h5\n",
      "Epoch 7/50\n",
      "251/251 [==============================] - 4s 14ms/step - loss: 0.7194 - accuracy: 0.7390 - val_loss: 0.8760 - val_accuracy: 0.7027\n",
      "\n",
      "Epoch 00007: val_accuracy did not improve from 0.72973\n",
      "Epoch 8/50\n",
      "251/251 [==============================] - 4s 15ms/step - loss: 0.5795 - accuracy: 0.8085 - val_loss: 0.9573 - val_accuracy: 0.7838\n",
      "\n",
      "Epoch 00008: val_accuracy improved from 0.72973 to 0.78378, saving model to .\\Actor.h5\n",
      "Epoch 9/50\n",
      "251/251 [==============================] - 4s 14ms/step - loss: 0.6143 - accuracy: 0.7552 - val_loss: 1.2515 - val_accuracy: 0.7162\n",
      "\n",
      "Epoch 00009: val_accuracy did not improve from 0.78378\n",
      "Epoch 10/50\n",
      "251/251 [==============================] - 3s 14ms/step - loss: 0.6538 - accuracy: 0.7684 - val_loss: 1.0106 - val_accuracy: 0.7973\n",
      "\n",
      "Epoch 00010: val_accuracy improved from 0.78378 to 0.79730, saving model to .\\Actor.h5\n",
      "Epoch 11/50\n",
      "251/251 [==============================] - 4s 14ms/step - loss: 0.4124 - accuracy: 0.8617 - val_loss: 0.8837 - val_accuracy: 0.8108\n",
      "\n",
      "Epoch 00011: val_accuracy improved from 0.79730 to 0.81081, saving model to .\\Actor.h5\n",
      "Epoch 12/50\n",
      "251/251 [==============================] - 3s 14ms/step - loss: 0.3866 - accuracy: 0.8832 - val_loss: 0.8640 - val_accuracy: 0.7703\n",
      "\n",
      "Epoch 00012: val_accuracy did not improve from 0.81081\n",
      "Epoch 13/50\n",
      "251/251 [==============================] - 3s 14ms/step - loss: 0.4670 - accuracy: 0.8592 - val_loss: 0.9047 - val_accuracy: 0.7838\n",
      "\n",
      "Epoch 00013: val_accuracy did not improve from 0.81081\n",
      "Runtime: 47.67 초\n"
     ]
    }
   ],
   "source": [
    "SEED = 0\n",
    "os.environ['PYTHONHASHSEED'] = str(SEED)\n",
    "os.environ['TF_DETERMINISTIC_OPS'] = '1'\n",
    "\n",
    "tf.random.set_seed(SEED) # Global seed\n",
    "np.random.seed(SEED)\n",
    "random.seed(SEED)\n",
    "\n",
    "model = Sequential()\n",
    "model.add(Conv2D(32, kernel_size = (3, 3), padding='same',\n",
    "                 input_shape = (width, height, 3), activation='relu'))\n",
    "model.add(Conv2D(32, (3, 3), padding='same', activation='relu'))\n",
    "# 4개중에 최대값 1개만 다음 레이어로 전달\n",
    "model.add(MaxPooling2D(pool_size=(2, 2))) \n",
    "\n",
    "# model.add(Conv2D(16, (3, 3), padding='same', activation='relu'))\n",
    "# model.add(Conv2D(16, (3, 3), padding='same', activation='relu'))\n",
    "# model.add(MaxPooling2D(pool_size=(2, 2))) \n",
    "# model.add(Dropout(0.25)) # node 25% 사용하지 않음.\n",
    "\n",
    "model.add(Flatten()) # 3차원 텐서의 형태를 1차원 열방향으로 변경\n",
    "model.add(Dense(32, activation='relu'))\n",
    "model.add(Dropout(0.25)) # node 25% 사용하지 않음.\n",
    "\n",
    "model.add(Dense(8, activation='softmax'))\n",
    "model.compile(optimizer='adam', loss='categorical_crossentropy', \n",
    "                                metrics=['accuracy'])\n",
    "model.summary()\n",
    "\n",
    "mcp = ModelCheckpoint(filepath='./Actor.h5', monitor='val_accuracy',\n",
    "                               verbose=1, save_best_only=True)\n",
    "es = EarlyStopping(monitor='loss', patience=2, restore_best_weights=True)\n",
    "\n",
    "start = time.time()\n",
    "hist = model.fit(\n",
    "    train_generator,\n",
    "    epochs = 50,\n",
    "    validation_data = vali_generator, \n",
    "    callbacks=[mcp, es])\n",
    "end = time.time()\n",
    "print('Runtime: {0:.2f} 초'.format(end-start))\n",
    "# cpu: 84 초, i5 8500: 41\n",
    "# gpu: 42 초"
   ]
  },
  {
   "cell_type": "code",
   "execution_count": 81,
   "metadata": {},
   "outputs": [
    {
     "data": {
      "image/png": "[encoded data removed]",
      "text/plain": [
       "<Figure size 720x360 with 2 Axes>"
      ]
     },
     "metadata": {
      "needs_background": "light"
     },
     "output_type": "display_data"
    }
   ],
   "source": [
    "import matplotlib.pyplot as plt\n",
    "%matplotlib inline  \n",
    "\n",
    "fig, loss_ax = plt.subplots()\n",
    "# plt.figure(figsize=(6,4)) # ERROR\n",
    "fig.set_size_inches(10, 5)  # 챠트 크기 설정\n",
    "\n",
    "acc_ax = loss_ax.twinx()  # 오른쪽 y 출 설정\n",
    "\n",
    "# 왼쪽 y 축 설정\n",
    "loss_ax.plot(hist.history['loss'], 'y', label='train loss')\n",
    "loss_ax.plot(hist.history['val_loss'], 'r', label='val loss')\n",
    "loss_ax.set_ylim([0.0, 2.0]) # 값을 반영하여 변경\n",
    "\n",
    "# 오른쪽 y 축 설정\n",
    "acc_ax.plot(hist.history['accuracy'], 'b', label='train accuracy')\n",
    "acc_ax.plot(hist.history['val_accuracy'], 'g', label='val accuracy')\n",
    "acc_ax.set_ylim([0.0, 1.0])\n",
    "\n",
    "# 축 레이블 설정\n",
    "loss_ax.set_xlabel('epoch')  # 학습 횟수\n",
    "loss_ax.set_ylabel('loss')   # 오차\n",
    "acc_ax.set_ylabel('accuracy') # 정확도\n",
    "\n",
    "loss_ax.legend(loc='upper left') # 오차 레이블 위치\n",
    "acc_ax.legend(loc='lower left')  # 정확도 레이블 위치\n",
    "\n",
    "plt.show()"
   ]
  },
  {
   "cell_type": "code",
   "execution_count": 82,
   "metadata": {},
   "outputs": [
    {
     "name": "stdout",
     "output_type": "stream",
     "text": [
      "-- Evaluate --\n",
      "accuracy: 81.08%\n"
     ]
    }
   ],
   "source": [
    "print(\"-- Evaluate --\")\n",
    "scores = model.evaluate_generator(vali_generator, verbose=0)  \n",
    "print(\"%s: %.2f%%\" %(model.metrics_names[1], scores[1]*100))"
   ]
  },
  {
   "cell_type": "code",
   "execution_count": 83,
   "metadata": {},
   "outputs": [
    {
     "name": "stdout",
     "output_type": "stream",
     "text": [
      "-- Predict --\n",
      "{'Amanda Seyfried': 0, 'Andrew Lincoln': 1, 'Anne Hathaway': 2, 'Hugh Jackman': 3, 'JENNIE': 4, 'Keira Christina Knightley': 5, 'Pierce Brosnan': 6, 'Zo Jung Seok': 7}\n",
      "<class 'numpy.ndarray'>\n",
      "(74, 8)\n",
      "[[0.000 0.000 0.000 0.003 0.000 0.000 0.000 0.997]\n",
      " [0.000 0.000 0.000 0.004 0.000 0.002 0.000 0.994]\n",
      " [0.000 0.000 0.000 0.009 0.000 0.000 0.000 0.991]\n",
      " [0.844 0.000 0.148 0.000 0.000 0.008 0.000 0.000]\n",
      " [0.009 0.693 0.282 0.000 0.008 0.006 0.001 0.000]\n",
      " [0.000 0.130 0.032 0.040 0.000 0.000 0.792 0.005]\n",
      " [0.007 0.690 0.291 0.000 0.004 0.008 0.001 0.000]\n",
      " [0.039 0.093 0.836 0.001 0.000 0.024 0.006 0.000]\n",
      " [0.000 0.000 0.001 0.998 0.000 0.000 0.000 0.001]\n",
      " [0.044 0.163 0.213 0.138 0.076 0.035 0.286 0.046]\n",
      " [0.070 0.087 0.822 0.000 0.000 0.021 0.000 0.000]\n",
      " [0.227 0.034 0.724 0.000 0.001 0.014 0.000 0.000]\n",
      " [0.921 0.000 0.013 0.000 0.000 0.066 0.000 0.000]\n",
      " [0.965 0.000 0.023 0.003 0.000 0.008 0.000 0.000]\n",
      " [0.000 0.000 0.004 0.016 0.000 0.174 0.000 0.804]\n",
      " [0.000 0.000 0.005 0.021 0.000 0.000 0.000 0.973]\n",
      " [0.952 0.000 0.034 0.000 0.000 0.013 0.000 0.000]\n",
      " [0.179 0.070 0.367 0.068 0.016 0.144 0.137 0.020]\n",
      " [0.000 0.000 0.002 0.103 0.000 0.000 0.000 0.895]\n",
      " [0.000 0.956 0.044 0.000 0.000 0.000 0.000 0.000]\n",
      " [0.000 0.000 0.002 0.998 0.000 0.000 0.000 0.000]\n",
      " [0.040 0.000 0.025 0.000 0.000 0.935 0.000 0.000]\n",
      " [0.117 0.003 0.858 0.001 0.006 0.001 0.000 0.015]\n",
      " [0.000 0.129 0.035 0.041 0.000 0.000 0.789 0.006]\n",
      " [0.894 0.000 0.104 0.000 0.000 0.002 0.000 0.000]\n",
      " [0.000 0.116 0.024 0.032 0.000 0.000 0.824 0.003]\n",
      " [0.000 0.009 0.000 0.000 0.000 0.000 0.991 0.000]\n",
      " [0.137 0.010 0.109 0.005 0.000 0.730 0.003 0.005]\n",
      " [0.000 0.982 0.018 0.000 0.000 0.000 0.000 0.000]\n",
      " [0.000 0.002 0.001 0.003 0.000 0.000 0.993 0.000]\n",
      " [0.039 0.377 0.523 0.000 0.003 0.058 0.000 0.000]\n",
      " [0.920 0.000 0.060 0.007 0.000 0.012 0.000 0.000]\n",
      " [0.045 0.039 0.126 0.000 0.001 0.786 0.000 0.002]\n",
      " [0.104 0.100 0.553 0.000 0.002 0.241 0.000 0.000]\n",
      " [0.000 0.000 0.999 0.000 0.000 0.000 0.000 0.000]\n",
      " [0.302 0.055 0.337 0.004 0.298 0.005 0.001 0.000]\n",
      " [0.013 0.598 0.355 0.000 0.007 0.028 0.000 0.000]\n",
      " [0.010 0.002 0.974 0.012 0.000 0.001 0.002 0.000]\n",
      " [0.000 0.000 0.000 1.000 0.000 0.000 0.000 0.000]\n",
      " [0.000 0.000 0.000 0.951 0.000 0.000 0.000 0.049]\n",
      " [0.000 0.000 0.000 0.000 0.000 0.000 0.000 1.000]\n",
      " [0.013 0.598 0.355 0.000 0.007 0.028 0.000 0.000]\n",
      " [0.000 0.013 0.032 0.886 0.000 0.000 0.069 0.000]\n",
      " [0.024 0.127 0.130 0.175 0.023 0.081 0.240 0.199]\n",
      " [0.000 0.979 0.021 0.000 0.000 0.000 0.000 0.000]\n",
      " [0.000 0.000 0.000 0.000 0.000 0.000 0.000 1.000]\n",
      " [0.000 0.002 0.008 0.975 0.000 0.000 0.015 0.000]\n",
      " [0.008 0.177 0.174 0.000 0.001 0.596 0.001 0.042]\n",
      " [0.000 0.822 0.176 0.000 0.000 0.001 0.001 0.000]\n",
      " [0.500 0.008 0.339 0.000 0.000 0.153 0.000 0.000]\n",
      " [0.085 0.128 0.671 0.000 0.001 0.115 0.000 0.000]\n",
      " [0.022 0.000 0.001 0.000 0.000 0.977 0.000 0.000]\n",
      " [0.021 0.100 0.819 0.000 0.000 0.060 0.000 0.000]\n",
      " [0.000 0.000 0.012 0.982 0.000 0.000 0.005 0.001]\n",
      " [0.707 0.004 0.172 0.012 0.000 0.100 0.005 0.000]\n",
      " [0.000 0.891 0.109 0.000 0.000 0.000 0.000 0.000]\n",
      " [0.991 0.000 0.003 0.000 0.000 0.006 0.000 0.000]\n",
      " [0.000 0.956 0.044 0.000 0.000 0.000 0.000 0.000]\n",
      " [0.000 0.094 0.119 0.045 0.000 0.000 0.727 0.014]\n",
      " [0.219 0.067 0.565 0.013 0.001 0.105 0.029 0.001]\n",
      " [0.000 0.851 0.138 0.000 0.000 0.000 0.010 0.000]\n",
      " [0.005 0.563 0.223 0.072 0.009 0.004 0.118 0.006]\n",
      " [0.000 0.003 0.012 0.956 0.000 0.003 0.022 0.004]\n",
      " [0.012 0.154 0.832 0.000 0.001 0.002 0.000 0.000]\n",
      " [0.273 0.007 0.108 0.314 0.246 0.011 0.040 0.002]\n",
      " [0.141 0.097 0.469 0.000 0.003 0.289 0.000 0.000]\n",
      " [0.231 0.001 0.067 0.143 0.557 0.000 0.000 0.000]\n",
      " [0.000 0.015 0.000 0.001 0.000 0.000 0.983 0.000]\n",
      " [0.000 0.001 0.002 0.997 0.000 0.000 0.000 0.000]\n",
      " [0.000 0.000 0.031 0.112 0.000 0.000 0.280 0.576]\n",
      " [0.000 0.000 0.000 1.000 0.000 0.000 0.000 0.000]\n",
      " [0.904 0.000 0.092 0.000 0.000 0.004 0.000 0.000]\n",
      " [0.001 0.731 0.210 0.004 0.002 0.002 0.049 0.002]\n",
      " [0.245 0.068 0.673 0.012 0.001 0.001 0.000 0.000]]\n"
     ]
    }
   ],
   "source": [
    "print(\"-- Predict --\")\n",
    "output = model.predict_generator(vali_generator)\n",
    "# 실수를 소수점 3자리까지 출력 설정\n",
    "np.set_printoptions(formatter={'float': lambda x: \"{0:0.3f}\".format(x)})\n",
    "\n",
    "# 그룹의 index {'circle': 0, 'rectangle': 1, 'triangle': 2}, 알파벳 순\n",
    "print(vali_generator.class_indices) # 분류에 할당된 index\n",
    "print(type(output))\n",
    "print(output.shape) # 검증 이미지가 70개, 7개의 분류임으로 출력은 70행 7열\n",
    "print(output)"
   ]
  },
  {
   "cell_type": "code",
   "execution_count": 84,
   "metadata": {},
   "outputs": [],
   "source": [
    "# model.save('Actor.h5')"
   ]
  },
  {
   "cell_type": "code",
   "execution_count": 85,
   "metadata": {},
   "outputs": [],
   "source": [
    "model = load_model('Actor.h5')\n",
    "width=64\n",
    "height=64"
   ]
  },
  {
   "cell_type": "code",
   "execution_count": 86,
   "metadata": {},
   "outputs": [],
   "source": [
    "# {'Amanda Seyfried': 0, 'Andrew Lincoln': 1, 'Anne Hathaway': 2, \n",
    "#  'Hugh Jackman': 3, Keira Christina Knightley': 4, 'JENNIE': 5, \n",
    "#  'Pierce Brosnan': 6, 'Zo Jung Seok': 7}\n",
    "def display(data):\n",
    "    # print(data)\n",
    "    # print(type(data))\n",
    "    sw= np.argmax(data)\n",
    "    # print('sw:', sw)\n",
    "\n",
    "    if sw == 0:\n",
    "        sw = 'Amanda Seyfried'\n",
    "    elif sw == 1:\n",
    "        sw = 'Andrew Lincoln'\n",
    "    elif sw == 2:\n",
    "        sw = 'Anne Hathaway'\n",
    "    elif sw == 3:\n",
    "        sw = 'Hugh Jackman'\n",
    "    elif sw == 4:\n",
    "        sw = 'Keira Christina Knightley'        \n",
    "    elif sw == 5:\n",
    "        sw = 'JENNIE'   \n",
    "    elif sw == 6:\n",
    "        sw = 'Pierce Brosnan'   \n",
    "    elif sw == 7:\n",
    "        sw = '조정석'\n",
    "        \n",
    "    return sw    "
   ]
  },
  {
   "cell_type": "code",
   "execution_count": 87,
   "metadata": {},
   "outputs": [
    {
     "name": "stdout",
     "output_type": "stream",
     "text": [
      "Found 1 images belonging to 1 classes.\n",
      "[[0.931 0.001 0.066 0.001 0.000 0.002 0.000 0.000]]\n",
      "타겟: Amanda Seyfried / Amanda Seyfried\n"
     ]
    }
   ],
   "source": [
    "# 테스트용 데이터 생성기\n",
    "test_datagen = ImageDataGenerator(rescale=1./255)\n",
    " \n",
    "test_generator = test_datagen.flow_from_directory(\n",
    "        './test1',\n",
    "        target_size=(width, height),    \n",
    "        batch_size=1,\n",
    "        class_mode='categorical')\n",
    "yp = model.predict_generator(test_generator)\n",
    "print(yp)\n",
    "print('타겟: Amanda Seyfried /', display(yp))    # 2차원 텐서 전달"
   ]
  },
  {
   "cell_type": "code",
   "execution_count": 88,
   "metadata": {},
   "outputs": [
    {
     "name": "stdout",
     "output_type": "stream",
     "text": [
      "Found 1 images belonging to 1 classes.\n",
      "[[0.000 0.868 0.131 0.000 0.000 0.000 0.000 0.000]]\n",
      "타겟: Andrew Lincoln / Andrew Lincoln\n"
     ]
    }
   ],
   "source": [
    "# 테스트용 데이터 생성기\n",
    "test_datagen = ImageDataGenerator(rescale=1./255)\n",
    " \n",
    "test_generator = test_datagen.flow_from_directory(\n",
    "        './test2',\n",
    "        target_size=(width, height),    \n",
    "        batch_size=1,\n",
    "        class_mode='categorical')\n",
    "yp = model.predict_generator(test_generator)\n",
    "print(yp)\n",
    "print('타겟: Andrew Lincoln /', display(yp))    # 2차원 텐서 전달"
   ]
  },
  {
   "cell_type": "code",
   "execution_count": 89,
   "metadata": {},
   "outputs": [
    {
     "name": "stdout",
     "output_type": "stream",
     "text": [
      "Found 1 images belonging to 1 classes.\n",
      "[[0.117 0.003 0.858 0.001 0.006 0.001 0.000 0.015]]\n",
      "타겟: Anne Hathaway / Anne Hathaway\n"
     ]
    }
   ],
   "source": [
    "# 테스트용 데이터 생성기\n",
    "test_datagen = ImageDataGenerator(rescale=1./255)\n",
    " \n",
    "test_generator = test_datagen.flow_from_directory(\n",
    "        './test3',\n",
    "        target_size=(width, height),    \n",
    "        batch_size=1,\n",
    "        class_mode='categorical')\n",
    "yp = model.predict_generator(test_generator)\n",
    "print(yp)\n",
    "print('타겟: Anne Hathaway /', display(yp))    # 2차원 텐서 전달"
   ]
  },
  {
   "cell_type": "code",
   "execution_count": 90,
   "metadata": {},
   "outputs": [
    {
     "name": "stdout",
     "output_type": "stream",
     "text": [
      "Found 1 images belonging to 1 classes.\n",
      "[[0.182 0.070 0.330 0.002 0.004 0.400 0.010 0.003]]\n",
      "타겟: Keira Christina Knightley / JENNIE\n"
     ]
    }
   ],
   "source": [
    "# 테스트용 데이터 생성기\n",
    "test_datagen = ImageDataGenerator(rescale=1./255)\n",
    " \n",
    "test_generator = test_datagen.flow_from_directory(\n",
    "        './test4',\n",
    "        target_size=(width, height),    \n",
    "        batch_size=1,\n",
    "        class_mode='categorical')\n",
    "yp = model.predict_generator(test_generator)\n",
    "print(yp)\n",
    "print('타겟: Keira Christina Knightley /', display(yp))    # 2차원 텐서 전달"
   ]
  },
  {
   "cell_type": "code",
   "execution_count": 91,
   "metadata": {},
   "outputs": [
    {
     "name": "stdout",
     "output_type": "stream",
     "text": [
      "Found 1 images belonging to 1 classes.\n",
      "[[0.024 0.330 0.268 0.027 0.040 0.048 0.210 0.055]]\n",
      "타겟: Pierce Brosnan / Andrew Lincoln\n"
     ]
    }
   ],
   "source": [
    "# 테스트용 데이터 생성기\n",
    "test_datagen = ImageDataGenerator(rescale=1./255)\n",
    " \n",
    "test_generator = test_datagen.flow_from_directory(\n",
    "        './test5',\n",
    "        target_size=(width, height),    \n",
    "        batch_size=1,\n",
    "        class_mode='categorical')\n",
    "yp = model.predict_generator(test_generator)\n",
    "print(yp)\n",
    "print('타겟: Pierce Brosnan /', display(yp))    # 2차원 텐서 전달"
   ]
  },
  {
   "cell_type": "code",
   "execution_count": 92,
   "metadata": {},
   "outputs": [
    {
     "name": "stdout",
     "output_type": "stream",
     "text": [
      "Found 1 images belonging to 1 classes.\n",
      "[[0.000 0.000 0.000 0.009 0.000 0.000 0.000 0.991]]\n",
      "타겟: 조정석 / 조정석\n"
     ]
    }
   ],
   "source": [
    "# 테스트용 데이터 생성기\n",
    "test_datagen = ImageDataGenerator(rescale=1./255)\n",
    " \n",
    "test_generator = test_datagen.flow_from_directory(\n",
    "        './test6',\n",
    "        target_size=(width, height),    \n",
    "        batch_size=1,\n",
    "        class_mode='categorical')\n",
    "yp = model.predict_generator(test_generator)\n",
    "print(yp)\n",
    "print('타겟: 조정석 /', display(yp))    # 2차원 텐서 전달"
   ]
  },
  {
   "cell_type": "code",
   "execution_count": 93,
   "metadata": {},
   "outputs": [
    {
     "name": "stdout",
     "output_type": "stream",
     "text": [
      "Found 1 images belonging to 1 classes.\n",
      "[[0.000 0.000 0.001 0.870 0.000 0.031 0.003 0.095]]\n",
      "타겟: Hugh Jackman / Hugh Jackman\n"
     ]
    }
   ],
   "source": [
    "# 테스트용 데이터 생성기\n",
    "test_datagen = ImageDataGenerator(rescale=1./255)\n",
    " \n",
    "test_generator = test_datagen.flow_from_directory(\n",
    "        './test7',\n",
    "        target_size=(width, height),    \n",
    "        batch_size=1,\n",
    "        class_mode='categorical')\n",
    "yp = model.predict_generator(test_generator)\n",
    "print(yp)\n",
    "print('타겟: Hugh Jackman /', display(yp))    # 2차원 텐서 전달"
   ]
  },
  {
   "cell_type": "code",
   "execution_count": 94,
   "metadata": {},
   "outputs": [
    {
     "name": "stdout",
     "output_type": "stream",
     "text": [
      "Found 1 images belonging to 1 classes.\n",
      "[[0.209 0.001 0.067 0.116 0.605 0.000 0.001 0.000]]\n",
      "타겟: 제니 / Keira Christina Knightley\n"
     ]
    }
   ],
   "source": [
    "# 테스트용 데이터 생성기\n",
    "test_datagen = ImageDataGenerator(rescale=1./255)\n",
    " \n",
    "test_generator = test_datagen.flow_from_directory(\n",
    "        './test8',\n",
    "        target_size=(width, height),    \n",
    "        batch_size=1,\n",
    "        class_mode='categorical')\n",
    "yp = model.predict_generator(test_generator)\n",
    "print(yp)\n",
    "print('타겟: 제니 /', display(yp))    # 2차원 텐서 전달"
   ]
  },
  {
   "cell_type": "code",
   "execution_count": null,
   "metadata": {},
   "outputs": [],
   "source": []
  },
  {
   "cell_type": "code",
   "execution_count": null,
   "metadata": {},
   "outputs": [],
   "source": []
  }
 ],
 "metadata": {
  "kernelspec": {
   "display_name": "ai",
   "language": "python",
   "name": "ai"
  },
  "language_info": {
   "codemirror_mode": {
    "name": "ipython",
    "version": 3
   },
   "file_extension": ".py",
   "mimetype": "text/x-python",
   "name": "python",
   "nbconvert_exporter": "python",
   "pygments_lexer": "ipython3",
   "version": "3.7.11"
  }
 },
 "nbformat": 4,
 "nbformat_minor": 2
}
