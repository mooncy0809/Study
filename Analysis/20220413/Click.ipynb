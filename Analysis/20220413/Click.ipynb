{
 "cells": [
  {
   "cell_type": "markdown",
   "metadata": {},
   "source": [
    "### 광고에 소요되는 비용으로 클릭수 예측하기"
   ]
  },
  {
   "cell_type": "code",
   "execution_count": 1,
   "metadata": {},
   "outputs": [],
   "source": [
    "# %autosave 0 \n",
    "import warnings\n",
    "warnings.filterwarnings(action='ignore') \n",
    "\n",
    "import numpy as np\n",
    "import tensorflow as tf\n",
    "\n",
    "from tensorflow.keras.models import Sequential  # class\n",
    "from tensorflow.keras.models import load_model  # model 파일 로딩\n",
    "from tensorflow.keras.layers import Dense       # 전결합층\n",
    "from tensorflow.keras.optimizers import Adam    # 가중치, bias 최적화\n",
    "from tensorflow.keras.utils import plot_model   # 네트워크 입출력 시각화\n",
    "\n",
    "import matplotlib.pyplot as plt\n",
    "import matplotlib\n",
    "from matplotlib import rc\n",
    "rc('font', family='Malgun Gothic')\n",
    "\n",
    "# print(tf.__version__)"
   ]
  },
  {
   "cell_type": "code",
   "execution_count": 8,
   "metadata": {},
   "outputs": [
    {
     "name": "stdout",
     "output_type": "stream",
     "text": [
      "<class 'numpy.ndarray'>\n",
      "(20, 2)\n",
      "[[235. 591.]\n",
      " [216. 539.]\n",
      " [148. 413.]\n",
      " [ 35. 310.]\n",
      " [ 85. 308.]\n",
      " [204. 519.]\n",
      " [ 49. 325.]\n",
      " [ 25. 332.]\n",
      " [173. 498.]\n",
      " [191. 498.]\n",
      " [134. 392.]\n",
      " [ 99. 334.]\n",
      " [117. 385.]\n",
      " [112. 387.]\n",
      " [162. 425.]\n",
      " [272. 659.]\n",
      " [159. 400.]\n",
      " [159. 427.]\n",
      " [ 59. 319.]\n",
      " [198. 522.]]\n"
     ]
    }
   ],
   "source": [
    "data=np.loadtxt('./data/click.csv', skiprows=1, delimiter=',',\n",
    "                dtype=np.float64)\n",
    "print(type(data))\n",
    "print(data.shape)\n",
    "print(data)"
   ]
  },
  {
   "cell_type": "code",
   "execution_count": 9,
   "metadata": {},
   "outputs": [
    {
     "name": "stdout",
     "output_type": "stream",
     "text": [
      "[235. 216. 148.  35.  85. 204.  49.  25. 173. 191. 134.  99. 117. 112.\n",
      " 162. 272. 159. 159.  59. 198.]\n"
     ]
    }
   ],
   "source": [
    "x_train = data[:, 0]\n",
    "print(x_train)"
   ]
  },
  {
   "cell_type": "code",
   "execution_count": 10,
   "metadata": {},
   "outputs": [
    {
     "name": "stdout",
     "output_type": "stream",
     "text": [
      "[591. 539. 413. 310. 308. 519. 325. 332. 498. 498. 392. 334. 385. 387.\n",
      " 425. 659. 400. 427. 319. 522.]\n"
     ]
    }
   ],
   "source": [
    "y_train = data[:, 1]\n",
    "print(y_train)"
   ]
  },
  {
   "cell_type": "code",
   "execution_count": 11,
   "metadata": {},
   "outputs": [
    {
     "data": {
      "image/png": "[encoded data removed]",
      "text/plain": [
       "<Figure size 432x288 with 1 Axes>"
      ]
     },
     "metadata": {
      "needs_background": "light"
     },
     "output_type": "display_data"
    }
   ],
   "source": [
    "plt.plot(x_train, y_train)\n",
    "plt.show()"
   ]
  },
  {
   "cell_type": "code",
   "execution_count": 12,
   "metadata": {},
   "outputs": [
    {
     "data": {
      "text/plain": [
       "array([235., 216., 148.,  35.,  85., 204.,  49.,  25., 173., 191., 134.,\n",
       "        99., 117., 112., 162., 272., 159., 159.,  59., 198.])"
      ]
     },
     "execution_count": 12,
     "metadata": {},
     "output_type": "execute_result"
    }
   ],
   "source": [
    "data[:,0]"
   ]
  },
  {
   "cell_type": "code",
   "execution_count": 20,
   "metadata": {},
   "outputs": [
    {
     "data": {
      "text/plain": [
       "array([ 7,  3,  6, 18,  4, 11, 13, 12, 10,  2, 17, 16, 14,  8,  9, 19,  5,\n",
       "        1,  0, 15], dtype=int64)"
      ]
     },
     "execution_count": 20,
     "metadata": {},
     "output_type": "execute_result"
    }
   ],
   "source": [
    "idx = data[:,0].argsort() # 원본 데이터의 값이 정렬이 된 값의 index, 0~ \n",
    "idx"
   ]
  },
  {
   "cell_type": "code",
   "execution_count": 21,
   "metadata": {},
   "outputs": [
    {
     "name": "stdout",
     "output_type": "stream",
     "text": [
      "[ 25. 332.]\n",
      "[ 35. 310.]\n",
      "[ 49. 325.]\n",
      "[[235. 591.]\n",
      " [216. 539.]\n",
      " [148. 413.]\n",
      " [ 35. 310.]\n",
      " [ 85. 308.]\n",
      " [204. 519.]\n",
      " [ 49. 325.]\n",
      " [ 25. 332.]\n",
      " [173. 498.]\n",
      " [191. 498.]\n",
      " [134. 392.]\n",
      " [ 99. 334.]\n",
      " [117. 385.]\n",
      " [112. 387.]\n",
      " [162. 425.]\n",
      " [272. 659.]\n",
      " [159. 400.]\n",
      " [159. 427.]\n",
      " [ 59. 319.]\n",
      " [198. 522.]]\n"
     ]
    }
   ],
   "source": [
    "print(data[7, :]) # 원본 데이터 index 7임으로 8번째 값\n",
    "print(data[3, :]) # 원본 데이터 index 3임으로 4번째 값\n",
    "print(data[6, :]) # 원본 데이터 index 6임으로 7번째 값\n",
    "print(data)"
   ]
  },
  {
   "cell_type": "code",
   "execution_count": 14,
   "metadata": {},
   "outputs": [
    {
     "data": {
      "text/plain": [
       "array([[ 25., 332.],\n",
       "       [ 35., 310.],\n",
       "       [ 49., 325.],\n",
       "       [ 59., 319.],\n",
       "       [ 85., 308.],\n",
       "       [ 99., 334.],\n",
       "       [112., 387.],\n",
       "       [117., 385.],\n",
       "       [134., 392.],\n",
       "       [148., 413.],\n",
       "       [159., 427.],\n",
       "       [159., 400.],\n",
       "       [162., 425.],\n",
       "       [173., 498.],\n",
       "       [191., 498.],\n",
       "       [198., 522.],\n",
       "       [204., 519.],\n",
       "       [216., 539.],\n",
       "       [235., 591.],\n",
       "       [272., 659.]])"
      ]
     },
     "execution_count": 14,
     "metadata": {},
     "output_type": "execute_result"
    }
   ],
   "source": [
    "data[idx]"
   ]
  },
  {
   "cell_type": "code",
   "execution_count": 22,
   "metadata": {},
   "outputs": [
    {
     "data": {
      "text/plain": [
       "array([[272., 659.],\n",
       "       [235., 591.],\n",
       "       [216., 539.],\n",
       "       [204., 519.],\n",
       "       [198., 522.],\n",
       "       [191., 498.],\n",
       "       [173., 498.],\n",
       "       [162., 425.],\n",
       "       [159., 400.],\n",
       "       [159., 427.],\n",
       "       [148., 413.],\n",
       "       [134., 392.],\n",
       "       [117., 385.],\n",
       "       [112., 387.],\n",
       "       [ 99., 334.],\n",
       "       [ 85., 308.],\n",
       "       [ 59., 319.],\n",
       "       [ 49., 325.],\n",
       "       [ 35., 310.],\n",
       "       [ 25., 332.]])"
      ]
     },
     "execution_count": 22,
     "metadata": {},
     "output_type": "execute_result"
    }
   ],
   "source": [
    "data[idx][::-1] # 내림 차순 정렬"
   ]
  },
  {
   "cell_type": "code",
   "execution_count": 23,
   "metadata": {},
   "outputs": [
    {
     "data": {
      "text/plain": [
       "array([[ 25., 332.],\n",
       "       [ 35., 310.],\n",
       "       [ 49., 325.],\n",
       "       [ 59., 319.],\n",
       "       [ 85., 308.],\n",
       "       [ 99., 334.],\n",
       "       [112., 387.],\n",
       "       [117., 385.],\n",
       "       [134., 392.],\n",
       "       [148., 413.],\n",
       "       [159., 427.],\n",
       "       [159., 400.],\n",
       "       [162., 425.],\n",
       "       [173., 498.],\n",
       "       [191., 498.],\n",
       "       [198., 522.],\n",
       "       [204., 519.],\n",
       "       [216., 539.],\n",
       "       [235., 591.],\n",
       "       [272., 659.]])"
      ]
     },
     "execution_count": 23,
     "metadata": {},
     "output_type": "execute_result"
    }
   ],
   "source": [
    "ds = data[idx]\n",
    "ds"
   ]
  },
  {
   "cell_type": "code",
   "execution_count": 24,
   "metadata": {},
   "outputs": [
    {
     "data": {
      "image/png": "[encoded data removed]",
      "text/plain": [
       "<Figure size 432x288 with 1 Axes>"
      ]
     },
     "metadata": {
      "needs_background": "light"
     },
     "output_type": "display_data"
    }
   ],
   "source": [
    "x_train = ds[:, 0]\n",
    "y_train = ds[:, 1]\n",
    "plt.plot(x_train, y_train)\n",
    "plt.plot(x_train, y_train, 'o')\n",
    "plt.show()"
   ]
  },
  {
   "cell_type": "code",
   "execution_count": 27,
   "metadata": {},
   "outputs": [
    {
     "name": "stdout",
     "output_type": "stream",
     "text": [
      "Model: \"sequential_1\"\n",
      "_________________________________________________________________\n",
      "Layer (type)                 Output Shape              Param #   \n",
      "=================================================================\n",
      "dense_1 (Dense)              (None, 1)                 2         \n",
      "=================================================================\n",
      "Total params: 2\n",
      "Trainable params: 2\n",
      "Non-trainable params: 0\n",
      "_________________________________________________________________\n",
      "Epoch 1/200\n",
      "16/16 [==============================] - 0s 12ms/step - loss: 127887.3580 - val_loss: 223192.3438\n",
      "Epoch 2/200\n",
      "16/16 [==============================] - 0s 4ms/step - loss: 117279.4563 - val_loss: 220148.6875\n",
      "Epoch 3/200\n",
      "16/16 [==============================] - 0s 4ms/step - loss: 109860.6112 - val_loss: 217160.2500\n",
      "Epoch 4/200\n",
      "16/16 [==============================] - 0s 4ms/step - loss: 127294.8442 - val_loss: 214103.6250\n",
      "Epoch 5/200\n",
      "16/16 [==============================] - 0s 4ms/step - loss: 106643.3415 - val_loss: 211166.4219\n",
      "Epoch 6/200\n",
      "16/16 [==============================] - 0s 4ms/step - loss: 116446.2142 - val_loss: 208105.3750\n",
      "Epoch 7/200\n",
      "16/16 [==============================] - 0s 4ms/step - loss: 105983.5501 - val_loss: 205254.0938\n",
      "Epoch 8/200\n",
      "16/16 [==============================] - 0s 4ms/step - loss: 99718.8217 - val_loss: 202423.0625\n",
      "Epoch 9/200\n",
      "16/16 [==============================] - 0s 4ms/step - loss: 107005.3313 - val_loss: 199461.5000\n",
      "Epoch 10/200\n",
      "16/16 [==============================] - 0s 4ms/step - loss: 102453.0427 - val_loss: 196640.4688\n",
      "Epoch 11/200\n",
      "16/16 [==============================] - 0s 4ms/step - loss: 98000.1209 - val_loss: 193809.7500\n",
      "Epoch 12/200\n",
      "16/16 [==============================] - 0s 4ms/step - loss: 96843.4173 - val_loss: 191074.1875\n",
      "Epoch 13/200\n",
      "16/16 [==============================] - 0s 4ms/step - loss: 102104.6677 - val_loss: 188155.1562\n",
      "Epoch 14/200\n",
      "16/16 [==============================] - 0s 4ms/step - loss: 109618.4136 - val_loss: 185386.9688\n",
      "Epoch 15/200\n",
      "16/16 [==============================] - 0s 4ms/step - loss: 108871.1181 - val_loss: 182724.9062\n",
      "Epoch 16/200\n",
      "16/16 [==============================] - 0s 4ms/step - loss: 106806.6103 - val_loss: 180016.4375\n",
      "Epoch 17/200\n",
      "16/16 [==============================] - 0s 4ms/step - loss: 98532.4398 - val_loss: 177381.3125\n",
      "Epoch 18/200\n",
      "16/16 [==============================] - 0s 4ms/step - loss: 108015.4393 - val_loss: 174682.4375\n",
      "Epoch 19/200\n",
      "16/16 [==============================] - 0s 4ms/step - loss: 96875.7957 - val_loss: 172185.0625\n",
      "Epoch 20/200\n",
      "16/16 [==============================] - 0s 4ms/step - loss: 104186.2606 - val_loss: 169443.9062\n",
      "Epoch 21/200\n",
      "16/16 [==============================] - 0s 4ms/step - loss: 91604.1912 - val_loss: 167060.1875\n",
      "Epoch 22/200\n",
      "16/16 [==============================] - 0s 4ms/step - loss: 95636.7385 - val_loss: 164506.5312\n",
      "Epoch 23/200\n",
      "16/16 [==============================] - 0s 4ms/step - loss: 92527.6723 - val_loss: 162018.7344\n",
      "Epoch 24/200\n",
      "16/16 [==============================] - 0s 4ms/step - loss: 91952.8382 - val_loss: 159543.0625\n",
      "Epoch 25/200\n",
      "16/16 [==============================] - 0s 6ms/step - loss: 92841.5620 - val_loss: 157089.5312\n",
      "Epoch 26/200\n",
      "16/16 [==============================] - 0s 4ms/step - loss: 85671.6737 - val_loss: 154835.1875\n",
      "Epoch 27/200\n",
      "16/16 [==============================] - 0s 4ms/step - loss: 94413.2114 - val_loss: 152279.3281\n",
      "Epoch 28/200\n",
      "16/16 [==============================] - 0s 4ms/step - loss: 89413.7330 - val_loss: 149936.1250\n",
      "Epoch 29/200\n",
      "16/16 [==============================] - 0s 4ms/step - loss: 85391.5262 - val_loss: 147647.4062\n",
      "Epoch 30/200\n",
      "16/16 [==============================] - 0s 4ms/step - loss: 84523.8865 - val_loss: 145267.9531\n",
      "Epoch 31/200\n",
      "16/16 [==============================] - 0s 4ms/step - loss: 91868.6438 - val_loss: 142966.6250\n",
      "Epoch 32/200\n",
      "16/16 [==============================] - 0s 4ms/step - loss: 77573.9416 - val_loss: 140709.0000\n",
      "Epoch 33/200\n",
      "16/16 [==============================] - 0s 4ms/step - loss: 79019.1420 - val_loss: 138476.3125\n",
      "Epoch 34/200\n",
      "16/16 [==============================] - 0s 4ms/step - loss: 80348.9182 - val_loss: 136157.7500\n",
      "Epoch 35/200\n",
      "16/16 [==============================] - 0s 3ms/step - loss: 77510.7583 - val_loss: 133936.1562\n",
      "Epoch 36/200\n",
      "16/16 [==============================] - 0s 4ms/step - loss: 85362.4660 - val_loss: 131812.7500\n",
      "Epoch 37/200\n",
      "16/16 [==============================] - 0s 4ms/step - loss: 76813.5464 - val_loss: 129686.3125\n",
      "Epoch 38/200\n",
      "16/16 [==============================] - 0s 4ms/step - loss: 83057.1489 - val_loss: 127533.6172\n",
      "Epoch 39/200\n",
      "16/16 [==============================] - 0s 4ms/step - loss: 74002.0115 - val_loss: 125501.9609\n",
      "Epoch 40/200\n",
      "16/16 [==============================] - 0s 4ms/step - loss: 79280.4292 - val_loss: 123405.3750\n",
      "Epoch 41/200\n",
      "16/16 [==============================] - 0s 4ms/step - loss: 73928.5009 - val_loss: 121396.1250\n",
      "Epoch 42/200\n",
      "16/16 [==============================] - 0s 4ms/step - loss: 75045.3295 - val_loss: 119293.5312\n",
      "Epoch 43/200\n",
      "16/16 [==============================] - 0s 4ms/step - loss: 74766.2725 - val_loss: 117164.1562\n",
      "Epoch 44/200\n",
      "16/16 [==============================] - 0s 4ms/step - loss: 70846.6369 - val_loss: 115223.0312\n",
      "Epoch 45/200\n",
      "16/16 [==============================] - 0s 4ms/step - loss: 74205.8874 - val_loss: 113325.2812\n",
      "Epoch 46/200\n",
      "16/16 [==============================] - 0s 4ms/step - loss: 77095.0744 - val_loss: 111354.2500\n",
      "Epoch 47/200\n",
      "16/16 [==============================] - 0s 4ms/step - loss: 68451.2907 - val_loss: 109507.6406\n",
      "Epoch 48/200\n",
      "16/16 [==============================] - 0s 4ms/step - loss: 69773.6769 - val_loss: 107432.0469\n",
      "Epoch 49/200\n",
      "16/16 [==============================] - 0s 4ms/step - loss: 70873.6342 - val_loss: 105670.8125\n",
      "Epoch 50/200\n",
      "16/16 [==============================] - 0s 4ms/step - loss: 65900.1597 - val_loss: 103835.2500\n",
      "Epoch 51/200\n",
      "16/16 [==============================] - 0s 4ms/step - loss: 66989.0430 - val_loss: 101933.0859\n",
      "Epoch 52/200\n",
      "16/16 [==============================] - 0s 4ms/step - loss: 72698.0156 - val_loss: 100149.9219\n",
      "Epoch 53/200\n",
      "16/16 [==============================] - 0s 4ms/step - loss: 70966.1521 - val_loss: 98360.6719\n",
      "Epoch 54/200\n",
      "16/16 [==============================] - 0s 4ms/step - loss: 66862.3199 - val_loss: 96549.1094\n",
      "Epoch 55/200\n",
      "16/16 [==============================] - 0s 4ms/step - loss: 60858.0892 - val_loss: 94812.5000\n",
      "Epoch 56/200\n",
      "16/16 [==============================] - 0s 3ms/step - loss: 63014.8244 - val_loss: 93031.3125\n",
      "Epoch 57/200\n",
      "16/16 [==============================] - 0s 4ms/step - loss: 64663.9072 - val_loss: 91300.9844\n",
      "Epoch 58/200\n",
      "16/16 [==============================] - 0s 4ms/step - loss: 66905.3596 - val_loss: 89657.1328\n",
      "Epoch 59/200\n",
      "16/16 [==============================] - 0s 4ms/step - loss: 66525.3532 - val_loss: 88062.0703\n",
      "Epoch 60/200\n",
      "16/16 [==============================] - 0s 4ms/step - loss: 61813.6670 - val_loss: 86413.2266\n",
      "Epoch 61/200\n",
      "16/16 [==============================] - 0s 4ms/step - loss: 58827.2358 - val_loss: 84795.3047\n",
      "Epoch 62/200\n",
      "16/16 [==============================] - 0s 4ms/step - loss: 61761.6183 - val_loss: 83185.2891\n",
      "Epoch 63/200\n",
      "16/16 [==============================] - 0s 4ms/step - loss: 54412.6962 - val_loss: 81623.1328\n",
      "Epoch 64/200\n",
      "16/16 [==============================] - 0s 4ms/step - loss: 61189.4515 - val_loss: 79994.2578\n",
      "Epoch 65/200\n",
      "16/16 [==============================] - 0s 4ms/step - loss: 56625.6815 - val_loss: 78430.5469\n",
      "Epoch 66/200\n",
      "16/16 [==============================] - 0s 3ms/step - loss: 61179.1236 - val_loss: 76990.9375\n",
      "Epoch 67/200\n",
      "16/16 [==============================] - 0s 4ms/step - loss: 53184.4336 - val_loss: 75463.7109\n",
      "Epoch 68/200\n",
      "16/16 [==============================] - 0s 4ms/step - loss: 58414.9642 - val_loss: 73921.9531\n",
      "Epoch 69/200\n",
      "16/16 [==============================] - 0s 4ms/step - loss: 53593.8695 - val_loss: 72430.3047\n",
      "Epoch 70/200\n",
      "16/16 [==============================] - 0s 4ms/step - loss: 58222.9929 - val_loss: 71025.5781\n",
      "Epoch 71/200\n",
      "16/16 [==============================] - 0s 4ms/step - loss: 55842.2240 - val_loss: 69558.5625\n"
     ]
    },
    {
     "name": "stdout",
     "output_type": "stream",
     "text": [
      "Epoch 72/200\n",
      "16/16 [==============================] - 0s 4ms/step - loss: 49805.0728 - val_loss: 68106.3750\n",
      "Epoch 73/200\n",
      "16/16 [==============================] - 0s 4ms/step - loss: 49644.3548 - val_loss: 66708.3281\n",
      "Epoch 74/200\n",
      "16/16 [==============================] - 0s 4ms/step - loss: 51507.7477 - val_loss: 65355.5078\n",
      "Epoch 75/200\n",
      "16/16 [==============================] - 0s 4ms/step - loss: 51854.6818 - val_loss: 63985.2539\n",
      "Epoch 76/200\n",
      "16/16 [==============================] - 0s 4ms/step - loss: 51742.4922 - val_loss: 62690.5234\n",
      "Epoch 77/200\n",
      "16/16 [==============================] - 0s 4ms/step - loss: 48881.4639 - val_loss: 61374.4414\n",
      "Epoch 78/200\n",
      "16/16 [==============================] - 0s 4ms/step - loss: 49501.8504 - val_loss: 59996.2070\n",
      "Epoch 79/200\n",
      "16/16 [==============================] - 0s 3ms/step - loss: 45299.4154 - val_loss: 58725.4844\n",
      "Epoch 80/200\n",
      "16/16 [==============================] - 0s 4ms/step - loss: 47828.2038 - val_loss: 57520.6367\n",
      "Epoch 81/200\n",
      "16/16 [==============================] - 0s 4ms/step - loss: 43954.8150 - val_loss: 56229.3828\n",
      "Epoch 82/200\n",
      "16/16 [==============================] - 0s 4ms/step - loss: 50554.2753 - val_loss: 55061.2656\n",
      "Epoch 83/200\n",
      "16/16 [==============================] - 0s 4ms/step - loss: 47669.4474 - val_loss: 53864.7539\n",
      "Epoch 84/200\n",
      "16/16 [==============================] - 0s 4ms/step - loss: 50954.2523 - val_loss: 52643.5938\n",
      "Epoch 85/200\n",
      "16/16 [==============================] - 0s 4ms/step - loss: 40020.7785 - val_loss: 51476.3828\n",
      "Epoch 86/200\n",
      "16/16 [==============================] - 0s 4ms/step - loss: 43357.3412 - val_loss: 50301.1055\n",
      "Epoch 87/200\n",
      "16/16 [==============================] - 0s 4ms/step - loss: 50896.2403 - val_loss: 49146.5859\n",
      "Epoch 88/200\n",
      "16/16 [==============================] - 0s 4ms/step - loss: 44453.6799 - val_loss: 48016.2383\n",
      "Epoch 89/200\n",
      "16/16 [==============================] - 0s 4ms/step - loss: 45921.2819 - val_loss: 46947.9492\n",
      "Epoch 90/200\n",
      "16/16 [==============================] - 0s 4ms/step - loss: 46466.3366 - val_loss: 45820.3516\n",
      "Epoch 91/200\n",
      "16/16 [==============================] - 0s 4ms/step - loss: 43734.3595 - val_loss: 44728.1875\n",
      "Epoch 92/200\n",
      "16/16 [==============================] - 0s 4ms/step - loss: 41524.5798 - val_loss: 43651.3672\n",
      "Epoch 93/200\n",
      "16/16 [==============================] - 0s 4ms/step - loss: 41964.1008 - val_loss: 42593.5703\n",
      "Epoch 94/200\n",
      "16/16 [==============================] - 0s 4ms/step - loss: 39969.8302 - val_loss: 41582.2305\n",
      "Epoch 95/200\n",
      "16/16 [==============================] - 0s 4ms/step - loss: 35697.0006 - val_loss: 40546.9531\n",
      "Epoch 96/200\n",
      "16/16 [==============================] - 0s 4ms/step - loss: 42166.2378 - val_loss: 39554.0820\n",
      "Epoch 97/200\n",
      "16/16 [==============================] - 0s 4ms/step - loss: 38835.4252 - val_loss: 38552.0156\n",
      "Epoch 98/200\n",
      "16/16 [==============================] - 0s 4ms/step - loss: 37826.2294 - val_loss: 37555.9766\n",
      "Epoch 99/200\n",
      "16/16 [==============================] - 0s 4ms/step - loss: 40115.4406 - val_loss: 36680.4531\n",
      "Epoch 100/200\n",
      "16/16 [==============================] - 0s 4ms/step - loss: 35955.9415 - val_loss: 35697.8164\n",
      "Epoch 101/200\n",
      "16/16 [==============================] - 0s 4ms/step - loss: 37818.3009 - val_loss: 34797.5000\n",
      "Epoch 102/200\n",
      "16/16 [==============================] - 0s 3ms/step - loss: 44228.6351 - val_loss: 33895.9023\n",
      "Epoch 103/200\n",
      "16/16 [==============================] - 0s 4ms/step - loss: 38193.6873 - val_loss: 32996.8633\n",
      "Epoch 104/200\n",
      "16/16 [==============================] - 0s 4ms/step - loss: 37524.4164 - val_loss: 32183.2754\n",
      "Epoch 105/200\n",
      "16/16 [==============================] - 0s 4ms/step - loss: 39814.6909 - val_loss: 31269.6484\n",
      "Epoch 106/200\n",
      "16/16 [==============================] - 0s 4ms/step - loss: 37110.2779 - val_loss: 30424.5273\n",
      "Epoch 107/200\n",
      "16/16 [==============================] - 0s 4ms/step - loss: 33380.8286 - val_loss: 29572.6758\n",
      "Epoch 108/200\n",
      "16/16 [==============================] - 0s 4ms/step - loss: 39957.5767 - val_loss: 28785.8398\n",
      "Epoch 109/200\n",
      "16/16 [==============================] - 0s 4ms/step - loss: 29044.3905 - val_loss: 27971.1055\n",
      "Epoch 110/200\n",
      "16/16 [==============================] - 0s 4ms/step - loss: 31864.2835 - val_loss: 27198.0859\n",
      "Epoch 111/200\n",
      "16/16 [==============================] - 0s 4ms/step - loss: 39000.9963 - val_loss: 26436.8359\n",
      "Epoch 112/200\n",
      "16/16 [==============================] - 0s 4ms/step - loss: 32015.5625 - val_loss: 25637.6016\n",
      "Epoch 113/200\n",
      "16/16 [==============================] - 0s 3ms/step - loss: 36913.6301 - val_loss: 24896.6562\n",
      "Epoch 114/200\n",
      "16/16 [==============================] - 0s 4ms/step - loss: 29797.0210 - val_loss: 24182.7910\n",
      "Epoch 115/200\n",
      "16/16 [==============================] - 0s 4ms/step - loss: 37613.0307 - val_loss: 23465.9805\n",
      "Epoch 116/200\n",
      "16/16 [==============================] - 0s 3ms/step - loss: 39622.7868 - val_loss: 22761.2207\n",
      "Epoch 117/200\n",
      "16/16 [==============================] - 0s 4ms/step - loss: 35970.7406 - val_loss: 22066.0645\n",
      "Epoch 118/200\n",
      "16/16 [==============================] - 0s 4ms/step - loss: 36501.6373 - val_loss: 21384.2891\n",
      "Epoch 119/200\n",
      "16/16 [==============================] - 0s 4ms/step - loss: 27462.7986 - val_loss: 20700.3359\n",
      "Epoch 120/200\n",
      "16/16 [==============================] - 0s 4ms/step - loss: 35273.9484 - val_loss: 20052.3262\n",
      "Epoch 121/200\n",
      "16/16 [==============================] - 0s 4ms/step - loss: 38801.0522 - val_loss: 19437.3770\n",
      "Epoch 122/200\n",
      "16/16 [==============================] - 0s 4ms/step - loss: 28913.0728 - val_loss: 18805.3516\n",
      "Epoch 123/200\n",
      "16/16 [==============================] - 0s 4ms/step - loss: 27491.5564 - val_loss: 18171.1621\n",
      "Epoch 124/200\n",
      "16/16 [==============================] - 0s 4ms/step - loss: 29129.5793 - val_loss: 17590.6621\n",
      "Epoch 125/200\n",
      "16/16 [==============================] - 0s 5ms/step - loss: 27337.4788 - val_loss: 17002.7227\n",
      "Epoch 126/200\n",
      "16/16 [==============================] - 0s 4ms/step - loss: 22458.4854 - val_loss: 16417.6113\n",
      "Epoch 127/200\n",
      "16/16 [==============================] - 0s 4ms/step - loss: 33606.6293 - val_loss: 15868.3262\n",
      "Epoch 128/200\n",
      "16/16 [==============================] - 0s 4ms/step - loss: 22781.1706 - val_loss: 15311.1914\n",
      "Epoch 129/200\n",
      "16/16 [==============================] - 0s 4ms/step - loss: 25303.9346 - val_loss: 14766.5732\n",
      "Epoch 130/200\n",
      "16/16 [==============================] - 0s 4ms/step - loss: 29644.3061 - val_loss: 14242.2705\n",
      "Epoch 131/200\n",
      "16/16 [==============================] - 0s 4ms/step - loss: 23737.4089 - val_loss: 13723.6406\n",
      "Epoch 132/200\n",
      "16/16 [==============================] - 0s 4ms/step - loss: 22575.1459 - val_loss: 13221.1328\n",
      "Epoch 133/200\n",
      "16/16 [==============================] - 0s 4ms/step - loss: 20767.3069 - val_loss: 12730.9316\n",
      "Epoch 134/200\n",
      "16/16 [==============================] - 0s 4ms/step - loss: 26856.7961 - val_loss: 12236.0117\n",
      "Epoch 135/200\n",
      "16/16 [==============================] - 0s 4ms/step - loss: 25837.4339 - val_loss: 11766.1484\n",
      "Epoch 136/200\n",
      "16/16 [==============================] - 0s 4ms/step - loss: 17040.4927 - val_loss: 11312.7119\n",
      "Epoch 137/200\n",
      "16/16 [==============================] - 0s 4ms/step - loss: 19095.3313 - val_loss: 10865.3682\n",
      "Epoch 138/200\n",
      "16/16 [==============================] - 0s 4ms/step - loss: 27127.9646 - val_loss: 10427.1553\n",
      "Epoch 139/200\n",
      "16/16 [==============================] - 0s 4ms/step - loss: 24831.3542 - val_loss: 10015.0400\n",
      "Epoch 140/200\n",
      "16/16 [==============================] - 0s 4ms/step - loss: 23997.6141 - val_loss: 9588.1494\n",
      "Epoch 141/200\n",
      "16/16 [==============================] - 0s 4ms/step - loss: 20549.7103 - val_loss: 9186.2217\n",
      "Epoch 142/200\n",
      "16/16 [==============================] - 0s 4ms/step - loss: 18100.9477 - val_loss: 8805.5703\n",
      "Epoch 143/200\n",
      "16/16 [==============================] - 0s 4ms/step - loss: 22238.3905 - val_loss: 8414.5557\n",
      "Epoch 144/200\n",
      "16/16 [==============================] - 0s 3ms/step - loss: 17969.3933 - val_loss: 8032.6963\n",
      "Epoch 145/200\n",
      "16/16 [==============================] - 0s 4ms/step - loss: 21322.1789 - val_loss: 7677.8481\n",
      "Epoch 146/200\n",
      "16/16 [==============================] - 0s 4ms/step - loss: 19179.4277 - val_loss: 7320.4360\n",
      "Epoch 147/200\n"
     ]
    },
    {
     "name": "stdout",
     "output_type": "stream",
     "text": [
      "16/16 [==============================] - 0s 4ms/step - loss: 22418.8740 - val_loss: 6984.7734\n",
      "Epoch 148/200\n",
      "16/16 [==============================] - 0s 4ms/step - loss: 25027.3932 - val_loss: 6653.6392\n",
      "Epoch 149/200\n",
      "16/16 [==============================] - 0s 4ms/step - loss: 28439.6023 - val_loss: 6332.5479\n",
      "Epoch 150/200\n",
      "16/16 [==============================] - 0s 4ms/step - loss: 14309.3547 - val_loss: 6021.4268\n",
      "Epoch 151/200\n",
      "16/16 [==============================] - 0s 4ms/step - loss: 30560.1017 - val_loss: 5721.4678\n",
      "Epoch 152/200\n",
      "16/16 [==============================] - 0s 4ms/step - loss: 21259.3685 - val_loss: 5424.4985\n",
      "Epoch 153/200\n",
      "16/16 [==============================] - 0s 4ms/step - loss: 24638.5776 - val_loss: 5141.8457\n",
      "Epoch 154/200\n",
      "16/16 [==============================] - 0s 4ms/step - loss: 19440.9968 - val_loss: 4858.5068\n",
      "Epoch 155/200\n",
      "16/16 [==============================] - 0s 4ms/step - loss: 21050.5674 - val_loss: 4597.0181\n",
      "Epoch 156/200\n",
      "16/16 [==============================] - 0s 4ms/step - loss: 19707.6501 - val_loss: 4343.8862\n",
      "Epoch 157/200\n",
      "16/16 [==============================] - 0s 4ms/step - loss: 17527.7593 - val_loss: 4096.6362\n",
      "Epoch 158/200\n",
      "16/16 [==============================] - 0s 4ms/step - loss: 21329.5676 - val_loss: 3855.2803\n",
      "Epoch 159/200\n",
      "16/16 [==============================] - 0s 4ms/step - loss: 22214.2115 - val_loss: 3627.2537\n",
      "Epoch 160/200\n",
      "16/16 [==============================] - 0s 4ms/step - loss: 23468.9273 - val_loss: 3413.4790\n",
      "Epoch 161/200\n",
      "16/16 [==============================] - 0s 3ms/step - loss: 13881.1183 - val_loss: 3194.3306\n",
      "Epoch 162/200\n",
      "16/16 [==============================] - 0s 4ms/step - loss: 18371.5860 - val_loss: 2983.2983\n",
      "Epoch 163/200\n",
      "16/16 [==============================] - 0s 4ms/step - loss: 16038.6964 - val_loss: 2785.2388\n",
      "Epoch 164/200\n",
      "16/16 [==============================] - 0s 4ms/step - loss: 20345.5308 - val_loss: 2601.9468\n",
      "Epoch 165/200\n",
      "16/16 [==============================] - 0s 4ms/step - loss: 20526.2386 - val_loss: 2416.1240\n",
      "Epoch 166/200\n",
      "16/16 [==============================] - 0s 5ms/step - loss: 18403.5613 - val_loss: 2246.4341\n",
      "Epoch 167/200\n",
      "16/16 [==============================] - 0s 3ms/step - loss: 20024.3434 - val_loss: 2080.5312\n",
      "Epoch 168/200\n",
      "16/16 [==============================] - 0s 4ms/step - loss: 17555.6820 - val_loss: 1923.0751\n",
      "Epoch 169/200\n",
      "16/16 [==============================] - 0s 4ms/step - loss: 18852.9255 - val_loss: 1770.2429\n",
      "Epoch 170/200\n",
      "16/16 [==============================] - 0s 4ms/step - loss: 20807.8320 - val_loss: 1631.4214\n",
      "Epoch 171/200\n",
      "16/16 [==============================] - 0s 4ms/step - loss: 11689.9014 - val_loss: 1491.1462\n",
      "Epoch 172/200\n",
      "16/16 [==============================] - 0s 4ms/step - loss: 14591.0034 - val_loss: 1366.0706\n",
      "Epoch 173/200\n",
      "16/16 [==============================] - 0s 5ms/step - loss: 20098.4784 - val_loss: 1246.6395\n",
      "Epoch 174/200\n",
      "16/16 [==============================] - 0s 4ms/step - loss: 22493.4301 - val_loss: 1129.7826\n",
      "Epoch 175/200\n",
      "16/16 [==============================] - 0s 4ms/step - loss: 13163.0799 - val_loss: 1024.9884\n",
      "Epoch 176/200\n",
      "16/16 [==============================] - 0s 4ms/step - loss: 17124.4965 - val_loss: 919.6592\n",
      "Epoch 177/200\n",
      "16/16 [==============================] - 0s 4ms/step - loss: 13307.3024 - val_loss: 825.6342\n",
      "Epoch 178/200\n",
      "16/16 [==============================] - 0s 5ms/step - loss: 23015.8149 - val_loss: 738.4492\n",
      "Epoch 179/200\n",
      "16/16 [==============================] - 0s 4ms/step - loss: 27406.0546 - val_loss: 658.3373\n",
      "Epoch 180/200\n",
      "16/16 [==============================] - 0s 4ms/step - loss: 15033.7606 - val_loss: 581.7025\n",
      "Epoch 181/200\n",
      "16/16 [==============================] - 0s 4ms/step - loss: 18187.4345 - val_loss: 510.4164\n",
      "Epoch 182/200\n",
      "16/16 [==============================] - 0s 4ms/step - loss: 22493.8479 - val_loss: 450.1104\n",
      "Epoch 183/200\n",
      "16/16 [==============================] - 0s 4ms/step - loss: 7865.2710 - val_loss: 391.9499\n",
      "Epoch 184/200\n",
      "16/16 [==============================] - 0s 6ms/step - loss: 20197.1936 - val_loss: 339.1142\n",
      "Epoch 185/200\n",
      "16/16 [==============================] - 0s 4ms/step - loss: 13105.7940 - val_loss: 295.4473\n",
      "Epoch 186/200\n",
      "16/16 [==============================] - 0s 4ms/step - loss: 13877.2017 - val_loss: 253.4170\n",
      "Epoch 187/200\n",
      "16/16 [==============================] - 0s 4ms/step - loss: 19805.9770 - val_loss: 217.3504\n",
      "Epoch 188/200\n",
      "16/16 [==============================] - 0s 4ms/step - loss: 28569.0366 - val_loss: 189.2541\n",
      "Epoch 189/200\n",
      "16/16 [==============================] - 0s 4ms/step - loss: 15594.2088 - val_loss: 164.4772\n",
      "Epoch 190/200\n",
      "16/16 [==============================] - 0s 5ms/step - loss: 15215.1179 - val_loss: 145.3400\n",
      "Epoch 191/200\n",
      "16/16 [==============================] - 0s 4ms/step - loss: 20834.7618 - val_loss: 130.5953\n",
      "Epoch 192/200\n",
      "16/16 [==============================] - 0s 4ms/step - loss: 14254.4774 - val_loss: 121.6033\n",
      "Epoch 193/200\n",
      "16/16 [==============================] - 0s 4ms/step - loss: 19567.2339 - val_loss: 116.9386\n",
      "Epoch 194/200\n",
      "16/16 [==============================] - 0s 4ms/step - loss: 12709.2583 - val_loss: 116.8163\n",
      "Epoch 195/200\n",
      "16/16 [==============================] - 0s 4ms/step - loss: 14722.7546 - val_loss: 121.3086\n",
      "Epoch 196/200\n",
      "16/16 [==============================] - 0s 3ms/step - loss: 21854.3118 - val_loss: 130.5445\n",
      "Epoch 197/200\n",
      "16/16 [==============================] - 0s 4ms/step - loss: 18819.8050 - val_loss: 143.2284\n",
      "Epoch 198/200\n",
      "16/16 [==============================] - 0s 4ms/step - loss: 11764.4781 - val_loss: 160.8449\n",
      "Epoch 199/200\n",
      "16/16 [==============================] - 0s 4ms/step - loss: 14849.1451 - val_loss: 182.0898\n",
      "Epoch 200/200\n",
      "16/16 [==============================] - 0s 4ms/step - loss: 11865.0814 - val_loss: 207.4399\n"
     ]
    }
   ],
   "source": [
    "model = Sequential()\n",
    "model.add(Dense(1, input_dim=1, activation='linear'))\n",
    "model.compile(optimizer='adam', loss='mse')\n",
    "model.summary()\n",
    "hist = model.fit(x_train, y_train, validation_split=0.2, shuffle=True,\n",
    "                epochs=200, batch_size=1)"
   ]
  },
  {
   "cell_type": "code",
   "execution_count": 28,
   "metadata": {},
   "outputs": [
    {
     "data": {
      "image/png": "[encoded data removed]",
      "text/plain": [
       "<Figure size 720x360 with 1 Axes>"
      ]
     },
     "metadata": {
      "needs_background": "light"
     },
     "output_type": "display_data"
    }
   ],
   "source": [
    "import matplotlib.pyplot as plt\n",
    "%matplotlib inline  \n",
    "\n",
    "fig, loss_ax = plt.subplots()\n",
    "# plt.figure(figsize=(6,4)) # ERROR\n",
    "fig.set_size_inches(10, 5)  # 챠트 크기 설정\n",
    "\n",
    "# 왼쪽 y 축 설정\n",
    "loss_ax.plot(hist.history['loss'], 'y', label='train loss')\n",
    "loss_ax.plot(hist.history['val_loss'], 'r', label='val loss')\n",
    "loss_ax.set_ylim([0.0, 332796.5625]) # 값을 반영하여 변경 ★\n",
    "\n",
    "# 축 레이블 설정\n",
    "loss_ax.set_xlabel('epoch')  # 학습 횟수\n",
    "loss_ax.set_ylabel('loss')   # 오차\n",
    "\n",
    "loss_ax.legend(loc='upper left') # 오차 레이블 위치\n",
    "\n",
    "plt.show()\n",
    "# train loss: 하강하면 훈련이 정상적으로 진행되고 있음\n",
    "# val loss: 하강하면 훈련되지 않은 데이터를 대상으로 한 테스트도 정상적으로 진행됨."
   ]
  },
  {
   "cell_type": "code",
   "execution_count": 29,
   "metadata": {},
   "outputs": [
    {
     "name": "stdout",
     "output_type": "stream",
     "text": [
      "(5,)\n"
     ]
    }
   ],
   "source": [
    "# 테스트 데이터 준비, 훈련/검증에 사용하지 않은 데이터\n",
    "x = np.array([50, 120, 140, 160, 250])\n",
    "print(x.shape)"
   ]
  },
  {
   "cell_type": "code",
   "execution_count": 33,
   "metadata": {},
   "outputs": [
    {
     "name": "stdout",
     "output_type": "stream",
     "text": [
      "(5, 1)\n",
      "[[128.24226]\n",
      " [304.32135]\n",
      " [354.62967]\n",
      " [404.93796]\n",
      " [631.3254 ]]\n"
     ]
    }
   ],
   "source": [
    "p=model.predict(x) # 모델 사용\n",
    "print(p.shape)\n",
    "print(p)"
   ]
  },
  {
   "cell_type": "code",
   "execution_count": 34,
   "metadata": {},
   "outputs": [
    {
     "data": {
      "image/png": "[encoded data removed]",
      "text/plain": [
       "<Figure size 432x288 with 1 Axes>"
      ]
     },
     "metadata": {
      "needs_background": "light"
     },
     "output_type": "display_data"
    }
   ],
   "source": [
    "x_train = ds[:, 0]\n",
    "y_train = ds[:, 1]\n",
    "plt.plot(x_train, y_train)\n",
    "plt.plot(x_train, y_train, 'o')\n",
    "plt.plot(x, p)\n",
    "plt.plot(x, p, 'o')\n",
    "plt.show()"
   ]
  },
  {
   "cell_type": "code",
   "execution_count": 35,
   "metadata": {},
   "outputs": [],
   "source": [
    "# 변수 1개를 가지고 매출액을 판단하는 것은 매우 특성이 부족함을 알 수 있다.\n",
    "# 예) 자율 학습 시간 -> 성적\n",
    "# 예) 자율 학습 시간 + 학원 + 온라인 강의 + 도서 구입 권수 -> 성적"
   ]
  },
  {
   "cell_type": "code",
   "execution_count": 36,
   "metadata": {},
   "outputs": [],
   "source": [
    "model.save('./data/Click.h5')"
   ]
  },
  {
   "cell_type": "code",
   "execution_count": 37,
   "metadata": {},
   "outputs": [],
   "source": [
    "model = load_model('./data/Click.h5')"
   ]
  },
  {
   "cell_type": "code",
   "execution_count": 39,
   "metadata": {},
   "outputs": [
    {
     "name": "stdout",
     "output_type": "stream",
     "text": [
      "광고비를 입력하세요.200\n",
      "[[505.5546]]\n"
     ]
    }
   ],
   "source": [
    "pay = int(input('광고비를 입력하세요.'))\n",
    "x = np.array([pay])\n",
    "p=model.predict(x)\n",
    "print(p)"
   ]
  },
  {
   "cell_type": "code",
   "execution_count": null,
   "metadata": {},
   "outputs": [],
   "source": []
  }
 ],
 "metadata": {
  "kernelspec": {
   "display_name": "ai",
   "language": "python",
   "name": "ai"
  },
  "language_info": {
   "codemirror_mode": {
    "name": "ipython",
    "version": 3
   },
   "file_extension": ".py",
   "mimetype": "text/x-python",
   "name": "python",
   "nbconvert_exporter": "python",
   "pygments_lexer": "ipython3",
   "version": "3.7.11"
  }
 },
 "nbformat": 4,
 "nbformat_minor": 4
}
