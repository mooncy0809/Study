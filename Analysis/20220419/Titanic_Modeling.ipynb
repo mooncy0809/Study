{
 "cells": [
  {
   "cell_type": "markdown",
   "metadata": {},
   "source": [
    "### Modeling: 결과를 산출하는 공식을 제작하는 과정, 공식의 계수(Intercepter, Coefficient)를 찾아내는 과정"
   ]
  },
  {
   "cell_type": "code",
   "execution_count": 33,
   "metadata": {},
   "outputs": [],
   "source": [
    "import warnings\n",
    "warnings.filterwarnings(\"ignore\")\n",
    "\n",
    "import random\n",
    "import pandas as pd\n",
    "import numpy as np\n",
    "\n",
    "%matplotlib inline\n",
    "import matplotlib.pyplot as plt\n",
    "import seaborn as sns\n",
    "\n",
    "plt.style.use('ggplot')"
   ]
  },
  {
   "cell_type": "code",
   "execution_count": 34,
   "metadata": {},
   "outputs": [],
   "source": [
    "# 전처리가 완료된 csv 파일 읽기\n",
    "X_train = pd.read_csv('./data/x_train.csv')\n",
    "Y_train = pd.read_csv('./data/y_train.csv')\n",
    "x_test = pd.read_csv('./data/x_test.csv')"
   ]
  },
  {
   "cell_type": "code",
   "execution_count": 35,
   "metadata": {},
   "outputs": [
    {
     "name": "stdout",
     "output_type": "stream",
     "text": [
      "Requirement already satisfied: lightgbm==2.3.1 in c:\\programdata\\anaconda3\\envs\\ai\\lib\\site-packages (2.3.1)\n",
      "Requirement already satisfied: scikit-learn in c:\\programdata\\anaconda3\\envs\\ai\\lib\\site-packages (from lightgbm==2.3.1) (1.0.2)\n",
      "Requirement already satisfied: numpy in c:\\programdata\\anaconda3\\envs\\ai\\lib\\site-packages (from lightgbm==2.3.1) (1.19.5)\n",
      "Requirement already satisfied: scipy in c:\\programdata\\anaconda3\\envs\\ai\\lib\\site-packages (from lightgbm==2.3.1) (1.7.3)\n",
      "Requirement already satisfied: threadpoolctl>=2.0.0 in c:\\programdata\\anaconda3\\envs\\ai\\lib\\site-packages (from scikit-learn->lightgbm==2.3.1) (2.2.0)\n",
      "Requirement already satisfied: joblib>=0.11 in c:\\programdata\\anaconda3\\envs\\ai\\lib\\site-packages (from scikit-learn->lightgbm==2.3.1) (1.1.0)\n"
     ]
    }
   ],
   "source": [
    "# LightGBM package 설치\n",
    "!pip install lightgbm==2.3.1"
   ]
  },
  {
   "cell_type": "code",
   "execution_count": 36,
   "metadata": {},
   "outputs": [
    {
     "name": "stdout",
     "output_type": "stream",
     "text": [
      "2.3.1\n"
     ]
    }
   ],
   "source": [
    "import lightgbm as lgb\n",
    "print(lgb.__version__)"
   ]
  },
  {
   "cell_type": "code",
   "execution_count": 37,
   "metadata": {},
   "outputs": [],
   "source": [
    "from sklearn.model_selection import train_test_split # 홀드 아웃\n",
    "from sklearn.model_selection import KFold # K-폴드 교차 검증"
   ]
  },
  {
   "cell_type": "code",
   "execution_count": 38,
   "metadata": {},
   "outputs": [
    {
     "name": "stdout",
     "output_type": "stream",
     "text": [
      "(712, 10)\n",
      "(712, 1)\n",
      "(179, 10)\n",
      "(179, 1)\n"
     ]
    }
   ],
   "source": [
    "x_train, x_valid, y_train, y_valid = train_test_split(X_train, Y_train, test_size=0.2)\n",
    "print(x_train.shape)\n",
    "print(y_train.shape)\n",
    "print(x_valid.shape)\n",
    "print(y_valid.shape)"
   ]
  },
  {
   "cell_type": "code",
   "execution_count": 39,
   "metadata": {},
   "outputs": [],
   "source": [
    "# LightGBM용 데이터셋 작성\n",
    "categories = [\"Embarked\", \"Pclass\", \"Sex\",\"honorific\",\"alone\"] # 카테고리\n",
    "lgb_train = lgb.Dataset(x_train, y_train, categorical_feature=categories)\n",
    "lgb_eval = lgb.Dataset(x_valid, y_valid,  categorical_feature=categories, reference=lgb_train)"
   ]
  },
  {
   "cell_type": "code",
   "execution_count": 40,
   "metadata": {},
   "outputs": [],
   "source": [
    "lgbm_params = { # 하이퍼 파라미터\n",
    "    \"objective\":\"binary\", # 이항 분류       \n",
    "    \"random_seed\":1234,\n",
    "}"
   ]
  },
  {
   "cell_type": "code",
   "execution_count": 41,
   "metadata": {},
   "outputs": [
    {
     "name": "stdout",
     "output_type": "stream",
     "text": [
      "Training until validation scores don't improve for 5 rounds\n",
      "[10]\tvalid_0's binary_logloss: 0.47041\n",
      "[20]\tvalid_0's binary_logloss: 0.419673\n",
      "[30]\tvalid_0's binary_logloss: 0.403952\n",
      "Early stopping, best iteration is:\n",
      "[34]\tvalid_0's binary_logloss: 0.403438\n"
     ]
    }
   ],
   "source": [
    "# 훈련\n",
    "# 부트스트랩: 동일한 크기의 데이터를 랜덤 복원 추출\n",
    "model_lgb = lgb.train(lgbm_params,         # 하이퍼 파라미터\n",
    "                      lgb_train,           # 훈련 데이터\n",
    "                      valid_sets=lgb_eval, # 평가 데이터\n",
    "                      num_boost_round=100, # 학습 횟수, boost: 부트스트랩\n",
    "                      early_stopping_rounds=5, # 오차 증가 인정 횟수\n",
    "                      verbose_eval=10)     # 학습 결과의 표시 빈도\n",
    "# [15] valid_0's binary_logloss: 0.512474:\n",
    "# 15번째 학습이 가장 우수한 결과, 손실이 가장 적음"
   ]
  },
  {
   "cell_type": "code",
   "execution_count": 42,
   "metadata": {},
   "outputs": [
    {
     "name": "stdout",
     "output_type": "stream",
     "text": [
      "[ 55  25 298  16  30 373  26   8  43   8]\n",
      "Index(['Pclass', 'Sex', 'Age', 'SibSp', 'Parch', 'Fare', 'Embarked',\n",
      "       'honorific', 'family_num', 'alone'],\n",
      "      dtype='object')\n"
     ]
    }
   ],
   "source": [
    "# 결과(y_train)를 예측하는 훈련 과정중에 나타난 각 변수의 중요도 확인\n",
    "print(model_lgb.feature_importance())\n",
    "print(x_train.columns) # 'Fare'가 가장 중요"
   ]
  },
  {
   "cell_type": "code",
   "execution_count": 43,
   "metadata": {},
   "outputs": [
    {
     "data": {
      "text/html": [
       "<div>\n",
       "<style scoped>\n",
       "    .dataframe tbody tr th:only-of-type {\n",
       "        vertical-align: middle;\n",
       "    }\n",
       "\n",
       "    .dataframe tbody tr th {\n",
       "        vertical-align: top;\n",
       "    }\n",
       "\n",
       "    .dataframe thead th {\n",
       "        text-align: right;\n",
       "    }\n",
       "</style>\n",
       "<table border=\"1\" class=\"dataframe\">\n",
       "  <thead>\n",
       "    <tr style=\"text-align: right;\">\n",
       "      <th></th>\n",
       "      <th>importance</th>\n",
       "    </tr>\n",
       "  </thead>\n",
       "  <tbody>\n",
       "    <tr>\n",
       "      <th>honorific</th>\n",
       "      <td>8</td>\n",
       "    </tr>\n",
       "    <tr>\n",
       "      <th>alone</th>\n",
       "      <td>8</td>\n",
       "    </tr>\n",
       "    <tr>\n",
       "      <th>SibSp</th>\n",
       "      <td>16</td>\n",
       "    </tr>\n",
       "    <tr>\n",
       "      <th>Sex</th>\n",
       "      <td>25</td>\n",
       "    </tr>\n",
       "    <tr>\n",
       "      <th>Embarked</th>\n",
       "      <td>26</td>\n",
       "    </tr>\n",
       "  </tbody>\n",
       "</table>\n",
       "</div>"
      ],
      "text/plain": [
       "           importance\n",
       "honorific           8\n",
       "alone               8\n",
       "SibSp              16\n",
       "Sex                25\n",
       "Embarked           26"
      ]
     },
     "execution_count": 43,
     "metadata": {},
     "output_type": "execute_result"
    }
   ],
   "source": [
    "# index=x_train.columns: 항목 명\n",
    "importance = pd.DataFrame(model_lgb.feature_importance(), index=x_train.columns, columns=[\"importance\"]).sort_values(by=\"importance\",ascending =True)\n",
    "importance.head()"
   ]
  },
  {
   "cell_type": "code",
   "execution_count": 44,
   "metadata": {},
   "outputs": [
    {
     "data": {
      "image/png": "[encoded data removed]",
      "text/plain": [
       "<Figure size 432x288 with 1 Axes>"
      ]
     },
     "metadata": {},
     "output_type": "display_data"
    }
   ],
   "source": [
    "importance.plot.barh()\n",
    "plt.show()"
   ]
  },
  {
   "cell_type": "code",
   "execution_count": 45,
   "metadata": {},
   "outputs": [
    {
     "name": "stdout",
     "output_type": "stream",
     "text": [
      "(179,)\n",
      "<class 'numpy.ndarray'>\n",
      "[0.95692177 0.16856478 0.27073274 0.10092573 0.97317663 0.95831106\n",
      " 0.68895279 0.29468227 0.49818778 0.35302808 0.78035005 0.14358429\n",
      " 0.5257045  0.189039   0.0601553  0.97352212 0.10885308 0.43832206\n",
      " 0.1393866  0.13030172 0.07944116 0.95569269 0.91696778 0.27143574\n",
      " 0.96994579 0.95736851 0.12147631 0.07012654 0.7054672  0.71312318\n",
      " 0.18329266 0.95715237 0.07341951 0.4777848  0.25309838 0.19549018\n",
      " 0.82237472 0.07907935 0.69046839 0.24710951 0.97446969 0.6299406\n",
      " 0.04414324 0.22361678 0.40616642 0.73927506 0.7104195  0.15884801\n",
      " 0.96228708 0.85855449 0.07126786 0.35777953 0.23291963 0.12147631\n",
      " 0.97603167 0.95864297 0.08898626 0.08477148 0.78007311 0.17876723\n",
      " 0.32623958 0.44821116 0.0667529  0.05069093 0.69046839 0.06316039\n",
      " 0.54183497 0.21092438 0.95690762 0.12344047 0.31362236 0.25309838\n",
      " 0.04384576 0.28556161 0.23291963 0.15743631 0.13731898 0.97470097\n",
      " 0.25309838 0.96959916 0.07598038 0.04980934 0.56717266 0.41679084\n",
      " 0.05442505 0.21409376 0.0667529  0.44742939 0.04925944 0.97845088\n",
      " 0.0263608  0.97102376 0.97102376 0.18197884 0.07845091 0.02324917\n",
      " 0.65200293 0.91928607 0.0492796  0.54326878 0.08760119 0.95736851\n",
      " 0.51981627 0.15884801 0.0538152  0.27499076 0.36074743 0.37969048\n",
      " 0.04414324 0.24053148 0.9549322  0.05686987 0.11512072 0.07575522\n",
      " 0.95690762 0.95045598 0.93126529 0.21091894 0.31608574 0.05397806\n",
      " 0.09515929 0.28644771 0.0628726  0.48984443 0.10935762 0.05069093\n",
      " 0.88828696 0.10495424 0.21945988 0.07999101 0.82713131 0.59584578\n",
      " 0.15869384 0.17226696 0.08409997 0.15454222 0.04138248 0.25309838\n",
      " 0.04138248 0.48574062 0.02445885 0.10856297 0.91206718 0.21907208\n",
      " 0.07697411 0.41293965 0.06984447 0.75816121 0.37047753 0.32317287\n",
      " 0.18437052 0.89918756 0.28787299 0.2053859  0.2338775  0.04574015\n",
      " 0.06211481 0.12423869 0.09938754 0.95439289 0.14787639 0.10513697\n",
      " 0.05069093 0.09825854 0.15150628 0.96474037 0.20976158 0.39758734\n",
      " 0.16441348 0.96856049 0.69046839 0.07346583 0.66349849 0.21091894\n",
      " 0.66602417 0.71692725 0.08189277 0.38323511 0.11441477]\n"
     ]
    }
   ],
   "source": [
    "# 검증, 사망: 0 ~ 1: 생존 \n",
    "y_pred = model_lgb.predict(x_valid, num_iteration=model_lgb.best_iteration)\n",
    "print(y_pred.shape)\n",
    "print(type(y_pred))\n",
    "print(y_pred)"
   ]
  },
  {
   "cell_type": "code",
   "execution_count": 46,
   "metadata": {},
   "outputs": [
    {
     "data": {
      "text/plain": [
       "0.8324022346368715"
      ]
     },
     "execution_count": 46,
     "metadata": {},
     "output_type": "execute_result"
    }
   ],
   "source": [
    "# 훈련 데이터는 정답을 알고 있는 상황\n",
    "from sklearn.metrics import accuracy_score\n",
    "accuracy_score(y_valid, np.round(y_pred))"
   ]
  },
  {
   "cell_type": "code",
   "execution_count": 47,
   "metadata": {},
   "outputs": [],
   "source": [
    "lgbm_params = { # 하이퍼 파라미터 변경 시도\n",
    "    \"objective\":\"binary\",\n",
    "    \"max_bin\":331,     # 분기 1개에 들어가는 데이터의 최댓값\n",
    "    \"num_leaves\": 20,  # 하나의 결정 트리에 포함되는 최대 노드 갯수\n",
    "    \"min_data_in_leaf\": 57, # 결정 트리중 하나의 가지당 할당되는 데이터 수\n",
    "    \"andom_seed\":1234,\n",
    "}"
   ]
  },
  {
   "cell_type": "code",
   "execution_count": 48,
   "metadata": {},
   "outputs": [
    {
     "name": "stdout",
     "output_type": "stream",
     "text": [
      "Training until validation scores don't improve for 30 rounds\n",
      "[10]\tvalid_0's binary_logloss: 0.476238\n",
      "[20]\tvalid_0's binary_logloss: 0.431614\n",
      "[30]\tvalid_0's binary_logloss: 0.417589\n",
      "[40]\tvalid_0's binary_logloss: 0.4087\n",
      "[50]\tvalid_0's binary_logloss: 0.409561\n",
      "[60]\tvalid_0's binary_logloss: 0.410789\n",
      "[70]\tvalid_0's binary_logloss: 0.411001\n",
      "Early stopping, best iteration is:\n",
      "[43]\tvalid_0's binary_logloss: 0.408348\n"
     ]
    }
   ],
   "source": [
    "# 훈련\n",
    "# 부트스트랩: 동일한 크기의 데이터를 랜덤 복원 추출\n",
    "lgb_train = lgb.Dataset(x_train, y_train, categorical_feature=categories)\n",
    "lgb_eval = lgb.Dataset(x_valid, y_valid,  categorical_feature=categories, reference=lgb_train)\n",
    "\n",
    "model_lgb = lgb.train(lgbm_params,         # 하이퍼 파라미터\n",
    "                      lgb_train,           # 훈련 데이터\n",
    "                      valid_sets=lgb_eval, # 평가 데이터\n",
    "                      num_boost_round=200, # 학습 횟수, boost: 부트스트랩\n",
    "                      early_stopping_rounds=30, # 오차 증가 인정 횟수\n",
    "                      verbose_eval=10)     # 학습 결과의 표시 빈도\n",
    "# [21] valid_0's binary_logloss:\n",
    "# 0.500305 21번째 학습이 가장 우수한 결과, 손실이 가장 적음"
   ]
  },
  {
   "cell_type": "code",
   "execution_count": 49,
   "metadata": {},
   "outputs": [
    {
     "data": {
      "text/plain": [
       "0.8268156424581006"
      ]
     },
     "execution_count": 49,
     "metadata": {},
     "output_type": "execute_result"
    }
   ],
   "source": [
    "y_pred = model_lgb.predict(x_valid, num_iteration=model_lgb.best_iteration)\n",
    "accuracy_score(y_valid, np.round(y_pred))"
   ]
  },
  {
   "cell_type": "code",
   "execution_count": 50,
   "metadata": {},
   "outputs": [
    {
     "data": {
      "text/plain": [
       "array([1, 0, 0, 0, 1, 1, 1, 0, 0, 1, 1, 0, 0, 0, 0, 1, 0, 0, 0, 0, 0, 1,\n",
       "       1, 0, 1, 1, 0, 0, 1, 0, 0, 1, 0, 1, 0, 0, 1, 0, 1, 0, 1, 0, 0, 0,\n",
       "       0, 1, 0, 0, 1, 1, 0, 0, 0, 0, 1, 1, 0, 0, 0, 0, 0, 1, 0, 0, 1, 0,\n",
       "       1, 0, 1, 0, 0, 0, 0, 0, 0, 0, 0, 1, 0, 1, 0, 0, 1, 0, 0, 0, 0, 0,\n",
       "       0, 1, 0, 1, 1, 0, 0, 0, 0, 1, 0, 1, 0, 1, 1, 0, 0, 0, 0, 0, 0, 0,\n",
       "       1, 0, 0, 0, 1, 1, 1, 0, 0, 0, 0, 0, 0, 0, 0, 0, 1, 0, 0, 0, 1, 1,\n",
       "       0, 0, 0, 0, 0, 0, 0, 0, 0, 0, 1, 0, 0, 0, 0, 1, 0, 0, 0, 1, 1, 0,\n",
       "       0, 0, 0, 0, 0, 1, 0, 0, 0, 0, 0, 1, 0, 0, 0, 1, 1, 0, 1, 0, 1, 1,\n",
       "       0, 1, 0])"
      ]
     },
     "execution_count": 50,
     "metadata": {},
     "output_type": "execute_result"
    }
   ],
   "source": [
    "preds_int = (y_pred > 0.5).astype(int) # 평균 > 0.5: 1, 0.5 <= 평균: 0 \n",
    "preds_int"
   ]
  },
  {
   "cell_type": "code",
   "execution_count": 51,
   "metadata": {},
   "outputs": [
    {
     "data": {
      "text/plain": [
       "0.8268156424581006"
      ]
     },
     "execution_count": 51,
     "metadata": {},
     "output_type": "execute_result"
    }
   ],
   "source": [
    "y_test = model_lgb.predict(x_test, num_iteration=model_lgb.best_iteration)\n",
    "accuracy_score(y_valid, np.round(y_pred))"
   ]
  },
  {
   "cell_type": "code",
   "execution_count": 52,
   "metadata": {},
   "outputs": [
    {
     "data": {
      "text/plain": [
       "array([0.07161789, 0.34242305, 0.07274806, 0.12939728, 0.45328676,\n",
       "       0.14702923, 0.44816719, 0.26335738, 0.74405302, 0.09094024,\n",
       "       0.08141409, 0.15565179, 0.96743542, 0.0468691 , 0.93367576,\n",
       "       0.96306462, 0.11463166, 0.16470548, 0.52199129, 0.48833435,\n",
       "       0.37943084, 0.61216303, 0.96150284, 0.47089457, 0.82931341,\n",
       "       0.04141516, 0.97361372, 0.17498562, 0.36984813, 0.17187265,\n",
       "       0.0468691 , 0.17506539, 0.32536572, 0.32536572, 0.39675168,\n",
       "       0.19627811, 0.43897656, 0.37757223, 0.08592656, 0.32637458,\n",
       "       0.050796  , 0.42960122, 0.04090213, 0.92169593, 0.93367576,\n",
       "       0.14441743, 0.34088684, 0.08102602, 0.93419322, 0.70995764,\n",
       "       0.41857796, 0.16504794, 0.7528841 , 0.86246782, 0.21716829,\n",
       "       0.29785868, 0.07324218, 0.14337212, 0.13080493, 0.95362595,\n",
       "       0.12549951, 0.21608496, 0.14697946, 0.69264752, 0.77425599,\n",
       "       0.96112198, 0.72338626, 0.28362981, 0.42001523, 0.81096344,\n",
       "       0.69883307, 0.08639337, 0.5484705 , 0.38886585, 0.96288437,\n",
       "       0.50354302, 0.12475158, 0.85115878, 0.16338943, 0.69883307,\n",
       "       0.54146423, 0.34909881, 0.15565179, 0.08141409, 0.17688498,\n",
       "       0.11682499, 0.63618057, 0.60149226, 0.29943346, 0.90684197,\n",
       "       0.37532397, 0.098654  , 0.83693076, 0.12475158, 0.4674398 ,\n",
       "       0.17574804, 0.92719704, 0.16463391, 0.63110841, 0.12909318,\n",
       "       0.94774438, 0.18905278, 0.08102602, 0.1703237 , 0.64368143,\n",
       "       0.16981157, 0.15814459, 0.08102602, 0.13743704, 0.10025042,\n",
       "       0.07339659, 0.70466001, 0.94045607, 0.72338626, 0.92719704,\n",
       "       0.18150752, 0.10232469, 0.65299849, 0.50354302, 0.95548087,\n",
       "       0.96061465, 0.07791384, 0.96358138, 0.07833175, 0.08102602,\n",
       "       0.63366273, 0.13946105, 0.67973726, 0.06264039, 0.08323917,\n",
       "       0.20963516, 0.44001817, 0.38956007, 0.0936115 , 0.04459411,\n",
       "       0.13182237, 0.20031638, 0.11169132, 0.43897656, 0.07658605,\n",
       "       0.23584143, 0.97844376, 0.27765582, 0.18030271, 0.33697315,\n",
       "       0.08391003, 0.34505613, 0.0746396 , 0.42960122, 0.37092417,\n",
       "       0.97036754, 0.1107564 , 0.07711354, 0.6491249 , 0.2465557 ,\n",
       "       0.13698087, 0.96836048, 0.61147735, 0.33697315, 0.48682137,\n",
       "       0.69264752, 0.54146423, 0.89458168, 0.07833175, 0.16903247,\n",
       "       0.61332131, 0.31099128, 0.07668389, 0.94771887, 0.38405245,\n",
       "       0.07833175, 0.15245912, 0.04781061, 0.10232469, 0.07658605,\n",
       "       0.94184098, 0.94184098, 0.37943084, 0.82299151, 0.93419322,\n",
       "       0.16338943, 0.45545777, 0.96349277, 0.08102602, 0.96435446,\n",
       "       0.08506867, 0.93785398, 0.13122996, 0.21423506, 0.06264039,\n",
       "       0.12887458, 0.30098905, 0.48773344, 0.06421833, 0.85399323,\n",
       "       0.06966936, 0.90309303, 0.68306264, 0.06901558, 0.62245116,\n",
       "       0.56860583, 0.56541017, 0.56798536, 0.96061465, 0.09983742,\n",
       "       0.30651975, 0.49435893, 0.08208356, 0.95594227, 0.11080823,\n",
       "       0.30964079, 0.07833175, 0.19051617, 0.85115878, 0.22870713,\n",
       "       0.33871793, 0.68402648, 0.34909881, 0.93419322, 0.12475158,\n",
       "       0.88919388, 0.07783291, 0.89019614, 0.12585624, 0.86118077,\n",
       "       0.52967009, 0.13946105, 0.69264752, 0.05823463, 0.12450256,\n",
       "       0.2129654 , 0.94298687, 0.10085031, 0.08497013, 0.45545777,\n",
       "       0.12462167, 0.37943084, 0.17922229, 0.89873893, 0.94008958,\n",
       "       0.86118077, 0.88202764, 0.38668547, 0.08141409, 0.3183901 ,\n",
       "       0.30888698, 0.96021637, 0.1101662 , 0.95548087, 0.44838467,\n",
       "       0.83119578, 0.12052608, 0.42522482, 0.07045283, 0.12714389,\n",
       "       0.07833175, 0.08102602, 0.10442993, 0.89873893, 0.12705219,\n",
       "       0.06686212, 0.11282539, 0.95480888, 0.61252613, 0.17998589,\n",
       "       0.08141409, 0.137484  , 0.07833175, 0.43897656, 0.11315748,\n",
       "       0.39801874, 0.08102602, 0.97036754, 0.49098608, 0.10232469,\n",
       "       0.93785398, 0.13743426, 0.05702177, 0.16414073, 0.06901558,\n",
       "       0.38405245, 0.51725925, 0.69264752, 0.59322012, 0.65299849,\n",
       "       0.05765948, 0.07833175, 0.41857796, 0.10232469, 0.12475158,\n",
       "       0.34505613, 0.44816719, 0.10232469, 0.52794575, 0.12714389,\n",
       "       0.1092008 , 0.9071018 , 0.17187265, 0.35902372, 0.08497355,\n",
       "       0.12794192, 0.17498214, 0.05641013, 0.07698469, 0.69264752,\n",
       "       0.84499426, 0.28422394, 0.58554905, 0.34909881, 0.26837437,\n",
       "       0.11315748, 0.17498562, 0.07833175, 0.35034679, 0.93419322,\n",
       "       0.72338626, 0.37943084, 0.10809956, 0.1539921 , 0.14571492,\n",
       "       0.1703237 , 0.20031638, 0.11169132, 0.55424851, 0.93975602,\n",
       "       0.11750975, 0.824138  , 0.39801874, 0.15686758, 0.06075346,\n",
       "       0.88202764, 0.39633308, 0.10232469, 0.70987169, 0.12264711,\n",
       "       0.31402812, 0.21608496, 0.0393252 , 0.21799263, 0.6418919 ,\n",
       "       0.10809956, 0.09971579, 0.1591691 , 0.93419322, 0.48773344,\n",
       "       0.68306264, 0.11169132, 0.48833435, 0.07981889, 0.95838302,\n",
       "       0.94008958, 0.09983742, 0.19051617, 0.11078123, 0.27531763,\n",
       "       0.14791699, 0.88833758, 0.07747596, 0.08102602, 0.59890462,\n",
       "       0.22156244, 0.96417062, 0.96035117, 0.12939728, 0.97036754,\n",
       "       0.30736009, 0.11682499, 0.53862917, 0.94008958, 0.17998589,\n",
       "       0.05854139, 0.96186954, 0.06633879, 0.0648131 , 0.92719704,\n",
       "       0.93057993, 0.31332771, 0.06389106, 0.27743402, 0.2465557 ,\n",
       "       0.08102602, 0.18871084, 0.56556681, 0.66458927, 0.15614334,\n",
       "       0.84140089, 0.16337661, 0.06288015, 0.15346662, 0.3183901 ,\n",
       "       0.38966928, 0.87119978, 0.72383677, 0.07024477, 0.0821601 ,\n",
       "       0.96349277, 0.180527  , 0.94008958, 0.14076546, 0.07755906,\n",
       "       0.96997336, 0.05702177, 0.97361372, 0.32436568, 0.31530596,\n",
       "       0.14628157, 0.06326582, 0.37943084, 0.69264752, 0.52397963,\n",
       "       0.69264752, 0.95521691, 0.48111642, 0.12475158, 0.85118449,\n",
       "       0.0311916 , 0.12475158, 0.67945415])"
      ]
     },
     "execution_count": 52,
     "metadata": {},
     "output_type": "execute_result"
    }
   ],
   "source": [
    "y_test"
   ]
  },
  {
   "cell_type": "code",
   "execution_count": 53,
   "metadata": {},
   "outputs": [
    {
     "data": {
      "text/plain": [
       "array([0, 0, 0, 0, 0, 0, 0, 0, 1, 0, 0, 0, 1, 0, 1, 1, 0, 0, 1, 0, 0, 1,\n",
       "       1, 0, 1, 0, 1, 0, 0, 0, 0, 0, 0, 0, 0, 0, 0, 0, 0, 0, 0, 0, 0, 1,\n",
       "       1, 0, 0, 0, 1, 1, 0, 0, 1, 1, 0, 0, 0, 0, 0, 1, 0, 0, 0, 1, 1, 1,\n",
       "       1, 0, 0, 1, 1, 0, 1, 0, 1, 1, 0, 1, 0, 1, 1, 0, 0, 0, 0, 0, 1, 1,\n",
       "       0, 1, 0, 0, 1, 0, 0, 0, 1, 0, 1, 0, 1, 0, 0, 0, 1, 0, 0, 0, 0, 0,\n",
       "       0, 1, 1, 1, 1, 0, 0, 1, 1, 1, 1, 0, 1, 0, 0, 1, 0, 1, 0, 0, 0, 0,\n",
       "       0, 0, 0, 0, 0, 0, 0, 0, 0, 1, 0, 0, 0, 0, 0, 0, 0, 0, 1, 0, 0, 1,\n",
       "       0, 0, 1, 1, 0, 0, 1, 1, 1, 0, 0, 1, 0, 0, 1, 0, 0, 0, 0, 0, 0, 1,\n",
       "       1, 0, 1, 1, 0, 0, 1, 0, 1, 0, 1, 0, 0, 0, 0, 0, 0, 0, 1, 0, 1, 1,\n",
       "       0, 1, 1, 1, 1, 1, 0, 0, 0, 0, 1, 0, 0, 0, 0, 1, 0, 0, 1, 0, 1, 0,\n",
       "       1, 0, 1, 0, 1, 1, 0, 1, 0, 0, 0, 1, 0, 0, 0, 0, 0, 0, 1, 1, 1, 1,\n",
       "       0, 0, 0, 0, 1, 0, 1, 0, 1, 0, 0, 0, 0, 0, 0, 0, 1, 0, 0, 0, 1, 1,\n",
       "       0, 0, 0, 0, 0, 0, 0, 0, 1, 0, 0, 1, 0, 0, 0, 0, 0, 1, 1, 1, 1, 0,\n",
       "       0, 0, 0, 0, 0, 0, 0, 1, 0, 0, 1, 0, 0, 0, 0, 0, 0, 0, 1, 1, 0, 1,\n",
       "       0, 0, 0, 0, 0, 0, 1, 1, 0, 0, 0, 0, 0, 0, 0, 1, 1, 0, 1, 0, 0, 0,\n",
       "       1, 0, 0, 1, 0, 0, 0, 0, 0, 1, 0, 0, 0, 1, 0, 1, 0, 0, 0, 1, 1, 0,\n",
       "       0, 0, 0, 0, 1, 0, 0, 1, 0, 1, 1, 0, 1, 0, 0, 1, 1, 0, 0, 1, 0, 0,\n",
       "       1, 1, 0, 0, 0, 0, 0, 0, 1, 1, 0, 1, 0, 0, 0, 0, 0, 1, 1, 0, 0, 1,\n",
       "       0, 1, 0, 0, 1, 0, 1, 0, 0, 0, 0, 0, 1, 1, 1, 1, 0, 0, 1, 0, 0, 1])"
      ]
     },
     "execution_count": 53,
     "metadata": {},
     "output_type": "execute_result"
    }
   ],
   "source": [
    "tests_int = (y_test > 0.5).astype(int) # 평균 > 0.5: 1, 0.5 <= 평균: 0 \n",
    "tests_int"
   ]
  },
  {
   "cell_type": "code",
   "execution_count": 54,
   "metadata": {},
   "outputs": [
    {
     "data": {
      "text/html": [
       "<div>\n",
       "<style scoped>\n",
       "    .dataframe tbody tr th:only-of-type {\n",
       "        vertical-align: middle;\n",
       "    }\n",
       "\n",
       "    .dataframe tbody tr th {\n",
       "        vertical-align: top;\n",
       "    }\n",
       "\n",
       "    .dataframe thead th {\n",
       "        text-align: right;\n",
       "    }\n",
       "</style>\n",
       "<table border=\"1\" class=\"dataframe\">\n",
       "  <thead>\n",
       "    <tr style=\"text-align: right;\">\n",
       "      <th></th>\n",
       "      <th>PassengerId</th>\n",
       "      <th>Survived</th>\n",
       "    </tr>\n",
       "  </thead>\n",
       "  <tbody>\n",
       "    <tr>\n",
       "      <th>0</th>\n",
       "      <td>892</td>\n",
       "      <td>0</td>\n",
       "    </tr>\n",
       "    <tr>\n",
       "      <th>1</th>\n",
       "      <td>893</td>\n",
       "      <td>0</td>\n",
       "    </tr>\n",
       "    <tr>\n",
       "      <th>2</th>\n",
       "      <td>894</td>\n",
       "      <td>0</td>\n",
       "    </tr>\n",
       "    <tr>\n",
       "      <th>3</th>\n",
       "      <td>895</td>\n",
       "      <td>0</td>\n",
       "    </tr>\n",
       "    <tr>\n",
       "      <th>4</th>\n",
       "      <td>896</td>\n",
       "      <td>0</td>\n",
       "    </tr>\n",
       "    <tr>\n",
       "      <th>...</th>\n",
       "      <td>...</td>\n",
       "      <td>...</td>\n",
       "    </tr>\n",
       "    <tr>\n",
       "      <th>413</th>\n",
       "      <td>1305</td>\n",
       "      <td>0</td>\n",
       "    </tr>\n",
       "    <tr>\n",
       "      <th>414</th>\n",
       "      <td>1306</td>\n",
       "      <td>1</td>\n",
       "    </tr>\n",
       "    <tr>\n",
       "      <th>415</th>\n",
       "      <td>1307</td>\n",
       "      <td>0</td>\n",
       "    </tr>\n",
       "    <tr>\n",
       "      <th>416</th>\n",
       "      <td>1308</td>\n",
       "      <td>0</td>\n",
       "    </tr>\n",
       "    <tr>\n",
       "      <th>417</th>\n",
       "      <td>1309</td>\n",
       "      <td>1</td>\n",
       "    </tr>\n",
       "  </tbody>\n",
       "</table>\n",
       "<p>418 rows × 2 columns</p>\n",
       "</div>"
      ],
      "text/plain": [
       "     PassengerId  Survived\n",
       "0            892         0\n",
       "1            893         0\n",
       "2            894         0\n",
       "3            895         0\n",
       "4            896         0\n",
       "..           ...       ...\n",
       "413         1305         0\n",
       "414         1306         1\n",
       "415         1307         0\n",
       "416         1308         0\n",
       "417         1309         1\n",
       "\n",
       "[418 rows x 2 columns]"
      ]
     },
     "execution_count": 54,
     "metadata": {},
     "output_type": "execute_result"
    }
   ],
   "source": [
    "submission = pd.read_csv('./data/gender_submission.csv')\n",
    "submission['Survived'] = tests_int # 기존에 변수가 있으면 덮어써짐.\n",
    "submission"
   ]
  },
  {
   "cell_type": "code",
   "execution_count": 55,
   "metadata": {},
   "outputs": [],
   "source": [
    "# Kaggle로 전송하는 파일명은 자유롭게 지정 가능\n",
    "submission.to_csv('./submission/titanic_submission01.csv', index=False)"
   ]
  },
  {
   "cell_type": "code",
   "execution_count": null,
   "metadata": {},
   "outputs": [],
   "source": []
  },
  {
   "cell_type": "markdown",
   "metadata": {},
   "source": [
    "### 교차 검증(참고)"
   ]
  },
  {
   "cell_type": "code",
   "execution_count": 56,
   "metadata": {},
   "outputs": [
    {
     "name": "stdout",
     "output_type": "stream",
     "text": [
      "▶ cnt: 1\n",
      "----- train_index -----\n",
      "[297 298 299 300 301 302 303 304 305 306 307 308 309 310 311 312 313 314\n",
      " 315 316 317 318 319 320 321 322 323 324 325 326 327 328 329 330 331 332\n",
      " 333 334 335 336 337 338 339 340 341 342 343 344 345 346 347 348 349 350\n",
      " 351 352 353 354 355 356 357 358 359 360 361 362 363 364 365 366 367 368\n",
      " 369 370 371 372 373 374 375 376 377 378 379 380 381 382 383 384 385 386\n",
      " 387 388 389 390 391 392 393 394 395 396 397 398 399 400 401 402 403 404\n",
      " 405 406 407 408 409 410 411 412 413 414 415 416 417 418 419 420 421 422\n",
      " 423 424 425 426 427 428 429 430 431 432 433 434 435 436 437 438 439 440\n",
      " 441 442 443 444 445 446 447 448 449 450 451 452 453 454 455 456 457 458\n",
      " 459 460 461 462 463 464 465 466 467 468 469 470 471 472 473 474 475 476\n",
      " 477 478 479 480 481 482 483 484 485 486 487 488 489 490 491 492 493 494\n",
      " 495 496 497 498 499 500 501 502 503 504 505 506 507 508 509 510 511 512\n",
      " 513 514 515 516 517 518 519 520 521 522 523 524 525 526 527 528 529 530\n",
      " 531 532 533 534 535 536 537 538 539 540 541 542 543 544 545 546 547 548\n",
      " 549 550 551 552 553 554 555 556 557 558 559 560 561 562 563 564 565 566\n",
      " 567 568 569 570 571 572 573 574 575 576 577 578 579 580 581 582 583 584\n",
      " 585 586 587 588 589 590 591 592 593 594 595 596 597 598 599 600 601 602\n",
      " 603 604 605 606 607 608 609 610 611 612 613 614 615 616 617 618 619 620\n",
      " 621 622 623 624 625 626 627 628 629 630 631 632 633 634 635 636 637 638\n",
      " 639 640 641 642 643 644 645 646 647 648 649 650 651 652 653 654 655 656\n",
      " 657 658 659 660 661 662 663 664 665 666 667 668 669 670 671 672 673 674\n",
      " 675 676 677 678 679 680 681 682 683 684 685 686 687 688 689 690 691 692\n",
      " 693 694 695 696 697 698 699 700 701 702 703 704 705 706 707 708 709 710\n",
      " 711 712 713 714 715 716 717 718 719 720 721 722 723 724 725 726 727 728\n",
      " 729 730 731 732 733 734 735 736 737 738 739 740 741 742 743 744 745 746\n",
      " 747 748 749 750 751 752 753 754 755 756 757 758 759 760 761 762 763 764\n",
      " 765 766 767 768 769 770 771 772 773 774 775 776 777 778 779 780 781 782\n",
      " 783 784 785 786 787 788 789 790 791 792 793 794 795 796 797 798 799 800\n",
      " 801 802 803 804 805 806 807 808 809 810 811 812 813 814 815 816 817 818\n",
      " 819 820 821 822 823 824 825 826 827 828 829 830 831 832 833 834 835 836\n",
      " 837 838 839 840 841 842 843 844 845 846 847 848 849 850 851 852 853 854\n",
      " 855 856 857 858 859 860 861 862 863 864 865 866 867 868 869 870 871 872\n",
      " 873 874 875 876 877 878 879 880 881 882 883 884 885 886 887 888 889 890]\n",
      "----- val_index -----\n",
      "[297 298 299 300 301 302 303 304 305 306 307 308 309 310 311 312 313 314\n",
      " 315 316 317 318 319 320 321 322 323 324 325 326 327 328 329 330 331 332\n",
      " 333 334 335 336 337 338 339 340 341 342 343 344 345 346 347 348 349 350\n",
      " 351 352 353 354 355 356 357 358 359 360 361 362 363 364 365 366 367 368\n",
      " 369 370 371 372 373 374 375 376 377 378 379 380 381 382 383 384 385 386\n",
      " 387 388 389 390 391 392 393 394 395 396 397 398 399 400 401 402 403 404\n",
      " 405 406 407 408 409 410 411 412 413 414 415 416 417 418 419 420 421 422\n",
      " 423 424 425 426 427 428 429 430 431 432 433 434 435 436 437 438 439 440\n",
      " 441 442 443 444 445 446 447 448 449 450 451 452 453 454 455 456 457 458\n",
      " 459 460 461 462 463 464 465 466 467 468 469 470 471 472 473 474 475 476\n",
      " 477 478 479 480 481 482 483 484 485 486 487 488 489 490 491 492 493 494\n",
      " 495 496 497 498 499 500 501 502 503 504 505 506 507 508 509 510 511 512\n",
      " 513 514 515 516 517 518 519 520 521 522 523 524 525 526 527 528 529 530\n",
      " 531 532 533 534 535 536 537 538 539 540 541 542 543 544 545 546 547 548\n",
      " 549 550 551 552 553 554 555 556 557 558 559 560 561 562 563 564 565 566\n",
      " 567 568 569 570 571 572 573 574 575 576 577 578 579 580 581 582 583 584\n",
      " 585 586 587 588 589 590 591 592 593 594 595 596 597 598 599 600 601 602\n",
      " 603 604 605 606 607 608 609 610 611 612 613 614 615 616 617 618 619 620\n",
      " 621 622 623 624 625 626 627 628 629 630 631 632 633 634 635 636 637 638\n",
      " 639 640 641 642 643 644 645 646 647 648 649 650 651 652 653 654 655 656\n",
      " 657 658 659 660 661 662 663 664 665 666 667 668 669 670 671 672 673 674\n",
      " 675 676 677 678 679 680 681 682 683 684 685 686 687 688 689 690 691 692\n",
      " 693 694 695 696 697 698 699 700 701 702 703 704 705 706 707 708 709 710\n",
      " 711 712 713 714 715 716 717 718 719 720 721 722 723 724 725 726 727 728\n",
      " 729 730 731 732 733 734 735 736 737 738 739 740 741 742 743 744 745 746\n",
      " 747 748 749 750 751 752 753 754 755 756 757 758 759 760 761 762 763 764\n",
      " 765 766 767 768 769 770 771 772 773 774 775 776 777 778 779 780 781 782\n",
      " 783 784 785 786 787 788 789 790 791 792 793 794 795 796 797 798 799 800\n",
      " 801 802 803 804 805 806 807 808 809 810 811 812 813 814 815 816 817 818\n",
      " 819 820 821 822 823 824 825 826 827 828 829 830 831 832 833 834 835 836\n",
      " 837 838 839 840 841 842 843 844 845 846 847 848 849 850 851 852 853 854\n",
      " 855 856 857 858 859 860 861 862 863 864 865 866 867 868 869 870 871 872\n",
      " 873 874 875 876 877 878 879 880 881 882 883 884 885 886 887 888 889 890]\n",
      "▶ cnt: 2\n",
      "----- train_index -----\n",
      "[  0   1   2   3   4   5   6   7   8   9  10  11  12  13  14  15  16  17\n",
      "  18  19  20  21  22  23  24  25  26  27  28  29  30  31  32  33  34  35\n",
      "  36  37  38  39  40  41  42  43  44  45  46  47  48  49  50  51  52  53\n",
      "  54  55  56  57  58  59  60  61  62  63  64  65  66  67  68  69  70  71\n",
      "  72  73  74  75  76  77  78  79  80  81  82  83  84  85  86  87  88  89\n",
      "  90  91  92  93  94  95  96  97  98  99 100 101 102 103 104 105 106 107\n",
      " 108 109 110 111 112 113 114 115 116 117 118 119 120 121 122 123 124 125\n",
      " 126 127 128 129 130 131 132 133 134 135 136 137 138 139 140 141 142 143\n",
      " 144 145 146 147 148 149 150 151 152 153 154 155 156 157 158 159 160 161\n",
      " 162 163 164 165 166 167 168 169 170 171 172 173 174 175 176 177 178 179\n",
      " 180 181 182 183 184 185 186 187 188 189 190 191 192 193 194 195 196 197\n",
      " 198 199 200 201 202 203 204 205 206 207 208 209 210 211 212 213 214 215\n",
      " 216 217 218 219 220 221 222 223 224 225 226 227 228 229 230 231 232 233\n",
      " 234 235 236 237 238 239 240 241 242 243 244 245 246 247 248 249 250 251\n",
      " 252 253 254 255 256 257 258 259 260 261 262 263 264 265 266 267 268 269\n",
      " 270 271 272 273 274 275 276 277 278 279 280 281 282 283 284 285 286 287\n",
      " 288 289 290 291 292 293 294 295 296 594 595 596 597 598 599 600 601 602\n",
      " 603 604 605 606 607 608 609 610 611 612 613 614 615 616 617 618 619 620\n",
      " 621 622 623 624 625 626 627 628 629 630 631 632 633 634 635 636 637 638\n",
      " 639 640 641 642 643 644 645 646 647 648 649 650 651 652 653 654 655 656\n",
      " 657 658 659 660 661 662 663 664 665 666 667 668 669 670 671 672 673 674\n",
      " 675 676 677 678 679 680 681 682 683 684 685 686 687 688 689 690 691 692\n",
      " 693 694 695 696 697 698 699 700 701 702 703 704 705 706 707 708 709 710\n",
      " 711 712 713 714 715 716 717 718 719 720 721 722 723 724 725 726 727 728\n",
      " 729 730 731 732 733 734 735 736 737 738 739 740 741 742 743 744 745 746\n",
      " 747 748 749 750 751 752 753 754 755 756 757 758 759 760 761 762 763 764\n",
      " 765 766 767 768 769 770 771 772 773 774 775 776 777 778 779 780 781 782\n",
      " 783 784 785 786 787 788 789 790 791 792 793 794 795 796 797 798 799 800\n",
      " 801 802 803 804 805 806 807 808 809 810 811 812 813 814 815 816 817 818\n",
      " 819 820 821 822 823 824 825 826 827 828 829 830 831 832 833 834 835 836\n",
      " 837 838 839 840 841 842 843 844 845 846 847 848 849 850 851 852 853 854\n",
      " 855 856 857 858 859 860 861 862 863 864 865 866 867 868 869 870 871 872\n",
      " 873 874 875 876 877 878 879 880 881 882 883 884 885 886 887 888 889 890]\n",
      "----- val_index -----\n",
      "[  0   1   2   3   4   5   6   7   8   9  10  11  12  13  14  15  16  17\n",
      "  18  19  20  21  22  23  24  25  26  27  28  29  30  31  32  33  34  35\n",
      "  36  37  38  39  40  41  42  43  44  45  46  47  48  49  50  51  52  53\n",
      "  54  55  56  57  58  59  60  61  62  63  64  65  66  67  68  69  70  71\n",
      "  72  73  74  75  76  77  78  79  80  81  82  83  84  85  86  87  88  89\n",
      "  90  91  92  93  94  95  96  97  98  99 100 101 102 103 104 105 106 107\n",
      " 108 109 110 111 112 113 114 115 116 117 118 119 120 121 122 123 124 125\n",
      " 126 127 128 129 130 131 132 133 134 135 136 137 138 139 140 141 142 143\n",
      " 144 145 146 147 148 149 150 151 152 153 154 155 156 157 158 159 160 161\n",
      " 162 163 164 165 166 167 168 169 170 171 172 173 174 175 176 177 178 179\n",
      " 180 181 182 183 184 185 186 187 188 189 190 191 192 193 194 195 196 197\n",
      " 198 199 200 201 202 203 204 205 206 207 208 209 210 211 212 213 214 215\n",
      " 216 217 218 219 220 221 222 223 224 225 226 227 228 229 230 231 232 233\n",
      " 234 235 236 237 238 239 240 241 242 243 244 245 246 247 248 249 250 251\n",
      " 252 253 254 255 256 257 258 259 260 261 262 263 264 265 266 267 268 269\n",
      " 270 271 272 273 274 275 276 277 278 279 280 281 282 283 284 285 286 287\n",
      " 288 289 290 291 292 293 294 295 296 594 595 596 597 598 599 600 601 602\n",
      " 603 604 605 606 607 608 609 610 611 612 613 614 615 616 617 618 619 620\n",
      " 621 622 623 624 625 626 627 628 629 630 631 632 633 634 635 636 637 638\n",
      " 639 640 641 642 643 644 645 646 647 648 649 650 651 652 653 654 655 656\n",
      " 657 658 659 660 661 662 663 664 665 666 667 668 669 670 671 672 673 674\n",
      " 675 676 677 678 679 680 681 682 683 684 685 686 687 688 689 690 691 692\n",
      " 693 694 695 696 697 698 699 700 701 702 703 704 705 706 707 708 709 710\n",
      " 711 712 713 714 715 716 717 718 719 720 721 722 723 724 725 726 727 728\n",
      " 729 730 731 732 733 734 735 736 737 738 739 740 741 742 743 744 745 746\n",
      " 747 748 749 750 751 752 753 754 755 756 757 758 759 760 761 762 763 764\n",
      " 765 766 767 768 769 770 771 772 773 774 775 776 777 778 779 780 781 782\n",
      " 783 784 785 786 787 788 789 790 791 792 793 794 795 796 797 798 799 800\n",
      " 801 802 803 804 805 806 807 808 809 810 811 812 813 814 815 816 817 818\n",
      " 819 820 821 822 823 824 825 826 827 828 829 830 831 832 833 834 835 836\n",
      " 837 838 839 840 841 842 843 844 845 846 847 848 849 850 851 852 853 854\n",
      " 855 856 857 858 859 860 861 862 863 864 865 866 867 868 869 870 871 872\n",
      " 873 874 875 876 877 878 879 880 881 882 883 884 885 886 887 888 889 890]\n",
      "▶ cnt: 3\n",
      "----- train_index -----\n",
      "[  0   1   2   3   4   5   6   7   8   9  10  11  12  13  14  15  16  17\n",
      "  18  19  20  21  22  23  24  25  26  27  28  29  30  31  32  33  34  35\n",
      "  36  37  38  39  40  41  42  43  44  45  46  47  48  49  50  51  52  53\n",
      "  54  55  56  57  58  59  60  61  62  63  64  65  66  67  68  69  70  71\n",
      "  72  73  74  75  76  77  78  79  80  81  82  83  84  85  86  87  88  89\n",
      "  90  91  92  93  94  95  96  97  98  99 100 101 102 103 104 105 106 107\n",
      " 108 109 110 111 112 113 114 115 116 117 118 119 120 121 122 123 124 125\n",
      " 126 127 128 129 130 131 132 133 134 135 136 137 138 139 140 141 142 143\n",
      " 144 145 146 147 148 149 150 151 152 153 154 155 156 157 158 159 160 161\n",
      " 162 163 164 165 166 167 168 169 170 171 172 173 174 175 176 177 178 179\n",
      " 180 181 182 183 184 185 186 187 188 189 190 191 192 193 194 195 196 197\n",
      " 198 199 200 201 202 203 204 205 206 207 208 209 210 211 212 213 214 215\n",
      " 216 217 218 219 220 221 222 223 224 225 226 227 228 229 230 231 232 233\n",
      " 234 235 236 237 238 239 240 241 242 243 244 245 246 247 248 249 250 251\n",
      " 252 253 254 255 256 257 258 259 260 261 262 263 264 265 266 267 268 269\n",
      " 270 271 272 273 274 275 276 277 278 279 280 281 282 283 284 285 286 287\n",
      " 288 289 290 291 292 293 294 295 296 297 298 299 300 301 302 303 304 305\n",
      " 306 307 308 309 310 311 312 313 314 315 316 317 318 319 320 321 322 323\n",
      " 324 325 326 327 328 329 330 331 332 333 334 335 336 337 338 339 340 341\n",
      " 342 343 344 345 346 347 348 349 350 351 352 353 354 355 356 357 358 359\n",
      " 360 361 362 363 364 365 366 367 368 369 370 371 372 373 374 375 376 377\n",
      " 378 379 380 381 382 383 384 385 386 387 388 389 390 391 392 393 394 395\n",
      " 396 397 398 399 400 401 402 403 404 405 406 407 408 409 410 411 412 413\n",
      " 414 415 416 417 418 419 420 421 422 423 424 425 426 427 428 429 430 431\n",
      " 432 433 434 435 436 437 438 439 440 441 442 443 444 445 446 447 448 449\n",
      " 450 451 452 453 454 455 456 457 458 459 460 461 462 463 464 465 466 467\n",
      " 468 469 470 471 472 473 474 475 476 477 478 479 480 481 482 483 484 485\n",
      " 486 487 488 489 490 491 492 493 494 495 496 497 498 499 500 501 502 503\n",
      " 504 505 506 507 508 509 510 511 512 513 514 515 516 517 518 519 520 521\n",
      " 522 523 524 525 526 527 528 529 530 531 532 533 534 535 536 537 538 539\n",
      " 540 541 542 543 544 545 546 547 548 549 550 551 552 553 554 555 556 557\n",
      " 558 559 560 561 562 563 564 565 566 567 568 569 570 571 572 573 574 575\n",
      " 576 577 578 579 580 581 582 583 584 585 586 587 588 589 590 591 592 593]\n",
      "----- val_index -----\n",
      "[  0   1   2   3   4   5   6   7   8   9  10  11  12  13  14  15  16  17\n",
      "  18  19  20  21  22  23  24  25  26  27  28  29  30  31  32  33  34  35\n",
      "  36  37  38  39  40  41  42  43  44  45  46  47  48  49  50  51  52  53\n",
      "  54  55  56  57  58  59  60  61  62  63  64  65  66  67  68  69  70  71\n",
      "  72  73  74  75  76  77  78  79  80  81  82  83  84  85  86  87  88  89\n",
      "  90  91  92  93  94  95  96  97  98  99 100 101 102 103 104 105 106 107\n",
      " 108 109 110 111 112 113 114 115 116 117 118 119 120 121 122 123 124 125\n",
      " 126 127 128 129 130 131 132 133 134 135 136 137 138 139 140 141 142 143\n",
      " 144 145 146 147 148 149 150 151 152 153 154 155 156 157 158 159 160 161\n",
      " 162 163 164 165 166 167 168 169 170 171 172 173 174 175 176 177 178 179\n",
      " 180 181 182 183 184 185 186 187 188 189 190 191 192 193 194 195 196 197\n",
      " 198 199 200 201 202 203 204 205 206 207 208 209 210 211 212 213 214 215\n",
      " 216 217 218 219 220 221 222 223 224 225 226 227 228 229 230 231 232 233\n",
      " 234 235 236 237 238 239 240 241 242 243 244 245 246 247 248 249 250 251\n",
      " 252 253 254 255 256 257 258 259 260 261 262 263 264 265 266 267 268 269\n",
      " 270 271 272 273 274 275 276 277 278 279 280 281 282 283 284 285 286 287\n",
      " 288 289 290 291 292 293 294 295 296 297 298 299 300 301 302 303 304 305\n",
      " 306 307 308 309 310 311 312 313 314 315 316 317 318 319 320 321 322 323\n",
      " 324 325 326 327 328 329 330 331 332 333 334 335 336 337 338 339 340 341\n",
      " 342 343 344 345 346 347 348 349 350 351 352 353 354 355 356 357 358 359\n",
      " 360 361 362 363 364 365 366 367 368 369 370 371 372 373 374 375 376 377\n",
      " 378 379 380 381 382 383 384 385 386 387 388 389 390 391 392 393 394 395\n",
      " 396 397 398 399 400 401 402 403 404 405 406 407 408 409 410 411 412 413\n",
      " 414 415 416 417 418 419 420 421 422 423 424 425 426 427 428 429 430 431\n",
      " 432 433 434 435 436 437 438 439 440 441 442 443 444 445 446 447 448 449\n",
      " 450 451 452 453 454 455 456 457 458 459 460 461 462 463 464 465 466 467\n",
      " 468 469 470 471 472 473 474 475 476 477 478 479 480 481 482 483 484 485\n",
      " 486 487 488 489 490 491 492 493 494 495 496 497 498 499 500 501 502 503\n",
      " 504 505 506 507 508 509 510 511 512 513 514 515 516 517 518 519 520 521\n",
      " 522 523 524 525 526 527 528 529 530 531 532 533 534 535 536 537 538 539\n",
      " 540 541 542 543 544 545 546 547 548 549 550 551 552 553 554 555 556 557\n",
      " 558 559 560 561 562 563 564 565 566 567 568 569 570 571 572 573 574 575\n",
      " 576 577 578 579 580 581 582 583 584 585 586 587 588 589 590 591 592 593]\n"
     ]
    }
   ],
   "source": [
    "folds = 3\n",
    "\n",
    "kf = KFold(n_splits=folds)\n",
    "\n",
    "cnt = 0\n",
    "for train_index, val_index in kf.split(X_train):\n",
    "    cnt = cnt + 1\n",
    "    print('▶ cnt:', cnt)\n",
    "    print('----- train_index -----')\n",
    "    print(train_index)\n",
    "    print('----- val_index -----')\n",
    "    print(train_index)"
   ]
  },
  {
   "cell_type": "code",
   "execution_count": 57,
   "metadata": {},
   "outputs": [
    {
     "name": "stdout",
     "output_type": "stream",
     "text": [
      "Training until validation scores don't improve for 30 rounds\n",
      "[10]\tvalid_0's binary_logloss: 0.504307\n",
      "[20]\tvalid_0's binary_logloss: 0.473861\n",
      "[30]\tvalid_0's binary_logloss: 0.458723\n",
      "[40]\tvalid_0's binary_logloss: 0.452203\n",
      "[50]\tvalid_0's binary_logloss: 0.449877\n",
      "[60]\tvalid_0's binary_logloss: 0.446615\n",
      "[70]\tvalid_0's binary_logloss: 0.44554\n",
      "[80]\tvalid_0's binary_logloss: 0.443938\n",
      "[90]\tvalid_0's binary_logloss: 0.444344\n",
      "[100]\tvalid_0's binary_logloss: 0.445937\n",
      "[110]\tvalid_0's binary_logloss: 0.447586\n",
      "Early stopping, best iteration is:\n",
      "[87]\tvalid_0's binary_logloss: 0.443226\n",
      "0.8114478114478114\n",
      "Training until validation scores don't improve for 30 rounds\n",
      "[10]\tvalid_0's binary_logloss: 0.484931\n",
      "[20]\tvalid_0's binary_logloss: 0.444263\n",
      "[30]\tvalid_0's binary_logloss: 0.435257\n",
      "[40]\tvalid_0's binary_logloss: 0.4332\n",
      "[50]\tvalid_0's binary_logloss: 0.430516\n",
      "[60]\tvalid_0's binary_logloss: 0.433467\n",
      "[70]\tvalid_0's binary_logloss: 0.43631\n",
      "Early stopping, best iteration is:\n",
      "[47]\tvalid_0's binary_logloss: 0.429628\n",
      "0.8148148148148148\n",
      "Training until validation scores don't improve for 30 rounds\n",
      "[10]\tvalid_0's binary_logloss: 0.473433\n",
      "[20]\tvalid_0's binary_logloss: 0.412887\n",
      "[30]\tvalid_0's binary_logloss: 0.392372\n",
      "[40]\tvalid_0's binary_logloss: 0.383694\n",
      "[50]\tvalid_0's binary_logloss: 0.378976\n",
      "[60]\tvalid_0's binary_logloss: 0.375224\n",
      "[70]\tvalid_0's binary_logloss: 0.375973\n",
      "[80]\tvalid_0's binary_logloss: 0.374474\n",
      "[90]\tvalid_0's binary_logloss: 0.372291\n",
      "[100]\tvalid_0's binary_logloss: 0.373544\n",
      "[110]\tvalid_0's binary_logloss: 0.376382\n",
      "Early stopping, best iteration is:\n",
      "[87]\tvalid_0's binary_logloss: 0.371488\n",
      "0.8451178451178452\n"
     ]
    }
   ],
   "source": [
    "models = []\n",
    "\n",
    "# 훈련과 검증 index를 이용하여 관측치를 분할\n",
    "for train_index, val_index in kf.split(X_train):\n",
    "    x_train = X_train.iloc[train_index]\n",
    "    x_valid = X_train.iloc[val_index]\n",
    "    y_train = Y_train.iloc[train_index]\n",
    "    y_valid = Y_train.iloc[val_index]\n",
    "        \n",
    "    lgb_train = lgb.Dataset(x_train, y_train, categorical_feature=categories)\n",
    "    lgb_eval = lgb.Dataset(x_valid, y_valid, categorical_feature=categories, reference=lgb_train)    \n",
    "    \n",
    "    model_lgb = lgb.train(lgbm_params, \n",
    "                          lgb_train, \n",
    "                          valid_sets=lgb_eval, \n",
    "                          num_boost_round=200,\n",
    "                          early_stopping_rounds=30,\n",
    "                          verbose_eval=10,\n",
    "                         )    \n",
    "    \n",
    "    y_pred = model_lgb.predict(x_valid, num_iteration=model_lgb.best_iteration)\n",
    "    print(accuracy_score(y_valid, np.round(y_pred)))\n",
    "    \n",
    "    models.append(model_lgb) # 훈련된 lightgbm 모델 저장"
   ]
  },
  {
   "cell_type": "code",
   "execution_count": 58,
   "metadata": {},
   "outputs": [
    {
     "name": "stdout",
     "output_type": "stream",
     "text": [
      "<class 'list'>\n",
      "<class 'numpy.ndarray'>\n",
      "[0.14191524 0.31134341 0.06784153 0.13268104 0.48230167 0.08485431\n",
      " 0.31946476 0.16527091 0.79780797 0.03115642 0.05638864 0.19902947\n",
      " 0.97409982 0.06556496 0.97786475 0.96471102 0.17015056 0.22503826\n",
      " 0.56165343 0.48672065]\n"
     ]
    }
   ],
   "source": [
    "# 3개의 모델의 테스트 결과를 결합하여 평균을 구하여 최정 결과 예측\n",
    "# 현재 정답은 모르는 상황\n",
    "preds = [] # list\n",
    "\n",
    "for model in models: # 3개의 모델을 순차적으로 추출하여 테스트\n",
    "    pred = model.predict(x_test)\n",
    "    preds.append(pred)  # list에 ndarray 추가\n",
    "\n",
    "print(type(preds))\n",
    "print(type(preds[0]))\n",
    "print(preds[0][0:20]) # 첫번째 예측 모델의 20개의 예측 데이터만 출력"
   ]
  },
  {
   "cell_type": "code",
   "execution_count": 59,
   "metadata": {},
   "outputs": [
    {
     "data": {
      "text/plain": [
       "[array([0.14191524, 0.31134341, 0.06784153, 0.13268104, 0.48230167,\n",
       "        0.08485431, 0.31946476, 0.16527091, 0.79780797, 0.03115642,\n",
       "        0.05638864, 0.19902947, 0.97409982, 0.06556496, 0.97786475,\n",
       "        0.96471102, 0.17015056, 0.22503826, 0.56165343, 0.48672065,\n",
       "        0.58998435, 0.62858898, 0.97015399, 0.67005823, 0.89745483,\n",
       "        0.02960687, 0.98307186, 0.27522531, 0.31242783, 0.17678041,\n",
       "        0.06556496, 0.11102972, 0.39418664, 0.38118159, 0.55422858,\n",
       "        0.25755242, 0.26701468, 0.24545929, 0.02866851, 0.38782853,\n",
       "        0.0795769 , 0.54262766, 0.05925758, 0.9262961 , 0.9702248 ,\n",
       "        0.09227063, 0.42830486, 0.06906317, 0.97527357, 0.66166145,\n",
       "        0.46448425, 0.243859  , 0.84677799, 0.79623274, 0.23526528,\n",
       "        0.35204001, 0.09521301, 0.0626181 , 0.0890607 , 0.97259164,\n",
       "        0.07076585, 0.20155886, 0.08740845, 0.73233152, 0.82731453,\n",
       "        0.96434829, 0.6746327 , 0.18343701, 0.60659192, 0.87094237,\n",
       "        0.74594753, 0.0606962 , 0.53594246, 0.52430615, 0.97446538,\n",
       "        0.58884933, 0.09966087, 0.88697136, 0.11568471, 0.74594753,\n",
       "        0.79416195, 0.41002784, 0.22134591, 0.05638864, 0.12673464,\n",
       "        0.10483912, 0.77574884, 0.29372288, 0.27989153, 0.92739885,\n",
       "        0.45331973, 0.05552729, 0.83467707, 0.09966087, 0.56979081,\n",
       "        0.12732998, 0.97393459, 0.21907906, 0.63505312, 0.18045453,\n",
       "        0.97079481, 0.13853877, 0.06906317, 0.1179054 , 0.83236414,\n",
       "        0.09745761, 0.21098987, 0.06906317, 0.07927308, 0.05953081,\n",
       "        0.0884772 , 0.76504231, 0.9531709 , 0.64818777, 0.97393459,\n",
       "        0.18187637, 0.07245599, 0.62095848, 0.5813737 , 0.91227055,\n",
       "        0.95361695, 0.05329867, 0.98555459, 0.02773772, 0.06906317,\n",
       "        0.64054613, 0.14240989, 0.67603934, 0.05326253, 0.03159948,\n",
       "        0.25846091, 0.61344846, 0.42279911, 0.0596224 , 0.05454488,\n",
       "        0.12732998, 0.25812053, 0.10720161, 0.2703309 , 0.03261017,\n",
       "        0.1048117 , 0.98022703, 0.29631182, 0.13640504, 0.40894528,\n",
       "        0.12427552, 0.31262154, 0.03272996, 0.54262766, 0.16520177,\n",
       "        0.98013148, 0.15335204, 0.09407925, 0.53942283, 0.18726257,\n",
       "        0.06358763, 0.97015013, 0.65418876, 0.40894528, 0.40946863,\n",
       "        0.73233152, 0.79416195, 0.91588615, 0.02526445, 0.12280056,\n",
       "        0.58345293, 0.27878342, 0.02511669, 0.97540565, 0.29844667,\n",
       "        0.02526445, 0.26311279, 0.02950072, 0.07245599, 0.03261017,\n",
       "        0.84245929, 0.92880692, 0.51488379, 0.81218329, 0.96068619,\n",
       "        0.11568471, 0.4112003 , 0.97542221, 0.06906317, 0.97068577,\n",
       "        0.06273516, 0.93312311, 0.04565236, 0.16516238, 0.05404386,\n",
       "        0.18159558, 0.2866043 , 0.64814368, 0.07227895, 0.79810587,\n",
       "        0.12246026, 0.93962469, 0.51382655, 0.043416  , 0.60290063,\n",
       "        0.49902363, 0.61256503, 0.66980109, 0.86755593, 0.043416  ,\n",
       "        0.36854448, 0.43038103, 0.043416  , 0.97118842, 0.06911627,\n",
       "        0.23051719, 0.02526445, 0.15958605, 0.87847049, 0.10274963,\n",
       "        0.19095829, 0.78239704, 0.29802231, 0.96748652, 0.09966087,\n",
       "        0.89118045, 0.02522283, 0.91806457, 0.11267645, 0.95159836,\n",
       "        0.55185912, 0.12732998, 0.75508273, 0.03791294, 0.13558424,\n",
       "        0.19123082, 0.96497743, 0.04255835, 0.11432638, 0.51299735,\n",
       "        0.15276454, 0.5303891 , 0.31320495, 0.85365119, 0.97447467,\n",
       "        0.95159836, 0.85321199, 0.39928554, 0.05638864, 0.49246831,\n",
       "        0.17952354, 0.96758429, 0.0545253 , 0.91227055, 0.52059529,\n",
       "        0.64739428, 0.12489263, 0.65942671, 0.02866851, 0.21145611,\n",
       "        0.02526445, 0.06906317, 0.07667708, 0.88801532, 0.0913856 ,\n",
       "        0.11230171, 0.11267645, 0.94062116, 0.56767957, 0.18762666,\n",
       "        0.05638864, 0.04667053, 0.02526445, 0.26701468, 0.06082126,\n",
       "        0.49679388, 0.06906317, 0.97925382, 0.47688029, 0.07245599,\n",
       "        0.92283655, 0.08674417, 0.06142153, 0.11420234, 0.0449496 ,\n",
       "        0.30199244, 0.64814368, 0.75508273, 0.72969665, 0.62095848,\n",
       "        0.03243954, 0.02526445, 0.39121968, 0.07245599, 0.09966087,\n",
       "        0.31262154, 0.3230406 , 0.07245599, 0.46589727, 0.13820887,\n",
       "        0.0790852 , 0.78061077, 0.17678041, 0.31262154, 0.08830632,\n",
       "        0.090333  , 0.15889909, 0.05039796, 0.03670705, 0.75508273,\n",
       "        0.90716306, 0.20772226, 0.64075544, 0.29802231, 0.27449654,\n",
       "        0.0524562 , 0.27522531, 0.02526445, 0.26796792, 0.97527357,\n",
       "        0.65950567, 0.5303891 , 0.05377098, 0.20309288, 0.10807744,\n",
       "        0.1179054 , 0.25018432, 0.10720161, 0.70698047, 0.96467054,\n",
       "        0.06358763, 0.67960281, 0.49679388, 0.09996665, 0.04187397,\n",
       "        0.8379351 , 0.4442466 , 0.07245599, 0.85672885, 0.12023736,\n",
       "        0.2866043 , 0.22081081, 0.04638115, 0.15073575, 0.79417661,\n",
       "        0.05377098, 0.04194318, 0.11302823, 0.97197158, 0.64814368,\n",
       "        0.57777055, 0.10720161, 0.48672065, 0.05223465, 0.95927645,\n",
       "        0.9746634 , 0.043416  , 0.15486451, 0.10620527, 0.34072722,\n",
       "        0.22134591, 0.91119632, 0.08552415, 0.06906317, 0.60064216,\n",
       "        0.2705056 , 0.94619797, 0.96739067, 0.13268104, 0.98061397,\n",
       "        0.379018  , 0.10483912, 0.48525755, 0.97615383, 0.18762666,\n",
       "        0.03588303, 0.97156265, 0.03508082, 0.05082398, 0.95823779,\n",
       "        0.96186994, 0.22583241, 0.03890933, 0.2044514 , 0.18726257,\n",
       "        0.06906317, 0.25305399, 0.51851021, 0.76281843, 0.11568471,\n",
       "        0.75662989, 0.10359352, 0.05772021, 0.1670429 , 0.55630408,\n",
       "        0.44369889, 0.93619692, 0.75524225, 0.06233734, 0.0694155 ,\n",
       "        0.98175365, 0.12510869, 0.96748652, 0.11623672, 0.04515612,\n",
       "        0.97015013, 0.04697068, 0.98307186, 0.22514741, 0.39708439,\n",
       "        0.26183082, 0.04005378, 0.431947  , 0.73233152, 0.47188701,\n",
       "        0.75508273, 0.96982965, 0.37376349, 0.09966087, 0.88017809,\n",
       "        0.0159839 , 0.09966087, 0.8761414 ]),\n",
       " array([0.028299  , 0.37689782, 0.03385178, 0.15443726, 0.69580554,\n",
       "        0.12010322, 0.57871677, 0.17481085, 0.80754347, 0.07827295,\n",
       "        0.05368745, 0.0938152 , 0.93312925, 0.03049499, 0.88937225,\n",
       "        0.92746342, 0.11194895, 0.23080253, 0.65484882, 0.46071466,\n",
       "        0.35200808, 0.61268565, 0.91909156, 0.46969464, 0.86799065,\n",
       "        0.02999989, 0.95021156, 0.20168692, 0.44578345, 0.15086958,\n",
       "        0.03049499, 0.15042787, 0.33947964, 0.33947964, 0.5196186 ,\n",
       "        0.28540488, 0.59041198, 0.46073264, 0.06873207, 0.38459445,\n",
       "        0.05511592, 0.39466259, 0.01848944, 0.9316522 , 0.88937225,\n",
       "        0.09606616, 0.2925642 , 0.07194214, 0.892543  , 0.47222252,\n",
       "        0.40070427, 0.17036353, 0.84034804, 0.86436623, 0.20225199,\n",
       "        0.29106125, 0.02859413, 0.14490195, 0.12045041, 0.95656285,\n",
       "        0.14002163, 0.18503509, 0.18177124, 0.75754844, 0.81237784,\n",
       "        0.92196469, 0.78223947, 0.2925642 , 0.47275275, 0.8683485 ,\n",
       "        0.75754844, 0.10045354, 0.51231691, 0.43315322, 0.95656285,\n",
       "        0.58444416, 0.0694891 , 0.79627275, 0.23986499, 0.75754844,\n",
       "        0.54564714, 0.35200808, 0.09690026, 0.05368745, 0.1912582 ,\n",
       "        0.16876408, 0.74937746, 0.64996719, 0.3442653 , 0.78201915,\n",
       "        0.58928869, 0.07032774, 0.88475376, 0.0694891 , 0.24117687,\n",
       "        0.14289735, 0.89284251, 0.0694891 , 0.65532539, 0.06027049,\n",
       "        0.89929481, 0.10607251, 0.07194214, 0.14316667, 0.78573557,\n",
       "        0.15940368, 0.13830841, 0.07194214, 0.11681979, 0.09013493,\n",
       "        0.06796816, 0.75754844, 0.92974725, 0.7860713 , 0.89284251,\n",
       "        0.18109884, 0.09416304, 0.44679696, 0.59594724, 0.8880046 ,\n",
       "        0.87774542, 0.06831574, 0.95473548, 0.07139912, 0.07194214,\n",
       "        0.40783689, 0.1232108 , 0.41256531, 0.07126526, 0.09038426,\n",
       "        0.06027049, 0.35641214, 0.36552172, 0.08745025, 0.01494544,\n",
       "        0.10192802, 0.2201645 , 0.09458399, 0.57896247, 0.08630773,\n",
       "        0.25401334, 0.95348134, 0.22754389, 0.14462591, 0.41736353,\n",
       "        0.11626469, 0.42050843, 0.08584124, 0.39466259, 0.2982778 ,\n",
       "        0.96387632, 0.07785066, 0.01853824, 0.69296468, 0.2254319 ,\n",
       "        0.13676865, 0.93896777, 0.60665158, 0.41736353, 0.71091175,\n",
       "        0.75754844, 0.54564714, 0.82964131, 0.07139912, 0.16186359,\n",
       "        0.44270495, 0.30002116, 0.12311781, 0.92799006, 0.44671453,\n",
       "        0.07139912, 0.26077674, 0.05755629, 0.09416304, 0.08630773,\n",
       "        0.91704919, 0.90639588, 0.35200808, 0.88134488, 0.87969484,\n",
       "        0.23986499, 0.43813465, 0.93770978, 0.07194214, 0.95916697,\n",
       "        0.07210075, 0.89282212, 0.15655417, 0.24422742, 0.07126526,\n",
       "        0.11954156, 0.22506141, 0.42175088, 0.04336472, 0.75507931,\n",
       "        0.04275451, 0.88546761, 0.68054509, 0.04351423, 0.61169691,\n",
       "        0.43993443, 0.67782595, 0.48734368, 0.91702281, 0.06272432,\n",
       "        0.27305247, 0.53312058, 0.05024786, 0.92624791, 0.0921082 ,\n",
       "        0.16773683, 0.07139912, 0.24005716, 0.79701266, 0.46766244,\n",
       "        0.44578345, 0.73605007, 0.24675462, 0.87969484, 0.0694891 ,\n",
       "        0.91469784, 0.10472875, 0.88559145, 0.14302726, 0.83310097,\n",
       "        0.54358104, 0.1232108 , 0.75754844, 0.06647711, 0.10399815,\n",
       "        0.24139701, 0.85284906, 0.14602748, 0.05747528, 0.5058739 ,\n",
       "        0.14497628, 0.35200808, 0.28540488, 0.89580323, 0.892543  ,\n",
       "        0.83310097, 0.7970585 , 0.24016735, 0.05616587, 0.25842675,\n",
       "        0.3681306 , 0.88157105, 0.10929308, 0.8880046 , 0.51675346,\n",
       "        0.84510702, 0.15297509, 0.53203193, 0.0551309 , 0.13257858,\n",
       "        0.07139912, 0.07194214, 0.0694891 , 0.84356559, 0.14302726,\n",
       "        0.07465937, 0.112992  , 0.92087069, 0.67778091, 0.24421158,\n",
       "        0.05368745, 0.10473251, 0.07139912, 0.59041198, 0.09975309,\n",
       "        0.36248731, 0.07194214, 0.95629352, 0.42784423, 0.09416304,\n",
       "        0.83821444, 0.14987323, 0.04985675, 0.13816749, 0.04551957,\n",
       "        0.4350915 , 0.66698381, 0.75754844, 0.53992653, 0.44679696,\n",
       "        0.02550405, 0.07139912, 0.40070427, 0.09416304, 0.0694891 ,\n",
       "        0.42050843, 0.57871677, 0.09416304, 0.3727019 , 0.06794646,\n",
       "        0.09897906, 0.90513751, 0.15086958, 0.48630689, 0.05616587,\n",
       "        0.04275451, 0.20041647, 0.02951814, 0.0551309 , 0.75754844,\n",
       "        0.82997713, 0.27988755, 0.62729505, 0.24675462, 0.4323068 ,\n",
       "        0.09975309, 0.20168692, 0.07139912, 0.51681931, 0.892543  ,\n",
       "        0.7860713 , 0.35200808, 0.08663555, 0.16298021, 0.13763886,\n",
       "        0.14316667, 0.2197875 , 0.09458399, 0.49141895, 0.93623955,\n",
       "        0.1249795 , 0.86847809, 0.36248731, 0.10421211, 0.05842352,\n",
       "        0.83126455, 0.44683268, 0.09416304, 0.62030332, 0.13995909,\n",
       "        0.28582883, 0.18822107, 0.02971039, 0.20065354, 0.70598305,\n",
       "        0.08663555, 0.04342546, 0.1722599 , 0.892543  , 0.42175088,\n",
       "        0.68054509, 0.09458399, 0.65759949, 0.05293909, 0.91558047,\n",
       "        0.88906424, 0.06272432, 0.24005716, 0.08756983, 0.31145119,\n",
       "        0.09690026, 0.83126455, 0.05616587, 0.07194214, 0.41137244,\n",
       "        0.23628204, 0.94876487, 0.93062246, 0.15443726, 0.95629352,\n",
       "        0.35363692, 0.16167851, 0.37626145, 0.88906424, 0.20877693,\n",
       "        0.06025435, 0.95974425, 0.03415818, 0.04026971, 0.88002535,\n",
       "        0.88690809, 0.43142139, 0.06076146, 0.30002116, 0.2254319 ,\n",
       "        0.07194214, 0.1420845 , 0.4676773 , 0.3717874 , 0.18632011,\n",
       "        0.86238586, 0.13485883, 0.04167493, 0.17375497, 0.25842675,\n",
       "        0.39691786, 0.83944031, 0.43712224, 0.03141343, 0.0801085 ,\n",
       "        0.93770978, 0.16641288, 0.87969484, 0.1232108 , 0.06833846,\n",
       "        0.94920622, 0.06771541, 0.95021156, 0.36721189, 0.24010159,\n",
       "        0.1493676 , 0.04314445, 0.24675462, 0.75754844, 0.66860203,\n",
       "        0.75754844, 0.94723635, 0.49121961, 0.0694891 , 0.87019124,\n",
       "        0.02550405, 0.0694891 , 0.52228306]),\n",
       " array([0.18270717, 0.35500046, 0.08264184, 0.0782892 , 0.41214634,\n",
       "        0.15266762, 0.46821229, 0.14496076, 0.72764844, 0.04806539,\n",
       "        0.09413599, 0.11282352, 0.95840126, 0.0430616 , 0.96080287,\n",
       "        0.89285268, 0.1839042 , 0.11989298, 0.57270413, 0.57147501,\n",
       "        0.2012242 , 0.41267825, 0.98697788, 0.2967291 , 0.89779981,\n",
       "        0.02811385, 0.97578875, 0.15649996, 0.20897546, 0.14685708,\n",
       "        0.0430616 , 0.08949599, 0.45118609, 0.48129763, 0.35619854,\n",
       "        0.17294922, 0.42816978, 0.24119348, 0.10353794, 0.24345407,\n",
       "        0.07033032, 0.48753013, 0.09883745, 0.87404729, 0.96258474,\n",
       "        0.22911272, 0.11681578, 0.09168455, 0.96636127, 0.83134425,\n",
       "        0.15210993, 0.076748  , 0.5979202 , 0.80349648, 0.10319795,\n",
       "        0.26938371, 0.13814829, 0.12840469, 0.09251164, 0.9832993 ,\n",
       "        0.22483963, 0.29893623, 0.13523134, 0.76052539, 0.70044785,\n",
       "        0.96662104, 0.8112508 , 0.11898292, 0.28844189, 0.86626438,\n",
       "        0.80791539, 0.0831971 , 0.61083748, 0.24440708, 0.9832993 ,\n",
       "        0.51245988, 0.11253736, 0.90779967, 0.17129505, 0.80791539,\n",
       "        0.63547553, 0.18505817, 0.11504997, 0.09413599, 0.23321716,\n",
       "        0.06418571, 0.78371553, 0.59956119, 0.33443512, 0.82536825,\n",
       "        0.39058348, 0.1752268 , 0.72984456, 0.11253736, 0.40990029,\n",
       "        0.30533446, 0.96162507, 0.21248644, 0.62501061, 0.21050415,\n",
       "        0.97440043, 0.09114858, 0.09168455, 0.30417014, 0.68715012,\n",
       "        0.16194157, 0.24982063, 0.09168455, 0.09851563, 0.14316394,\n",
       "        0.04626445, 0.84336326, 0.97280722, 0.69332535, 0.96162507,\n",
       "        0.09932205, 0.08682884, 0.68451229, 0.51245988, 0.86700344,\n",
       "        0.93680358, 0.06794281, 0.9861536 , 0.06023263, 0.09168455,\n",
       "        0.60411618, 0.18869831, 0.71503235, 0.11236079, 0.07000796,\n",
       "        0.2676802 , 0.13993239, 0.53482864, 0.06863278, 0.07807451,\n",
       "        0.20227006, 0.23000799, 0.13606014, 0.42816978, 0.06073604,\n",
       "        0.19679123, 0.98901747, 0.14952257, 0.1464379 , 0.29428744,\n",
       "        0.04973628, 0.25683305, 0.06426347, 0.48753013, 0.17035249,\n",
       "        0.98069541, 0.12825708, 0.09882089, 0.65585382, 0.21612847,\n",
       "        0.09455391, 0.96116269, 0.68491191, 0.29428744, 0.51015732,\n",
       "        0.76052539, 0.63547553, 0.83345151, 0.06023263, 0.16780967,\n",
       "        0.50767366, 0.11958896, 0.04825699, 0.94626433, 0.25806037,\n",
       "        0.06023263, 0.14178766, 0.03666211, 0.08682884, 0.08031517,\n",
       "        0.94856814, 0.9082267 , 0.2012242 , 0.93457652, 0.97142157,\n",
       "        0.17129505, 0.42436223, 0.94502854, 0.09168455, 0.96541424,\n",
       "        0.0990631 , 0.80155737, 0.24264256, 0.16817403, 0.12233195,\n",
       "        0.22741071, 0.2670064 , 0.4256356 , 0.10325756, 0.85673444,\n",
       "        0.2205118 , 0.91907792, 0.65920539, 0.10145568, 0.60191516,\n",
       "        0.76669815, 0.49131942, 0.30015972, 0.93297544, 0.14522802,\n",
       "        0.28379661, 0.48836612, 0.09348837, 0.94033465, 0.16917456,\n",
       "        0.4009853 , 0.06023263, 0.18614738, 0.88579743, 0.17406768,\n",
       "        0.15186679, 0.84336326, 0.20283021, 0.97142157, 0.11253736,\n",
       "        0.78016475, 0.05905499, 0.89413669, 0.15134926, 0.86811282,\n",
       "        0.61925709, 0.19476471, 0.79754653, 0.04571715, 0.239616  ,\n",
       "        0.20976337, 0.91566966, 0.04676101, 0.17708951, 0.41446222,\n",
       "        0.14708276, 0.2012242 , 0.12357782, 0.8343253 , 0.96858195,\n",
       "        0.86811282, 0.91831716, 0.22405253, 0.14611361, 0.25615124,\n",
       "        0.13592962, 0.90821889, 0.09856586, 0.86700344, 0.49219016,\n",
       "        0.75642094, 0.12530818, 0.34652305, 0.0341222 , 0.24814482,\n",
       "        0.06023263, 0.09168455, 0.08065294, 0.84318118, 0.15134926,\n",
       "        0.08489431, 0.13704051, 0.90730084, 0.55047721, 0.17299107,\n",
       "        0.09413599, 0.07716642, 0.06023263, 0.42816978, 0.12340669,\n",
       "        0.19048177, 0.09168455, 0.97473051, 0.67500707, 0.08682884,\n",
       "        0.79905897, 0.16055894, 0.09401898, 0.06930376, 0.09648443,\n",
       "        0.26732585, 0.45266613, 0.79754653, 0.73133013, 0.60363986,\n",
       "        0.06718986, 0.06023263, 0.15210993, 0.08682884, 0.11253736,\n",
       "        0.30961589, 0.46821229, 0.08682884, 0.30692797, 0.22026438,\n",
       "        0.17264307, 0.88353555, 0.14685708, 0.27720618, 0.1590838 ,\n",
       "        0.29694589, 0.07412721, 0.04335277, 0.0341222 , 0.79754653,\n",
       "        0.92874824, 0.15175557, 0.41815054, 0.20283021, 0.38533802,\n",
       "        0.08237061, 0.15649996, 0.06023263, 0.42331152, 0.96636127,\n",
       "        0.7796224 , 0.2012242 , 0.17594852, 0.26789593, 0.08645443,\n",
       "        0.30417014, 0.23098266, 0.13606014, 0.72978938, 0.97449117,\n",
       "        0.08147544, 0.79979795, 0.19048177, 0.091054  , 0.06516688,\n",
       "        0.94685584, 0.25244347, 0.08682884, 0.7363104 , 0.16399722,\n",
       "        0.2670064 , 0.34055333, 0.04400535, 0.21142245, 0.61091999,\n",
       "        0.17594852, 0.10496199, 0.08063622, 0.96694183, 0.4256356 ,\n",
       "        0.59867683, 0.13606014, 0.57887834, 0.0643086 , 0.89502277,\n",
       "        0.9682794 , 0.14522802, 0.14778233, 0.06017399, 0.26523252,\n",
       "        0.11504997, 0.94206478, 0.14611361, 0.09168455, 0.58516278,\n",
       "        0.22834444, 0.95289847, 0.9209113 , 0.0782892 , 0.97473051,\n",
       "        0.56466335, 0.06418571, 0.59168579, 0.9682794 , 0.14609155,\n",
       "        0.04511006, 0.97312655, 0.05485738, 0.10754538, 0.96353005,\n",
       "        0.95776728, 0.23663581, 0.06516688, 0.12131429, 0.21612847,\n",
       "        0.09168455, 0.4195178 , 0.65660264, 0.61319142, 0.17166517,\n",
       "        0.72749689, 0.22164033, 0.09602786, 0.16675753, 0.25615124,\n",
       "        0.22572161, 0.93652176, 0.62918228, 0.12174684, 0.04172487,\n",
       "        0.94852815, 0.18612886, 0.97142157, 0.18869831, 0.08252936,\n",
       "        0.96486852, 0.08308444, 0.97578875, 0.19801418, 0.10964289,\n",
       "        0.11387724, 0.06497572, 0.22791009, 0.76052539, 0.51873737,\n",
       "        0.79754653, 0.97847733, 0.51442529, 0.11253736, 0.92614649,\n",
       "        0.03525426, 0.11253736, 0.72544323])]"
      ]
     },
     "execution_count": 59,
     "metadata": {},
     "output_type": "execute_result"
    }
   ],
   "source": [
    "preds"
   ]
  },
  {
   "cell_type": "code",
   "execution_count": 60,
   "metadata": {},
   "outputs": [
    {
     "name": "stdout",
     "output_type": "stream",
     "text": [
      "(3, 418)\n",
      "[[0.14191524 0.31134341 0.06784153 ... 0.0159839  0.09966087 0.8761414 ]\n",
      " [0.028299   0.37689782 0.03385178 ... 0.02550405 0.0694891  0.52228306]\n",
      " [0.18270717 0.35500046 0.08264184 ... 0.03525426 0.11253736 0.72544323]]\n"
     ]
    }
   ],
   "source": [
    "preds_array = np.array(preds) # list -> ndarray\n",
    "print(preds_array.shape)\n",
    "print(preds_array)\n",
    "# 3개의 다른 모델로 같은 테스트 데이터를 3번 테스트\n",
    "# 0.14191524\n",
    "# 0.028299\n",
    "# 0.18270717"
   ]
  },
  {
   "cell_type": "code",
   "execution_count": 61,
   "metadata": {},
   "outputs": [
    {
     "data": {
      "text/plain": [
       "0.11764047"
      ]
     },
     "execution_count": 61,
     "metadata": {},
     "output_type": "execute_result"
    }
   ],
   "source": [
    "(0.14191524 + 0.028299 + 0.18270717) / 3"
   ]
  },
  {
   "cell_type": "code",
   "execution_count": 62,
   "metadata": {},
   "outputs": [
    {
     "data": {
      "text/plain": [
       "array([0.11764047, 0.34774723, 0.06144505, 0.1218025 , 0.53008452,\n",
       "       0.11920838, 0.45546461, 0.16168084, 0.77766663, 0.05249825,\n",
       "       0.06807069, 0.13522273, 0.95521011, 0.04637385, 0.94267996,\n",
       "       0.92834237, 0.15533457, 0.19191125, 0.59640213, 0.50630344,\n",
       "       0.38107221, 0.55131763, 0.95874114, 0.47882732, 0.88774843,\n",
       "       0.0292402 , 0.96969072, 0.2111374 , 0.32239558, 0.15816902,\n",
       "       0.04637385, 0.11698453, 0.39495079, 0.40065295, 0.47668191,\n",
       "       0.23863551, 0.42853215, 0.31579514, 0.06697951, 0.33862568,\n",
       "       0.06834105, 0.47494013, 0.05886149, 0.9106652 , 0.94072727,\n",
       "       0.13914984, 0.27922828, 0.07756329, 0.94472595, 0.65507608,\n",
       "       0.33909948, 0.16365684, 0.76168208, 0.82136515, 0.18023841,\n",
       "       0.30416166, 0.08731848, 0.11197491, 0.10067425, 0.97081793,\n",
       "       0.14520904, 0.22851006, 0.13480368, 0.75013512, 0.78004674,\n",
       "       0.95097801, 0.75604099, 0.19832804, 0.45592885, 0.86851842,\n",
       "       0.77047046, 0.08144895, 0.55303228, 0.40062215, 0.97144251,\n",
       "       0.56191779, 0.09389578, 0.86368126, 0.17561492, 0.77047046,\n",
       "       0.65842821, 0.31569803, 0.14443205, 0.06807069, 0.18373667,\n",
       "       0.1125963 , 0.76961394, 0.51441709, 0.31953065, 0.84492875,\n",
       "       0.47773063, 0.10036061, 0.81642513, 0.09389578, 0.40695599,\n",
       "       0.19185393, 0.94280072, 0.1670182 , 0.63846304, 0.15040972,\n",
       "       0.94816335, 0.11191995, 0.07756329, 0.18841407, 0.76841661,\n",
       "       0.13960095, 0.1997063 , 0.07756329, 0.09820284, 0.09760989,\n",
       "       0.06756993, 0.78865134, 0.95190846, 0.70919481, 0.94280072,\n",
       "       0.15409908, 0.08448262, 0.58408924, 0.56326027, 0.88909286,\n",
       "       0.92272199, 0.06318574, 0.97548122, 0.05312315, 0.07756329,\n",
       "       0.55083307, 0.15143967, 0.60121233, 0.07896286, 0.06399723,\n",
       "       0.19547054, 0.36993099, 0.44104982, 0.07190181, 0.04918828,\n",
       "       0.14384269, 0.23609767, 0.11261525, 0.42582105, 0.05988465,\n",
       "       0.18520542, 0.97424195, 0.22445943, 0.14248962, 0.37353208,\n",
       "       0.09675883, 0.32998767, 0.06094489, 0.47494013, 0.21127735,\n",
       "       0.97490107, 0.11981993, 0.07047946, 0.62941378, 0.20960765,\n",
       "       0.0983034 , 0.9567602 , 0.64858409, 0.37353208, 0.54351257,\n",
       "       0.75013512, 0.65842821, 0.85965966, 0.05229873, 0.15082461,\n",
       "       0.51127718, 0.23279785, 0.06549716, 0.94988668, 0.33440719,\n",
       "       0.05229873, 0.2218924 , 0.04123971, 0.08448262, 0.06641102,\n",
       "       0.90269221, 0.9144765 , 0.35603869, 0.8760349 , 0.93726753,\n",
       "       0.17561492, 0.42456572, 0.95272018, 0.07756329, 0.96508899,\n",
       "       0.07796634, 0.8758342 , 0.14828303, 0.19252128, 0.08254703,\n",
       "       0.17618262, 0.25955737, 0.49851006, 0.07296708, 0.80330654,\n",
       "       0.12857553, 0.91472341, 0.61785901, 0.0627953 , 0.60550423,\n",
       "       0.56855207, 0.59390347, 0.48576816, 0.90585139, 0.08378945,\n",
       "       0.30846452, 0.48395591, 0.06238408, 0.94592366, 0.11013301,\n",
       "       0.2664131 , 0.05229873, 0.19526353, 0.85376019, 0.24815992,\n",
       "       0.26286951, 0.78727013, 0.24920238, 0.93953431, 0.09389578,\n",
       "       0.86201435, 0.06300219, 0.89926424, 0.13568432, 0.88427072,\n",
       "       0.57156575, 0.14843516, 0.77005924, 0.05003573, 0.1597328 ,\n",
       "       0.2141304 , 0.91116538, 0.07844895, 0.11629706, 0.47777782,\n",
       "       0.14827453, 0.36120712, 0.24072922, 0.86125991, 0.94519987,\n",
       "       0.88427072, 0.85619589, 0.28783514, 0.08622271, 0.3356821 ,\n",
       "       0.22786125, 0.91912474, 0.08746141, 0.88909286, 0.50984631,\n",
       "       0.74964075, 0.13439196, 0.51266056, 0.0393072 , 0.19739317,\n",
       "       0.05229873, 0.07756329, 0.07560637, 0.85825403, 0.12858737,\n",
       "       0.09061846, 0.12090298, 0.9229309 , 0.5986459 , 0.20160977,\n",
       "       0.06807069, 0.07618982, 0.05229873, 0.42853215, 0.09466035,\n",
       "       0.34992098, 0.07756329, 0.97009262, 0.5265772 , 0.08448262,\n",
       "       0.85336999, 0.13239211, 0.06843242, 0.10722453, 0.06231787,\n",
       "       0.33480326, 0.58926454, 0.77005924, 0.66698443, 0.55713177,\n",
       "       0.04171115, 0.05229873, 0.31467796, 0.08448262, 0.09389578,\n",
       "       0.34758195, 0.45665656, 0.08448262, 0.38184238, 0.1421399 ,\n",
       "       0.11690245, 0.85642794, 0.15816902, 0.35871153, 0.10118533,\n",
       "       0.14334447, 0.14448092, 0.04108962, 0.04198672, 0.77005924,\n",
       "       0.88862948, 0.2131218 , 0.56206701, 0.24920238, 0.36404712,\n",
       "       0.0781933 , 0.2111374 , 0.05229873, 0.40269958, 0.94472595,\n",
       "       0.74173313, 0.36120712, 0.10545168, 0.21132301, 0.11072358,\n",
       "       0.18841407, 0.23365149, 0.11261525, 0.6427296 , 0.95846709,\n",
       "       0.09001419, 0.78262628, 0.34992098, 0.09841092, 0.05515479,\n",
       "       0.8720185 , 0.38117425, 0.08448262, 0.73778086, 0.14139789,\n",
       "       0.27981318, 0.24986174, 0.0400323 , 0.18760391, 0.70369321,\n",
       "       0.10545168, 0.06344354, 0.12197479, 0.9438188 , 0.49851006,\n",
       "       0.61899749, 0.11261525, 0.57439949, 0.05649411, 0.92329323,\n",
       "       0.94400235, 0.08378945, 0.18090133, 0.0846497 , 0.30580364,\n",
       "       0.14443205, 0.89484188, 0.09593454, 0.07756329, 0.53239246,\n",
       "       0.24504403, 0.9492871 , 0.93964148, 0.1218025 , 0.970546  ,\n",
       "       0.43243942, 0.11023445, 0.4844016 , 0.94449916, 0.18083172,\n",
       "       0.04708248, 0.96814448, 0.04136546, 0.06621302, 0.93393106,\n",
       "       0.9355151 , 0.2979632 , 0.05494589, 0.20859562, 0.20960765,\n",
       "       0.07756329, 0.2715521 , 0.54759671, 0.58259908, 0.15789   ,\n",
       "       0.78217088, 0.15336423, 0.065141  , 0.16918513, 0.35696069,\n",
       "       0.35544612, 0.904053  , 0.60718226, 0.07183254, 0.06374962,\n",
       "       0.95599719, 0.15921681, 0.93953431, 0.14271528, 0.06534131,\n",
       "       0.96140829, 0.06592351, 0.96969072, 0.26345782, 0.24894295,\n",
       "       0.17502522, 0.04939132, 0.3022039 , 0.75013512, 0.55307547,\n",
       "       0.77005924, 0.96518111, 0.4598028 , 0.09389578, 0.89217194,\n",
       "       0.02558074, 0.09389578, 0.7079559 ])"
      ]
     },
     "execution_count": 62,
     "metadata": {},
     "output_type": "execute_result"
    }
   ],
   "source": [
    "# 3개의 다른 모델로 같은 테스트 데이터를 3번 테스트한 평균 예측치\n",
    "preds_mean = np.mean(preds_array, axis=0) # axis=0: 변수단위 평균, 열 우선\n",
    "preds_mean"
   ]
  },
  {
   "cell_type": "code",
   "execution_count": 63,
   "metadata": {},
   "outputs": [
    {
     "name": "stdout",
     "output_type": "stream",
     "text": [
      "0.11764046863151523\n",
      "0.11764046863151523\n"
     ]
    }
   ],
   "source": [
    "print(preds_mean[0])\n",
    "print((preds[0][0] + preds[1][0] + preds[2][0])/3)\n",
    "# 3개의 다른 모델로 같은 테스트 데이터를 3번 테스트한 평균 예측치"
   ]
  },
  {
   "cell_type": "code",
   "execution_count": 64,
   "metadata": {},
   "outputs": [
    {
     "data": {
      "text/plain": [
       "array([0, 0, 0, 0, 1, 0, 0, 0, 1, 0, 0, 0, 1, 0, 1, 1, 0, 0, 1, 1, 0, 1,\n",
       "       1, 0, 1, 0, 1, 0, 0, 0, 0, 0, 0, 0, 0, 0, 0, 0, 0, 0, 0, 0, 0, 1,\n",
       "       1, 0, 0, 0, 1, 1, 0, 0, 1, 1, 0, 0, 0, 0, 0, 1, 0, 0, 0, 1, 1, 1,\n",
       "       1, 0, 0, 1, 1, 0, 1, 0, 1, 1, 0, 1, 0, 1, 1, 0, 0, 0, 0, 0, 1, 1,\n",
       "       0, 1, 0, 0, 1, 0, 0, 0, 1, 0, 1, 0, 1, 0, 0, 0, 1, 0, 0, 0, 0, 0,\n",
       "       0, 1, 1, 1, 1, 0, 0, 1, 1, 1, 1, 0, 1, 0, 0, 1, 0, 1, 0, 0, 0, 0,\n",
       "       0, 0, 0, 0, 0, 0, 0, 0, 0, 1, 0, 0, 0, 0, 0, 0, 0, 0, 1, 0, 0, 1,\n",
       "       0, 0, 1, 1, 0, 1, 1, 1, 1, 0, 0, 1, 0, 0, 1, 0, 0, 0, 0, 0, 0, 1,\n",
       "       1, 0, 1, 1, 0, 0, 1, 0, 1, 0, 1, 0, 0, 0, 0, 0, 0, 0, 1, 0, 1, 1,\n",
       "       0, 1, 1, 1, 0, 1, 0, 0, 0, 0, 1, 0, 0, 0, 0, 1, 0, 0, 1, 0, 1, 0,\n",
       "       1, 0, 1, 0, 1, 1, 0, 1, 0, 0, 0, 1, 0, 0, 0, 0, 0, 0, 1, 1, 1, 1,\n",
       "       0, 0, 0, 0, 1, 0, 1, 1, 1, 0, 1, 0, 0, 0, 0, 0, 1, 0, 0, 0, 1, 1,\n",
       "       0, 0, 0, 0, 0, 0, 0, 0, 1, 1, 0, 1, 0, 0, 0, 0, 0, 1, 1, 1, 1, 0,\n",
       "       0, 0, 0, 0, 0, 0, 0, 0, 0, 0, 1, 0, 0, 0, 0, 0, 0, 0, 1, 1, 0, 1,\n",
       "       0, 0, 0, 0, 0, 0, 1, 1, 0, 0, 0, 0, 0, 0, 0, 1, 1, 0, 1, 0, 0, 0,\n",
       "       1, 0, 0, 1, 0, 0, 0, 0, 0, 1, 0, 0, 0, 1, 0, 1, 0, 1, 0, 1, 1, 0,\n",
       "       0, 0, 0, 0, 1, 0, 0, 1, 0, 1, 1, 0, 1, 0, 0, 0, 1, 0, 0, 1, 0, 0,\n",
       "       1, 1, 0, 0, 0, 0, 0, 0, 1, 1, 0, 1, 0, 0, 0, 0, 0, 1, 1, 0, 0, 1,\n",
       "       0, 1, 0, 0, 1, 0, 1, 0, 0, 0, 0, 0, 1, 1, 1, 1, 0, 0, 1, 0, 0, 1])"
      ]
     },
     "execution_count": 64,
     "metadata": {},
     "output_type": "execute_result"
    }
   ],
   "source": [
    "preds_int = (preds_mean > 0.5).astype(int) # 평균 > 0.5: 1, 0.5 <= 평균: 0 \n",
    "preds_int"
   ]
  },
  {
   "cell_type": "code",
   "execution_count": 65,
   "metadata": {},
   "outputs": [
    {
     "data": {
      "text/plain": [
       "(418,)"
      ]
     },
     "execution_count": 65,
     "metadata": {},
     "output_type": "execute_result"
    }
   ],
   "source": [
    "preds_int.shape"
   ]
  },
  {
   "cell_type": "markdown",
   "metadata": {},
   "source": [
    "### submission 파일 생성"
   ]
  },
  {
   "cell_type": "code",
   "execution_count": 66,
   "metadata": {},
   "outputs": [
    {
     "data": {
      "text/html": [
       "<div>\n",
       "<style scoped>\n",
       "    .dataframe tbody tr th:only-of-type {\n",
       "        vertical-align: middle;\n",
       "    }\n",
       "\n",
       "    .dataframe tbody tr th {\n",
       "        vertical-align: top;\n",
       "    }\n",
       "\n",
       "    .dataframe thead th {\n",
       "        text-align: right;\n",
       "    }\n",
       "</style>\n",
       "<table border=\"1\" class=\"dataframe\">\n",
       "  <thead>\n",
       "    <tr style=\"text-align: right;\">\n",
       "      <th></th>\n",
       "      <th>PassengerId</th>\n",
       "      <th>Survived</th>\n",
       "    </tr>\n",
       "  </thead>\n",
       "  <tbody>\n",
       "    <tr>\n",
       "      <th>0</th>\n",
       "      <td>892</td>\n",
       "      <td>0</td>\n",
       "    </tr>\n",
       "    <tr>\n",
       "      <th>1</th>\n",
       "      <td>893</td>\n",
       "      <td>0</td>\n",
       "    </tr>\n",
       "    <tr>\n",
       "      <th>2</th>\n",
       "      <td>894</td>\n",
       "      <td>0</td>\n",
       "    </tr>\n",
       "    <tr>\n",
       "      <th>3</th>\n",
       "      <td>895</td>\n",
       "      <td>0</td>\n",
       "    </tr>\n",
       "    <tr>\n",
       "      <th>4</th>\n",
       "      <td>896</td>\n",
       "      <td>1</td>\n",
       "    </tr>\n",
       "    <tr>\n",
       "      <th>...</th>\n",
       "      <td>...</td>\n",
       "      <td>...</td>\n",
       "    </tr>\n",
       "    <tr>\n",
       "      <th>413</th>\n",
       "      <td>1305</td>\n",
       "      <td>0</td>\n",
       "    </tr>\n",
       "    <tr>\n",
       "      <th>414</th>\n",
       "      <td>1306</td>\n",
       "      <td>1</td>\n",
       "    </tr>\n",
       "    <tr>\n",
       "      <th>415</th>\n",
       "      <td>1307</td>\n",
       "      <td>0</td>\n",
       "    </tr>\n",
       "    <tr>\n",
       "      <th>416</th>\n",
       "      <td>1308</td>\n",
       "      <td>0</td>\n",
       "    </tr>\n",
       "    <tr>\n",
       "      <th>417</th>\n",
       "      <td>1309</td>\n",
       "      <td>1</td>\n",
       "    </tr>\n",
       "  </tbody>\n",
       "</table>\n",
       "<p>418 rows × 2 columns</p>\n",
       "</div>"
      ],
      "text/plain": [
       "     PassengerId  Survived\n",
       "0            892         0\n",
       "1            893         0\n",
       "2            894         0\n",
       "3            895         0\n",
       "4            896         1\n",
       "..           ...       ...\n",
       "413         1305         0\n",
       "414         1306         1\n",
       "415         1307         0\n",
       "416         1308         0\n",
       "417         1309         1\n",
       "\n",
       "[418 rows x 2 columns]"
      ]
     },
     "execution_count": 66,
     "metadata": {},
     "output_type": "execute_result"
    }
   ],
   "source": [
    "submission = pd.read_csv('./data/gender_submission.csv')\n",
    "submission['Survived'] = preds_int # 기존에 변수가 있으면 덮어써짐.\n",
    "submission"
   ]
  },
  {
   "cell_type": "code",
   "execution_count": 67,
   "metadata": {},
   "outputs": [],
   "source": [
    "# Kaggle로 전송하는 파일명은 자유롭게 지정 가능\n",
    "submission.to_csv('./submission/titanic_submission01.csv', index=False)"
   ]
  },
  {
   "cell_type": "code",
   "execution_count": null,
   "metadata": {},
   "outputs": [],
   "source": []
  }
 ],
 "metadata": {
  "kernelspec": {
   "display_name": "ai",
   "language": "python",
   "name": "ai"
  },
  "language_info": {
   "codemirror_mode": {
    "name": "ipython",
    "version": 3
   },
   "file_extension": ".py",
   "mimetype": "text/x-python",
   "name": "python",
   "nbconvert_exporter": "python",
   "pygments_lexer": "ipython3",
   "version": "3.7.11"
  }
 },
 "nbformat": 4,
 "nbformat_minor": 4
}
