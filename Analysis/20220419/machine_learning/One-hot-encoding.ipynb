{
 "cells": [
  {
   "cell_type": "markdown",
   "metadata": {},
   "source": [
    "## One-hot-encoding"
   ]
  },
  {
   "cell_type": "code",
   "execution_count": 2,
   "metadata": {},
   "outputs": [],
   "source": [
    "import numpy as np\n",
    "import pandas as pd\n",
    "\n",
    "from sklearn.preprocessing import LabelEncoder\n",
    "from sklearn.preprocessing import OneHotEncoder\n",
    "from sklearn.compose import ColumnTransformer, make_column_transformer"
   ]
  },
  {
   "cell_type": "code",
   "execution_count": 3,
   "metadata": {},
   "outputs": [
    {
     "data": {
      "text/html": [
       "<div>\n",
       "<style scoped>\n",
       "    .dataframe tbody tr th:only-of-type {\n",
       "        vertical-align: middle;\n",
       "    }\n",
       "\n",
       "    .dataframe tbody tr th {\n",
       "        vertical-align: top;\n",
       "    }\n",
       "\n",
       "    .dataframe thead th {\n",
       "        text-align: right;\n",
       "    }\n",
       "</style>\n",
       "<table border=\"1\" class=\"dataframe\">\n",
       "  <thead>\n",
       "    <tr style=\"text-align: right;\">\n",
       "      <th></th>\n",
       "      <th>hours</th>\n",
       "      <th>attendance</th>\n",
       "      <th>gender</th>\n",
       "      <th>cate</th>\n",
       "      <th>score</th>\n",
       "    </tr>\n",
       "  </thead>\n",
       "  <tbody>\n",
       "    <tr>\n",
       "      <th>0</th>\n",
       "      <td>2</td>\n",
       "      <td>1</td>\n",
       "      <td>male</td>\n",
       "      <td>A</td>\n",
       "      <td>3</td>\n",
       "    </tr>\n",
       "    <tr>\n",
       "      <th>1</th>\n",
       "      <td>3</td>\n",
       "      <td>2</td>\n",
       "      <td>female</td>\n",
       "      <td>C</td>\n",
       "      <td>5</td>\n",
       "    </tr>\n",
       "    <tr>\n",
       "      <th>2</th>\n",
       "      <td>3</td>\n",
       "      <td>4</td>\n",
       "      <td>male</td>\n",
       "      <td>B</td>\n",
       "      <td>7</td>\n",
       "    </tr>\n",
       "    <tr>\n",
       "      <th>3</th>\n",
       "      <td>5</td>\n",
       "      <td>5</td>\n",
       "      <td>female</td>\n",
       "      <td>A</td>\n",
       "      <td>10</td>\n",
       "    </tr>\n",
       "    <tr>\n",
       "      <th>4</th>\n",
       "      <td>7</td>\n",
       "      <td>5</td>\n",
       "      <td>female</td>\n",
       "      <td>B</td>\n",
       "      <td>12</td>\n",
       "    </tr>\n",
       "    <tr>\n",
       "      <th>5</th>\n",
       "      <td>2</td>\n",
       "      <td>5</td>\n",
       "      <td>male</td>\n",
       "      <td>A</td>\n",
       "      <td>7</td>\n",
       "    </tr>\n",
       "    <tr>\n",
       "      <th>6</th>\n",
       "      <td>9</td>\n",
       "      <td>2</td>\n",
       "      <td>male</td>\n",
       "      <td>C</td>\n",
       "      <td>13</td>\n",
       "    </tr>\n",
       "  </tbody>\n",
       "</table>\n",
       "</div>"
      ],
      "text/plain": [
       "   hours  attendance  gender cate  score\n",
       "0      2           1    male    A      3\n",
       "1      3           2  female    C      5\n",
       "2      3           4    male    B      7\n",
       "3      5           5  female    A     10\n",
       "4      7           5  female    B     12\n",
       "5      2           5    male    A      7\n",
       "6      9           2    male    C     13"
      ]
     },
     "execution_count": 3,
     "metadata": {},
     "output_type": "execute_result"
    }
   ],
   "source": [
    "df = pd.DataFrame([\n",
    "    [2,1,'male','A',3],\n",
    "    [3,2,'female','C',5],\n",
    "    [3,4,'male','B',7],\n",
    "    [5,5,'female','A',10],\n",
    "    [7,5,'female','B',12],\n",
    "    [2,5,'male','A',7],\n",
    "    [9,2,'male','C',13]\n",
    "], columns=['hours', 'attendance', 'gender', 'cate', 'score'])\n",
    "df"
   ]
  },
  {
   "cell_type": "code",
   "execution_count": 7,
   "metadata": {},
   "outputs": [
    {
     "name": "stdout",
     "output_type": "stream",
     "text": [
      "[[0. 1.]\n",
      " [1. 0.]\n",
      " [0. 1.]\n",
      " [1. 0.]\n",
      " [1. 0.]\n",
      " [0. 1.]\n",
      " [0. 1.]]\n"
     ]
    }
   ],
   "source": [
    "from sklearn.preprocessing import OneHotEncoder\n",
    "ohe = OneHotEncoder(sparse=False)\n",
    "\n",
    "ohe.fit(df[['gender']]) # 배열, 2차원 list\n",
    "print(ohe.transform(df[['gender']]))"
   ]
  },
  {
   "cell_type": "code",
   "execution_count": 8,
   "metadata": {},
   "outputs": [
    {
     "name": "stdout",
     "output_type": "stream",
     "text": [
      "  (0, 1)\t1.0\n",
      "  (1, 0)\t1.0\n",
      "  (2, 1)\t1.0\n",
      "  (3, 0)\t1.0\n",
      "  (4, 0)\t1.0\n",
      "  (5, 1)\t1.0\n",
      "  (6, 1)\t1.0\n"
     ]
    }
   ],
   "source": [
    "from sklearn.preprocessing import OneHotEncoder\n",
    "ohe = OneHotEncoder() # Matrix\n",
    "# ohe = OneHotEncoder(sparse=True)  # Matrix\n",
    "\n",
    "ohe.fit(df[['gender']])\n",
    "print(ohe.transform(df[['gender']]))"
   ]
  },
  {
   "cell_type": "code",
   "execution_count": 10,
   "metadata": {},
   "outputs": [
    {
     "name": "stdout",
     "output_type": "stream",
     "text": [
      "[[1. 0. 0.]\n",
      " [0. 0. 1.]\n",
      " [0. 1. 0.]\n",
      " [1. 0. 0.]\n",
      " [0. 1. 0.]\n",
      " [1. 0. 0.]\n",
      " [0. 0. 1.]]\n"
     ]
    }
   ],
   "source": [
    "ohe = OneHotEncoder(sparse=False)\n",
    "ohe.fit(df[['cate']])\n",
    "print(ohe.transform(df[['cate']]))"
   ]
  },
  {
   "cell_type": "code",
   "execution_count": 11,
   "metadata": {},
   "outputs": [
    {
     "name": "stdout",
     "output_type": "stream",
     "text": [
      "[[1. 0. 0.]\n",
      " [0. 0. 1.]\n",
      " [0. 1. 0.]\n",
      " [1. 0. 0.]\n",
      " [0. 1. 0.]\n",
      " [1. 0. 0.]\n",
      " [0. 0. 1.]]\n"
     ]
    }
   ],
   "source": [
    "import numpy as np\n",
    "import pandas as pd\n",
    "\n",
    "df = pd.DataFrame([\n",
    "    [2,1,'A',3],\n",
    "    [3,2,'C',5],\n",
    "    [3,4,'B',7],\n",
    "    [5,5,'A',10],\n",
    "    [7,5,'B',12],\n",
    "    [2,5,'A',7],\n",
    "    [9,2,'C',13]\n",
    "], columns=['hours', 'attendance', 'cate', 'score'])\n",
    "\n",
    "from sklearn.preprocessing import OneHotEncoder\n",
    "ohe = OneHotEncoder(sparse=False)\n",
    "ohe.fit(df[['cate']])\n",
    "print(ohe.transform(df[['cate']]))"
   ]
  },
  {
   "cell_type": "code",
   "execution_count": 12,
   "metadata": {},
   "outputs": [
    {
     "name": "stdout",
     "output_type": "stream",
     "text": [
      "   cate0  cate1  cate2\n",
      "0    1.0    0.0    0.0\n",
      "1    0.0    0.0    1.0\n",
      "2    0.0    1.0    0.0\n",
      "3    1.0    0.0    0.0\n",
      "4    0.0    1.0    0.0\n",
      "5    1.0    0.0    0.0\n",
      "6    0.0    0.0    1.0\n"
     ]
    }
   ],
   "source": [
    "df_cate = pd.DataFrame(ohe.transform(df[['cate']]), columns=['cate0', 'cate1', 'cate2'])\n",
    "\n",
    "print(df_cate)"
   ]
  },
  {
   "cell_type": "code",
   "execution_count": 13,
   "metadata": {},
   "outputs": [
    {
     "name": "stdout",
     "output_type": "stream",
     "text": [
      "   hours  attendance  cate0  cate1  cate2  score\n",
      "0      2           1    1.0    0.0    0.0      3\n",
      "1      3           2    0.0    0.0    1.0      5\n",
      "2      3           4    0.0    1.0    0.0      7\n",
      "3      5           5    1.0    0.0    0.0     10\n",
      "4      7           5    0.0    1.0    0.0     12\n",
      "5      2           5    1.0    0.0    0.0      7\n",
      "6      9           2    0.0    0.0    1.0     13\n"
     ]
    }
   ],
   "source": [
    "df = pd.concat([df[['hours', 'attendance']], df_cate, df[['score']]], axis=1)\n",
    "print(df)"
   ]
  },
  {
   "cell_type": "code",
   "execution_count": 14,
   "metadata": {},
   "outputs": [
    {
     "name": "stdout",
     "output_type": "stream",
     "text": [
      "   hours  attendance  cate0  cate1  cate2\n",
      "0      2           1    1.0    0.0    0.0\n",
      "1      3           2    0.0    0.0    1.0\n",
      "2      3           4    0.0    1.0    0.0\n",
      "3      5           5    1.0    0.0    0.0\n",
      "4      7           5    0.0    1.0    0.0\n",
      "5      2           5    1.0    0.0    0.0\n",
      "6      9           2    0.0    0.0    1.0\n",
      "0     3\n",
      "1     5\n",
      "2     7\n",
      "3    10\n",
      "4    12\n",
      "5     7\n",
      "6    13\n",
      "Name: score, dtype: int64\n"
     ]
    }
   ],
   "source": [
    "x_data = df[['hours', 'attendance', 'cate0', 'cate1', 'cate2']]\n",
    "y_data = df['score']\n",
    "print(x_data)\n",
    "print(y_data)"
   ]
  },
  {
   "cell_type": "code",
   "execution_count": null,
   "metadata": {},
   "outputs": [],
   "source": []
  }
 ],
 "metadata": {
  "kernelspec": {
   "display_name": "ai",
   "language": "python",
   "name": "ai"
  },
  "language_info": {
   "codemirror_mode": {
    "name": "ipython",
    "version": 3
   },
   "file_extension": ".py",
   "mimetype": "text/x-python",
   "name": "python",
   "nbconvert_exporter": "python",
   "pygments_lexer": "ipython3",
   "version": "3.7.11"
  }
 },
 "nbformat": 4,
 "nbformat_minor": 4
}
