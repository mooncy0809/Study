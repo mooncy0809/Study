{
 "cells": [
  {
   "cell_type": "markdown",
   "metadata": {},
   "source": [
    "## 회귀 분석: 수치예측\n",
    "- species: 펭귄 종류\n",
    "- island: 섬(서식지)\n",
    "- gender: 성별\n",
    "- bill_length_mm: 부리의 길이\n",
    "- bill_depth_mm: 부리의 높이\n",
    "- flipper_length_mm: 팔 길이\n",
    "- body_mass_g: 체중(g) "
   ]
  },
  {
   "cell_type": "code",
   "execution_count": 29,
   "metadata": {},
   "outputs": [],
   "source": [
    "import pandas as pd\n",
    "import numpy as np"
   ]
  },
  {
   "cell_type": "code",
   "execution_count": 30,
   "metadata": {},
   "outputs": [
    {
     "name": "stdout",
     "output_type": "stream",
     "text": [
      "<class 'pandas.core.frame.DataFrame'>\n",
      "RangeIndex: 240 entries, 0 to 239\n",
      "Data columns (total 6 columns):\n",
      " #   Column             Non-Null Count  Dtype  \n",
      "---  ------             --------------  -----  \n",
      " 0   species            240 non-null    object \n",
      " 1   island             240 non-null    object \n",
      " 2   gender             232 non-null    object \n",
      " 3   bill_length_mm     238 non-null    float64\n",
      " 4   bill_depth_mm      238 non-null    float64\n",
      " 5   flipper_length_mm  238 non-null    float64\n",
      "dtypes: float64(3), object(3)\n",
      "memory usage: 11.4+ KB\n"
     ]
    }
   ],
   "source": [
    "x_train = pd.read_csv('./data/penguin_x_train.csv')\n",
    "y_train = pd.read_csv('./data/penguin_y_train.csv')\n",
    "x_test = pd.read_csv('./data/penguin_x_test.csv')\n",
    "x_train.info()"
   ]
  },
  {
   "cell_type": "code",
   "execution_count": 31,
   "metadata": {},
   "outputs": [
    {
     "data": {
      "text/plain": [
       "species              0\n",
       "island               0\n",
       "gender               8\n",
       "bill_length_mm       2\n",
       "bill_depth_mm        2\n",
       "flipper_length_mm    2\n",
       "body_mass_g          2\n",
       "dtype: int64"
      ]
     },
     "execution_count": 31,
     "metadata": {},
     "output_type": "execute_result"
    }
   ],
   "source": [
    "# 훈련 데이터가 독립변수와 종속변수가 분리되어 있음으로 병합하여 \n",
    "# 삭제처리등을 해야함.\n",
    "train = pd.concat([x_train, y_train], axis=1) # 컬럼단위 병합\n",
    "train.isnull().sum()"
   ]
  },
  {
   "cell_type": "code",
   "execution_count": 32,
   "metadata": {},
   "outputs": [
    {
     "data": {
      "text/plain": [
       "0       True\n",
       "1      False\n",
       "2      False\n",
       "3      False\n",
       "4      False\n",
       "       ...  \n",
       "235    False\n",
       "236    False\n",
       "237    False\n",
       "238    False\n",
       "239    False\n",
       "Name: gender, Length: 240, dtype: bool"
      ]
     },
     "execution_count": 32,
     "metadata": {},
     "output_type": "execute_result"
    }
   ],
   "source": [
    "train.gender.isna()"
   ]
  },
  {
   "cell_type": "code",
   "execution_count": 33,
   "metadata": {},
   "outputs": [
    {
     "data": {
      "text/html": [
       "<div>\n",
       "<style scoped>\n",
       "    .dataframe tbody tr th:only-of-type {\n",
       "        vertical-align: middle;\n",
       "    }\n",
       "\n",
       "    .dataframe tbody tr th {\n",
       "        vertical-align: top;\n",
       "    }\n",
       "\n",
       "    .dataframe thead th {\n",
       "        text-align: right;\n",
       "    }\n",
       "</style>\n",
       "<table border=\"1\" class=\"dataframe\">\n",
       "  <thead>\n",
       "    <tr style=\"text-align: right;\">\n",
       "      <th></th>\n",
       "      <th>species</th>\n",
       "      <th>island</th>\n",
       "      <th>gender</th>\n",
       "      <th>bill_length_mm</th>\n",
       "      <th>bill_depth_mm</th>\n",
       "      <th>flipper_length_mm</th>\n",
       "      <th>body_mass_g</th>\n",
       "    </tr>\n",
       "  </thead>\n",
       "  <tbody>\n",
       "    <tr>\n",
       "      <th>0</th>\n",
       "      <td>Adelie</td>\n",
       "      <td>Torgersen</td>\n",
       "      <td>NaN</td>\n",
       "      <td>42.0</td>\n",
       "      <td>20.2</td>\n",
       "      <td>190.0</td>\n",
       "      <td>4250.0</td>\n",
       "    </tr>\n",
       "    <tr>\n",
       "      <th>6</th>\n",
       "      <td>Gentoo</td>\n",
       "      <td>Biscoe</td>\n",
       "      <td>NaN</td>\n",
       "      <td>44.5</td>\n",
       "      <td>14.3</td>\n",
       "      <td>216.0</td>\n",
       "      <td>4100.0</td>\n",
       "    </tr>\n",
       "    <tr>\n",
       "      <th>43</th>\n",
       "      <td>Gentoo</td>\n",
       "      <td>Biscoe</td>\n",
       "      <td>NaN</td>\n",
       "      <td>NaN</td>\n",
       "      <td>NaN</td>\n",
       "      <td>NaN</td>\n",
       "      <td>NaN</td>\n",
       "    </tr>\n",
       "    <tr>\n",
       "      <th>66</th>\n",
       "      <td>Adelie</td>\n",
       "      <td>Torgersen</td>\n",
       "      <td>NaN</td>\n",
       "      <td>37.8</td>\n",
       "      <td>17.3</td>\n",
       "      <td>180.0</td>\n",
       "      <td>3700.0</td>\n",
       "    </tr>\n",
       "    <tr>\n",
       "      <th>88</th>\n",
       "      <td>Gentoo</td>\n",
       "      <td>Biscoe</td>\n",
       "      <td>NaN</td>\n",
       "      <td>47.3</td>\n",
       "      <td>13.8</td>\n",
       "      <td>216.0</td>\n",
       "      <td>4725.0</td>\n",
       "    </tr>\n",
       "    <tr>\n",
       "      <th>89</th>\n",
       "      <td>Adelie</td>\n",
       "      <td>Torgersen</td>\n",
       "      <td>NaN</td>\n",
       "      <td>37.8</td>\n",
       "      <td>17.1</td>\n",
       "      <td>186.0</td>\n",
       "      <td>3300.0</td>\n",
       "    </tr>\n",
       "    <tr>\n",
       "      <th>110</th>\n",
       "      <td>Gentoo</td>\n",
       "      <td>Biscoe</td>\n",
       "      <td>NaN</td>\n",
       "      <td>44.5</td>\n",
       "      <td>15.7</td>\n",
       "      <td>217.0</td>\n",
       "      <td>4875.0</td>\n",
       "    </tr>\n",
       "    <tr>\n",
       "      <th>229</th>\n",
       "      <td>Adelie</td>\n",
       "      <td>Torgersen</td>\n",
       "      <td>NaN</td>\n",
       "      <td>NaN</td>\n",
       "      <td>NaN</td>\n",
       "      <td>NaN</td>\n",
       "      <td>NaN</td>\n",
       "    </tr>\n",
       "  </tbody>\n",
       "</table>\n",
       "</div>"
      ],
      "text/plain": [
       "    species     island gender  bill_length_mm  bill_depth_mm  \\\n",
       "0    Adelie  Torgersen    NaN            42.0           20.2   \n",
       "6    Gentoo     Biscoe    NaN            44.5           14.3   \n",
       "43   Gentoo     Biscoe    NaN             NaN            NaN   \n",
       "66   Adelie  Torgersen    NaN            37.8           17.3   \n",
       "88   Gentoo     Biscoe    NaN            47.3           13.8   \n",
       "89   Adelie  Torgersen    NaN            37.8           17.1   \n",
       "110  Gentoo     Biscoe    NaN            44.5           15.7   \n",
       "229  Adelie  Torgersen    NaN             NaN            NaN   \n",
       "\n",
       "     flipper_length_mm  body_mass_g  \n",
       "0                190.0       4250.0  \n",
       "6                216.0       4100.0  \n",
       "43                 NaN          NaN  \n",
       "66               180.0       3700.0  \n",
       "88               216.0       4725.0  \n",
       "89               186.0       3300.0  \n",
       "110              217.0       4875.0  \n",
       "229                NaN          NaN  "
      ]
     },
     "execution_count": 33,
     "metadata": {},
     "output_type": "execute_result"
    }
   ],
   "source": [
    "# 결측치 관측치만 출력\n",
    "cdt = (train.gender.isna()) | (train.bill_length_mm.isna()) | (train.bill_depth_mm.isna()) | (train.flipper_length_mm.isna()) | (train.body_mass_g.isna())\n",
    "train[cdt]"
   ]
  },
  {
   "cell_type": "code",
   "execution_count": 34,
   "metadata": {},
   "outputs": [
    {
     "data": {
      "text/plain": [
       "species              0\n",
       "island               0\n",
       "gender               0\n",
       "bill_length_mm       0\n",
       "bill_depth_mm        0\n",
       "flipper_length_mm    0\n",
       "body_mass_g          0\n",
       "dtype: int64"
      ]
     },
     "execution_count": 34,
     "metadata": {},
     "output_type": "execute_result"
    }
   ],
   "source": [
    "# 성별은 결측치를 대체하기 어려움으로 삭제한다.\n",
    "train = train.dropna()\n",
    "train.reset_index(drop=True, inplace=True)\n",
    "train.isnull().sum()"
   ]
  },
  {
   "cell_type": "code",
   "execution_count": 35,
   "metadata": {},
   "outputs": [
    {
     "name": "stdout",
     "output_type": "stream",
     "text": [
      "<class 'pandas.core.frame.DataFrame'>\n",
      "RangeIndex: 232 entries, 0 to 231\n",
      "Data columns (total 6 columns):\n",
      " #   Column             Non-Null Count  Dtype  \n",
      "---  ------             --------------  -----  \n",
      " 0   species            232 non-null    object \n",
      " 1   island             232 non-null    object \n",
      " 2   gender             232 non-null    object \n",
      " 3   bill_length_mm     232 non-null    float64\n",
      " 4   bill_depth_mm      232 non-null    float64\n",
      " 5   flipper_length_mm  232 non-null    float64\n",
      "dtypes: float64(3), object(3)\n",
      "memory usage: 11.0+ KB\n"
     ]
    }
   ],
   "source": [
    "x_train = train.iloc[:, 0:-1]\n",
    "x_train.info()"
   ]
  },
  {
   "cell_type": "code",
   "execution_count": 36,
   "metadata": {},
   "outputs": [
    {
     "name": "stdout",
     "output_type": "stream",
     "text": [
      "<class 'pandas.core.frame.DataFrame'>\n",
      "RangeIndex: 232 entries, 0 to 231\n",
      "Data columns (total 1 columns):\n",
      " #   Column       Non-Null Count  Dtype  \n",
      "---  ------       --------------  -----  \n",
      " 0   body_mass_g  232 non-null    float64\n",
      "dtypes: float64(1)\n",
      "memory usage: 1.9 KB\n"
     ]
    }
   ],
   "source": [
    "# y_train = train[['body_mass_g']]\n",
    "y_train = train.iloc[:, -1:]\n",
    "y_train.info()"
   ]
  },
  {
   "cell_type": "code",
   "execution_count": 37,
   "metadata": {},
   "outputs": [
    {
     "data": {
      "text/html": [
       "<div>\n",
       "<style scoped>\n",
       "    .dataframe tbody tr th:only-of-type {\n",
       "        vertical-align: middle;\n",
       "    }\n",
       "\n",
       "    .dataframe tbody tr th {\n",
       "        vertical-align: top;\n",
       "    }\n",
       "\n",
       "    .dataframe thead th {\n",
       "        text-align: right;\n",
       "    }\n",
       "</style>\n",
       "<table border=\"1\" class=\"dataframe\">\n",
       "  <thead>\n",
       "    <tr style=\"text-align: right;\">\n",
       "      <th></th>\n",
       "      <th>bill_length_mm</th>\n",
       "      <th>bill_depth_mm</th>\n",
       "      <th>flipper_length_mm</th>\n",
       "    </tr>\n",
       "  </thead>\n",
       "  <tbody>\n",
       "    <tr>\n",
       "      <th>count</th>\n",
       "      <td>232.000000</td>\n",
       "      <td>232.000000</td>\n",
       "      <td>232.000000</td>\n",
       "    </tr>\n",
       "    <tr>\n",
       "      <th>mean</th>\n",
       "      <td>43.990948</td>\n",
       "      <td>17.226293</td>\n",
       "      <td>200.681034</td>\n",
       "    </tr>\n",
       "    <tr>\n",
       "      <th>std</th>\n",
       "      <td>5.509760</td>\n",
       "      <td>1.964677</td>\n",
       "      <td>14.064231</td>\n",
       "    </tr>\n",
       "    <tr>\n",
       "      <th>min</th>\n",
       "      <td>32.100000</td>\n",
       "      <td>13.200000</td>\n",
       "      <td>172.000000</td>\n",
       "    </tr>\n",
       "    <tr>\n",
       "      <th>25%</th>\n",
       "      <td>39.200000</td>\n",
       "      <td>15.700000</td>\n",
       "      <td>190.000000</td>\n",
       "    </tr>\n",
       "    <tr>\n",
       "      <th>50%</th>\n",
       "      <td>44.950000</td>\n",
       "      <td>17.350000</td>\n",
       "      <td>197.000000</td>\n",
       "    </tr>\n",
       "    <tr>\n",
       "      <th>75%</th>\n",
       "      <td>48.775000</td>\n",
       "      <td>18.725000</td>\n",
       "      <td>212.250000</td>\n",
       "    </tr>\n",
       "    <tr>\n",
       "      <th>max</th>\n",
       "      <td>58.000000</td>\n",
       "      <td>21.500000</td>\n",
       "      <td>231.000000</td>\n",
       "    </tr>\n",
       "  </tbody>\n",
       "</table>\n",
       "</div>"
      ],
      "text/plain": [
       "       bill_length_mm  bill_depth_mm  flipper_length_mm\n",
       "count      232.000000     232.000000         232.000000\n",
       "mean        43.990948      17.226293         200.681034\n",
       "std          5.509760       1.964677          14.064231\n",
       "min         32.100000      13.200000         172.000000\n",
       "25%         39.200000      15.700000         190.000000\n",
       "50%         44.950000      17.350000         197.000000\n",
       "75%         48.775000      18.725000         212.250000\n",
       "max         58.000000      21.500000         231.000000"
      ]
     },
     "execution_count": 37,
     "metadata": {},
     "output_type": "execute_result"
    }
   ],
   "source": [
    "x_train.describe()"
   ]
  },
  {
   "cell_type": "code",
   "execution_count": 38,
   "metadata": {},
   "outputs": [],
   "source": [
    "col_del = [] # 삭제할 컬럼\n",
    "col_num = ['bill_length_mm', 'bill_depth_mm', 'flipper_length_mm'] # 수치형 변수\n",
    "col_cat = ['species','island', 'gender'] # 범주형 변수\n",
    "col_y = ['body_mass_g']  # 무게"
   ]
  },
  {
   "cell_type": "code",
   "execution_count": 39,
   "metadata": {},
   "outputs": [
    {
     "name": "stdout",
     "output_type": "stream",
     "text": [
      "[[0. 0. 1. ... 0. 1. 0.]\n",
      " [1. 0. 0. ... 1. 0. 1.]\n",
      " [0. 1. 0. ... 0. 0. 1.]\n",
      " ...\n",
      " [1. 0. 0. ... 1. 1. 0.]\n",
      " [0. 1. 0. ... 0. 1. 0.]\n",
      " [0. 0. 1. ... 0. 1. 0.]]\n",
      "[0. 0. 1. 1. 0. 0. 1. 0.]\n"
     ]
    }
   ],
   "source": [
    "# 참고\n",
    "x = pd.concat([x_train, x_test])\n",
    "\n",
    "from sklearn.preprocessing import OneHotEncoder\n",
    "# 문자열(명목형) -> 정수로 변환 -> One-Hot-encodng로 변환\n",
    "# sparse=False: 2차원 list, True: Matrix는 권장하지 않음.\n",
    "ohe = OneHotEncoder(sparse=False, handle_unknown = 'ignore') \n",
    "ohe.fit(x[col_cat]) # One-Hot-encodng로 변환 초기화\n",
    "\n",
    "# handle_unknown = 'ignore': 초기화후 새로운 카테고리가 등장하면 0으로 지정\n",
    "x_train_ohe = ohe.transform(x_train[col_cat]) \n",
    "x_test_ohe = ohe.transform(x_test[col_cat])\n",
    "print(x_train_ohe) # 변수 3개가 결합되서 출력\n",
    "print(x_train_ohe[0])"
   ]
  },
  {
   "cell_type": "markdown",
   "metadata": {},
   "source": [
    "### 훈련 데이터의 ont-hot-encoding"
   ]
  },
  {
   "cell_type": "code",
   "execution_count": 40,
   "metadata": {},
   "outputs": [],
   "source": [
    "from sklearn.preprocessing import OneHotEncoder\n",
    "# # 문자열(명목형) -> 정수로 변환 -> One-Hot-encodng로 변환\n",
    "# sparse=False: 2차원 list, True: Matrix는 권장하지 않음.\n",
    "ohe = OneHotEncoder(sparse=False, handle_unknown = 'ignore') "
   ]
  },
  {
   "cell_type": "code",
   "execution_count": 41,
   "metadata": {},
   "outputs": [
    {
     "name": "stdout",
     "output_type": "stream",
     "text": [
      "[[0. 0. 1.]\n",
      " [1. 0. 0.]\n",
      " [0. 1. 0.]]\n",
      "     species0  species1  species2\n",
      "0         0.0       0.0       1.0\n",
      "1         1.0       0.0       0.0\n",
      "2         0.0       1.0       0.0\n",
      "3         0.0       0.0       1.0\n",
      "4         1.0       0.0       0.0\n",
      "..        ...       ...       ...\n",
      "227       0.0       1.0       0.0\n",
      "228       0.0       0.0       1.0\n",
      "229       1.0       0.0       0.0\n",
      "230       0.0       1.0       0.0\n",
      "231       0.0       0.0       1.0\n",
      "\n",
      "[232 rows x 3 columns]\n"
     ]
    }
   ],
   "source": [
    "ohe.fit(x_train[['species']]) # One-Hot-encodng로 변환 초기화\n",
    "species_ohe = ohe.transform(x_train[['species']]) \n",
    "print(species_ohe[0:3])\n",
    "species_ohe_df = pd.DataFrame(species_ohe, columns=['species0','species1','species2'])\n",
    "print(species_ohe_df)"
   ]
  },
  {
   "cell_type": "code",
   "execution_count": 42,
   "metadata": {},
   "outputs": [
    {
     "name": "stdout",
     "output_type": "stream",
     "text": [
      "[[1. 0. 0.]\n",
      " [0. 0. 1.]\n",
      " [0. 1. 0.]]\n",
      "     island0  island1  island2\n",
      "0        1.0      0.0      0.0\n",
      "1        0.0      0.0      1.0\n",
      "2        0.0      1.0      0.0\n",
      "3        1.0      0.0      0.0\n",
      "4        0.0      1.0      0.0\n",
      "..       ...      ...      ...\n",
      "227      0.0      1.0      0.0\n",
      "228      1.0      0.0      0.0\n",
      "229      0.0      0.0      1.0\n",
      "230      0.0      1.0      0.0\n",
      "231      1.0      0.0      0.0\n",
      "\n",
      "[232 rows x 3 columns]\n"
     ]
    }
   ],
   "source": [
    "ohe.fit(x_train[['island']]) # One-Hot-encodng로 변환 초기화\n",
    "island_ohe = ohe.transform(x_train[['island']]) \n",
    "print(island_ohe[0:3])\n",
    "island_ohe_df = pd.DataFrame(island_ohe, columns=['island0','island1','island2'])\n",
    "print(island_ohe_df)"
   ]
  },
  {
   "cell_type": "code",
   "execution_count": 43,
   "metadata": {},
   "outputs": [
    {
     "name": "stdout",
     "output_type": "stream",
     "text": [
      "[[1. 0.]\n",
      " [0. 1.]\n",
      " [0. 1.]]\n",
      "     gender0  gender1\n",
      "0        1.0      0.0\n",
      "1        0.0      1.0\n",
      "2        0.0      1.0\n",
      "3        0.0      1.0\n",
      "4        1.0      0.0\n",
      "..       ...      ...\n",
      "227      1.0      0.0\n",
      "228      0.0      1.0\n",
      "229      1.0      0.0\n",
      "230      1.0      0.0\n",
      "231      1.0      0.0\n",
      "\n",
      "[232 rows x 2 columns]\n"
     ]
    }
   ],
   "source": [
    "ohe.fit(x_train[['gender']]) # One-Hot-encodng로 변환 초기화\n",
    "gender_ohe = ohe.transform(x_train[['gender']]) \n",
    "print(gender_ohe[0:3])\n",
    "gender_ohe_df = pd.DataFrame(gender_ohe, columns=['gender0','gender1'])\n",
    "print(gender_ohe_df)"
   ]
  },
  {
   "cell_type": "code",
   "execution_count": 44,
   "metadata": {},
   "outputs": [
    {
     "name": "stdout",
     "output_type": "stream",
     "text": [
      "<class 'pandas.core.frame.DataFrame'>\n",
      "RangeIndex: 232 entries, 0 to 231\n",
      "Data columns (total 3 columns):\n",
      " #   Column             Non-Null Count  Dtype  \n",
      "---  ------             --------------  -----  \n",
      " 0   bill_length_mm     232 non-null    float64\n",
      " 1   bill_depth_mm      232 non-null    float64\n",
      " 2   flipper_length_mm  232 non-null    float64\n",
      "dtypes: float64(3)\n",
      "memory usage: 5.6 KB\n"
     ]
    }
   ],
   "source": [
    "# 수치형으로 변경된 변수는 제거후 DataFrame 병합\n",
    "x_train_sub = x_train.iloc[:, 3:]\n",
    "x_train_sub.info()"
   ]
  },
  {
   "cell_type": "code",
   "execution_count": 45,
   "metadata": {},
   "outputs": [
    {
     "data": {
      "text/html": [
       "<div>\n",
       "<style scoped>\n",
       "    .dataframe tbody tr th:only-of-type {\n",
       "        vertical-align: middle;\n",
       "    }\n",
       "\n",
       "    .dataframe tbody tr th {\n",
       "        vertical-align: top;\n",
       "    }\n",
       "\n",
       "    .dataframe thead th {\n",
       "        text-align: right;\n",
       "    }\n",
       "</style>\n",
       "<table border=\"1\" class=\"dataframe\">\n",
       "  <thead>\n",
       "    <tr style=\"text-align: right;\">\n",
       "      <th></th>\n",
       "      <th>bill_length_mm</th>\n",
       "      <th>bill_depth_mm</th>\n",
       "      <th>flipper_length_mm</th>\n",
       "      <th>species0</th>\n",
       "      <th>species1</th>\n",
       "      <th>species2</th>\n",
       "      <th>island0</th>\n",
       "      <th>island1</th>\n",
       "      <th>island2</th>\n",
       "      <th>gender0</th>\n",
       "      <th>gender1</th>\n",
       "    </tr>\n",
       "  </thead>\n",
       "  <tbody>\n",
       "    <tr>\n",
       "      <th>0</th>\n",
       "      <td>43.5</td>\n",
       "      <td>15.2</td>\n",
       "      <td>213.0</td>\n",
       "      <td>0.0</td>\n",
       "      <td>0.0</td>\n",
       "      <td>1.0</td>\n",
       "      <td>1.0</td>\n",
       "      <td>0.0</td>\n",
       "      <td>0.0</td>\n",
       "      <td>1.0</td>\n",
       "      <td>0.0</td>\n",
       "    </tr>\n",
       "    <tr>\n",
       "      <th>1</th>\n",
       "      <td>42.8</td>\n",
       "      <td>18.5</td>\n",
       "      <td>195.0</td>\n",
       "      <td>1.0</td>\n",
       "      <td>0.0</td>\n",
       "      <td>0.0</td>\n",
       "      <td>0.0</td>\n",
       "      <td>0.0</td>\n",
       "      <td>1.0</td>\n",
       "      <td>0.0</td>\n",
       "      <td>1.0</td>\n",
       "    </tr>\n",
       "    <tr>\n",
       "      <th>2</th>\n",
       "      <td>53.5</td>\n",
       "      <td>19.9</td>\n",
       "      <td>205.0</td>\n",
       "      <td>0.0</td>\n",
       "      <td>1.0</td>\n",
       "      <td>0.0</td>\n",
       "      <td>0.0</td>\n",
       "      <td>1.0</td>\n",
       "      <td>0.0</td>\n",
       "      <td>0.0</td>\n",
       "      <td>1.0</td>\n",
       "    </tr>\n",
       "  </tbody>\n",
       "</table>\n",
       "</div>"
      ],
      "text/plain": [
       "   bill_length_mm  bill_depth_mm  flipper_length_mm  species0  species1  \\\n",
       "0            43.5           15.2              213.0       0.0       0.0   \n",
       "1            42.8           18.5              195.0       1.0       0.0   \n",
       "2            53.5           19.9              205.0       0.0       1.0   \n",
       "\n",
       "   species2  island0  island1  island2  gender0  gender1  \n",
       "0       1.0      1.0      0.0      0.0      1.0      0.0  \n",
       "1       0.0      0.0      0.0      1.0      0.0      1.0  \n",
       "2       0.0      0.0      1.0      0.0      0.0      1.0  "
      ]
     },
     "execution_count": 45,
     "metadata": {},
     "output_type": "execute_result"
    }
   ],
   "source": [
    "x_train_total = pd.concat([x_train_sub, species_ohe_df, island_ohe_df, gender_ohe_df], axis=1)\n",
    "x_train_total.head(3)"
   ]
  },
  {
   "cell_type": "markdown",
   "metadata": {},
   "source": [
    "### 테스트 데이터의 ont-hot-encoding"
   ]
  },
  {
   "cell_type": "code",
   "execution_count": 46,
   "metadata": {},
   "outputs": [
    {
     "name": "stdout",
     "output_type": "stream",
     "text": [
      "   species0  species1  species2\n",
      "0       1.0       0.0       0.0\n",
      "1       0.0       0.0       1.0\n",
      "2       1.0       0.0       0.0\n"
     ]
    }
   ],
   "source": [
    "ohe.fit(x_test[['species']]) # One-Hot-encodng로 변환 초기화\n",
    "species_ohe_df = pd.DataFrame(ohe.transform(x_test[['species']]), columns=['species0','species1','species2'])\n",
    "print(species_ohe_df[0:3])"
   ]
  },
  {
   "cell_type": "code",
   "execution_count": 47,
   "metadata": {},
   "outputs": [
    {
     "name": "stdout",
     "output_type": "stream",
     "text": [
      "   island0  island1  island2\n",
      "0      0.0      0.0      1.0\n",
      "1      1.0      0.0      0.0\n",
      "2      1.0      0.0      0.0\n"
     ]
    }
   ],
   "source": [
    "ohe.fit(x_test[['island']]) # One-Hot-encodng로 변환 초기화\n",
    "island_ohe_df = pd.DataFrame(ohe.transform(x_test[['island']]), columns=['island0','island1','island2'])\n",
    "print(island_ohe_df[0:3])"
   ]
  },
  {
   "cell_type": "code",
   "execution_count": 48,
   "metadata": {},
   "outputs": [
    {
     "name": "stdout",
     "output_type": "stream",
     "text": [
      "   gender0  gender1\n",
      "0      0.0      1.0\n",
      "1      0.0      1.0\n",
      "2      0.0      1.0\n"
     ]
    }
   ],
   "source": [
    "ohe.fit(x_test[['gender']]) # One-Hot-encodng로 변환 초기화\n",
    "gender_ohe_df = pd.DataFrame(ohe.transform(x_test[['gender']]), columns=['gender0','gender1'])\n",
    "print(gender_ohe_df[0:3])"
   ]
  },
  {
   "cell_type": "code",
   "execution_count": 49,
   "metadata": {},
   "outputs": [
    {
     "name": "stdout",
     "output_type": "stream",
     "text": [
      "<class 'pandas.core.frame.DataFrame'>\n",
      "RangeIndex: 101 entries, 0 to 100\n",
      "Data columns (total 3 columns):\n",
      " #   Column             Non-Null Count  Dtype  \n",
      "---  ------             --------------  -----  \n",
      " 0   bill_length_mm     101 non-null    float64\n",
      " 1   bill_depth_mm      101 non-null    float64\n",
      " 2   flipper_length_mm  101 non-null    float64\n",
      "dtypes: float64(3)\n",
      "memory usage: 2.5 KB\n"
     ]
    }
   ],
   "source": [
    "# 수치형으로 변경된 변수는 제거후 DataFrame 병합\n",
    "x_test_sub = x_test.iloc[:, 3:]\n",
    "x_test_sub.info()"
   ]
  },
  {
   "cell_type": "code",
   "execution_count": 50,
   "metadata": {},
   "outputs": [
    {
     "data": {
      "text/html": [
       "<div>\n",
       "<style scoped>\n",
       "    .dataframe tbody tr th:only-of-type {\n",
       "        vertical-align: middle;\n",
       "    }\n",
       "\n",
       "    .dataframe tbody tr th {\n",
       "        vertical-align: top;\n",
       "    }\n",
       "\n",
       "    .dataframe thead th {\n",
       "        text-align: right;\n",
       "    }\n",
       "</style>\n",
       "<table border=\"1\" class=\"dataframe\">\n",
       "  <thead>\n",
       "    <tr style=\"text-align: right;\">\n",
       "      <th></th>\n",
       "      <th>bill_length_mm</th>\n",
       "      <th>bill_depth_mm</th>\n",
       "      <th>flipper_length_mm</th>\n",
       "      <th>species0</th>\n",
       "      <th>species1</th>\n",
       "      <th>species2</th>\n",
       "      <th>island0</th>\n",
       "      <th>island1</th>\n",
       "      <th>island2</th>\n",
       "      <th>gender0</th>\n",
       "      <th>gender1</th>\n",
       "    </tr>\n",
       "  </thead>\n",
       "  <tbody>\n",
       "    <tr>\n",
       "      <th>0</th>\n",
       "      <td>42.1</td>\n",
       "      <td>19.1</td>\n",
       "      <td>195.0</td>\n",
       "      <td>1.0</td>\n",
       "      <td>0.0</td>\n",
       "      <td>0.0</td>\n",
       "      <td>0.0</td>\n",
       "      <td>0.0</td>\n",
       "      <td>1.0</td>\n",
       "      <td>0.0</td>\n",
       "      <td>1.0</td>\n",
       "    </tr>\n",
       "    <tr>\n",
       "      <th>1</th>\n",
       "      <td>45.5</td>\n",
       "      <td>15.0</td>\n",
       "      <td>220.0</td>\n",
       "      <td>0.0</td>\n",
       "      <td>0.0</td>\n",
       "      <td>1.0</td>\n",
       "      <td>1.0</td>\n",
       "      <td>0.0</td>\n",
       "      <td>0.0</td>\n",
       "      <td>0.0</td>\n",
       "      <td>1.0</td>\n",
       "    </tr>\n",
       "    <tr>\n",
       "      <th>2</th>\n",
       "      <td>40.6</td>\n",
       "      <td>18.8</td>\n",
       "      <td>193.0</td>\n",
       "      <td>1.0</td>\n",
       "      <td>0.0</td>\n",
       "      <td>0.0</td>\n",
       "      <td>1.0</td>\n",
       "      <td>0.0</td>\n",
       "      <td>0.0</td>\n",
       "      <td>0.0</td>\n",
       "      <td>1.0</td>\n",
       "    </tr>\n",
       "  </tbody>\n",
       "</table>\n",
       "</div>"
      ],
      "text/plain": [
       "   bill_length_mm  bill_depth_mm  flipper_length_mm  species0  species1  \\\n",
       "0            42.1           19.1              195.0       1.0       0.0   \n",
       "1            45.5           15.0              220.0       0.0       0.0   \n",
       "2            40.6           18.8              193.0       1.0       0.0   \n",
       "\n",
       "   species2  island0  island1  island2  gender0  gender1  \n",
       "0       0.0      0.0      0.0      1.0      0.0      1.0  \n",
       "1       1.0      1.0      0.0      0.0      0.0      1.0  \n",
       "2       0.0      1.0      0.0      0.0      0.0      1.0  "
      ]
     },
     "execution_count": 50,
     "metadata": {},
     "output_type": "execute_result"
    }
   ],
   "source": [
    "x_test_total = pd.concat([x_test_sub, species_ohe_df, island_ohe_df, gender_ohe_df], axis=1)\n",
    "x_test_total.head(3)"
   ]
  },
  {
   "cell_type": "code",
   "execution_count": 51,
   "metadata": {},
   "outputs": [
    {
     "data": {
      "text/html": [
       "<div>\n",
       "<style scoped>\n",
       "    .dataframe tbody tr th:only-of-type {\n",
       "        vertical-align: middle;\n",
       "    }\n",
       "\n",
       "    .dataframe tbody tr th {\n",
       "        vertical-align: top;\n",
       "    }\n",
       "\n",
       "    .dataframe thead th {\n",
       "        text-align: right;\n",
       "    }\n",
       "</style>\n",
       "<table border=\"1\" class=\"dataframe\">\n",
       "  <thead>\n",
       "    <tr style=\"text-align: right;\">\n",
       "      <th></th>\n",
       "      <th>bill_length_mm</th>\n",
       "      <th>bill_depth_mm</th>\n",
       "      <th>flipper_length_mm</th>\n",
       "      <th>species0</th>\n",
       "      <th>species1</th>\n",
       "      <th>species2</th>\n",
       "      <th>island0</th>\n",
       "      <th>island1</th>\n",
       "      <th>island2</th>\n",
       "      <th>gender0</th>\n",
       "      <th>gender1</th>\n",
       "    </tr>\n",
       "  </thead>\n",
       "  <tbody>\n",
       "    <tr>\n",
       "      <th>count</th>\n",
       "      <td>232.000000</td>\n",
       "      <td>232.000000</td>\n",
       "      <td>232.000000</td>\n",
       "      <td>232.000000</td>\n",
       "      <td>232.000000</td>\n",
       "      <td>232.000000</td>\n",
       "      <td>232.000000</td>\n",
       "      <td>232.000000</td>\n",
       "      <td>232.000000</td>\n",
       "      <td>232.000000</td>\n",
       "      <td>232.000000</td>\n",
       "    </tr>\n",
       "    <tr>\n",
       "      <th>mean</th>\n",
       "      <td>43.990948</td>\n",
       "      <td>17.226293</td>\n",
       "      <td>200.681034</td>\n",
       "      <td>0.431034</td>\n",
       "      <td>0.224138</td>\n",
       "      <td>0.344828</td>\n",
       "      <td>0.491379</td>\n",
       "      <td>0.379310</td>\n",
       "      <td>0.129310</td>\n",
       "      <td>0.478448</td>\n",
       "      <td>0.521552</td>\n",
       "    </tr>\n",
       "    <tr>\n",
       "      <th>std</th>\n",
       "      <td>5.509760</td>\n",
       "      <td>1.964677</td>\n",
       "      <td>14.064231</td>\n",
       "      <td>0.496292</td>\n",
       "      <td>0.417915</td>\n",
       "      <td>0.476340</td>\n",
       "      <td>0.501007</td>\n",
       "      <td>0.486265</td>\n",
       "      <td>0.336269</td>\n",
       "      <td>0.500615</td>\n",
       "      <td>0.500615</td>\n",
       "    </tr>\n",
       "    <tr>\n",
       "      <th>min</th>\n",
       "      <td>32.100000</td>\n",
       "      <td>13.200000</td>\n",
       "      <td>172.000000</td>\n",
       "      <td>0.000000</td>\n",
       "      <td>0.000000</td>\n",
       "      <td>0.000000</td>\n",
       "      <td>0.000000</td>\n",
       "      <td>0.000000</td>\n",
       "      <td>0.000000</td>\n",
       "      <td>0.000000</td>\n",
       "      <td>0.000000</td>\n",
       "    </tr>\n",
       "    <tr>\n",
       "      <th>25%</th>\n",
       "      <td>39.200000</td>\n",
       "      <td>15.700000</td>\n",
       "      <td>190.000000</td>\n",
       "      <td>0.000000</td>\n",
       "      <td>0.000000</td>\n",
       "      <td>0.000000</td>\n",
       "      <td>0.000000</td>\n",
       "      <td>0.000000</td>\n",
       "      <td>0.000000</td>\n",
       "      <td>0.000000</td>\n",
       "      <td>0.000000</td>\n",
       "    </tr>\n",
       "    <tr>\n",
       "      <th>50%</th>\n",
       "      <td>44.950000</td>\n",
       "      <td>17.350000</td>\n",
       "      <td>197.000000</td>\n",
       "      <td>0.000000</td>\n",
       "      <td>0.000000</td>\n",
       "      <td>0.000000</td>\n",
       "      <td>0.000000</td>\n",
       "      <td>0.000000</td>\n",
       "      <td>0.000000</td>\n",
       "      <td>0.000000</td>\n",
       "      <td>1.000000</td>\n",
       "    </tr>\n",
       "    <tr>\n",
       "      <th>75%</th>\n",
       "      <td>48.775000</td>\n",
       "      <td>18.725000</td>\n",
       "      <td>212.250000</td>\n",
       "      <td>1.000000</td>\n",
       "      <td>0.000000</td>\n",
       "      <td>1.000000</td>\n",
       "      <td>1.000000</td>\n",
       "      <td>1.000000</td>\n",
       "      <td>0.000000</td>\n",
       "      <td>1.000000</td>\n",
       "      <td>1.000000</td>\n",
       "    </tr>\n",
       "    <tr>\n",
       "      <th>max</th>\n",
       "      <td>58.000000</td>\n",
       "      <td>21.500000</td>\n",
       "      <td>231.000000</td>\n",
       "      <td>1.000000</td>\n",
       "      <td>1.000000</td>\n",
       "      <td>1.000000</td>\n",
       "      <td>1.000000</td>\n",
       "      <td>1.000000</td>\n",
       "      <td>1.000000</td>\n",
       "      <td>1.000000</td>\n",
       "      <td>1.000000</td>\n",
       "    </tr>\n",
       "  </tbody>\n",
       "</table>\n",
       "</div>"
      ],
      "text/plain": [
       "       bill_length_mm  bill_depth_mm  flipper_length_mm    species0  \\\n",
       "count      232.000000     232.000000         232.000000  232.000000   \n",
       "mean        43.990948      17.226293         200.681034    0.431034   \n",
       "std          5.509760       1.964677          14.064231    0.496292   \n",
       "min         32.100000      13.200000         172.000000    0.000000   \n",
       "25%         39.200000      15.700000         190.000000    0.000000   \n",
       "50%         44.950000      17.350000         197.000000    0.000000   \n",
       "75%         48.775000      18.725000         212.250000    1.000000   \n",
       "max         58.000000      21.500000         231.000000    1.000000   \n",
       "\n",
       "         species1    species2     island0     island1     island2     gender0  \\\n",
       "count  232.000000  232.000000  232.000000  232.000000  232.000000  232.000000   \n",
       "mean     0.224138    0.344828    0.491379    0.379310    0.129310    0.478448   \n",
       "std      0.417915    0.476340    0.501007    0.486265    0.336269    0.500615   \n",
       "min      0.000000    0.000000    0.000000    0.000000    0.000000    0.000000   \n",
       "25%      0.000000    0.000000    0.000000    0.000000    0.000000    0.000000   \n",
       "50%      0.000000    0.000000    0.000000    0.000000    0.000000    0.000000   \n",
       "75%      0.000000    1.000000    1.000000    1.000000    0.000000    1.000000   \n",
       "max      1.000000    1.000000    1.000000    1.000000    1.000000    1.000000   \n",
       "\n",
       "          gender1  \n",
       "count  232.000000  \n",
       "mean     0.521552  \n",
       "std      0.500615  \n",
       "min      0.000000  \n",
       "25%      0.000000  \n",
       "50%      1.000000  \n",
       "75%      1.000000  \n",
       "max      1.000000  "
      ]
     },
     "execution_count": 51,
     "metadata": {},
     "output_type": "execute_result"
    }
   ],
   "source": [
    "x_train_total.describe()"
   ]
  },
  {
   "cell_type": "code",
   "execution_count": 52,
   "metadata": {},
   "outputs": [
    {
     "data": {
      "text/html": [
       "<div>\n",
       "<style scoped>\n",
       "    .dataframe tbody tr th:only-of-type {\n",
       "        vertical-align: middle;\n",
       "    }\n",
       "\n",
       "    .dataframe tbody tr th {\n",
       "        vertical-align: top;\n",
       "    }\n",
       "\n",
       "    .dataframe thead th {\n",
       "        text-align: right;\n",
       "    }\n",
       "</style>\n",
       "<table border=\"1\" class=\"dataframe\">\n",
       "  <thead>\n",
       "    <tr style=\"text-align: right;\">\n",
       "      <th></th>\n",
       "      <th>bill_length_mm</th>\n",
       "      <th>bill_depth_mm</th>\n",
       "      <th>flipper_length_mm</th>\n",
       "      <th>species0</th>\n",
       "      <th>species1</th>\n",
       "      <th>species2</th>\n",
       "      <th>island0</th>\n",
       "      <th>island1</th>\n",
       "      <th>island2</th>\n",
       "      <th>gender0</th>\n",
       "      <th>gender1</th>\n",
       "    </tr>\n",
       "  </thead>\n",
       "  <tbody>\n",
       "    <tr>\n",
       "      <th>count</th>\n",
       "      <td>101.000000</td>\n",
       "      <td>101.000000</td>\n",
       "      <td>101.000000</td>\n",
       "      <td>101.000000</td>\n",
       "      <td>101.000000</td>\n",
       "      <td>101.000000</td>\n",
       "      <td>101.000000</td>\n",
       "      <td>101.000000</td>\n",
       "      <td>101.000000</td>\n",
       "      <td>101.000000</td>\n",
       "      <td>101.000000</td>\n",
       "    </tr>\n",
       "    <tr>\n",
       "      <th>mean</th>\n",
       "      <td>43.997030</td>\n",
       "      <td>17.023762</td>\n",
       "      <td>201.623762</td>\n",
       "      <td>0.455446</td>\n",
       "      <td>0.158416</td>\n",
       "      <td>0.386139</td>\n",
       "      <td>0.485149</td>\n",
       "      <td>0.346535</td>\n",
       "      <td>0.168317</td>\n",
       "      <td>0.534653</td>\n",
       "      <td>0.465347</td>\n",
       "    </tr>\n",
       "    <tr>\n",
       "      <th>std</th>\n",
       "      <td>5.400305</td>\n",
       "      <td>1.982228</td>\n",
       "      <td>13.951238</td>\n",
       "      <td>0.500495</td>\n",
       "      <td>0.366952</td>\n",
       "      <td>0.489291</td>\n",
       "      <td>0.502272</td>\n",
       "      <td>0.478239</td>\n",
       "      <td>0.376013</td>\n",
       "      <td>0.501285</td>\n",
       "      <td>0.501285</td>\n",
       "    </tr>\n",
       "    <tr>\n",
       "      <th>min</th>\n",
       "      <td>34.000000</td>\n",
       "      <td>13.100000</td>\n",
       "      <td>176.000000</td>\n",
       "      <td>0.000000</td>\n",
       "      <td>0.000000</td>\n",
       "      <td>0.000000</td>\n",
       "      <td>0.000000</td>\n",
       "      <td>0.000000</td>\n",
       "      <td>0.000000</td>\n",
       "      <td>0.000000</td>\n",
       "      <td>0.000000</td>\n",
       "    </tr>\n",
       "    <tr>\n",
       "      <th>25%</th>\n",
       "      <td>39.600000</td>\n",
       "      <td>15.300000</td>\n",
       "      <td>190.000000</td>\n",
       "      <td>0.000000</td>\n",
       "      <td>0.000000</td>\n",
       "      <td>0.000000</td>\n",
       "      <td>0.000000</td>\n",
       "      <td>0.000000</td>\n",
       "      <td>0.000000</td>\n",
       "      <td>0.000000</td>\n",
       "      <td>0.000000</td>\n",
       "    </tr>\n",
       "    <tr>\n",
       "      <th>50%</th>\n",
       "      <td>44.000000</td>\n",
       "      <td>17.200000</td>\n",
       "      <td>198.000000</td>\n",
       "      <td>0.000000</td>\n",
       "      <td>0.000000</td>\n",
       "      <td>0.000000</td>\n",
       "      <td>0.000000</td>\n",
       "      <td>0.000000</td>\n",
       "      <td>0.000000</td>\n",
       "      <td>1.000000</td>\n",
       "      <td>0.000000</td>\n",
       "    </tr>\n",
       "    <tr>\n",
       "      <th>75%</th>\n",
       "      <td>47.700000</td>\n",
       "      <td>18.600000</td>\n",
       "      <td>214.000000</td>\n",
       "      <td>1.000000</td>\n",
       "      <td>0.000000</td>\n",
       "      <td>1.000000</td>\n",
       "      <td>1.000000</td>\n",
       "      <td>1.000000</td>\n",
       "      <td>0.000000</td>\n",
       "      <td>1.000000</td>\n",
       "      <td>1.000000</td>\n",
       "    </tr>\n",
       "    <tr>\n",
       "      <th>max</th>\n",
       "      <td>59.600000</td>\n",
       "      <td>21.200000</td>\n",
       "      <td>230.000000</td>\n",
       "      <td>1.000000</td>\n",
       "      <td>1.000000</td>\n",
       "      <td>1.000000</td>\n",
       "      <td>1.000000</td>\n",
       "      <td>1.000000</td>\n",
       "      <td>1.000000</td>\n",
       "      <td>1.000000</td>\n",
       "      <td>1.000000</td>\n",
       "    </tr>\n",
       "  </tbody>\n",
       "</table>\n",
       "</div>"
      ],
      "text/plain": [
       "       bill_length_mm  bill_depth_mm  flipper_length_mm    species0  \\\n",
       "count      101.000000     101.000000         101.000000  101.000000   \n",
       "mean        43.997030      17.023762         201.623762    0.455446   \n",
       "std          5.400305       1.982228          13.951238    0.500495   \n",
       "min         34.000000      13.100000         176.000000    0.000000   \n",
       "25%         39.600000      15.300000         190.000000    0.000000   \n",
       "50%         44.000000      17.200000         198.000000    0.000000   \n",
       "75%         47.700000      18.600000         214.000000    1.000000   \n",
       "max         59.600000      21.200000         230.000000    1.000000   \n",
       "\n",
       "         species1    species2     island0     island1     island2     gender0  \\\n",
       "count  101.000000  101.000000  101.000000  101.000000  101.000000  101.000000   \n",
       "mean     0.158416    0.386139    0.485149    0.346535    0.168317    0.534653   \n",
       "std      0.366952    0.489291    0.502272    0.478239    0.376013    0.501285   \n",
       "min      0.000000    0.000000    0.000000    0.000000    0.000000    0.000000   \n",
       "25%      0.000000    0.000000    0.000000    0.000000    0.000000    0.000000   \n",
       "50%      0.000000    0.000000    0.000000    0.000000    0.000000    1.000000   \n",
       "75%      0.000000    1.000000    1.000000    1.000000    0.000000    1.000000   \n",
       "max      1.000000    1.000000    1.000000    1.000000    1.000000    1.000000   \n",
       "\n",
       "          gender1  \n",
       "count  101.000000  \n",
       "mean     0.465347  \n",
       "std      0.501285  \n",
       "min      0.000000  \n",
       "25%      0.000000  \n",
       "50%      0.000000  \n",
       "75%      1.000000  \n",
       "max      1.000000  "
      ]
     },
     "execution_count": 52,
     "metadata": {},
     "output_type": "execute_result"
    }
   ],
   "source": [
    "x_test_total.describe()"
   ]
  },
  {
   "cell_type": "code",
   "execution_count": 53,
   "metadata": {},
   "outputs": [],
   "source": [
    "# 모델 제작\n",
    "from sklearn.model_selection import train_test_split\n",
    "x_tr, x_val, y_tr, y_val = train_test_split(x_train_total, y_train, \n",
    "                                            test_size=0.3)\n",
    "\n",
    "# 독립 변수 정규화\n",
    "from sklearn.preprocessing import MinMaxScaler\n",
    "\n",
    "scaler = MinMaxScaler()\n",
    "scaler.fit(x_tr[col_num])\n",
    "x_tr[col_num]=scaler.transform(x_tr[col_num])\n",
    "x_val[col_num]=scaler.transform(x_val[col_num])\n",
    "x_test_total[col_num]=scaler.transform(x_test_total[col_num])"
   ]
  },
  {
   "cell_type": "code",
   "execution_count": 54,
   "metadata": {},
   "outputs": [
    {
     "name": "stdout",
     "output_type": "stream",
     "text": [
      "[[4745.47759271]\n",
      " [3498.84622458]\n",
      " [4136.81645986]]\n"
     ]
    }
   ],
   "source": [
    "from sklearn.linear_model import LinearRegression\n",
    "\n",
    "modelLR = LinearRegression()\n",
    "modelLR.fit(x_tr, y_tr)\n",
    "\n",
    "y_val_pred = modelLR.predict(x_val) # 모델 테스트\n",
    "print(y_val_pred[0:3])"
   ]
  },
  {
   "cell_type": "code",
   "execution_count": 55,
   "metadata": {},
   "outputs": [
    {
     "name": "stdout",
     "output_type": "stream",
     "text": [
      "[3206.99019149]\n",
      "species1            -447.653176\n",
      "species0            -198.902345\n",
      "gender0             -182.772596\n",
      "island1              -79.243185\n",
      "island2              -10.839662\n",
      "island0               90.082848\n",
      "gender1              182.772596\n",
      "bill_depth_mm        438.236474\n",
      "bill_length_mm       616.886875\n",
      "species2             646.555521\n",
      "flipper_length_mm    971.640228\n",
      "dtype: float64\n"
     ]
    }
   ],
   "source": [
    "print(modelLR.intercept_)\n",
    "\n",
    "coef = pd.Series(data=modelLR.coef_[0], index=x_train_total.columns)\n",
    "print(coef.sort_values())"
   ]
  },
  {
   "cell_type": "code",
   "execution_count": 56,
   "metadata": {},
   "outputs": [],
   "source": [
    "# 단순 선형회귀: f(x) = ax + b\n",
    "# 다중 선형회귀: f(x) = ax1 + bx2 + c\n",
    "#   f(x) = -445.915509 * species1 +\n",
    "#          -230.700045 * species0 +\n",
    "#          -213.211690 * gender0 +\n",
    "#          -48.685922 * island1 +\n",
    "#          0.210371 * island2 +\n",
    "#          48.475551 * island0 +\n",
    "#          213.211690 * gender1 +\n",
    "#          428.730143 * bill_depth_mm +\n",
    "#          676.615554 * species2 +\n",
    "#          704.606124 * bill_length_mm +\n",
    "#          787.978665 * flipper_length_mm + 3284.52867118"
   ]
  },
  {
   "cell_type": "code",
   "execution_count": 57,
   "metadata": {},
   "outputs": [
    {
     "name": "stdout",
     "output_type": "stream",
     "text": [
      "MSE : 96564.075 , RMSE : 310.748 \n"
     ]
    }
   ],
   "source": [
    "# 회귀 모델 평가\n",
    "from sklearn.metrics import mean_squared_error, r2_score\n",
    "\n",
    "mse = mean_squared_error(y_val, y_val_pred)\n",
    "rmse = mean_squared_error(y_val, y_val_pred, squared=False)\n",
    "\n",
    "print('MSE : {0:.3f} , RMSE : {1:.3F} '.format(mse , rmse))"
   ]
  },
  {
   "cell_type": "code",
   "execution_count": 58,
   "metadata": {},
   "outputs": [
    {
     "name": "stdout",
     "output_type": "stream",
     "text": [
      "[[4108.49353846]\n",
      " [5331.08890535]\n",
      " [4124.91217979]]\n"
     ]
    }
   ],
   "source": [
    "# 테스트 데이터 실행\n",
    "y_pred = modelLR.predict(x_test_total)\n",
    "print(y_pred[0:3])"
   ]
  },
  {
   "cell_type": "code",
   "execution_count": 60,
   "metadata": {},
   "outputs": [
    {
     "name": "stdout",
     "output_type": "stream",
     "text": [
      "[[4108.5]\n",
      " [5331.1]\n",
      " [4124.9]]\n"
     ]
    }
   ],
   "source": [
    "# 소수 첫째자리 까지 반올림 출력\n",
    "np.set_printoptions(precision=1)\n",
    "print(np.round(y_pred, 1)[0:3])"
   ]
  },
  {
   "cell_type": "code",
   "execution_count": 61,
   "metadata": {},
   "outputs": [
    {
     "name": "stdout",
     "output_type": "stream",
     "text": [
      "[[4108.]\n",
      " [5331.]\n",
      " [4124.]]\n"
     ]
    }
   ],
   "source": [
    "# 소수 짤림\n",
    "np.set_printoptions(precision=1)\n",
    "print(np.floor(y_pred)[0:3])"
   ]
  },
  {
   "cell_type": "code",
   "execution_count": 62,
   "metadata": {},
   "outputs": [],
   "source": [
    "pd.DataFrame({'body_mass_g': y_pred[:,0]}).to_csv('./send/002.csv', index=False)"
   ]
  },
  {
   "cell_type": "code",
   "execution_count": null,
   "metadata": {},
   "outputs": [],
   "source": []
  }
 ],
 "metadata": {
  "kernelspec": {
   "display_name": "ai",
   "language": "python",
   "name": "ai"
  },
  "language_info": {
   "codemirror_mode": {
    "name": "ipython",
    "version": 3
   },
   "file_extension": ".py",
   "mimetype": "text/x-python",
   "name": "python",
   "nbconvert_exporter": "python",
   "pygments_lexer": "ipython3",
   "version": "3.7.11"
  }
 },
 "nbformat": 4,
 "nbformat_minor": 4
}
