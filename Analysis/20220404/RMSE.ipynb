{
 "cells": [
  {
   "cell_type": "markdown",
   "id": "1f14192f",
   "metadata": {},
   "source": [
    "# 머신러닝_회귀분석"
   ]
  },
  {
   "cell_type": "code",
   "execution_count": 7,
   "id": "729e4744",
   "metadata": {},
   "outputs": [],
   "source": [
    "import warnings\n",
    "warnings.filterwarnings(action='ignore')\n",
    "\n",
    "import os\n",
    "import random\n",
    "import tensorflow\n",
    "import tensorflow as tf\n",
    "\n",
    "import pandas as pd\n",
    "import seaborn as sb\n",
    "\n",
    "import numpy as np\n",
    "\n",
    "import matplotlib\n",
    "import matplotlib.pyplot as plt\n",
    "from matplotlib import font_manager, rc\n",
    "\n",
    "from tensorflow.keras.models import Sequential  # class\n",
    "from tensorflow.keras.models import load_model  # model 사용\n",
    "from tensorflow.keras.layers import Dense       # 전결합\n",
    "from tensorflow.keras.layers import Dropout     # 특정 node를 사용안함.\n",
    "from tensorflow.keras.callbacks import EarlyStopping # 학습 자동 중지\n",
    "from tensorflow.keras import regularizers   # L1, L2 규제 적용\n",
    "from tensorflow.keras.utils import to_categorical\n",
    "from tensorflow.keras.models import load_model\n",
    "from tensorflow.keras import optimizers\n",
    "from tensorflow.keras.optimizers import Adam\n",
    "from tensorflow.keras.optimizers import RMSprop\n",
    " \n",
    "from sklearn.preprocessing import LabelEncoder  # class가 문자열인경우 변환\n",
    "from sklearn.preprocessing import MinMaxScaler\n",
    "\n",
    "from tensorflow.keras.callbacks import EarlyStopping\n",
    "from tensorflow.keras.callbacks import ModelCheckpoint\n",
    "from sklearn.model_selection import train_test_split # 학습셋과 테스트셋을 나눔\n",
    "from sklearn.model_selection import StratifiedKFold  # K겹 교차 검증\n",
    "from sklearn.metrics import confusion_matrix\n",
    "from sklearn.metrics import roc_curve\n",
    "\n",
    "import platform \n",
    "\n",
    "if (platform.system() == 'Windows'):  # Windows\n",
    "    rc('font', family=font_manager.FontProperties(fname=\"C:/Windows/Fonts/malgun.ttf\").get_name())\n",
    "    path = '.' # Local\n",
    "else:    \n",
    "    plt.rc('font', family='NanumBarunGothic')  # Ubuntu 18.04 기준 한글 처리\n",
    "    path = '/content/drive/My Drive/ai_202102_ml/rnn/naver_movie' # Colab\n",
    "\n",
    "plt.rcParams[\"font.size\"] = 12         # 글자 크기\n",
    "# plt.rcParams[\"figure.figsize\"] = (10, 4) # 10:4의 그래프 비율\n",
    "plt.rcParams['axes.unicode_minus'] = False  # minus 부호는 unicode 적용시 한글이 깨짐으로 설정\n",
    "\n",
    "# Jupyter에게 matplotlib 그래프를 출력 영역에 표시할 것을 지시하는 명령\n",
    "%matplotlib inline  "
   ]
  },
  {
   "cell_type": "code",
   "execution_count": 8,
   "id": "95deeaea",
   "metadata": {},
   "outputs": [
    {
     "name": "stdout",
     "output_type": "stream",
     "text": [
      "[0, 1, 2, 3, 4, 5]\n"
     ]
    }
   ],
   "source": [
    "X=[i for i in range(6)] #0~5: 공부시간\n",
    "print(X)"
   ]
  },
  {
   "cell_type": "code",
   "execution_count": 9,
   "id": "54ed7b57",
   "metadata": {},
   "outputs": [
    {
     "name": "stdout",
     "output_type": "stream",
     "text": [
      "[20, 22, 24, 26, 28, 30]\n"
     ]
    }
   ],
   "source": [
    "# y = ax + b, y = 2x + 20, 기울기와 y 절편이 결정된 경우\n",
    "a = 2  # 임의로 지정\n",
    "b = 20 # 임의로 지정\n",
    "Y = [(a * x) + b for x in X]\n",
    "print(Y) #공부를 전혀 안해도 20점, 5시간을 공부하면 30점 취득 예상"
   ]
  },
  {
   "cell_type": "code",
   "execution_count": 10,
   "id": "33dea13f",
   "metadata": {},
   "outputs": [
    {
     "name": "stdout",
     "output_type": "stream",
     "text": [
      "X: [0, 1, 2, 3, 4, 5]\n",
      "Y1: [20, 25, 30, 35, 40, 45]\n",
      "Y2: [20, 30, 40, 50, 60, 70]\n",
      "Y3: [20, 40, 60, 80, 100, 120]\n"
     ]
    }
   ],
   "source": [
    "# a(기울기, y의 변화량/x의 변화량)의 특징 분석\n",
    "# y = ax + b\n",
    "X = [i for i in range(6)]  # 0 ~ 5: 공부 시간\n",
    "print('X:', X)\n",
    "Y1 = [(5 * x) + 20 for x in X] # f(x) = 5x + 20\n",
    "Y2 = [(10 * x) + 20 for x in X] # f(x) = 10x + 20\n",
    "Y3 = [(20 * x) + 20 for x in X] # f(x) = 20x + 20\n",
    "print('Y1:', Y1) #  0 * 5 + 20 = 20,  1 * 5 + 20 = 25\n",
    "print('Y2:', Y2) # 0 * 10 + 20 = 20, 1 * 10 + 20 = 30\n",
    "print('Y3:', Y3) # 0 * 20 + 20 = 20, 1 * 20 + 20 = 40"
   ]
  },
  {
   "cell_type": "code",
   "execution_count": 11,
   "id": "43f75863",
   "metadata": {},
   "outputs": [
    {
     "data": {
      "image/png": "[encoded data removed]",
      "text/plain": [
       "<Figure size 576x216 with 1 Axes>"
      ]
     },
     "metadata": {
      "needs_background": "light"
     },
     "output_type": "display_data"
    }
   ],
   "source": [
    "plt.figure(figsize=(8, 3)) # 단위: 인치\n",
    "# X 공부 시간, Y: 실제 취득 성적\n",
    "plt.plot(X, Y1, color='red', linestyle='solid', marker='o', label='A 예측')\n",
    "plt.plot(X, Y2, color='green', linestyle='solid', marker='o', label='B 예측')\n",
    "plt.plot(X, Y3, color='blue', linestyle='solid', marker='o', label='C 예측')\n",
    "plt.ylim(0, 130) # y limit: 범위\n",
    "plt.grid(True) # 격자 출력\n",
    "plt.title('공부시간에 따른 성적(200점 만점), y = ax + b')\n",
    "plt.xlabel('공부 시간')\n",
    "plt.ylabel('성적')\n",
    "plt.legend()\n",
    "plt.show()\n",
    "# a에 어떤수를 지정하는가에 따라 공부시간당 성적이 변경됨.\n",
    "# b: y 절편, 편향, Bias, 곱하기의 성질상 x가 0이면 무조건 0이되는 문제 해결"
   ]
  },
  {
   "cell_type": "code",
   "execution_count": 12,
   "id": "895c7a64",
   "metadata": {},
   "outputs": [
    {
     "name": "stdout",
     "output_type": "stream",
     "text": [
      "6시간 공부한 경우의 예측:  32 점\n"
     ]
    }
   ],
   "source": [
    "# f(x) = ax + b: x -> f(x): 결과, 원인과 결과, 단순 선형회귀, 1차 함수 그래프\n",
    "y = 2 * 6 + 20\n",
    "print('6시간 공부한 경우의 예측: ', y, '점')\n",
    "# 기울기 a와, y 절편 b에 따라 점수 예측 정확도 결정됨."
   ]
  },
  {
   "cell_type": "code",
   "execution_count": 13,
   "id": "58d47c88",
   "metadata": {},
   "outputs": [],
   "source": [
    "# f(x) = ax + b에서 추론 통계를 이용하여 a, b 산출 가능\n",
    "# 데이터가 많아지면 a₁, a₂, a₃....복잡해서 산출이 매우 어려움.\n",
    "# 매출액 = [x₁: 광고 횟수, x₂: 광고 비용, x₃: 방송사]\n",
    "# 성적 = [x₁: 자율학습 시간, x₂: 보충 수업, x₃: 시험 응시 횟수]\n",
    "# f(x) = a₁x₁ + a₂x₂+ a₃x₃+ b\n",
    "\n",
    "# 머신러닝(인공지능)이 하는 역할은\n",
    "# 최소 오차를 발생시키는 기울기 a와, y 절편 b를 찾는 역활을 함.\n",
    "# 하지만 현실데이터의 특성상 오차는 존재 할 수 밖에 없음."
   ]
  },
  {
   "cell_type": "code",
   "execution_count": null,
   "id": "01a7a243",
   "metadata": {},
   "outputs": [],
   "source": []
  }
 ],
 "metadata": {
  "kernelspec": {
   "display_name": "ai",
   "language": "python",
   "name": "ai"
  },
  "language_info": {
   "codemirror_mode": {
    "name": "ipython",
    "version": 3
   },
   "file_extension": ".py",
   "mimetype": "text/x-python",
   "name": "python",
   "nbconvert_exporter": "python",
   "pygments_lexer": "ipython3",
   "version": "3.7.11"
  }
 },
 "nbformat": 4,
 "nbformat_minor": 5
}
