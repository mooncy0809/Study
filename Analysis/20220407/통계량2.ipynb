{
 "cells": [
  {
   "cell_type": "markdown",
   "metadata": {},
   "source": [
    "### 통계량2\n",
    "- 표본을 이용하여 모집단의 성질을 파악하는 계산 결과\n",
    "- 표본의 평균 , 분산, 표준편차, 표준화 값 등을 이용하여 모집단의 모수를 추정\n",
    "- 모집단의 모수: 모집단의 특성을 갖는 평균,분산,표준편차 등을 말함\n",
    "- 다양한 단위의 통계량을 구하기 위하여 표준적인 절차가 필요하므로 표준정규분포표를 사용한다.\n",
    "- 표준정규분포표는 적분에 기반한  0~1 사이의 값으로 구성된 표 형태\n",
    "- 표준정규분포표를 이용하면 적분을 계산하는 수고를 줄일수있다.\n",
    "- 표준정규분포표를 이용해서 Z값을 적분값으로 변환할 수 있다.\n",
    "- 표준정규분포는 평균 0, 분산 1을 기반으로한 분포이다\n",
    "- 표준정규분포는 평균 0을 기준으로 ±표준편차로 구성되어 있다\n",
    "- \n",
    "- 모집단 표준화 값의 산출: Z = (x - μ) / σ => (x - mu) / sigma\n",
    "- \n",
    "- 모분산(모표준편차)을 아는 경우 표본집단 표준화 값의 산출: \n",
    "- Z = (xbar - μ) / (σ / √n) => (xbar - mu) / (sigma / np.sqrt(n))\n",
    "- \n",
    "- 모분산(모표준편차)을 모르는 경우 표본집단 표준화 값의 산출: \n",
    "- Z = (xbar - μ) / (S / √n) => (xbar - mu) / (sigma / np.sqrt(n))\n",
    "- S : 표본 표준편차"
   ]
  },
  {
   "cell_type": "code",
   "execution_count": 2,
   "metadata": {},
   "outputs": [],
   "source": [
    "import numpy as np"
   ]
  },
  {
   "cell_type": "markdown",
   "metadata": {},
   "source": [
    "<img src='05.jpg'>"
   ]
  },
  {
   "cell_type": "code",
   "execution_count": 14,
   "metadata": {},
   "outputs": [
    {
     "name": "stdout",
     "output_type": "stream",
     "text": [
      "3.3333333333333335\n",
      "0.043 %\n"
     ]
    }
   ],
   "source": [
    "# H0:휴식 시간22분은 20분 휴식규정을 준수한다\n",
    "# H1:휴식시간 22분은 20분 휴식규정을 위배한다.\n",
    "mu=20; n=25;xbar=22;s=3; #s:표본표준편차\n",
    "z=(xbar - mu) / (s /np.sqrt(n))\n",
    "print(z)\n",
    "# z귀무가설이 참일 확률: 1-0.999566\n",
    "print(round((1-0.999566)*100,3),'%')"
   ]
  },
  {
   "cell_type": "code",
   "execution_count": 8,
   "metadata": {},
   "outputs": [
    {
     "name": "stdout",
     "output_type": "stream",
     "text": [
      "직원들은 20분동안 휴식을 취하고 있다고 말할수 없다. 더길게 쉬고있다\n"
     ]
    }
   ],
   "source": [
    "# 표본수가 30미만이면 정규분포의 성질이 적게 나타날수있어 t분포표를 이용함\n",
    "# t(0.05,24) : 비정상적인 경우를 0.05 즉 5%안에 나타낼경우로 하며 표본수는 n-1(25-1)하여 24일 경우로 t분포표를 참고함\n",
    "# 단측검정\n",
    "# t(0.05,24) : t분포표를 확인힌 결과 단측검정을 제시함\n",
    "if z > 1.711: \n",
    "    print('직원들은 20분동안 휴식을 취하고 있다고 말할수 없다. 더길게 쉬고있다')\n",
    "else:\n",
    "    print('총무과장의 생각대로 직원들은 20분동안 휴식을 취하고 있다')\n"
   ]
  },
  {
   "cell_type": "code",
   "execution_count": 9,
   "metadata": {},
   "outputs": [
    {
     "name": "stdout",
     "output_type": "stream",
     "text": [
      "1.6666666666666667\n"
     ]
    }
   ],
   "source": [
    "mu=20; n=25;xbar=21;s=3;\n",
    "z=(xbar - mu) / (s /np.sqrt(n))\n",
    "print(z)"
   ]
  },
  {
   "cell_type": "code",
   "execution_count": 10,
   "metadata": {},
   "outputs": [
    {
     "name": "stdout",
     "output_type": "stream",
     "text": [
      "총무과장의 생각대로 직원들은 20분동안 휴식을 취하고 있다\n"
     ]
    }
   ],
   "source": [
    "# 표본수가 30미만이면 정규분포의 성질이 적게 나타날수있어 t분포표를 이용함\n",
    "# t(0.05,24) : 비정상적인 경우를 0.05 즉 5%안에 나타낼경우로 하며 표본수는 n-1(25-1)하여 24일 경우로 t분포표를 참고함\n",
    "# 단측검정\n",
    "# t(0.05,24) : t분포표를 확인힌 결과 단측검정을 제시함\n",
    "if z > 1.711: \n",
    "    print('직원들은 20분동안 휴식을 취하고 있다고 말할수 없다. 더길게 쉬고있다')\n",
    "else:\n",
    "    print('총무과장의 생각대로 직원들은 20분동안 휴식을 취하고 있다')\n"
   ]
  },
  {
   "cell_type": "code",
   "execution_count": 11,
   "metadata": {},
   "outputs": [
    {
     "name": "stdout",
     "output_type": "stream",
     "text": [
      "0.8333333333333334\n",
      "총무과장의 생각대로 직원들은 20분동안 휴식을 취하고 있다\n"
     ]
    }
   ],
   "source": [
    "mu=20; n=25;xbar=20.5;s=3;\n",
    "z=(xbar - mu) / (s /np.sqrt(n))\n",
    "print(z)\n",
    "      \n",
    "if z > 1.711: \n",
    "    print('직원들은 20분동안 휴식을 취하고 있다고 말할수 없다. 더길게 쉬고있다')\n",
    "else:\n",
    "    print('총무과장의 생각대로 직원들은 20분동안 휴식을 취하고 있다')"
   ]
  },
  {
   "cell_type": "code",
   "execution_count": 12,
   "metadata": {},
   "outputs": [
    {
     "name": "stdout",
     "output_type": "stream",
     "text": [
      "0.0\n",
      "총무과장의 생각대로 직원들은 20분동안 휴식을 취하고 있다\n"
     ]
    }
   ],
   "source": [
    "mu=20; n=25;xbar=20;s=3;\n",
    "z=(xbar - mu) / (s /np.sqrt(n))\n",
    "print(z)\n",
    "      \n",
    "if z > 1.711: \n",
    "    print('직원들은 20분동안 휴식을 취하고 있다고 말할수 없다. 더길게 쉬고있다')\n",
    "else:\n",
    "    print('총무과장의 생각대로 직원들은 20분동안 휴식을 취하고 있다')"
   ]
  },
  {
   "cell_type": "code",
   "execution_count": null,
   "metadata": {},
   "outputs": [],
   "source": []
  },
  {
   "cell_type": "markdown",
   "metadata": {},
   "source": [
    "<img src='06.jpg'>"
   ]
  },
  {
   "cell_type": "code",
   "execution_count": null,
   "metadata": {},
   "outputs": [],
   "source": []
  },
  {
   "cell_type": "markdown",
   "metadata": {},
   "source": [
    "<img src='07.jpg'>"
   ]
  },
  {
   "cell_type": "code",
   "execution_count": null,
   "metadata": {},
   "outputs": [],
   "source": []
  },
  {
   "cell_type": "markdown",
   "metadata": {},
   "source": [
    "<img src='08.jpg'>"
   ]
  },
  {
   "cell_type": "code",
   "execution_count": null,
   "metadata": {},
   "outputs": [],
   "source": []
  },
  {
   "cell_type": "markdown",
   "metadata": {},
   "source": [
    "<img src='09.jpg'>"
   ]
  },
  {
   "cell_type": "code",
   "execution_count": null,
   "metadata": {},
   "outputs": [],
   "source": []
  },
  {
   "cell_type": "markdown",
   "metadata": {},
   "source": [
    "<img src='10.jpg'>"
   ]
  },
  {
   "cell_type": "code",
   "execution_count": null,
   "metadata": {},
   "outputs": [],
   "source": []
  },
  {
   "cell_type": "markdown",
   "metadata": {},
   "source": [
    "<img src='11.jpg'>"
   ]
  },
  {
   "cell_type": "code",
   "execution_count": null,
   "metadata": {},
   "outputs": [],
   "source": []
  },
  {
   "cell_type": "markdown",
   "metadata": {},
   "source": [
    "<img src='12.jpg'>"
   ]
  },
  {
   "cell_type": "code",
   "execution_count": null,
   "metadata": {},
   "outputs": [],
   "source": []
  },
  {
   "cell_type": "markdown",
   "metadata": {},
   "source": [
    "<img src='13.jpg'>"
   ]
  },
  {
   "cell_type": "code",
   "execution_count": null,
   "metadata": {},
   "outputs": [],
   "source": []
  },
  {
   "cell_type": "markdown",
   "metadata": {},
   "source": [
    "<img src='14.jpg'>"
   ]
  },
  {
   "cell_type": "code",
   "execution_count": null,
   "metadata": {},
   "outputs": [],
   "source": []
  },
  {
   "cell_type": "code",
   "execution_count": null,
   "metadata": {},
   "outputs": [],
   "source": []
  },
  {
   "cell_type": "code",
   "execution_count": null,
   "metadata": {},
   "outputs": [],
   "source": []
  },
  {
   "cell_type": "code",
   "execution_count": null,
   "metadata": {},
   "outputs": [],
   "source": []
  },
  {
   "cell_type": "code",
   "execution_count": null,
   "metadata": {},
   "outputs": [],
   "source": []
  }
 ],
 "metadata": {
  "kernelspec": {
   "display_name": "ai",
   "language": "python",
   "name": "ai"
  },
  "language_info": {
   "codemirror_mode": {
    "name": "ipython",
    "version": 3
   },
   "file_extension": ".py",
   "mimetype": "text/x-python",
   "name": "python",
   "nbconvert_exporter": "python",
   "pygments_lexer": "ipython3",
   "version": "3.7.11"
  }
 },
 "nbformat": 4,
 "nbformat_minor": 4
}
