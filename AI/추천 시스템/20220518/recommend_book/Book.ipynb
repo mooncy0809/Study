{
 "cells": [
  {
   "cell_type": "markdown",
   "metadata": {},
   "source": [
    "### 추천 시스템 제작(Book)"
   ]
  },
  {
   "cell_type": "code",
   "execution_count": 1,
   "metadata": {},
   "outputs": [
    {
     "data": {
      "application/javascript": [
       "IPython.notebook.set_autosave_interval(0)"
      ]
     },
     "metadata": {},
     "output_type": "display_data"
    },
    {
     "name": "stdout",
     "output_type": "stream",
     "text": [
      "Autosave disabled\n"
     ]
    }
   ],
   "source": [
    "%autosave 0\n",
    "import warnings\n",
    "warnings.filterwarnings(action='ignore')\n",
    "\n",
    "import os\n",
    "\n",
    "import numpy as np\n",
    "import pandas as pd\n",
    "import seaborn as sb\n",
    "\n",
    "from IPython.display import Image\n",
    "\n",
    "from tensorflow.keras.models import Sequential  # class\n",
    "from tensorflow.keras.models import load_model  # model 사용\n",
    "from tensorflow.keras.layers import Dense       # 전결합\n",
    "from tensorflow.keras.layers import Dropout     # 특정 node를 사용안함.\n",
    "from tensorflow.keras.callbacks import EarlyStopping   # 학습 자동 중지\n",
    "from tensorflow.keras.callbacks import ModelCheckpoint # 우수한 학습 모델 파일 저장\n",
    "from tensorflow.keras import regularizers \n",
    "from tensorflow.keras.utils import to_categorical   # one-hot 엔코딩\n",
    "from tensorflow.keras.optimizers import Adam    # 가중치, bias 최적화\n",
    "\n",
    "from sklearn.preprocessing import LabelEncoder\n",
    "from sklearn.model_selection import train_test_split # 학습셋과 테스트셋의 분리 지원\n",
    "from sklearn.model_selection import StratifiedKFold  # K겹 교차 검증\n",
    "\n",
    "import matplotlib.pyplot as plt\n",
    "\n",
    "from matplotlib import font_manager, rc\n",
    "\n",
    "import platform \n",
    "\n",
    "if (platform.system() == 'Windows'):  # Windows, Linux, Darwin\n",
    "    rc('font', family=font_manager.FontProperties(fname=\"C:/Windows/Fonts/malgun.ttf\").get_name())\n",
    "    path = '.' # Local\n",
    "else:    \n",
    "    plt.rc('font', family='NanumBarunGothic')  # Ubuntu 18.04 기준 한글 처리\n",
    "    path = '/content/drive/My Drive/ai7/dnn/recommendation' # Colab\n",
    "\n",
    "plt.rcParams[\"font.size\"] = 12         # 글자 크기\n",
    "# plt.rcParams[\"figure.figsize\"] = (10, 4) # 10:4의 그래프 비율\n",
    "plt.rcParams['axes.unicode_minus'] = False  # minus 부호는 unicode 적용시 한글이 깨짐으로 설정\n",
    "\n",
    "%matplotlib inline"
   ]
  },
  {
   "cell_type": "code",
   "execution_count": 2,
   "metadata": {},
   "outputs": [
    {
     "name": "stdout",
     "output_type": "stream",
     "text": [
      "<class 'numpy.ndarray'>\n",
      "(99, 10)\n"
     ]
    }
   ],
   "source": [
    "# header가 있을경우 skiprows=1 선언\n",
    "# data = np.loadtxt(path + '/train1.csv', delimiter=',', skiprows=1, dtype=np.float64)  # 특성이 작은 데이터\n",
    "# data = np.loadtxt(path + '/train2.csv', delimiter=',', skiprows=1, dtype=np.float64)   # 특성이 작은 데이터의 예외 추가\n",
    "# data = np.loadtxt(path + '/train3.csv', delimiter=',', skiprows=1, dtype=np.float64)   # 특성이 작은 데이터의 예외 추가\n",
    "data = np.loadtxt(path + '/train4.csv', delimiter=',', skiprows=1, dtype=np.float64)   # 특성이 작은 데이터의 예외 추가\n",
    "print(type(data))\n",
    "print(data.shape)"
   ]
  },
  {
   "cell_type": "code",
   "execution_count": 3,
   "metadata": {},
   "outputs": [
    {
     "name": "stdout",
     "output_type": "stream",
     "text": [
      "(99, 9)\n",
      "(99,)\n"
     ]
    }
   ],
   "source": [
    "# 데이터와 class의 분리\n",
    "# 1,1,1,0,0,0,0,0,0,0\n",
    "# 0: 개발 관련 도서\n",
    "# 1: 해외 여행 관련 도서\n",
    "# 2: 소설 관련 도서\n",
    "X = data[:, 0:9]  # 0 ~ 8\n",
    "print(X.shape)\n",
    "Y = data[:, 9]    # 10 번째 데이터, class의 분리\n",
    "print(Y.shape)"
   ]
  },
  {
   "cell_type": "code",
   "execution_count": 4,
   "metadata": {},
   "outputs": [
    {
     "name": "stdout",
     "output_type": "stream",
     "text": [
      "[0. 1. 2. 0. 1. 2. 0. 1. 2. 0. 1. 2. 0. 1. 2. 0. 1. 2. 0. 0. 0. 0. 0. 0.\n",
      " 0. 0. 0. 0. 0. 0. 0. 0. 0. 0. 0. 0. 0. 0. 0. 0. 0. 0. 1. 1. 1. 1. 1. 1.\n",
      " 1. 1. 1. 1. 1. 1. 1. 1. 1. 1. 1. 1. 2. 2. 2. 2. 2. 2. 2. 2. 2. 2. 2. 2.\n",
      " 2. 2. 2. 2. 2. 2. 2. 2. 2. 2. 2. 2. 2. 2. 2. 2. 2. 2. 2. 2. 2. 0. 0. 0.\n",
      " 0. 0. 0.]\n"
     ]
    }
   ],
   "source": [
    "print(Y)"
   ]
  },
  {
   "cell_type": "code",
   "execution_count": 5,
   "metadata": {},
   "outputs": [
    {
     "name": "stdout",
     "output_type": "stream",
     "text": [
      "[0 1 2 0 1 2 0 1 2 0 1 2 0 1 2 0 1 2 0 0 0 0 0 0 0 0 0 0 0 0 0 0 0 0 0 0 0\n",
      " 0 0 0 0 0 1 1 1 1 1 1 1 1 1 1 1 1 1 1 1 1 1 1 2 2 2 2 2 2 2 2 2 2 2 2 2 2\n",
      " 2 2 2 2 2 2 2 2 2 2 2 2 2 2 2 2 2 2 2 0 0 0 0 0 0]\n"
     ]
    }
   ],
   "source": [
    "Y = Y.astype('int') # 정수로 형변환\n",
    "print(Y)"
   ]
  },
  {
   "cell_type": "code",
   "execution_count": 6,
   "metadata": {},
   "outputs": [
    {
     "name": "stdout",
     "output_type": "stream",
     "text": [
      "[[1. 0. 0.]\n",
      " [0. 1. 0.]\n",
      " [0. 0. 1.]\n",
      " [1. 0. 0.]\n",
      " [0. 1. 0.]\n",
      " [0. 0. 1.]\n",
      " [1. 0. 0.]\n",
      " [0. 1. 0.]\n",
      " [0. 0. 1.]\n",
      " [1. 0. 0.]\n",
      " [0. 1. 0.]\n",
      " [0. 0. 1.]\n",
      " [1. 0. 0.]\n",
      " [0. 1. 0.]\n",
      " [0. 0. 1.]\n",
      " [1. 0. 0.]\n",
      " [0. 1. 0.]\n",
      " [0. 0. 1.]\n",
      " [1. 0. 0.]\n",
      " [1. 0. 0.]\n",
      " [1. 0. 0.]\n",
      " [1. 0. 0.]\n",
      " [1. 0. 0.]\n",
      " [1. 0. 0.]\n",
      " [1. 0. 0.]\n",
      " [1. 0. 0.]\n",
      " [1. 0. 0.]\n",
      " [1. 0. 0.]\n",
      " [1. 0. 0.]\n",
      " [1. 0. 0.]\n",
      " [1. 0. 0.]\n",
      " [1. 0. 0.]\n",
      " [1. 0. 0.]\n",
      " [1. 0. 0.]\n",
      " [1. 0. 0.]\n",
      " [1. 0. 0.]\n",
      " [1. 0. 0.]\n",
      " [1. 0. 0.]\n",
      " [1. 0. 0.]\n",
      " [1. 0. 0.]\n",
      " [1. 0. 0.]\n",
      " [1. 0. 0.]\n",
      " [0. 1. 0.]\n",
      " [0. 1. 0.]\n",
      " [0. 1. 0.]\n",
      " [0. 1. 0.]\n",
      " [0. 1. 0.]\n",
      " [0. 1. 0.]\n",
      " [0. 1. 0.]\n",
      " [0. 1. 0.]\n",
      " [0. 1. 0.]\n",
      " [0. 1. 0.]\n",
      " [0. 1. 0.]\n",
      " [0. 1. 0.]\n",
      " [0. 1. 0.]\n",
      " [0. 1. 0.]\n",
      " [0. 1. 0.]\n",
      " [0. 1. 0.]\n",
      " [0. 1. 0.]\n",
      " [0. 1. 0.]\n",
      " [0. 0. 1.]\n",
      " [0. 0. 1.]\n",
      " [0. 0. 1.]\n",
      " [0. 0. 1.]\n",
      " [0. 0. 1.]\n",
      " [0. 0. 1.]\n",
      " [0. 0. 1.]\n",
      " [0. 0. 1.]\n",
      " [0. 0. 1.]\n",
      " [0. 0. 1.]\n",
      " [0. 0. 1.]\n",
      " [0. 0. 1.]\n",
      " [0. 0. 1.]\n",
      " [0. 0. 1.]\n",
      " [0. 0. 1.]\n",
      " [0. 0. 1.]\n",
      " [0. 0. 1.]\n",
      " [0. 0. 1.]\n",
      " [0. 0. 1.]\n",
      " [0. 0. 1.]\n",
      " [0. 0. 1.]\n",
      " [0. 0. 1.]\n",
      " [0. 0. 1.]\n",
      " [0. 0. 1.]\n",
      " [0. 0. 1.]\n",
      " [0. 0. 1.]\n",
      " [0. 0. 1.]\n",
      " [0. 0. 1.]\n",
      " [0. 0. 1.]\n",
      " [0. 0. 1.]\n",
      " [0. 0. 1.]\n",
      " [0. 0. 1.]\n",
      " [0. 0. 1.]\n",
      " [1. 0. 0.]\n",
      " [1. 0. 0.]\n",
      " [1. 0. 0.]\n",
      " [1. 0. 0.]\n",
      " [1. 0. 0.]\n",
      " [1. 0. 0.]]\n"
     ]
    }
   ],
   "source": [
    "# 0: 개발 관련 도서\n",
    "# 1: 해외 여행 관련 도서\n",
    "# 2: 소설 관련 도서\n",
    "Y_encoded = to_categorical(Y) # one-hot-encoding\n",
    "\n",
    "print(Y_encoded) "
   ]
  },
  {
   "cell_type": "code",
   "execution_count": 39,
   "metadata": {},
   "outputs": [
    {
     "name": "stdout",
     "output_type": "stream",
     "text": [
      "[0.8 0.1 0.1 0.8 0.1 0.1 0.8 0.1 0.1]\n",
      "[1. 0. 0.]\n"
     ]
    }
   ],
   "source": [
    "print(X[0])\n",
    "print(Y_encoded[0])"
   ]
  },
  {
   "cell_type": "code",
   "execution_count": 40,
   "metadata": {},
   "outputs": [
    {
     "name": "stdout",
     "output_type": "stream",
     "text": [
      "[[0. 0. 1.]\n",
      " [1. 0. 0.]\n",
      " [1. 0. 0.]\n",
      " [0. 1. 0.]\n",
      " [0. 0. 1.]\n",
      " [0. 1. 0.]\n",
      " [1. 0. 0.]\n",
      " [0. 0. 1.]\n",
      " [1. 0. 0.]\n",
      " [1. 0. 0.]\n",
      " [0. 0. 1.]\n",
      " [0. 0. 1.]\n",
      " [0. 0. 1.]\n",
      " [1. 0. 0.]\n",
      " [0. 0. 1.]\n",
      " [0. 1. 0.]\n",
      " [1. 0. 0.]\n",
      " [0. 1. 0.]]\n",
      "(18, 3)\n"
     ]
    }
   ],
   "source": [
    "# train_test_split 분할을 통한 훈련, 검증, 테스트 데이터의 분리\n",
    "seed = 0\n",
    "# 90%: 분할대기, 10%: 테스트\n",
    "x_train_all, x_test, y_train_all, y_test = train_test_split(X, Y_encoded,\n",
    "                                           stratify=Y_encoded,\n",
    "                                           test_size=0.1,\n",
    "                                           random_state=seed)\n",
    "# 나머지 데이터 90%를 분할, 80%: 훈련, 20%: 검증\n",
    "x_train, x_val, y_train, y_val = train_test_split(x_train_all, y_train_all,\n",
    "                                           stratify=y_train_all,\n",
    "                                           test_size=0.2,\n",
    "                                           random_state=seed)\n",
    "\n",
    "print(y_val)\n",
    "print(y_val.shape)\n",
    "# Iris-setosa: 0, Iris-versicolor: 1, Iris-virginica: 2\n",
    "# (7, 3): 7개의 데이터가 입력되어 한건당 3가지에 속할 확률이 출력됨으로 7행 3열이됨."
   ]
  },
  {
   "cell_type": "code",
   "execution_count": 41,
   "metadata": {},
   "outputs": [
    {
     "name": "stdout",
     "output_type": "stream",
     "text": [
      "[[0. 0. 1.]\n",
      " [0. 1. 0.]\n",
      " [0. 0. 1.]\n",
      " [0. 0. 1.]\n",
      " [1. 0. 0.]\n",
      " [0. 0. 1.]\n",
      " [1. 0. 0.]\n",
      " [0. 1. 0.]\n",
      " [1. 0. 0.]\n",
      " [1. 0. 0.]]\n",
      "(10, 3)\n"
     ]
    }
   ],
   "source": [
    "print(y_test)\n",
    "print(y_test.shape)\n",
    "# (4, 3): 4개의 데이터가 입력되어 한건당 3가지에 속할 확률이 출력됨으로 4행 3열이됨."
   ]
  },
  {
   "cell_type": "code",
   "execution_count": 42,
   "metadata": {},
   "outputs": [
    {
     "name": "stdout",
     "output_type": "stream",
     "text": [
      "Model: \"sequential_2\"\n",
      "_________________________________________________________________\n",
      "Layer (type)                 Output Shape              Param #   \n",
      "=================================================================\n",
      "dense_4 (Dense)              (None, 5)                 50        \n",
      "_________________________________________________________________\n",
      "dense_5 (Dense)              (None, 3)                 18        \n",
      "=================================================================\n",
      "Total params: 68\n",
      "Trainable params: 68\n",
      "Non-trainable params: 0\n",
      "_________________________________________________________________\n",
      "Epoch 1/50\n",
      "71/71 [==============================] - 1s 4ms/step - loss: 1.0587 - accuracy: 0.4493 - val_loss: 0.7733 - val_accuracy: 0.8889\n",
      "\n",
      "Epoch 00001: val_accuracy improved from -inf to 0.88889, saving model to .\\Book.h5\n",
      "Epoch 2/50\n",
      "71/71 [==============================] - 0s 2ms/step - loss: 0.6787 - accuracy: 0.8737 - val_loss: 0.3445 - val_accuracy: 1.0000\n",
      "\n",
      "Epoch 00002: val_accuracy improved from 0.88889 to 1.00000, saving model to .\\Book.h5\n",
      "Epoch 3/50\n",
      "71/71 [==============================] - 0s 2ms/step - loss: 0.2919 - accuracy: 0.9932 - val_loss: 0.1779 - val_accuracy: 1.0000\n",
      "\n",
      "Epoch 00003: val_accuracy did not improve from 1.00000\n",
      "Epoch 4/50\n",
      "71/71 [==============================] - 0s 1ms/step - loss: 0.1728 - accuracy: 1.0000 - val_loss: 0.1015 - val_accuracy: 1.0000\n",
      "\n",
      "Epoch 00004: val_accuracy did not improve from 1.00000\n",
      "Epoch 5/50\n",
      "71/71 [==============================] - 0s 2ms/step - loss: 0.0976 - accuracy: 1.0000 - val_loss: 0.0603 - val_accuracy: 1.0000\n",
      "\n",
      "Epoch 00005: val_accuracy did not improve from 1.00000\n",
      "Epoch 6/50\n",
      "71/71 [==============================] - 0s 1ms/step - loss: 0.0647 - accuracy: 1.0000 - val_loss: 0.0407 - val_accuracy: 1.0000\n",
      "\n",
      "Epoch 00006: val_accuracy did not improve from 1.00000\n",
      "Epoch 7/50\n",
      "71/71 [==============================] - 0s 2ms/step - loss: 0.0467 - accuracy: 1.0000 - val_loss: 0.0289 - val_accuracy: 1.0000\n",
      "\n",
      "Epoch 00007: val_accuracy did not improve from 1.00000\n",
      "Epoch 8/50\n",
      "71/71 [==============================] - 0s 1ms/step - loss: 0.0337 - accuracy: 1.0000 - val_loss: 0.0211 - val_accuracy: 1.0000\n",
      "\n",
      "Epoch 00008: val_accuracy did not improve from 1.00000\n",
      "Epoch 9/50\n",
      "71/71 [==============================] - 0s 2ms/step - loss: 0.0220 - accuracy: 1.0000 - val_loss: 0.0166 - val_accuracy: 1.0000\n",
      "\n",
      "Epoch 00009: val_accuracy did not improve from 1.00000\n",
      "Epoch 10/50\n",
      "71/71 [==============================] - 0s 2ms/step - loss: 0.0175 - accuracy: 1.0000 - val_loss: 0.0130 - val_accuracy: 1.0000\n",
      "\n",
      "Epoch 00010: val_accuracy did not improve from 1.00000\n",
      "Epoch 11/50\n",
      "71/71 [==============================] - 0s 2ms/step - loss: 0.0151 - accuracy: 1.0000 - val_loss: 0.0104 - val_accuracy: 1.0000\n",
      "\n",
      "Epoch 00011: val_accuracy did not improve from 1.00000\n",
      "Epoch 12/50\n",
      "71/71 [==============================] - 0s 2ms/step - loss: 0.0115 - accuracy: 1.0000 - val_loss: 0.0086 - val_accuracy: 1.0000\n",
      "\n",
      "Epoch 00012: val_accuracy did not improve from 1.00000\n",
      "Epoch 13/50\n",
      "71/71 [==============================] - 0s 2ms/step - loss: 0.0108 - accuracy: 1.0000 - val_loss: 0.0073 - val_accuracy: 1.0000\n",
      "\n",
      "Epoch 00013: val_accuracy did not improve from 1.00000\n",
      "Epoch 14/50\n",
      "71/71 [==============================] - 0s 2ms/step - loss: 0.0074 - accuracy: 1.0000 - val_loss: 0.0062 - val_accuracy: 1.0000\n",
      "\n",
      "Epoch 00014: val_accuracy did not improve from 1.00000\n",
      "Epoch 15/50\n",
      "71/71 [==============================] - 0s 2ms/step - loss: 0.0077 - accuracy: 1.0000 - val_loss: 0.0054 - val_accuracy: 1.0000\n",
      "\n",
      "Epoch 00015: val_accuracy did not improve from 1.00000\n",
      "Epoch 16/50\n",
      "71/71 [==============================] - 0s 2ms/step - loss: 0.0063 - accuracy: 1.0000 - val_loss: 0.0046 - val_accuracy: 1.0000\n",
      "\n",
      "Epoch 00016: val_accuracy did not improve from 1.00000\n",
      "Epoch 17/50\n",
      "71/71 [==============================] - 0s 2ms/step - loss: 0.0058 - accuracy: 1.0000 - val_loss: 0.0040 - val_accuracy: 1.0000\n",
      "\n",
      "Epoch 00017: val_accuracy did not improve from 1.00000\n",
      "Epoch 18/50\n",
      "71/71 [==============================] - 0s 2ms/step - loss: 0.0045 - accuracy: 1.0000 - val_loss: 0.0036 - val_accuracy: 1.0000\n",
      "\n",
      "Epoch 00018: val_accuracy did not improve from 1.00000\n",
      "Epoch 19/50\n",
      "71/71 [==============================] - 0s 2ms/step - loss: 0.0038 - accuracy: 1.0000 - val_loss: 0.0032 - val_accuracy: 1.0000\n",
      "\n",
      "Epoch 00019: val_accuracy did not improve from 1.00000\n",
      "Epoch 20/50\n",
      "71/71 [==============================] - 0s 2ms/step - loss: 0.0035 - accuracy: 1.0000 - val_loss: 0.0028 - val_accuracy: 1.0000\n",
      "\n",
      "Epoch 00020: val_accuracy did not improve from 1.00000\n",
      "Epoch 21/50\n",
      "71/71 [==============================] - 0s 2ms/step - loss: 0.0031 - accuracy: 1.0000 - val_loss: 0.0026 - val_accuracy: 1.0000\n",
      "\n",
      "Epoch 00021: val_accuracy did not improve from 1.00000\n",
      "Epoch 22/50\n",
      "71/71 [==============================] - 0s 2ms/step - loss: 0.0025 - accuracy: 1.0000 - val_loss: 0.0023 - val_accuracy: 1.0000\n",
      "\n",
      "Epoch 00022: val_accuracy did not improve from 1.00000\n",
      "Epoch 23/50\n",
      "71/71 [==============================] - 0s 2ms/step - loss: 0.0022 - accuracy: 1.0000 - val_loss: 0.0021 - val_accuracy: 1.0000\n",
      "\n",
      "Epoch 00023: val_accuracy did not improve from 1.00000\n",
      "Epoch 24/50\n",
      "71/71 [==============================] - 0s 2ms/step - loss: 0.0024 - accuracy: 1.0000 - val_loss: 0.0019 - val_accuracy: 1.0000\n",
      "\n",
      "Epoch 00024: val_accuracy did not improve from 1.00000\n",
      "Epoch 25/50\n",
      "71/71 [==============================] - 0s 2ms/step - loss: 0.0023 - accuracy: 1.0000 - val_loss: 0.0017 - val_accuracy: 1.0000\n",
      "\n",
      "Epoch 00025: val_accuracy did not improve from 1.00000\n",
      "Epoch 26/50\n",
      "71/71 [==============================] - 0s 2ms/step - loss: 0.0021 - accuracy: 1.0000 - val_loss: 0.0016 - val_accuracy: 1.0000\n",
      "\n",
      "Epoch 00026: val_accuracy did not improve from 1.00000\n",
      "Epoch 27/50\n",
      "71/71 [==============================] - 0s 2ms/step - loss: 0.0017 - accuracy: 1.0000 - val_loss: 0.0014 - val_accuracy: 1.0000\n",
      "\n",
      "Epoch 00027: val_accuracy did not improve from 1.00000\n",
      "Epoch 28/50\n",
      "71/71 [==============================] - 0s 2ms/step - loss: 0.0016 - accuracy: 1.0000 - val_loss: 0.0013 - val_accuracy: 1.0000\n",
      "\n",
      "Epoch 00028: val_accuracy did not improve from 1.00000\n",
      "Epoch 29/50\n",
      "71/71 [==============================] - 0s 2ms/step - loss: 0.0015 - accuracy: 1.0000 - val_loss: 0.0012 - val_accuracy: 1.0000\n",
      "\n",
      "Epoch 00029: val_accuracy did not improve from 1.00000\n",
      "Epoch 30/50\n",
      "71/71 [==============================] - 0s 2ms/step - loss: 0.0014 - accuracy: 1.0000 - val_loss: 0.0011 - val_accuracy: 1.0000\n",
      "\n",
      "Epoch 00030: val_accuracy did not improve from 1.00000\n",
      "Epoch 31/50\n",
      "71/71 [==============================] - 0s 2ms/step - loss: 0.0013 - accuracy: 1.0000 - val_loss: 0.0011 - val_accuracy: 1.0000\n",
      "\n",
      "Epoch 00031: val_accuracy did not improve from 1.00000\n",
      "Epoch 32/50\n",
      "71/71 [==============================] - 0s 1ms/step - loss: 0.0011 - accuracy: 1.0000 - val_loss: 9.7730e-04 - val_accuracy: 1.0000\n",
      "\n",
      "Epoch 00032: val_accuracy did not improve from 1.00000\n",
      "Epoch 33/50\n",
      "71/71 [==============================] - 0s 1ms/step - loss: 9.7866e-04 - accuracy: 1.0000 - val_loss: 9.2000e-04 - val_accuracy: 1.0000\n",
      "\n",
      "Epoch 00033: val_accuracy did not improve from 1.00000\n",
      "Epoch 34/50\n",
      "71/71 [==============================] - 0s 2ms/step - loss: 0.0011 - accuracy: 1.0000 - val_loss: 8.5061e-04 - val_accuracy: 1.0000\n",
      "\n",
      "Epoch 00034: val_accuracy did not improve from 1.00000\n",
      "Epoch 35/50\n",
      "71/71 [==============================] - 0s 2ms/step - loss: 0.0010 - accuracy: 1.0000 - val_loss: 7.9448e-04 - val_accuracy: 1.0000\n",
      "\n",
      "Epoch 00035: val_accuracy did not improve from 1.00000\n",
      "Epoch 36/50\n",
      "71/71 [==============================] - 0s 2ms/step - loss: 8.0923e-04 - accuracy: 1.0000 - val_loss: 7.4179e-04 - val_accuracy: 1.0000\n",
      "\n",
      "Epoch 00036: val_accuracy did not improve from 1.00000\n",
      "Epoch 37/50\n",
      "71/71 [==============================] - 0s 2ms/step - loss: 8.2388e-04 - accuracy: 1.0000 - val_loss: 6.9447e-04 - val_accuracy: 1.0000\n",
      "\n",
      "Epoch 00037: val_accuracy did not improve from 1.00000\n",
      "Epoch 38/50\n",
      "71/71 [==============================] - 0s 2ms/step - loss: 7.0397e-04 - accuracy: 1.0000 - val_loss: 6.4854e-04 - val_accuracy: 1.0000\n",
      "\n",
      "Epoch 00038: val_accuracy did not improve from 1.00000\n",
      "Epoch 39/50\n"
     ]
    },
    {
     "name": "stdout",
     "output_type": "stream",
     "text": [
      "71/71 [==============================] - 0s 2ms/step - loss: 6.5814e-04 - accuracy: 1.0000 - val_loss: 6.1044e-04 - val_accuracy: 1.0000\n",
      "\n",
      "Epoch 00039: val_accuracy did not improve from 1.00000\n",
      "Epoch 40/50\n",
      "71/71 [==============================] - 0s 2ms/step - loss: 6.7408e-04 - accuracy: 1.0000 - val_loss: 5.7050e-04 - val_accuracy: 1.0000\n",
      "\n",
      "Epoch 00040: val_accuracy did not improve from 1.00000\n",
      "Epoch 41/50\n",
      "71/71 [==============================] - 0s 2ms/step - loss: 6.4673e-04 - accuracy: 1.0000 - val_loss: 5.3584e-04 - val_accuracy: 1.0000\n",
      "\n",
      "Epoch 00041: val_accuracy did not improve from 1.00000\n",
      "Epoch 42/50\n",
      "71/71 [==============================] - 0s 2ms/step - loss: 5.3282e-04 - accuracy: 1.0000 - val_loss: 5.0749e-04 - val_accuracy: 1.0000\n",
      "\n",
      "Epoch 00042: val_accuracy did not improve from 1.00000\n",
      "Epoch 43/50\n",
      "71/71 [==============================] - 0s 2ms/step - loss: 5.6394e-04 - accuracy: 1.0000 - val_loss: 4.7401e-04 - val_accuracy: 1.0000\n",
      "\n",
      "Epoch 00043: val_accuracy did not improve from 1.00000\n",
      "Epoch 44/50\n",
      "71/71 [==============================] - 0s 2ms/step - loss: 4.9430e-04 - accuracy: 1.0000 - val_loss: 4.4833e-04 - val_accuracy: 1.0000\n",
      "\n",
      "Epoch 00044: val_accuracy did not improve from 1.00000\n",
      "Epoch 45/50\n",
      "71/71 [==============================] - 0s 2ms/step - loss: 5.1610e-04 - accuracy: 1.0000 - val_loss: 4.2197e-04 - val_accuracy: 1.0000\n",
      "\n",
      "Epoch 00045: val_accuracy did not improve from 1.00000\n",
      "Epoch 46/50\n",
      "71/71 [==============================] - 0s 2ms/step - loss: 4.3068e-04 - accuracy: 1.0000 - val_loss: 3.9897e-04 - val_accuracy: 1.0000\n",
      "\n",
      "Epoch 00046: val_accuracy did not improve from 1.00000\n",
      "Epoch 47/50\n",
      "71/71 [==============================] - ETA: 0s - loss: 4.2376e-04 - accuracy: 1.00 - 0s 2ms/step - loss: 4.2345e-04 - accuracy: 1.0000 - val_loss: 3.7817e-04 - val_accuracy: 1.0000\n",
      "\n",
      "Epoch 00047: val_accuracy did not improve from 1.00000\n",
      "Epoch 48/50\n",
      "71/71 [==============================] - 0s 2ms/step - loss: 4.0664e-04 - accuracy: 1.0000 - val_loss: 3.5604e-04 - val_accuracy: 1.0000\n",
      "\n",
      "Epoch 00048: val_accuracy did not improve from 1.00000\n",
      "Epoch 49/50\n",
      "71/71 [==============================] - 0s 2ms/step - loss: 4.1989e-04 - accuracy: 1.0000 - val_loss: 3.3739e-04 - val_accuracy: 1.0000\n",
      "\n",
      "Epoch 00049: val_accuracy did not improve from 1.00000\n",
      "Epoch 50/50\n",
      "71/71 [==============================] - 0s 2ms/step - loss: 3.8708e-04 - accuracy: 1.0000 - val_loss: 3.1977e-04 - val_accuracy: 1.0000\n",
      "\n",
      "Epoch 00050: val_accuracy did not improve from 1.00000\n"
     ]
    }
   ],
   "source": [
    "model = Sequential()\n",
    "\n",
    "# 네트워크 구성\n",
    "# model.add(Dense(20, input_shape=(9, ), activation='relu'))\n",
    "model.add(Dense(5, input_dim=9, activation='relu'))\n",
    "model.add(Dense(3, activation='softmax')) # 입력: 1,0,0,1,0,0,1,0,0 → 0 ~ 1 사이의 확률 3가지 출력, 총합은 1\n",
    "model.compile(optimizer=Adam(lr=0.01), loss='categorical_crossentropy', \n",
    "                                metrics=['accuracy'])\n",
    "model.summary()\n",
    "\n",
    "mcp = ModelCheckpoint(filepath='./Book.h5', monitor='val_accuracy', verbose=1, save_best_only=True)\n",
    "\n",
    "es = EarlyStopping(monitor='loss', patience=1, restore_best_weights=True)\n",
    "\n",
    "hist = model.fit(x_train, y_train, validation_data=(x_val, y_val), shuffle=True,\n",
    "                 epochs=50, batch_size=1, callbacks=[mcp, es])"
   ]
  },
  {
   "cell_type": "code",
   "execution_count": 43,
   "metadata": {},
   "outputs": [
    {
     "data": {
      "image/png": "[encoded data removed]",
      "text/plain": [
       "<Figure size 720x360 with 2 Axes>"
      ]
     },
     "metadata": {
      "needs_background": "light"
     },
     "output_type": "display_data"
    }
   ],
   "source": [
    "import matplotlib.pyplot as plt\n",
    "%matplotlib inline  \n",
    "\n",
    "fig, loss_ax = plt.subplots()\n",
    "# plt.figure(figsize=(6,4)) # ERROR\n",
    "fig.set_size_inches(10, 5)  # 챠트 크기 설정\n",
    "\n",
    "acc_ax = loss_ax.twinx()  # 오른쪽 y 출 설정\n",
    "\n",
    "# 왼쪽 y 축 설정\n",
    "loss_ax.plot(hist.history['loss'], 'y', label='train loss')\n",
    "loss_ax.plot(hist.history['val_loss'], 'r', label='val loss')\n",
    "loss_ax.set_ylim([0.0, 1.5]) # 값을 반영하여 변경\n",
    "\n",
    "# 오른쪽 y 축 설정\n",
    "acc_ax.plot(hist.history['accuracy'], 'b', label='train accuracy')\n",
    "acc_ax.plot(hist.history['val_accuracy'], 'g', label='val accuracy')\n",
    "acc_ax.set_ylim([0.0, 1.0])\n",
    "\n",
    "# 축 레이블 설정\n",
    "loss_ax.set_xlabel('epoch' )  # 학습 횟수\n",
    "loss_ax.set_ylabel('loss')    # 왼쪽 y 축 레이블, 오차\n",
    "acc_ax.set_ylabel('accuracy') # 오른쪽 y 축 레이블,정확도\n",
    "\n",
    "loss_ax.legend(loc='upper left') # 왼쪽 y 축 오차 레이블 위치\n",
    "acc_ax.legend(loc='lower left')  # 오른쪽 y 축 정확도 레이블 위치\n",
    "\n",
    "plt.show()"
   ]
  },
  {
   "cell_type": "code",
   "execution_count": 44,
   "metadata": {},
   "outputs": [
    {
     "name": "stdout",
     "output_type": "stream",
     "text": [
      "손실값: 0.00031976556056179106 /정확도: 100.0 %\n"
     ]
    }
   ],
   "source": [
    "test_loss, test_acc = model.evaluate(x_val, y_val, batch_size=1, verbose=0)\n",
    "print('손실값:', test_loss, '/정확도:', (test_acc*100), '%')"
   ]
  },
  {
   "cell_type": "code",
   "execution_count": 45,
   "metadata": {},
   "outputs": [],
   "source": [
    "# model.save(path + '/Book.h5')"
   ]
  },
  {
   "cell_type": "code",
   "execution_count": 46,
   "metadata": {},
   "outputs": [
    {
     "name": "stdout",
     "output_type": "stream",
     "text": [
      "데이터: (10, 9)\n",
      "데이터: [0.1 0.1 0.8 0.1 0.1 0.8 0.1 0.1 0.8]\n",
      "예측 결과 p.shape: (10, 3)\n"
     ]
    }
   ],
   "source": [
    "print('데이터:', x_test.shape) # 변수가 9개로 구성된 4건의 관측치(행)\n",
    "print('데이터:', x_test[0])    # 첫번째 데이터행\n",
    "\n",
    "p = model.predict(x_test)      # 테스트 데이터 4건 ★\n",
    "print('예측 결과 p.shape:', p.shape)     # (4, 3): 3: 폼종의 갯수"
   ]
  },
  {
   "cell_type": "code",
   "execution_count": 47,
   "metadata": {},
   "outputs": [
    {
     "name": "stdout",
     "output_type": "stream",
     "text": [
      "예측값: [8.363800e-09 3.019533e-06 9.999970e-01]\n",
      "예측값의 합: 1.000\n",
      "예측값: 0.00000% 0.00030% 99.99970%\n",
      "One-hot-encoding:  [0. 0. 1.]\n",
      "2\n"
     ]
    }
   ],
   "source": [
    "print('예측값:', p[0])        # 첫번째 예측값 출력, 확률 0 ~ 1사이의 실수값\n",
    "print('예측값의 합: {0:0.3f}'.format(np.sum(p[0])))\n",
    "print('예측값: {0:.5f}% {1:.5f}% {2:.5f}%'.format(p[0,0]*100,p[0,1]*100,p[0,2]*100))\n",
    "print('One-hot-encoding: ', y_test[0])\n",
    "print(np.argmax(p[0]))      # 가장 큰값의 index"
   ]
  },
  {
   "cell_type": "code",
   "execution_count": 48,
   "metadata": {},
   "outputs": [
    {
     "name": "stdout",
     "output_type": "stream",
     "text": [
      "[[8.3638003e-09 3.0195331e-06 9.9999702e-01]\n",
      " [6.3898211e-04 9.9933904e-01 2.1877322e-05]\n",
      " [1.8186521e-09 2.3881637e-04 9.9976116e-01]\n",
      " [8.3638003e-09 3.0195331e-06 9.9999702e-01]\n",
      " [9.9948752e-01 5.1034632e-04 2.0892005e-06]\n",
      " [5.2403455e-05 4.0663499e-06 9.9994349e-01]\n",
      " [9.9931252e-01 6.7784439e-04 9.6646445e-06]\n",
      " [1.6177616e-08 9.9996078e-01 3.9203525e-05]\n",
      " [9.9975485e-01 1.5549110e-06 2.4362566e-04]\n",
      " [9.9999928e-01 3.1100041e-07 3.0497463e-07]]\n"
     ]
    }
   ],
   "source": [
    "print(p)"
   ]
  },
  {
   "cell_type": "code",
   "execution_count": null,
   "metadata": {},
   "outputs": [],
   "source": []
  },
  {
   "cell_type": "code",
   "execution_count": null,
   "metadata": {},
   "outputs": [],
   "source": []
  },
  {
   "cell_type": "code",
   "execution_count": null,
   "metadata": {},
   "outputs": [],
   "source": []
  }
 ],
 "metadata": {
  "kernelspec": {
   "display_name": "ai",
   "language": "python",
   "name": "ai"
  },
  "language_info": {
   "codemirror_mode": {
    "name": "ipython",
    "version": 3
   },
   "file_extension": ".py",
   "mimetype": "text/x-python",
   "name": "python",
   "nbconvert_exporter": "python",
   "pygments_lexer": "ipython3",
   "version": "3.7.11"
  }
 },
 "nbformat": 4,
 "nbformat_minor": 2
}
