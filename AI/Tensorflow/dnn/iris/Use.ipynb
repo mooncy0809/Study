{
 "cells": [
  {
   "cell_type": "code",
   "execution_count": 1,
   "metadata": {},
   "outputs": [
    {
     "data": {
      "application/javascript": [
       "IPython.notebook.set_autosave_interval(0)"
      ]
     },
     "metadata": {},
     "output_type": "display_data"
    },
    {
     "name": "stdout",
     "output_type": "stream",
     "text": [
      "Autosave disabled\n"
     ]
    }
   ],
   "source": [
    "%autosave 0\n",
    "import warnings\n",
    "warnings.filterwarnings(action='ignore')\n",
    "\n",
    "import numpy as np\n",
    "import pandas as pd\n",
    "\n",
    "from tensorflow.keras.utils import to_categorical  # one-hot 엔코딩\n",
    "from sklearn.preprocessing import LabelEncoder     # 명목형 척도 정수화 \n",
    "from tensorflow.keras.models import load_model     # model 사용"
   ]
  },
  {
   "cell_type": "code",
   "execution_count": 2,
   "metadata": {},
   "outputs": [],
   "source": [
    "model = load_model('./Iris.h5')"
   ]
  },
  {
   "cell_type": "code",
   "execution_count": 3,
   "metadata": {},
   "outputs": [
    {
     "name": "stdout",
     "output_type": "stream",
     "text": [
      "   sepal_length  sepal_width  petal_length  petal_width      species\n",
      "0           5.0          3.5           1.3          0.3  Iris-setosa\n",
      "1           4.5          2.3           1.3          0.3  Iris-setosa\n",
      "2           4.4          3.2           1.3          0.2  Iris-setosa\n",
      "3           5.0          3.5           1.6          0.6  Iris-setosa\n",
      "4           5.1          3.8           1.9          0.4  Iris-setosa\n"
     ]
    }
   ],
   "source": [
    "df = pd.read_csv('./iris_use.csv', names = [\"sepal_length\", \"sepal_width\", \"petal_length\", \"petal_width\", \"species\"])\n",
    "print(df.head())"
   ]
  },
  {
   "cell_type": "code",
   "execution_count": 4,
   "metadata": {},
   "outputs": [
    {
     "name": "stdout",
     "output_type": "stream",
     "text": [
      "<class 'numpy.ndarray'>\n",
      "30\n",
      "['Iris-setosa' 'Iris-setosa' 'Iris-setosa' 'Iris-setosa' 'Iris-setosa'\n",
      " 'Iris-setosa' 'Iris-setosa' 'Iris-setosa' 'Iris-setosa' 'Iris-setosa'\n",
      " 'Iris-versicolor' 'Iris-versicolor' 'Iris-versicolor' 'Iris-versicolor'\n",
      " 'Iris-versicolor' 'Iris-versicolor' 'Iris-versicolor' 'Iris-versicolor'\n",
      " 'Iris-versicolor' 'Iris-versicolor' 'Iris-virginica' 'Iris-virginica'\n",
      " 'Iris-virginica' 'Iris-virginica' 'Iris-virginica' 'Iris-virginica'\n",
      " 'Iris-virginica' 'Iris-virginica' 'Iris-virginica' 'Iris-virginica']\n"
     ]
    }
   ],
   "source": [
    "data = df.values\n",
    "print(type(data))\n",
    "print(len(data))\n",
    "X = data[:, 0:4].astype(float)  # 독립 변수, 정의역\n",
    "Y_str = data[:, 4]              # 종속 변수, 치역 \n",
    "print(Y_str)"
   ]
  },
  {
   "cell_type": "code",
   "execution_count": 15,
   "metadata": {},
   "outputs": [
    {
     "name": "stdout",
     "output_type": "stream",
     "text": [
      "[0 0 0 0 0 0 0 0 0 0 1 1 1 1 1 1 1 1 1 1 2 2 2 2 2 2 2 2 2 2]\n",
      "[1. 0. 0.]\n",
      "[0. 1. 0.]\n",
      "[0. 0. 1.]\n"
     ]
    }
   ],
   "source": [
    "# 문자 레이블을 숫자화, 문자열을 알파벳순으로 그룹화한후 0부터 숫자로 변환\n",
    "encoder = LabelEncoder()\n",
    "encoder.fit(Y_str)\n",
    "Y = encoder.transform(Y_str)\n",
    "print(Y)\n",
    "\n",
    "Y_encoded = to_categorical(Y) # one-hot-encoding, 해당 index만 1로 변경\n",
    "print(Y_encoded[0])\n",
    "print(Y_encoded[10])\n",
    "print(Y_encoded[20])"
   ]
  },
  {
   "cell_type": "code",
   "execution_count": 17,
   "metadata": {},
   "outputs": [
    {
     "name": "stdout",
     "output_type": "stream",
     "text": [
      "['Iris-setosa' 'Iris-versicolor' 'Iris-virginica']\n"
     ]
    }
   ],
   "source": [
    "print(encoder.inverse_transform([0, 1, 2])) # Label 확인"
   ]
  },
  {
   "cell_type": "code",
   "execution_count": 8,
   "metadata": {},
   "outputs": [
    {
     "name": "stdout",
     "output_type": "stream",
     "text": [
      "p.shape: (30, 3)\n",
      "데이터: [5.  3.5 1.3 0.3]\n"
     ]
    }
   ],
   "source": [
    "# Iris-setosa: 0, Iris-versicolor: 1, Iris-virginica: 2\n",
    "p = model.predict(X)  # 테스트 데이터 30건\n",
    "print('p.shape:', p.shape)\n",
    "print('데이터:', X[0]) # 첫번째 데이터행"
   ]
  },
  {
   "cell_type": "code",
   "execution_count": 13,
   "metadata": {},
   "outputs": [
    {
     "name": "stdout",
     "output_type": "stream",
     "text": [
      "예측값: [0.6113238  0.24229586 0.1463804 ]\n",
      "예측값: 61.13 24.23 14.64\n",
      "LabelEncoder:  0\n",
      "One-hot-encoding:  [1. 0. 0.]\n",
      "0\n",
      "Iris-setosa\n"
     ]
    }
   ],
   "source": [
    "# 확률 0 ~ 1사이의 실수값\n",
    "print('예측값:', p[0]) \n",
    "print('예측값: {0:.2f} {1:.2f} {2:.2f}'.format((p[0][0]*100), (p[0][1]*100), (p[0][2]*100))) \n",
    "print('LabelEncoder: ', Y[0])\n",
    "print('One-hot-encoding: ', Y_encoded[0])\n",
    "print(np.argmax(p[0]))  # 가장 큰값의 index\n",
    "print(Y_str[0])         # 첫번째 품종"
   ]
  },
  {
   "cell_type": "code",
   "execution_count": 14,
   "metadata": {},
   "outputs": [
    {
     "name": "stdout",
     "output_type": "stream",
     "text": [
      "[0.6113238  0.24229586 0.1463804 ]\n",
      "최대값: 0.6113238 -> index: 0\n",
      "[0.5305852  0.29289085 0.17652385]\n",
      "최대값: 0.5305852 -> index: 0\n",
      "[0.59082067 0.25454363 0.15463568]\n",
      "최대값: 0.59082067 -> index: 0\n",
      "[0.56073016 0.27176583 0.16750397]\n",
      "최대값: 0.56073016 -> index: 0\n",
      "[0.58674175 0.26676133 0.14649695]\n",
      "최대값: 0.58674175 -> index: 0\n",
      "[0.5772845  0.26355368 0.15916182]\n",
      "최대값: 0.5772845 -> index: 0\n",
      "[0.6297052  0.23762006 0.13267468]\n",
      "최대값: 0.6297052 -> index: 0\n",
      "[0.5948652 0.2536923 0.1514425]\n",
      "최대값: 0.5948652 -> index: 0\n",
      "[0.6348448  0.23341754 0.13173766]\n",
      "최대값: 0.6348448 -> index: 0\n",
      "[0.61214805 0.24476682 0.14308515]\n",
      "최대값: 0.61214805 -> index: 0\n",
      "[0.22142059 0.46498328 0.31359613]\n",
      "최대값: 0.46498328 -> index: 1\n",
      "[0.21214917 0.45129567 0.33655518]\n",
      "최대값: 0.45129567 -> index: 1\n",
      "[0.18839653 0.4615827  0.3500209 ]\n",
      "최대값: 0.4615827 -> index: 1\n",
      "[0.19086258 0.42990875 0.37922874]\n",
      "최대값: 0.42990875 -> index: 1\n",
      "[0.18264143 0.44901896 0.36833966]\n",
      "최대값: 0.44901896 -> index: 1\n",
      "[0.1934684  0.4327364  0.37379518]\n",
      "최대값: 0.4327364 -> index: 1\n",
      "[0.19446263 0.43891472 0.36662266]\n",
      "최대값: 0.43891472 -> index: 1\n",
      "[0.26893538 0.42812988 0.30293474]\n",
      "최대값: 0.42812988 -> index: 1\n",
      "[0.21007816 0.46154332 0.32837853]\n",
      "최대값: 0.46154332 -> index: 1\n",
      "[0.20772721 0.41872522 0.37354752]\n",
      "최대값: 0.41872522 -> index: 1\n",
      "[0.07539678 0.2957611  0.6288421 ]\n",
      "최대값: 0.6288421 -> index: 2\n",
      "[0.11242773 0.35726553 0.5303067 ]\n",
      "최대값: 0.5303067 -> index: 2\n",
      "[0.09401267 0.374579   0.53140837]\n",
      "최대값: 0.53140837 -> index: 2\n",
      "[0.11294377 0.37683454 0.51022166]\n",
      "최대값: 0.51022166 -> index: 2\n",
      "[0.0883365  0.33648318 0.5751804 ]\n",
      "최대값: 0.5751804 -> index: 2\n",
      "[0.07908743 0.36143887 0.5594737 ]\n",
      "최대값: 0.5594737 -> index: 2\n",
      "[0.1334261 0.353714  0.5128599]\n",
      "최대값: 0.5128599 -> index: 2\n",
      "[0.09768502 0.38968685 0.5126281 ]\n",
      "최대값: 0.5126281 -> index: 2\n",
      "[0.09709313 0.36980033 0.5331065 ]\n",
      "최대값: 0.5331065 -> index: 2\n",
      "[0.08607332 0.349022   0.56490475]\n",
      "최대값: 0.56490475 -> index: 2\n"
     ]
    }
   ],
   "source": [
    "for item in p: # 2차원 배열에서 1행씩 산출\n",
    "    print(item)\n",
    "    print('최대값:', np.max(item), '-> index:', np.argmax(item))\n",
    "    # 최대값 -> 최대값이 있는 index"
   ]
  },
  {
   "cell_type": "code",
   "execution_count": 18,
   "metadata": {},
   "outputs": [
    {
     "name": "stdout",
     "output_type": "stream",
     "text": [
      "[0.6113238  0.24229586 0.1463804 ]  합계: 1\n",
      "[0.5305852  0.29289085 0.17652385]  합계: 1\n",
      "[0.59082067 0.25454363 0.15463568]  합계: 1\n",
      "[0.56073016 0.27176583 0.16750397]  합계: 1\n",
      "[0.58674175 0.26676133 0.14649695]  합계: 1\n",
      "[0.5772845  0.26355368 0.15916182]  합계: 1\n",
      "[0.6297052  0.23762006 0.13267468]  합계: 1\n",
      "[0.5948652 0.2536923 0.1514425]  합계: 1\n",
      "[0.6348448  0.23341754 0.13173766]  합계: 1\n",
      "[0.61214805 0.24476682 0.14308515]  합계: 1\n",
      "[0.22142059 0.46498328 0.31359613]  합계: 1\n",
      "[0.21214917 0.45129567 0.33655518]  합계: 1\n",
      "[0.18839653 0.4615827  0.3500209 ]  합계: 1\n",
      "[0.19086258 0.42990875 0.37922874]  합계: 1\n",
      "[0.18264143 0.44901896 0.36833966]  합계: 1\n",
      "[0.1934684  0.4327364  0.37379518]  합계: 1\n",
      "[0.19446263 0.43891472 0.36662266]  합계: 1\n",
      "[0.26893538 0.42812988 0.30293474]  합계: 1\n",
      "[0.21007816 0.46154332 0.32837853]  합계: 1\n",
      "[0.20772721 0.41872522 0.37354752]  합계: 1\n",
      "[0.07539678 0.2957611  0.6288421 ]  합계: 1\n",
      "[0.11242773 0.35726553 0.5303067 ]  합계: 1\n",
      "[0.09401267 0.374579   0.53140837]  합계: 1\n",
      "[0.11294377 0.37683454 0.51022166]  합계: 1\n",
      "[0.0883365  0.33648318 0.5751804 ]  합계: 1\n",
      "[0.07908743 0.36143887 0.5594737 ]  합계: 1\n",
      "[0.1334261 0.353714  0.5128599]  합계: 1\n",
      "[0.09768502 0.38968685 0.5126281 ]  합계: 1\n",
      "[0.09709313 0.36980033 0.5331065 ]  합계: 1\n",
      "[0.08607332 0.349022   0.56490475]  합계: 1\n"
     ]
    }
   ],
   "source": [
    "# softmax 함수의 값이 1이되는지 확인\n",
    "# 컴퓨터는 내부적으로 정수 연산이라 미세한 오차 발생\n",
    "for item in p:\n",
    "    print(item, ' 합계: {0:0.0f}'.format(np.sum(item)))"
   ]
  },
  {
   "cell_type": "code",
   "execution_count": 19,
   "metadata": {},
   "outputs": [],
   "source": [
    "# Iris-setosa: 0, Iris-versicolor: 1, Iris-virginica: 2\n",
    "def decode(data):  # data: 1차원 배열, predict는 2차원 배열을 리턴함\n",
    "    index = np.argmax(data) # 최대값의 index를 찾아줌\n",
    "    if index == 0:\n",
    "        label = 'Iris-setosa'\n",
    "    elif index == 1:\n",
    "        label = 'Iris-versicolor'\n",
    "    elif index == 2:\n",
    "        label = 'Iris-virginica'\n",
    "        \n",
    "    return label"
   ]
  },
  {
   "cell_type": "code",
   "execution_count": 20,
   "metadata": {},
   "outputs": [
    {
     "name": "stdout",
     "output_type": "stream",
     "text": [
      "30\n",
      "Target(실제값): Iris-setosa  Y hat(예측값): Iris-setosa\n",
      "Target(실제값): Iris-setosa  Y hat(예측값): Iris-setosa\n",
      "Target(실제값): Iris-setosa  Y hat(예측값): Iris-setosa\n",
      "Target(실제값): Iris-setosa  Y hat(예측값): Iris-setosa\n",
      "Target(실제값): Iris-setosa  Y hat(예측값): Iris-setosa\n",
      "Target(실제값): Iris-setosa  Y hat(예측값): Iris-setosa\n",
      "Target(실제값): Iris-setosa  Y hat(예측값): Iris-setosa\n",
      "Target(실제값): Iris-setosa  Y hat(예측값): Iris-setosa\n",
      "Target(실제값): Iris-setosa  Y hat(예측값): Iris-setosa\n",
      "Target(실제값): Iris-setosa  Y hat(예측값): Iris-setosa\n",
      "Target(실제값): Iris-versicolor  Y hat(예측값): Iris-versicolor\n",
      "Target(실제값): Iris-versicolor  Y hat(예측값): Iris-versicolor\n",
      "Target(실제값): Iris-versicolor  Y hat(예측값): Iris-versicolor\n",
      "Target(실제값): Iris-versicolor  Y hat(예측값): Iris-versicolor\n",
      "Target(실제값): Iris-versicolor  Y hat(예측값): Iris-versicolor\n",
      "Target(실제값): Iris-versicolor  Y hat(예측값): Iris-versicolor\n",
      "Target(실제값): Iris-versicolor  Y hat(예측값): Iris-versicolor\n",
      "Target(실제값): Iris-versicolor  Y hat(예측값): Iris-versicolor\n",
      "Target(실제값): Iris-versicolor  Y hat(예측값): Iris-versicolor\n",
      "Target(실제값): Iris-versicolor  Y hat(예측값): Iris-versicolor\n",
      "Target(실제값): Iris-virginica  Y hat(예측값): Iris-virginica\n",
      "Target(실제값): Iris-virginica  Y hat(예측값): Iris-virginica\n",
      "Target(실제값): Iris-virginica  Y hat(예측값): Iris-virginica\n",
      "Target(실제값): Iris-virginica  Y hat(예측값): Iris-virginica\n",
      "Target(실제값): Iris-virginica  Y hat(예측값): Iris-virginica\n",
      "Target(실제값): Iris-virginica  Y hat(예측값): Iris-virginica\n",
      "Target(실제값): Iris-virginica  Y hat(예측값): Iris-virginica\n",
      "Target(실제값): Iris-virginica  Y hat(예측값): Iris-virginica\n",
      "Target(실제값): Iris-virginica  Y hat(예측값): Iris-virginica\n",
      "Target(실제값): Iris-virginica  Y hat(예측값): Iris-virginica\n"
     ]
    }
   ],
   "source": [
    "print(len(p))\n",
    "for i in range(len(p)):\n",
    "    print('Target(실제값):', Y_str[i], ' Y hat(예측값):', decode(p[i]))"
   ]
  },
  {
   "cell_type": "code",
   "execution_count": 21,
   "metadata": {},
   "outputs": [
    {
     "name": "stdout",
     "output_type": "stream",
     "text": [
      "꽃받침 길이, 꽃받침 넓이, 꽃잎 길이, 꽃잎 넓이를 입력하세요.5.1,3.5,1.4,0.2\n",
      "<class 'str'>\n",
      "5.1,3.5,1.4,0.2\n"
     ]
    }
   ],
   "source": [
    "# input 함수의 사용\n",
    "# 5.1,3.5,1.4,0.2\n",
    "src = input('꽃받침 길이, 꽃받침 넓이, 꽃잎 길이, 꽃잎 넓이를 입력하세요.')\n",
    "print(type(src))\n",
    "print(src)"
   ]
  },
  {
   "cell_type": "code",
   "execution_count": 22,
   "metadata": {},
   "outputs": [
    {
     "name": "stdout",
     "output_type": "stream",
     "text": [
      "(4,)\n",
      "[5.1 3.5 1.4 0.2]\n"
     ]
    }
   ],
   "source": [
    "data = np.array(src.split(','), dtype=float) # 1차원 텐서\n",
    "print(data.shape)\n",
    "print(data)"
   ]
  },
  {
   "cell_type": "code",
   "execution_count": 23,
   "metadata": {},
   "outputs": [
    {
     "name": "stdout",
     "output_type": "stream",
     "text": [
      "(1, 4)\n",
      "[[5.1 3.5 1.4 0.2]]\n",
      "p: [[0.6227249  0.23900543 0.13826972]]\n",
      "예측값: Iris-setosa\n"
     ]
    }
   ],
   "source": [
    "X = np.array([data])  # 2차원 텐서(배열)로 변환\n",
    "print(X.shape)\n",
    "print(X)\n",
    "p = model.predict(X)  # 2차원 배열 대입\n",
    "print('p:', p)\n",
    "\n",
    "for i in range(len(p)):\n",
    "    print('예측값:', decode(p[i])) # [[0.9129314  0.0839827  0.00308592]]"
   ]
  },
  {
   "cell_type": "code",
   "execution_count": null,
   "metadata": {},
   "outputs": [],
   "source": []
  },
  {
   "cell_type": "code",
   "execution_count": null,
   "metadata": {},
   "outputs": [],
   "source": []
  }
 ],
 "metadata": {
  "kernelspec": {
   "display_name": "ai",
   "language": "python",
   "name": "ai"
  },
  "language_info": {
   "codemirror_mode": {
    "name": "ipython",
    "version": 3
   },
   "file_extension": ".py",
   "mimetype": "text/x-python",
   "name": "python",
   "nbconvert_exporter": "python",
   "pygments_lexer": "ipython3",
   "version": "3.7.11"
  }
 },
 "nbformat": 4,
 "nbformat_minor": 2
}
