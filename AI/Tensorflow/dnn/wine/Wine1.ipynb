{
 "cells": [
  {
   "cell_type": "markdown",
   "metadata": {},
   "source": [
    "### 이항 분류(0/1, True/False, 합격/불합격, 생존/사망, 양성/음성) 와인 종류 예측\n",
    "- Red wine, White wine의 특징을 학습하여 모델 제작후 데이터 입력시 포도주 종류를 판단할 수 있다."
   ]
  },
  {
   "cell_type": "code",
   "execution_count": 1,
   "metadata": {},
   "outputs": [],
   "source": [
    "# %autosave 0\n",
    "import os\n",
    "import time\n",
    "import numpy as np\n",
    "import tensorflow\n",
    "import tensorflow as tf\n",
    "import pandas as pd\n",
    "\n",
    "# tensorflow 2.x에 내장된 Keras 사용\n",
    "from tensorflow.keras.models import Sequential  # class\n",
    "from tensorflow.keras.models import load_model  # model 파일 로딩\n",
    "from tensorflow.keras.layers import Dense       # 전결합층\n",
    "from tensorflow.keras.optimizers import Adam    # 가중치, bias 최적화\n",
    "from tensorflow.keras.utils import plot_model   # 네트워크 입출력 시각화\n",
    "from tensorflow.keras.callbacks import EarlyStopping # 학습 자동 중지\n",
    "\n",
    "from sklearn.model_selection import train_test_split # 훈련/검증 데이터 분할\n",
    "\n",
    "import matplotlib.pyplot as plt\n",
    "import matplotlib\n",
    "from matplotlib import rc\n",
    "rc('font', family='Malgun Gothic')"
   ]
  },
  {
   "cell_type": "code",
   "execution_count": 2,
   "metadata": {},
   "outputs": [
    {
     "name": "stdout",
     "output_type": "stream",
     "text": [
      "<class 'numpy.ndarray'>\n",
      "(6497, 13)\n"
     ]
    }
   ],
   "source": [
    "data = np.loadtxt('./wine.csv', delimiter=\",\", dtype=np.float64)\n",
    "print(type(data))\n",
    "print(data.shape)  # 6497행 13열"
   ]
  },
  {
   "cell_type": "code",
   "execution_count": 3,
   "metadata": {},
   "outputs": [
    {
     "name": "stdout",
     "output_type": "stream",
     "text": [
      "(6497, 12)\n",
      "(6497,)\n"
     ]
    }
   ],
   "source": [
    "X = data[:, 0:12]  # 0 ~ 11, 12개의 데이터 변수 추출\n",
    "print(X.shape)     # 2차원 배열\n",
    "Y = data[:, 12]    # 13번째 변수, class, 정답\n",
    "print(Y.shape)     # 1차원 배열"
   ]
  },
  {
   "cell_type": "code",
   "execution_count": 4,
   "metadata": {},
   "outputs": [
    {
     "name": "stdout",
     "output_type": "stream",
     "text": [
      "wine\n",
      "0       4898\n",
      "1       1599\n",
      "dtype: int64\n",
      "white 1/2: 2449.0\n",
      "red 1/2: 2449.0\n"
     ]
    }
   ],
   "source": [
    "df=pd.DataFrame(Y).astype(int) #DataFrame생성 , 정수로 변환\n",
    "df.columns=['wine'] #컬럼명 지정\n",
    "counts = df.value_counts() #빈도 분석\n",
    "print(counts)\n",
    "#비율이 다르므로 훈련과 검증시 white wine, red wine이 적당히 혼합되어야함\n",
    "print('white 1/2:',(counts.iloc[0]/2))\n",
    "print('red 1/2:',(counts.iloc[0]/2))"
   ]
  },
  {
   "cell_type": "code",
   "execution_count": 5,
   "metadata": {},
   "outputs": [
    {
     "name": "stdout",
     "output_type": "stream",
     "text": [
      "(4937, 12)\n",
      "(4937,)\n",
      "[0. 1. 1. 0. 0. 1. 0. 0. 0. 0. 1. 1. 0. 0. 0. 1. 1. 1. 0. 1. 0. 0. 0. 1.\n",
      " 0. 0. 0. 1. 0. 0. 0. 0. 0. 0. 0. 0. 0. 0. 0. 1. 1. 0. 0. 0. 1. 0. 0. 0.\n",
      " 0. 0. 1. 0. 0. 0. 0. 0. 0. 0. 0. 0. 0. 1. 0. 0. 1. 0. 0. 1. 0. 1. 1. 1.\n",
      " 0. 0. 0. 0. 0. 0. 0. 0. 0. 0. 0. 1. 0. 1. 0. 0. 0. 0. 0. 0. 0. 0. 1. 0.\n",
      " 0. 0. 0. 0.]\n"
     ]
    }
   ],
   "source": [
    "# train_test_split 분할을 통한 훈련, 검증, 테스트 데이터의 분리\n",
    "# 데이터를 3그룹으로 분할: test 5% -> 95%(train 80%, validation 20%)\n",
    "seed = 0\n",
    "# stratify=Y: 0과 1의 분류 비율을 동일하게 데이터를 분할해줌.\n",
    "# 95%: 분할대기(x_train_all), 5%: 테스트(x_test)\n",
    "# x_train_all: 훈련 데이터 95% 분할 대기\n",
    "# x_test: 테스트 데이터 5% 분할\n",
    "# y_train_all: 훈련 target(class) 95% 분할 대기\n",
    "# y_test: 테스트 target(class) 5% 분할\n",
    "x_train_all, x_test, y_train_all, y_test = train_test_split(X, Y,\n",
    "                                                  stratify=Y,\n",
    "                                                  test_size=0.05,\n",
    "                                                  random_state=seed)\n",
    "# 나머지 데이터 95%를 분할, 80%: 훈련(x_train), 20%: 검증(x_val)\n",
    "# x_train: 훈련 데이터 80% 분할\n",
    "# x_val: 검증 데이터 20% 분할\n",
    "# y_train: 훈련 target(class) 80% 분할\n",
    "# y_val: 검증 target(class) 20% 분할\n",
    "x_train, x_val, y_train, y_val = train_test_split(x_train_all, y_train_all,\n",
    "                                                  stratify=y_train_all,\n",
    "                                                  test_size=0.2,\n",
    "                                                  random_state=seed)\n",
    "print(x_train.shape)\n",
    "print(y_train.shape)\n",
    "print(y_train[0:100]) # 검증 Target 100건만 출력"
   ]
  },
  {
   "cell_type": "code",
   "execution_count": 6,
   "metadata": {},
   "outputs": [
    {
     "name": "stdout",
     "output_type": "stream",
     "text": [
      "Model: \"sequential\"\n",
      "_________________________________________________________________\n",
      "Layer (type)                 Output Shape              Param #   \n",
      "=================================================================\n",
      "dense (Dense)                (None, 10)                130       \n",
      "_________________________________________________________________\n",
      "dense_1 (Dense)              (None, 1)                 11        \n",
      "=================================================================\n",
      "Total params: 141\n",
      "Trainable params: 141\n",
      "Non-trainable params: 0\n",
      "_________________________________________________________________\n",
      "Epoch 1/1000\n",
      "3949/3949 [==============================] - 4s 986us/step - loss: 0.6955 - accuracy: 0.8939 - val_loss: 0.1459 - val_accuracy: 0.9433\n",
      "Epoch 2/1000\n",
      "3949/3949 [==============================] - 3s 779us/step - loss: 0.2121 - accuracy: 0.9241 - val_loss: 0.1490 - val_accuracy: 0.9464\n",
      "Epoch 3/1000\n",
      "3949/3949 [==============================] - 3s 752us/step - loss: 0.1621 - accuracy: 0.9442 - val_loss: 0.0874 - val_accuracy: 0.9686\n",
      "Epoch 4/1000\n",
      "3949/3949 [==============================] - 3s 742us/step - loss: 0.1484 - accuracy: 0.9488 - val_loss: 0.1372 - val_accuracy: 0.9555\n",
      "Epoch 5/1000\n",
      "3949/3949 [==============================] - 3s 743us/step - loss: 0.1212 - accuracy: 0.9567 - val_loss: 0.0914 - val_accuracy: 0.9666\n",
      "Epoch 6/1000\n",
      "3949/3949 [==============================] - 3s 747us/step - loss: 0.1180 - accuracy: 0.9593 - val_loss: 0.0978 - val_accuracy: 0.9646\n",
      "Epoch 7/1000\n",
      "3949/3949 [==============================] - 3s 733us/step - loss: 0.1168 - accuracy: 0.9579 - val_loss: 0.0685 - val_accuracy: 0.9787\n",
      "Epoch 8/1000\n",
      "3949/3949 [==============================] - 3s 748us/step - loss: 0.1112 - accuracy: 0.9635 - val_loss: 0.0578 - val_accuracy: 0.9808\n",
      "Epoch 9/1000\n",
      "3949/3949 [==============================] - 3s 746us/step - loss: 0.1039 - accuracy: 0.9666 - val_loss: 0.0536 - val_accuracy: 0.9818\n",
      "Epoch 10/1000\n",
      "3949/3949 [==============================] - 3s 742us/step - loss: 0.0992 - accuracy: 0.9684 - val_loss: 0.0605 - val_accuracy: 0.9808\n",
      "Epoch 11/1000\n",
      "3949/3949 [==============================] - 3s 741us/step - loss: 0.0834 - accuracy: 0.9726 - val_loss: 0.0773 - val_accuracy: 0.9737\n",
      "Epoch 12/1000\n",
      "3949/3949 [==============================] - 3s 732us/step - loss: 0.0786 - accuracy: 0.9725 - val_loss: 0.0837 - val_accuracy: 0.9676\n",
      "Epoch 13/1000\n",
      "3949/3949 [==============================] - 3s 742us/step - loss: 0.0862 - accuracy: 0.9713 - val_loss: 0.0456 - val_accuracy: 0.9868\n",
      "Epoch 14/1000\n",
      "3949/3949 [==============================] - 3s 752us/step - loss: 0.0855 - accuracy: 0.9756 - val_loss: 0.0444 - val_accuracy: 0.9858\n",
      "Epoch 15/1000\n",
      "3949/3949 [==============================] - 3s 748us/step - loss: 0.0821 - accuracy: 0.9778 - val_loss: 0.0582 - val_accuracy: 0.9767\n",
      "Epoch 16/1000\n",
      "3949/3949 [==============================] - 3s 771us/step - loss: 0.0847 - accuracy: 0.9711 - val_loss: 0.0493 - val_accuracy: 0.9838\n",
      "Epoch 17/1000\n",
      "3949/3949 [==============================] - 3s 773us/step - loss: 0.0696 - accuracy: 0.9784 - val_loss: 0.1382 - val_accuracy: 0.9484\n",
      "Epoch 18/1000\n",
      "3949/3949 [==============================] - 3s 758us/step - loss: 0.0726 - accuracy: 0.9757 - val_loss: 0.0418 - val_accuracy: 0.9879\n",
      "Epoch 19/1000\n",
      "3949/3949 [==============================] - 3s 768us/step - loss: 0.0787 - accuracy: 0.9732 - val_loss: 0.0916 - val_accuracy: 0.9686\n",
      "Epoch 20/1000\n",
      "3949/3949 [==============================] - 3s 783us/step - loss: 0.0850 - accuracy: 0.9719 - val_loss: 0.0611 - val_accuracy: 0.9828\n",
      "Epoch 21/1000\n",
      "3949/3949 [==============================] - 3s 856us/step - loss: 0.0719 - accuracy: 0.9792 - val_loss: 0.0588 - val_accuracy: 0.9818\n",
      "Epoch 22/1000\n",
      "3949/3949 [==============================] - 3s 808us/step - loss: 0.0715 - accuracy: 0.9803 - val_loss: 0.0382 - val_accuracy: 0.9889\n",
      "Epoch 23/1000\n",
      "3949/3949 [==============================] - 3s 762us/step - loss: 0.0771 - accuracy: 0.9771 - val_loss: 0.0452 - val_accuracy: 0.9838\n",
      "Epoch 24/1000\n",
      "3949/3949 [==============================] - 3s 752us/step - loss: 0.0814 - accuracy: 0.9765 - val_loss: 0.0451 - val_accuracy: 0.9818\n",
      "Epoch 25/1000\n",
      "3949/3949 [==============================] - 3s 752us/step - loss: 0.0648 - accuracy: 0.9774 - val_loss: 0.0408 - val_accuracy: 0.9868\n",
      "Epoch 26/1000\n",
      "3949/3949 [==============================] - 3s 746us/step - loss: 0.0566 - accuracy: 0.9816 - val_loss: 0.0409 - val_accuracy: 0.9879\n",
      "Epoch 27/1000\n",
      "3949/3949 [==============================] - 3s 744us/step - loss: 0.0797 - accuracy: 0.9780 - val_loss: 0.0643 - val_accuracy: 0.9787\n",
      "Epoch 28/1000\n",
      "3949/3949 [==============================] - 3s 720us/step - loss: 0.0694 - accuracy: 0.9759 - val_loss: 0.0739 - val_accuracy: 0.9717\n",
      "Epoch 29/1000\n",
      "3949/3949 [==============================] - 3s 745us/step - loss: 0.0827 - accuracy: 0.9778 - val_loss: 0.0370 - val_accuracy: 0.9889\n",
      "Epoch 30/1000\n",
      "3949/3949 [==============================] - 3s 737us/step - loss: 0.0699 - accuracy: 0.9788 - val_loss: 0.0444 - val_accuracy: 0.9818\n",
      "Runtime: 91초\n"
     ]
    }
   ],
   "source": [
    "tf.random.set_seed(0)\n",
    "model = Sequential()\n",
    "model.add(Dense(10, input_dim=12, activation='relu'))\n",
    "model.add(Dense(1, activation='sigmoid'))\n",
    "model.compile(optimizer='adam', loss='binary_crossentropy', metrics=['accuracy'])\n",
    "model.summary()\n",
    "\n",
    "# patience=5: 학습 결과가 개선되지 않아도 학습을 진행할 횟수\n",
    "# restore_best_weights=True: 학습 종료시 가장 우수한 가중치, 편향으로 저장\n",
    "es = EarlyStopping(monitor='loss',patience=5, restore_best_weights=True)\n",
    "start = time.time()\n",
    "hist = model.fit(x_train, y_train, validation_split=0.2, shuffle=True,epochs=1000, batch_size=1 ,callbacks=[es])\n",
    "end = time.time()\n",
    "print('Runtime: {0:.0f}초'.format(end-start))\n",
    "#patience5"
   ]
  },
  {
   "cell_type": "code",
   "execution_count": 7,
   "metadata": {},
   "outputs": [
    {
     "data": {
      "image/png": "[encoded data removed]",
      "text/plain": [
       "<Figure size 720x360 with 2 Axes>"
      ]
     },
     "metadata": {
      "needs_background": "light"
     },
     "output_type": "display_data"
    }
   ],
   "source": [
    "fig, loss_ax = plt.subplots()\n",
    "# plt.figure(figsize=(6,4)) # ERROR\n",
    "fig.set_size_inches(10, 5)  # 챠트 크기 설정\n",
    "\n",
    "acc_ax = loss_ax.twinx()   # 오른쪽 y 축 설정\n",
    "\n",
    "# 왼쪽 y 축 설정\n",
    "loss_ax.plot(hist.history['loss'], 'y', label='train loss')\n",
    "loss_ax.plot(hist.history['val_loss'], 'r', label='val loss')\n",
    "loss_ax.set_ylim([0.0, 0.3]) # 값을 반영하여 변경\n",
    "\n",
    "# 오른쪽 y 축 설정\n",
    "acc_ax.plot(hist.history['accuracy'], 'b', label='train accuracy')\n",
    "acc_ax.plot(hist.history['val_accuracy'], 'g', label='val accuracy')\n",
    "acc_ax.set_ylim([0.0, 1]) # 0.0, 1: 0 ~ 100 %, 정확도임으로 변경하지 않음\n",
    "\n",
    "# 축 레이블 설정\n",
    "loss_ax.set_xlabel('epoch')  # 학습 횟수\n",
    "loss_ax.set_ylabel('loss')   # 오차\n",
    "acc_ax.set_ylabel('accuracy') # 정확도\n",
    "\n",
    "loss_ax.legend(loc='upper left') # 오차 레이블 위치\n",
    "acc_ax.legend(loc='lower left')  # 정확도 레이블 위치\n",
    "\n",
    "plt.show()"
   ]
  },
  {
   "cell_type": "code",
   "execution_count": 8,
   "metadata": {},
   "outputs": [
    {
     "name": "stdout",
     "output_type": "stream",
     "text": [
      "손실값: 0.05792376771569252 /정확도: 99.07692074775696 %\n"
     ]
    }
   ],
   "source": [
    "# verbose=0: 처리과정의 메시지 생략, 1: 메시지 출력\n",
    "test_loss, test_acc = model.evaluate(x_test, y_test, batch_size=1, verbose=0)\n",
    "print('손실값:', test_loss, '/정확도:', (test_acc*100), '%')"
   ]
  },
  {
   "cell_type": "code",
   "execution_count": 9,
   "metadata": {},
   "outputs": [],
   "source": [
    "model.save('./Wine1.h5')"
   ]
  },
  {
   "cell_type": "code",
   "execution_count": 10,
   "metadata": {},
   "outputs": [],
   "source": [
    "model = load_model('./Wine1.h5')"
   ]
  },
  {
   "cell_type": "code",
   "execution_count": 11,
   "metadata": {},
   "outputs": [
    {
     "name": "stdout",
     "output_type": "stream",
     "text": [
      "(100, 1)\n"
     ]
    }
   ],
   "source": [
    "p = model.predict(x_test[0:100])\n",
    "print(p.shape)"
   ]
  },
  {
   "cell_type": "code",
   "execution_count": 12,
   "metadata": {},
   "outputs": [
    {
     "name": "stdout",
     "output_type": "stream",
     "text": [
      "실제값: 0.0, 예측값: [3.314938e-07]--> White 와인\n",
      "실제값: 0.0, 예측값: [1.6643385e-08]--> White 와인\n",
      "실제값: 1.0, 예측값: [0.99228907]--> Red 와인\n",
      "실제값: 0.0, 예측값: [0.00023958]--> White 와인\n",
      "실제값: 1.0, 예측값: [0.9990704]--> Red 와인\n",
      "실제값: 1.0, 예측값: [0.9960212]--> Red 와인\n",
      "실제값: 0.0, 예측값: [0.00036326]--> White 와인\n",
      "실제값: 0.0, 예측값: [0.0002152]--> White 와인\n",
      "실제값: 0.0, 예측값: [0.4330002]--> White 와인\n",
      "실제값: 0.0, 예측값: [0.00212356]--> White 와인\n",
      "실제값: 1.0, 예측값: [0.99366033]--> Red 와인\n",
      "실제값: 0.0, 예측값: [0.00180998]--> White 와인\n",
      "실제값: 0.0, 예측값: [5.3129756e-05]--> White 와인\n",
      "실제값: 1.0, 예측값: [0.99882686]--> Red 와인\n",
      "실제값: 0.0, 예측값: [1.8416744e-05]--> White 와인\n",
      "실제값: 0.0, 예측값: [0.00179428]--> White 와인\n",
      "실제값: 0.0, 예측값: [0.00023812]--> White 와인\n",
      "실제값: 1.0, 예측값: [0.967186]--> Red 와인\n",
      "실제값: 0.0, 예측값: [5.8528516e-05]--> White 와인\n",
      "실제값: 1.0, 예측값: [0.9995866]--> Red 와인\n",
      "실제값: 0.0, 예측값: [2.2233104e-05]--> White 와인\n",
      "실제값: 0.0, 예측값: [4.4155717e-05]--> White 와인\n",
      "실제값: 0.0, 예측값: [3.8553026e-05]--> White 와인\n",
      "실제값: 0.0, 예측값: [0.00021058]--> White 와인\n",
      "실제값: 1.0, 예측값: [0.9963776]--> Red 와인\n",
      "실제값: 0.0, 예측값: [1.1341034e-05]--> White 와인\n",
      "실제값: 0.0, 예측값: [2.1634332e-05]--> White 와인\n",
      "실제값: 1.0, 예측값: [0.9995886]--> Red 와인\n",
      "실제값: 0.0, 예측값: [0.00072637]--> White 와인\n",
      "실제값: 0.0, 예측값: [2.3032612e-07]--> White 와인\n",
      "실제값: 0.0, 예측값: [0.01451576]--> White 와인\n",
      "실제값: 0.0, 예측값: [5.6557732e-05]--> White 와인\n",
      "실제값: 0.0, 예측값: [0.00058267]--> White 와인\n",
      "실제값: 0.0, 예측값: [0.46258643]--> White 와인\n",
      "실제값: 0.0, 예측값: [6.353486e-06]--> White 와인\n",
      "실제값: 0.0, 예측값: [0.08356968]--> White 와인\n",
      "실제값: 0.0, 예측값: [0.00605685]--> White 와인\n",
      "실제값: 0.0, 예측값: [5.2696814e-06]--> White 와인\n",
      "실제값: 1.0, 예측값: [0.9960358]--> Red 와인\n",
      "실제값: 0.0, 예측값: [0.0004122]--> White 와인\n",
      "실제값: 0.0, 예측값: [0.00013807]--> White 와인\n",
      "실제값: 1.0, 예측값: [0.99679756]--> Red 와인\n",
      "실제값: 1.0, 예측값: [0.9986918]--> Red 와인\n",
      "실제값: 0.0, 예측값: [0.01455674]--> White 와인\n",
      "실제값: 1.0, 예측값: [0.9992888]--> Red 와인\n",
      "실제값: 0.0, 예측값: [0.00658831]--> White 와인\n",
      "실제값: 0.0, 예측값: [0.00020546]--> White 와인\n",
      "실제값: 0.0, 예측값: [0.00046021]--> White 와인\n",
      "실제값: 0.0, 예측값: [1.5181351e-05]--> White 와인\n",
      "실제값: 1.0, 예측값: [0.9046414]--> Red 와인\n",
      "실제값: 1.0, 예측값: [0.98416376]--> Red 와인\n",
      "실제값: 1.0, 예측값: [0.9997688]--> Red 와인\n",
      "실제값: 0.0, 예측값: [0.00077602]--> White 와인\n",
      "실제값: 0.0, 예측값: [0.06294402]--> White 와인\n",
      "실제값: 0.0, 예측값: [0.00267068]--> White 와인\n",
      "실제값: 0.0, 예측값: [5.2817795e-05]--> White 와인\n",
      "실제값: 1.0, 예측값: [0.9979265]--> Red 와인\n",
      "실제값: 0.0, 예측값: [0.00252545]--> White 와인\n",
      "실제값: 0.0, 예측값: [2.1136057e-05]--> White 와인\n",
      "실제값: 1.0, 예측값: [0.98954713]--> Red 와인\n",
      "실제값: 0.0, 예측값: [0.00160003]--> White 와인\n",
      "실제값: 0.0, 예측값: [3.913252e-07]--> White 와인\n",
      "실제값: 0.0, 예측값: [0.00024799]--> White 와인\n",
      "실제값: 0.0, 예측값: [0.01137641]--> White 와인\n",
      "실제값: 0.0, 예측값: [0.00069416]--> White 와인\n",
      "실제값: 1.0, 예측값: [1.]--> Red 와인\n",
      "실제값: 0.0, 예측값: [0.00015503]--> White 와인\n",
      "실제값: 0.0, 예측값: [3.159226e-05]--> White 와인\n",
      "실제값: 1.0, 예측값: [0.99804294]--> Red 와인\n",
      "실제값: 0.0, 예측값: [0.00031266]--> White 와인\n",
      "실제값: 0.0, 예측값: [8.755339e-07]--> White 와인\n",
      "실제값: 0.0, 예측값: [0.02716571]--> White 와인\n",
      "실제값: 0.0, 예측값: [0.001825]--> White 와인\n",
      "실제값: 0.0, 예측값: [0.0004122]--> White 와인\n",
      "실제값: 0.0, 예측값: [7.3616798e-06]--> White 와인\n",
      "실제값: 0.0, 예측값: [0.00012869]--> White 와인\n",
      "실제값: 0.0, 예측값: [5.132991e-06]--> White 와인\n",
      "실제값: 0.0, 예측값: [6.8130653e-06]--> White 와인\n",
      "실제값: 0.0, 예측값: [2.1068116e-05]--> White 와인\n",
      "실제값: 1.0, 예측값: [0.98857975]--> Red 와인\n",
      "실제값: 0.0, 예측값: [0.00026327]--> White 와인\n",
      "실제값: 0.0, 예측값: [0.00059408]--> White 와인\n",
      "실제값: 0.0, 예측값: [0.01674625]--> White 와인\n",
      "실제값: 0.0, 예측값: [0.00013846]--> White 와인\n",
      "실제값: 0.0, 예측값: [4.4172477e-05]--> White 와인\n",
      "실제값: 0.0, 예측값: [0.00684175]--> White 와인\n",
      "실제값: 0.0, 예측값: [0.00016633]--> White 와인\n",
      "실제값: 0.0, 예측값: [4.2173157e-05]--> White 와인\n",
      "실제값: 0.0, 예측값: [0.00116363]--> White 와인\n",
      "실제값: 0.0, 예측값: [1.4873157e-05]--> White 와인\n",
      "실제값: 0.0, 예측값: [2.9992543e-06]--> White 와인\n",
      "실제값: 0.0, 예측값: [9.8960345e-06]--> White 와인\n",
      "실제값: 0.0, 예측값: [1.2441627e-06]--> White 와인\n",
      "실제값: 0.0, 예측값: [0.0015524]--> White 와인\n",
      "실제값: 1.0, 예측값: [0.02226189]--> White 와인\n",
      "실제값: 0.0, 예측값: [0.0006738]--> White 와인\n",
      "실제값: 0.0, 예측값: [6.1511106e-05]--> White 와인\n",
      "실제값: 0.0, 예측값: [0.0084714]--> White 와인\n",
      "실제값: 0.0, 예측값: [6.345496e-05]--> White 와인\n",
      "실제값: 0.0, 예측값: [5.1215006e-06]--> White 와인\n"
     ]
    }
   ],
   "source": [
    "for i in range(len(x_test[0:100])):\n",
    "    fmt = '실제값: {0}, 예측값: {1}'\n",
    "    print(fmt.format(y_test[i], p[i]), end='')\n",
    "    \n",
    "    # 임계값의 지정, 정확도를 참고하여 판단, 60%이상 합격: 0.6\n",
    "    if (p[i] >= 0.5): \n",
    "        print('--> Red 와인')   # 1\n",
    "    else:\n",
    "        print('--> White 와인') # 0"
   ]
  },
  {
   "cell_type": "code",
   "execution_count": null,
   "metadata": {},
   "outputs": [],
   "source": []
  },
  {
   "cell_type": "code",
   "execution_count": null,
   "metadata": {},
   "outputs": [],
   "source": []
  }
 ],
 "metadata": {
  "kernelspec": {
   "display_name": "ai",
   "language": "python",
   "name": "ai"
  },
  "language_info": {
   "codemirror_mode": {
    "name": "ipython",
    "version": 3
   },
   "file_extension": ".py",
   "mimetype": "text/x-python",
   "name": "python",
   "nbconvert_exporter": "python",
   "pygments_lexer": "ipython3",
   "version": "3.7.11"
  }
 },
 "nbformat": 4,
 "nbformat_minor": 4
}
