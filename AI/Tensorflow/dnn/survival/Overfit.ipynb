{
 "cells": [
  {
   "cell_type": "markdown",
   "metadata": {},
   "source": [
    "### Overfit 발생 모델, 훈련/검증/테스트로 데이터 구성"
   ]
  },
  {
   "cell_type": "code",
   "execution_count": 40,
   "metadata": {},
   "outputs": [
    {
     "data": {
      "application/javascript": [
       "IPython.notebook.set_autosave_interval(0)"
      ]
     },
     "metadata": {},
     "output_type": "display_data"
    },
    {
     "name": "stdout",
     "output_type": "stream",
     "text": [
      "Autosave disabled\n"
     ]
    }
   ],
   "source": [
    "%autosave 0\n",
    "import numpy as np\n",
    "import pandas as pd\n",
    "import seaborn as sb\n",
    "import tensorflow as tf\n",
    "\n",
    "from tensorflow.keras.models import Sequential      # class\n",
    "from tensorflow.keras.models import load_model      # model 사용\n",
    "from tensorflow.keras.layers import Dense           # 전결합\n",
    "from tensorflow.keras.layers import Dropout         # 노드의 비활성화\n",
    "from tensorflow.keras.callbacks import EarlyStopping # 학습 자동 중지\n",
    "from tensorflow.keras import regularizers   # L1, L2 규제 적용\n",
    "\n",
    "from sklearn.preprocessing import LabelEncoder\n",
    "from sklearn.model_selection import train_test_split\n",
    "from sklearn.model_selection import StratifiedKFold  # K 겹 교차 검증\n",
    "from sklearn.metrics import confusion_matrix\n",
    "from sklearn.metrics import roc_curve\n",
    "\n",
    "import matplotlib\n",
    "import matplotlib.pyplot as plt\n",
    "from matplotlib import font_manager, rc\n",
    "\n",
    "font_name = font_manager.FontProperties(fname=\"C:/Windows/Fonts/malgun.ttf\").get_name()\n",
    "rc('font', family=font_name)           # 맑은 고딕 폰트 지정\n",
    "plt.rcParams[\"font.size\"] = 12         # 글자 크기\n",
    "# plt.rcParams[\"figure.figsize\"] = (10, 4) # 10:4의 그래프 비율\n",
    "plt.rcParams['axes.unicode_minus'] = False  # minus 부호는 unicode 적용시 한글이 깨짐으로 설정\n",
    "\n",
    "# Jupyter에게 matplotlib 그래프를 출력 영역에 표시할 것을 지시하는 명령\n",
    "%matplotlib inline  "
   ]
  },
  {
   "cell_type": "code",
   "execution_count": 41,
   "metadata": {},
   "outputs": [
    {
     "name": "stdout",
     "output_type": "stream",
     "text": [
      "<class 'numpy.ndarray'>\n",
      "(470, 18)\n"
     ]
    }
   ],
   "source": [
    "data = np.loadtxt('./survival.csv', delimiter=\",\", dtype=np.float64)\n",
    "# 사망자 삭제를 통한 생존자 비율 조정\n",
    "# data = np.loadtxt('./Survival2.csv', delimiter=\",\", dtype=np.float64)\n",
    "print(type(data))\n",
    "print(data.shape)"
   ]
  },
  {
   "cell_type": "code",
   "execution_count": 42,
   "metadata": {},
   "outputs": [
    {
     "name": "stdout",
     "output_type": "stream",
     "text": [
      "(470, 17)\n",
      "(470,)\n"
     ]
    }
   ],
   "source": [
    "X = data[:, 0:17] # 0 ~ 16: 17개, 독립 변수\n",
    "print(X.shape)\n",
    "Y = data[:, 17]   # 17: 1개, 종속 변수, target\n",
    "print(Y.shape)"
   ]
  },
  {
   "cell_type": "code",
   "execution_count": 43,
   "metadata": {},
   "outputs": [
    {
     "name": "stdout",
     "output_type": "stream",
     "text": [
      "사망자: 400, 생존자: 70\n"
     ]
    }
   ],
   "source": [
    "# 생존자, 사망자\n",
    "rpt = [0] * 2\n",
    "for row in Y:\n",
    "    # print(row)\n",
    "    row = int(row)\n",
    "    rpt[row] = rpt[row] + 1\n",
    "    \n",
    "print('사망자: {0:.0f}, 생존자: {1:.0f}'.format(rpt[0], rpt[1]))   "
   ]
  },
  {
   "cell_type": "code",
   "execution_count": 44,
   "metadata": {},
   "outputs": [
    {
     "name": "stdout",
     "output_type": "stream",
     "text": [
      "[0. 0. 0. 1. 0. 0. 0. 0. 1. 0. 0. 0. 0. 0. 0. 1. 0. 0. 0. 0. 0. 0. 0. 0.\n",
      " 0. 0. 0. 0. 0. 0. 0. 0. 0. 0. 1. 0. 0. 1. 0. 0. 0. 1. 0. 0. 0. 0. 0. 0.\n",
      " 0. 0. 0. 0. 0. 0. 0. 0. 0. 1. 0. 0. 0. 0. 0. 1. 0. 0. 0. 0. 0. 0. 0. 1.\n",
      " 0. 1. 1. 0. 0. 0. 0. 0. 1. 0. 0. 0. 0. 0. 1. 0. 0. 0. 0. 0. 0. 0. 0. 0.\n",
      " 0. 0. 0. 1.]\n",
      "(127,)\n"
     ]
    }
   ],
   "source": [
    "# train_test_split 분할을 통한 훈련, 검증, 테스트 데이터의 분리\n",
    "seed = 0\n",
    "# 90%: 분할대기(x_train_all), 10%: 테스트(x_test)\n",
    "x_train_all, x_test, y_train_all, y_test = train_test_split(X, Y,\n",
    "                                                          stratify=Y,\n",
    "                                                          test_size=0.1,\n",
    "                                                          random_state=seed)\n",
    "# Overfit\n",
    "# 나머지 데이터 90%를 분할, 70%: 훈련(x_train), 30%: 검증(x_val)\n",
    "x_train, x_val, y_train, y_val = train_test_split(x_train_all, y_train_all,\n",
    "                                                  stratify=y_train_all,\n",
    "                                                  test_size=0.3,\n",
    "                                                  random_state=seed)\n",
    "\n",
    "print(y_val[0:100])\n",
    "print(y_val.shape)"
   ]
  },
  {
   "cell_type": "code",
   "execution_count": 45,
   "metadata": {},
   "outputs": [],
   "source": [
    "def overfit1():\n",
    "    tf.random.set_seed(0)\n",
    "    model = Sequential()\n",
    "    # model.add(Dense(128, input_dim=17, activation='linear')) # 첫번째 은닉층\n",
    "    model.add(Dense(128, input_shape=(17, ), activation='relu')) # 첫번째 은닉층\n",
    "    model.add(Dense(64, activation='relu'))\n",
    "    model.add(Dense(32, activation='relu'))\n",
    "    model.add(Dense(15, activation='relu'))\n",
    "    model.add(Dense(1, activation='sigmoid')) # 출력층, 입력: 15, 출력 1\n",
    "\n",
    "    model.compile(optimizer='adam', loss='binary_crossentropy',\n",
    "                  metrics=['accuracy'])\n",
    "\n",
    "    model.summary()\n",
    "\n",
    "    # 오차가 16번 증가되면 종료, Overfit 발생을위해 과도한 학습 진행\n",
    "    # es = EarlyStopping(monitor='loss', patience=16, restore_best_weights=True) \n",
    "\n",
    "    # Overfit 발생안됨\n",
    "    es = EarlyStopping(monitor='loss', patience=6, restore_best_weights=True) \n",
    "\n",
    "    # 학습\n",
    "    hist = model.fit(x_train, y_train, validation_data=(x_val, y_val),\n",
    "                     epochs=1000, \n",
    "                     batch_size=2, callbacks=[es])\n",
    "    \n",
    "    return model, hist"
   ]
  },
  {
   "cell_type": "code",
   "execution_count": 46,
   "metadata": {},
   "outputs": [
    {
     "name": "stdout",
     "output_type": "stream",
     "text": [
      "Model: \"sequential_3\"\n",
      "_________________________________________________________________\n",
      "Layer (type)                 Output Shape              Param #   \n",
      "=================================================================\n",
      "dense_15 (Dense)             (None, 128)               2304      \n",
      "_________________________________________________________________\n",
      "dense_16 (Dense)             (None, 64)                8256      \n",
      "_________________________________________________________________\n",
      "dense_17 (Dense)             (None, 32)                2080      \n",
      "_________________________________________________________________\n",
      "dense_18 (Dense)             (None, 15)                495       \n",
      "_________________________________________________________________\n",
      "dense_19 (Dense)             (None, 1)                 16        \n",
      "=================================================================\n",
      "Total params: 13,151\n",
      "Trainable params: 13,151\n",
      "Non-trainable params: 0\n",
      "_________________________________________________________________\n",
      "Epoch 1/1000\n",
      "148/148 [==============================] - 1s 3ms/step - loss: 0.6514 - accuracy: 0.8524 - val_loss: 0.4632 - val_accuracy: 0.8504\n",
      "Epoch 2/1000\n",
      "148/148 [==============================] - 0s 2ms/step - loss: 0.4404 - accuracy: 0.8406 - val_loss: 0.8281 - val_accuracy: 0.3307\n",
      "Epoch 3/1000\n",
      "148/148 [==============================] - 0s 2ms/step - loss: 0.5354 - accuracy: 0.8000 - val_loss: 0.4180 - val_accuracy: 0.8504\n",
      "Epoch 4/1000\n",
      "148/148 [==============================] - 0s 2ms/step - loss: 0.4133 - accuracy: 0.8810 - val_loss: 0.4306 - val_accuracy: 0.8504\n",
      "Epoch 5/1000\n",
      "148/148 [==============================] - 0s 2ms/step - loss: 0.4598 - accuracy: 0.8509 - val_loss: 0.4334 - val_accuracy: 0.8504\n",
      "Epoch 6/1000\n",
      "148/148 [==============================] - 0s 2ms/step - loss: 0.4370 - accuracy: 0.8414 - val_loss: 0.4735 - val_accuracy: 0.8425\n",
      "Epoch 7/1000\n",
      "148/148 [==============================] - 0s 2ms/step - loss: 0.4958 - accuracy: 0.8116 - val_loss: 0.4410 - val_accuracy: 0.8504\n",
      "Epoch 8/1000\n",
      "148/148 [==============================] - 0s 2ms/step - loss: 0.4567 - accuracy: 0.8459 - val_loss: 0.4280 - val_accuracy: 0.8425\n",
      "Epoch 9/1000\n",
      "148/148 [==============================] - 0s 2ms/step - loss: 0.4643 - accuracy: 0.8285 - val_loss: 0.4419 - val_accuracy: 0.8504\n",
      "Epoch 10/1000\n",
      "148/148 [==============================] - 0s 2ms/step - loss: 0.4480 - accuracy: 0.8448 - val_loss: 0.4176 - val_accuracy: 0.8504\n",
      "Epoch 11/1000\n",
      "148/148 [==============================] - 0s 2ms/step - loss: 0.4527 - accuracy: 0.8329 - val_loss: 0.4437 - val_accuracy: 0.8504\n",
      "Epoch 12/1000\n",
      "148/148 [==============================] - 0s 2ms/step - loss: 0.4287 - accuracy: 0.8533 - val_loss: 0.4422 - val_accuracy: 0.8504\n",
      "Epoch 13/1000\n",
      "148/148 [==============================] - 0s 2ms/step - loss: 0.4409 - accuracy: 0.8433 - val_loss: 0.4494 - val_accuracy: 0.8504\n",
      "Epoch 14/1000\n",
      "148/148 [==============================] - 0s 2ms/step - loss: 0.4133 - accuracy: 0.8570 - val_loss: 0.4359 - val_accuracy: 0.8504\n",
      "Epoch 15/1000\n",
      "148/148 [==============================] - 0s 2ms/step - loss: 0.4355 - accuracy: 0.8490 - val_loss: 0.4560 - val_accuracy: 0.8504\n",
      "Epoch 16/1000\n",
      "148/148 [==============================] - 0s 2ms/step - loss: 0.5152 - accuracy: 0.8158 - val_loss: 0.4408 - val_accuracy: 0.8504\n",
      "Epoch 17/1000\n",
      "148/148 [==============================] - 0s 2ms/step - loss: 0.4467 - accuracy: 0.8499 - val_loss: 0.4193 - val_accuracy: 0.8504\n",
      "Epoch 18/1000\n",
      "148/148 [==============================] - 0s 2ms/step - loss: 0.4616 - accuracy: 0.8451 - val_loss: 0.4400 - val_accuracy: 0.8504\n",
      "Epoch 19/1000\n",
      "148/148 [==============================] - 0s 2ms/step - loss: 0.4190 - accuracy: 0.8656 - val_loss: 0.4569 - val_accuracy: 0.8504\n",
      "Epoch 20/1000\n",
      "148/148 [==============================] - 0s 2ms/step - loss: 0.4460 - accuracy: 0.8403 - val_loss: 0.4309 - val_accuracy: 0.8504\n",
      "Epoch 21/1000\n",
      "148/148 [==============================] - 0s 2ms/step - loss: 0.4205 - accuracy: 0.8494 - val_loss: 0.4682 - val_accuracy: 0.8504\n",
      "Epoch 22/1000\n",
      "148/148 [==============================] - 0s 2ms/step - loss: 0.4175 - accuracy: 0.8605 - val_loss: 0.4168 - val_accuracy: 0.8504\n",
      "Epoch 23/1000\n",
      "148/148 [==============================] - 0s 2ms/step - loss: 0.4466 - accuracy: 0.8457 - val_loss: 0.4407 - val_accuracy: 0.8504\n",
      "Epoch 24/1000\n",
      "148/148 [==============================] - 0s 2ms/step - loss: 0.4414 - accuracy: 0.8495 - val_loss: 0.4361 - val_accuracy: 0.8504\n",
      "Epoch 25/1000\n",
      "148/148 [==============================] - 0s 2ms/step - loss: 0.4596 - accuracy: 0.8258 - val_loss: 0.4388 - val_accuracy: 0.8504\n",
      "Epoch 26/1000\n",
      "148/148 [==============================] - 0s 2ms/step - loss: 0.5362 - accuracy: 0.8204 - val_loss: 0.4405 - val_accuracy: 0.8504\n"
     ]
    }
   ],
   "source": [
    "model, hist = overfit1()"
   ]
  },
  {
   "cell_type": "code",
   "execution_count": 47,
   "metadata": {
    "scrolled": true
   },
   "outputs": [
    {
     "data": {
      "image/png": "[encoded data removed]",
      "text/plain": [
       "<Figure size 720x360 with 2 Axes>"
      ]
     },
     "metadata": {
      "needs_background": "light"
     },
     "output_type": "display_data"
    }
   ],
   "source": [
    "import matplotlib.pyplot as plt\n",
    "%matplotlib inline  \n",
    "\n",
    "fig, loss_ax = plt.subplots()\n",
    "# plt.figure(figsize=(6,4)) # ERROR\n",
    "fig.set_size_inches(10, 5)  # 챠트 크기 설정\n",
    "\n",
    "acc_ax = loss_ax.twinx()  # 오른쪽 y 출 설정\n",
    "\n",
    "# 왼쪽 y 축 설정\n",
    "loss_ax.plot(hist.history['loss'], 'y', label='train loss')\n",
    "loss_ax.plot(hist.history['val_loss'], 'r', label='val loss')\n",
    "loss_ax.set_ylim([0.0, 0.9740]) # 값을 반영하여 변경\n",
    "\n",
    "# 오른쪽 y 축 설정\n",
    "acc_ax.plot(hist.history['accuracy'], 'b', label='train accuracy')\n",
    "acc_ax.plot(hist.history['val_accuracy'], 'g', label='val accuracy')\n",
    "acc_ax.set_ylim([0.0, 1]) # 0.0, 1: 0 ~ 100 %, 정확도임으로 변경하지 않음\n",
    "\n",
    "# 축 레이블 설정\n",
    "loss_ax.set_xlabel('epoch')  # 학습 횟수\n",
    "loss_ax.set_ylabel('loss')   # 오차\n",
    "acc_ax.set_ylabel('accuracy') # 정확도\n",
    "\n",
    "loss_ax.legend(loc='upper left') # 오차 레이블 위치\n",
    "acc_ax.legend(loc='lower left')  # 정확도 레이블 위치\n",
    "\n",
    "plt.show()"
   ]
  },
  {
   "cell_type": "code",
   "execution_count": 48,
   "metadata": {},
   "outputs": [
    {
     "name": "stdout",
     "output_type": "stream",
     "text": [
      "손실값: 0.46002066135406494 /정확도: 85.10638475418091 %\n"
     ]
    }
   ],
   "source": [
    "test_loss, test_acc = model.evaluate(x_test, y_test, batch_size=1, verbose=0)\n",
    "print('손실값:', test_loss, '/정확도:', (test_acc*100), '%')"
   ]
  },
  {
   "cell_type": "code",
   "execution_count": null,
   "metadata": {},
   "outputs": [],
   "source": [
    "# 생존자의 규칙 파악에 실패하여 생존자 예측이 1~2명 정도만 가능하다.\n",
    "# 85.10638475418091 % 신뢰할 수 없다.\n",
    "# 생존자의 데이터를 증가 시켜야한다.\n",
    "# 사망 생존에 영향을 많이 주는 변수를 주성분 분석등을 이용하여 파악한다.\n",
    "# 기존 생존자 데이터가 규칙성이 없는 경우 데이터 증폭을 위해 기존 데이터의\n",
    "# 중앙값이나 평균등을 이용하여 데이터를 추가해도 정확도 개선은 어렵다.\n",
    "# 재료(데이터)가 부실하면 생산 제품도 부실하다."
   ]
  },
  {
   "cell_type": "code",
   "execution_count": null,
   "metadata": {},
   "outputs": [],
   "source": []
  }
 ],
 "metadata": {
  "kernelspec": {
   "display_name": "ai",
   "language": "python",
   "name": "ai"
  },
  "language_info": {
   "codemirror_mode": {
    "name": "ipython",
    "version": 3
   },
   "file_extension": ".py",
   "mimetype": "text/x-python",
   "name": "python",
   "nbconvert_exporter": "python",
   "pygments_lexer": "ipython3",
   "version": "3.7.11"
  }
 },
 "nbformat": 4,
 "nbformat_minor": 2
}
