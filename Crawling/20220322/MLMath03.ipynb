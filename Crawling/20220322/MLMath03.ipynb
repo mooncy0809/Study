{
 "cells": [
  {
   "cell_type": "markdown",
   "metadata": {},
   "source": [
    "## 빙어 낚시터를 방문시 잡을 수 있는 물고기의 예상 크기는?"
   ]
  },
  {
   "cell_type": "code",
   "execution_count": 1,
   "metadata": {},
   "outputs": [],
   "source": [
    "import numpy as np"
   ]
  },
  {
   "cell_type": "code",
   "execution_count": 54,
   "metadata": {},
   "outputs": [
    {
     "name": "stdout",
     "output_type": "stream",
     "text": [
      "<class 'numpy.ndarray'>\n",
      "(5,)\n",
      "[ 6  7  8  9 10]\n"
     ]
    }
   ],
   "source": [
    "# 가상의 데이터를 만들기위하여 도메인 조사\n",
    "fish = np.arange(6, 11)\n",
    "print(type(fish))\n",
    "print(fish.shape)\n",
    "print(fish)"
   ]
  },
  {
   "cell_type": "code",
   "execution_count": 55,
   "metadata": {},
   "outputs": [
    {
     "name": "stdout",
     "output_type": "stream",
     "text": [
      "40\n"
     ]
    }
   ],
   "source": [
    "tot = np.sum(fish)\n",
    "print(tot)"
   ]
  },
  {
   "cell_type": "code",
   "execution_count": 56,
   "metadata": {},
   "outputs": [
    {
     "name": "stdout",
     "output_type": "stream",
     "text": [
      "8.0\n"
     ]
    }
   ],
   "source": [
    "mean = np.mean(fish)\n",
    "print(mean)"
   ]
  },
  {
   "cell_type": "code",
   "execution_count": 58,
   "metadata": {},
   "outputs": [
    {
     "name": "stdout",
     "output_type": "stream",
     "text": [
      "<class 'numpy.ndarray'>\n",
      "[ 9 10  6  7  9  6  6  7 10 10  7  8 10  8 10  9 10  8 10  8 10  7  7  6\n",
      "  7  7  7  7  6 10  7  6  6  9  8  7  6  9  7  7  9 10  6  7  9 10  8 10\n",
      "  6  9  7  8  6 10  7  8  8  7  6  7  9 10  9  7  9  6  6  8  8  7  9 10\n",
      "  8  6  6  7  7  9  6  6 10  8 10  9  9  6  9 10  9 10 10 10  7  6 10  8\n",
      "  6  8 10  7]\n"
     ]
    }
   ],
   "source": [
    "np.random.seed(1)\n",
    "fish = np.random.randint(6, 11, size=100)  # 빙어 100 마리 \n",
    "print(type(fish))\n",
    "print(fish)"
   ]
  },
  {
   "cell_type": "code",
   "execution_count": 59,
   "metadata": {},
   "outputs": [
    {
     "name": "stdout",
     "output_type": "stream",
     "text": [
      "797\n"
     ]
    }
   ],
   "source": [
    "tot = np.sum(fish)\n",
    "print(tot)"
   ]
  },
  {
   "cell_type": "code",
   "execution_count": 60,
   "metadata": {},
   "outputs": [
    {
     "name": "stdout",
     "output_type": "stream",
     "text": [
      "7.97\n"
     ]
    }
   ],
   "source": [
    "mean = np.mean(fish)\n",
    "print(mean)"
   ]
  },
  {
   "cell_type": "code",
   "execution_count": 61,
   "metadata": {},
   "outputs": [
    {
     "name": "stdout",
     "output_type": "stream",
     "text": [
      "예상되는 물고기의 크기: 7.97 cm\n",
      "기대되는 물고기의 크기: 7.97 cm\n",
      "대표적으로 많이 잡히는 물고기의 크기: 7.97 cm\n"
     ]
    }
   ],
   "source": [
    "print('예상되는 물고기의 크기:', mean, 'cm')\n",
    "print('기대되는 물고기의 크기:', mean, 'cm') # 기대값 = 보통 = 평균\n",
    "print('대표적으로 많이 잡히는 물고기의 크기:', mean, 'cm')"
   ]
  },
  {
   "cell_type": "code",
   "execution_count": 62,
   "metadata": {},
   "outputs": [
    {
     "name": "stdout",
     "output_type": "stream",
     "text": [
      "-1.0300000000000002\n",
      "-2.0300000000000002\n",
      "1.9699999999999998\n",
      "0.9699999999999998\n",
      "-1.0300000000000002\n",
      "1.9699999999999998\n",
      "1.9699999999999998\n",
      "0.9699999999999998\n",
      "-2.0300000000000002\n",
      "-2.0300000000000002\n"
     ]
    }
   ],
   "source": [
    "# 7.97 cm의 물고기만 잡히는 않음, 편차: 평균으로부터의 차이\n",
    "for item in fish[0:10]:\n",
    "    print(mean-item) # 개별 항목에 대한 편차, 편차 = 평균 - 데이터"
   ]
  },
  {
   "cell_type": "code",
   "execution_count": 11,
   "metadata": {},
   "outputs": [],
   "source": [
    "# 평균으로부터의 차이(편차)는 0이 나와야 정확히 빙어의 크기를 예측 가능하다.\n",
    "# 편차가 작아야 기대값이 정확하다."
   ]
  },
  {
   "cell_type": "code",
   "execution_count": 65,
   "metadata": {},
   "outputs": [
    {
     "name": "stdout",
     "output_type": "stream",
     "text": [
      "편차의 합: -0.0\n"
     ]
    }
   ],
   "source": [
    "# 100마리를 잡은 사람이 평균 7.97 cm라고하는데 모든 차이를 알고싶다.\n",
    "fish_devi = 0; # 편차의 합\n",
    "for item in fish:  \n",
    "    fish_devi = fish_devi + (mean-item) # 개별 항목에 대한 편차의 누적 합\n",
    "    \n",
    "print('편차의 합: {0:.1f}'.format(fish_devi))    \n",
    "# 100마리의 빙어는 모두 7.97 cm로 편차가 없다. 논리적 에러"
   ]
  },
  {
   "cell_type": "code",
   "execution_count": 66,
   "metadata": {},
   "outputs": [
    {
     "data": {
      "text/plain": [
       "array([-2, -1,  0,  1,  2,  3,  4,  5])"
      ]
     },
     "execution_count": 66,
     "metadata": {},
     "output_type": "execute_result"
    }
   ],
   "source": [
    "# 편차의 합은 왜 0?\n",
    "src = np.arange(-2, 6)\n",
    "src"
   ]
  },
  {
   "cell_type": "code",
   "execution_count": 67,
   "metadata": {},
   "outputs": [
    {
     "name": "stdout",
     "output_type": "stream",
     "text": [
      "mean: 1.5\n",
      "3.5\n",
      "2.5\n",
      "1.5\n",
      "0.5\n",
      "-0.5\n",
      "-1.5\n",
      "-2.5\n",
      "-3.5\n"
     ]
    }
   ],
   "source": [
    "m = np.mean(src)\n",
    "print('mean:', m)\n",
    "for item in src:\n",
    "    print(m-item)"
   ]
  },
  {
   "cell_type": "code",
   "execution_count": 68,
   "metadata": {},
   "outputs": [
    {
     "name": "stdout",
     "output_type": "stream",
     "text": [
      "편차의 합: 0.0\n"
     ]
    }
   ],
   "source": [
    "hap = 0\n",
    "for item in src:\n",
    "    hap = hap + (m-item)\n",
    "    \n",
    "print('편차의 합:', hap)    "
   ]
  },
  {
   "cell_type": "code",
   "execution_count": null,
   "metadata": {},
   "outputs": [],
   "source": []
  },
  {
   "cell_type": "code",
   "execution_count": 16,
   "metadata": {},
   "outputs": [],
   "source": [
    "# 100마리의 빙어는 모두 7.97 cm로 편차가 없다.\n",
    "# 편차가 존재하는데 편차가 없다는 논리적 모순에 빠짐."
   ]
  },
  {
   "cell_type": "code",
   "execution_count": 70,
   "metadata": {},
   "outputs": [
    {
     "name": "stdout",
     "output_type": "stream",
     "text": [
      "평균: 7.97\n",
      "편차의 합: 216.9\n"
     ]
    }
   ],
   "source": [
    "# 편차의 부호를 변경(제곱)하여 모두 더함.\n",
    "fish_devi = 0  # 편차\n",
    "fish_devi_square = 0; # 편차의 합\n",
    "for item in fish:\n",
    "    fish_devi = mean - item\n",
    "    fish_devi_square = fish_devi_square + (fish_devi ** 2)\n",
    "\n",
    "print('평균:', mean)    \n",
    "print('편차의 합: {0:.1f}'.format(fish_devi_square)) "
   ]
  },
  {
   "cell_type": "code",
   "execution_count": 72,
   "metadata": {},
   "outputs": [
    {
     "data": {
      "text/plain": [
       "2.191010101010102"
      ]
     },
     "execution_count": 72,
     "metadata": {},
     "output_type": "execute_result"
    }
   ],
   "source": [
    "# 평균 편차를 알고 싶음, 분산, 2.191 cm\n",
    "var = fish_devi_square / (100-1) # 표본분산 \n",
    "# 분산: 데이터들이 평균(대표값)으로부터 얼마나 떨어져 있는지의 척도\n",
    "var"
   ]
  },
  {
   "cell_type": "code",
   "execution_count": 19,
   "metadata": {},
   "outputs": [],
   "source": [
    "# 인하대학교 앞에 김밥천국 인수시 분산이 너무 큰 경우 발견\n",
    "# 3월 ~ 6월, 9월 ~ 11월만 장사가 잘됨, 방학때 매출액이 매우 낮음\n",
    "# 일정하지 않은 매출액으로 운영에 어려움이 많아 인수 포기."
   ]
  },
  {
   "cell_type": "code",
   "execution_count": 73,
   "metadata": {},
   "outputs": [
    {
     "name": "stdout",
     "output_type": "stream",
     "text": [
      "2.0\n",
      "3.0\n",
      "4.0\n",
      "3.1622776601683795\n",
      "1.4802061008555876\n"
     ]
    }
   ],
   "source": [
    "# 분산은 음수를 양수로 변경하기위해 편차를 제곱했음으로 실제 편차가 아님.\n",
    "print(np.sqrt(4))\n",
    "print(np.sqrt(9))\n",
    "print(np.sqrt(16))\n",
    "print(np.sqrt(10))\n",
    "sd = np.sqrt(var)\n",
    "print(sd) # 빙어 잡을시 상황에따라 약 1.4802 cm의 차이가 존재할수 있음."
   ]
  },
  {
   "cell_type": "code",
   "execution_count": 74,
   "metadata": {},
   "outputs": [
    {
     "name": "stdout",
     "output_type": "stream",
     "text": [
      "평균: 7.97\n",
      "분산: 2.191010101010102\n",
      "표준편차: 1.4802061008555876\n",
      "예상 빙어의 크기: 6.489793899144412  ~ 9.450206100855587\n"
     ]
    }
   ],
   "source": [
    "print('평균:', mean)    # 실제 편차가 제곱되어 있음\n",
    "print('분산:', var)    # 실제 편차가 제곱되어 있음\n",
    "print('표준편차:', sd) # 제곱을 해제함.\n",
    "print('예상 빙어의 크기:', mean-sd,' ~',mean+sd)"
   ]
  },
  {
   "cell_type": "code",
   "execution_count": 75,
   "metadata": {},
   "outputs": [
    {
     "data": {
      "text/plain": [
       "array([ 9, 10,  6,  7,  9,  6,  6,  7, 10, 10,  7,  8, 10,  8, 10,  9, 10,\n",
       "        8, 10,  8, 10,  7,  7,  6,  7,  7,  7,  7,  6, 10,  7,  6,  6,  9,\n",
       "        8,  7,  6,  9,  7,  7,  9, 10,  6,  7,  9, 10,  8, 10,  6,  9,  7,\n",
       "        8,  6, 10,  7,  8,  8,  7,  6,  7,  9, 10,  9,  7,  9,  6,  6,  8,\n",
       "        8,  7,  9, 10,  8,  6,  6,  7,  7,  9,  6,  6, 10,  8, 10,  9,  9,\n",
       "        6,  9, 10,  9, 10, 10, 10,  7,  6, 10,  8,  6,  8, 10,  7])"
      ]
     },
     "execution_count": 75,
     "metadata": {},
     "output_type": "execute_result"
    }
   ],
   "source": [
    "fish"
   ]
  },
  {
   "cell_type": "code",
   "execution_count": 76,
   "metadata": {},
   "outputs": [
    {
     "data": {
      "text/plain": [
       "2.1691"
      ]
     },
     "execution_count": 76,
     "metadata": {},
     "output_type": "execute_result"
    }
   ],
   "source": [
    "np.var(fish)"
   ]
  },
  {
   "cell_type": "code",
   "execution_count": 79,
   "metadata": {},
   "outputs": [
    {
     "name": "stdout",
     "output_type": "stream",
     "text": [
      "1.4727864746798838\n",
      "1.4802061008555873\n"
     ]
    }
   ],
   "source": [
    "print(np.std(fish)) # 모표준편차\n",
    "print(np.std(fish, ddof=1)) # 표본표준편차"
   ]
  },
  {
   "cell_type": "code",
   "execution_count": null,
   "metadata": {},
   "outputs": [],
   "source": []
  },
  {
   "cell_type": "code",
   "execution_count": null,
   "metadata": {},
   "outputs": [],
   "source": []
  },
  {
   "cell_type": "code",
   "execution_count": null,
   "metadata": {},
   "outputs": [],
   "source": []
  }
 ],
 "metadata": {
  "kernelspec": {
   "display_name": "ai",
   "language": "python",
   "name": "ai"
  },
  "language_info": {
   "codemirror_mode": {
    "name": "ipython",
    "version": 3
   },
   "file_extension": ".py",
   "mimetype": "text/x-python",
   "name": "python",
   "nbconvert_exporter": "python",
   "pygments_lexer": "ipython3",
   "version": "3.7.11"
  }
 },
 "nbformat": 4,
 "nbformat_minor": 4
}
