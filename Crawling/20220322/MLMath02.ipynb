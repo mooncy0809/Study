{
 "cells": [
  {
   "cell_type": "markdown",
   "metadata": {},
   "source": [
    "### 수열의 합, 수열의 곱, 등차 수열, 평균, 분산, 표준편차, 균등 분포, 정규 분포"
   ]
  },
  {
   "cell_type": "code",
   "execution_count": 124,
   "metadata": {},
   "outputs": [],
   "source": [
    "import warnings\n",
    "warnings.filterwarnings(action='ignore')\n",
    "\n",
    "# 변수, 상수\n",
    "%matplotlib inline\n",
    "\n",
    "import numpy as np\n",
    "import matplotlib.pyplot as plt"
   ]
  },
  {
   "cell_type": "code",
   "execution_count": 2,
   "metadata": {},
   "outputs": [
    {
     "name": "stdout",
     "output_type": "stream",
     "text": [
      "28\n"
     ]
    }
   ],
   "source": [
    "# 수열의 합 계산\n",
    "sum_value = 0\n",
    "\n",
    "for i in range(1, 8):# range 함수는 반복 실행에 마지막 인자를 포함하지 않음\n",
    "    sum_value += i\n",
    "\n",
    "print(sum_value)"
   ]
  },
  {
   "cell_type": "code",
   "execution_count": 4,
   "metadata": {},
   "outputs": [
    {
     "name": "stdout",
     "output_type": "stream",
     "text": [
      "15\n"
     ]
    }
   ],
   "source": [
    "a = np.array([1, 3, 2, 5, 4])  # a1부터 a5까지\n",
    "y = np.sum(a)  # 총합\n",
    "print(y)"
   ]
  },
  {
   "cell_type": "code",
   "execution_count": 10,
   "metadata": {},
   "outputs": [
    {
     "name": "stdout",
     "output_type": "stream",
     "text": [
      "120\n",
      "120\n",
      "120\n"
     ]
    }
   ],
   "source": [
    "# 수열의 곱\n",
    "a = np.array([1, 3, 2, 5, 4])  # a1부터 a5까지\n",
    "y = np.prod(a)  # 총곱\n",
    "print(1 * 3 * 2 * 5 * 4)\n",
    "print(y)\n",
    "\n",
    "tot = 1\n",
    "for val in a:\n",
    "    # print(val)\n",
    "    tot = tot * val\n",
    "print(tot)"
   ]
  },
  {
   "cell_type": "code",
   "execution_count": 11,
   "metadata": {},
   "outputs": [
    {
     "name": "stdout",
     "output_type": "stream",
     "text": [
      "1717\n"
     ]
    }
   ],
   "source": [
    "# 등차 수열의 합, 공차가 3인 수열의 합 계산, 일정하게 증가 감소되는 수열\n",
    "\n",
    "sum_value = 0\n",
    "\n",
    "for i in range(1, 101, 3): # start, end-1, step(간격)\n",
    "    sum_value += i\n",
    "\n",
    "print(sum_value)"
   ]
  },
  {
   "cell_type": "code",
   "execution_count": 13,
   "metadata": {},
   "outputs": [
    {
     "name": "stdout",
     "output_type": "stream",
     "text": [
      "[[0, 0, 0], [0, 0, 0], [0, 0, 0], [0, 0, 0]]\n"
     ]
    }
   ],
   "source": [
    "# 리스트 반복으로 2차원 리스트 초기화\n",
    "b = [[0] * 3] * 4\n",
    "\n",
    "print(b)"
   ]
  },
  {
   "cell_type": "code",
   "execution_count": 14,
   "metadata": {},
   "outputs": [
    {
     "name": "stdout",
     "output_type": "stream",
     "text": [
      "[[0, 0, 5], [0, 0, 5], [0, 0, 5], [0, 0, 5]]\n"
     ]
    }
   ],
   "source": [
    "# 리스트 반복으로 만든 2차원 리스트의 요소값 변경\n",
    "# 얕은 복사임(메모리 공유)으로 모든행의 첫번째에 5가 할당됨.\n",
    "b = [[0] * 3] * 4 \n",
    "b[0][2] = 5 # 첫번째행 3번째 요소만 5을 할당하려 시도\n",
    "\n",
    "print(b)"
   ]
  },
  {
   "cell_type": "code",
   "execution_count": 15,
   "metadata": {},
   "outputs": [
    {
     "name": "stdout",
     "output_type": "stream",
     "text": [
      "[[0, 0, 0], [0, 0, 5], [0, 0, 0], [0, 0, 0]]\n"
     ]
    }
   ],
   "source": [
    "# 리스트 내포로 만든 2차원 리스트의 요소값 변경\n",
    "c = [[0 for i in range(3)] for j in range(4)]  # 깊은복사가 일어남.\n",
    "c[1][2] = 5\n",
    "\n",
    "print(c)"
   ]
  },
  {
   "cell_type": "code",
   "execution_count": 14,
   "metadata": {},
   "outputs": [
    {
     "name": "stdout",
     "output_type": "stream",
     "text": [
      "{2, 4, 5}\n",
      "{4}\n",
      "{2, 5}\n",
      "{2, 3, 4, 5, 6}\n"
     ]
    }
   ],
   "source": [
    "# 집합 타입의 연산\n",
    "a = set([2, 4, 5])   # 집합 A 생성\n",
    "b = set([3, 4, 6])   # 집합 B 생성\n",
    "\n",
    "print(a)             # 집합 A 출력\n",
    "print(a & b)         # 교집합 출력\n",
    "print(a - b)         # 차집합 출력\n",
    "print(a | b)         # 합집합 출력\n",
    "# 경차를 구입 사람중에 14인치 타이어를 장착한 사함의 비율은? 조건부 확률"
   ]
  },
  {
   "cell_type": "code",
   "execution_count": 21,
   "metadata": {},
   "outputs": [
    {
     "name": "stdout",
     "output_type": "stream",
     "text": [
      "390\n",
      "78.0\n"
     ]
    }
   ],
   "source": [
    "data = [70, 91, 69, 78, 82]\n",
    "total = sum(data)         # 데이터의 합 계산\n",
    "print(total)\n",
    "\n",
    "avg = total / len(data)   # 평균 계산\n",
    "print(avg)\n",
    "# print(avg(data))     # X\n",
    "# print(mean(data))    # X \n",
    "# print(average(data)) # X "
   ]
  },
  {
   "cell_type": "code",
   "execution_count": 22,
   "metadata": {},
   "outputs": [
    {
     "name": "stdout",
     "output_type": "stream",
     "text": [
      "78.0\n"
     ]
    }
   ],
   "source": [
    "import numpy as np\n",
    "\n",
    "data = [70, 91, 69, 78, 82]\n",
    "avg = np.mean(data)\n",
    "\n",
    "print(avg)"
   ]
  },
  {
   "cell_type": "markdown",
   "metadata": {},
   "source": [
    "### 데이터 -> 총점 -> 평균 -> 편차(평균으로부터의 차이) -> 분산 -> 표준편차 -> 표준화(z)"
   ]
  },
  {
   "cell_type": "code",
   "execution_count": 25,
   "metadata": {},
   "outputs": [
    {
     "name": "stdout",
     "output_type": "stream",
     "text": [
      "[1, 2, 3, 1, 2, 3, 1, 2, 3]\n",
      "<class 'list'>\n",
      "[3 6 9]\n",
      "<class 'numpy.ndarray'>\n"
     ]
    }
   ],
   "source": [
    "import numpy as np\n",
    "\n",
    "a = [1,2,3] * 3  # list\n",
    "print(a)\n",
    "print(type(a))\n",
    "\n",
    "b = np.array([1,2,3]) * 3  # vector: 배열형태, 그값이 힘의 크기를 나타냄\n",
    "print(b)\n",
    "print(type(b))\n",
    "\n",
    "# 대부분의 분석과 AI 관련 분야는 vector 원리를 이용함.\n",
    "# python list와 vector의 구분: , 유무"
   ]
  },
  {
   "cell_type": "code",
   "execution_count": 27,
   "metadata": {},
   "outputs": [
    {
     "name": "stdout",
     "output_type": "stream",
     "text": [
      "12600\n",
      "2520.0\n"
     ]
    }
   ],
   "source": [
    "x = np.array([2200, 2300, 2500, 2700, 2900]) # 매출액, 연봉...\n",
    "tot= np.sum(x)\n",
    "print(tot)\n",
    "avg = np.mean(x)\n",
    "print(avg)"
   ]
  },
  {
   "cell_type": "code",
   "execution_count": 29,
   "metadata": {},
   "outputs": [
    {
     "name": "stdout",
     "output_type": "stream",
     "text": [
      "[-320. -220.  -20.  180.  380.]\n",
      "0.0\n"
     ]
    }
   ],
   "source": [
    "deviation = x-avg # 편차(평균으로부터의 차이), 신용평점의 상대적 점수\n",
    "print(deviation)\n",
    "print(np.sum(deviation)) # 편차의 합은 0\n",
    "# 편차의 합이 0이라는 말은 모든 개발자는 연봉이 2520만원에서 아무 차이가\n",
    "# 없다는 말과 같음 -> 논리적 오류에 빠짐"
   ]
  },
  {
   "cell_type": "code",
   "execution_count": 32,
   "metadata": {},
   "outputs": [
    {
     "name": "stdout",
     "output_type": "stream",
     "text": [
      "[102400.  48400.    400.  32400. 144400.]\n",
      "328000.0\n"
     ]
    }
   ],
   "source": [
    "# 편차의 합이 0이되는 문제를 해결하기위해 분산을 사용함.\n",
    "ds = deviation ** 2\n",
    "print(ds)\n",
    "print(np.sum(ds))"
   ]
  },
  {
   "cell_type": "code",
   "execution_count": 37,
   "metadata": {},
   "outputs": [
    {
     "name": "stdout",
     "output_type": "stream",
     "text": [
      "(5,)\n",
      "5 5\n",
      "분산: 65600.0\n"
     ]
    }
   ],
   "source": [
    "print(ds.shape) # (5,): 1차원 배열 요소 5개, tuple(값을 변경 할 수 없음)\n",
    "print(len(ds), ds.shape[0])\n",
    "variation = np.sum(ds) / ds.shape[0]\n",
    "print('분산:', variation) # 평균으로부터 얼마나 떨어져 있는지 나타내는 척도\n",
    "# 분산은 원본이 제곱되어 원본 값이 아님."
   ]
  },
  {
   "cell_type": "code",
   "execution_count": 45,
   "metadata": {},
   "outputs": [
    {
     "name": "stdout",
     "output_type": "stream",
     "text": [
      "2.0\n",
      "256.12496949731394\n",
      "256 만원의 차이가 있음\n",
      "나의 예상 급여는 2520 만원에서 256 만원 차이가 발생 할 수 있음\n"
     ]
    }
   ],
   "source": [
    "# 표준편차(Standard Deviation): 분산에서 제곱을 제거하여 원래의 단위로 변환\n",
    "print(np.sqrt(4))\n",
    "sd = np.sqrt(variation)\n",
    "print(sd)\n",
    "print(int(np.round(sd)), '만원의 차이가 있음')\n",
    "print('나의 예상 급여는', int(avg),'만원에서',int(sd),'만원 차이가 발생 할 수 있음')"
   ]
  },
  {
   "cell_type": "code",
   "execution_count": 51,
   "metadata": {},
   "outputs": [
    {
     "name": "stdout",
     "output_type": "stream",
     "text": [
      "2520.0\n",
      "65600.0\n",
      "65600.0\n",
      "256.12496949731394\n",
      "256.12496949731394\n"
     ]
    }
   ],
   "source": [
    "# 분산과 표준편차를 알면 발생할 예정인 일을 예측 가능\n",
    "# 분산과 표준편차를 함수로 만들어 계산\n",
    "import math\n",
    "\n",
    "def var(x):  # 분산, 편차의 제곱의 평균, MSE(평균 제곱 오차)\n",
    "    avg = np.mean(x)\n",
    "    deviation = x-avg # 편차(평균으로부터의 차이)\n",
    "    ds = deviation ** 2\n",
    "    variation = np.sum(ds) / ds.shape[0]\n",
    "\n",
    "    return variation\n",
    "\n",
    "def std(x):  # 표준 편차, RMSE(평균 제곱 오차의 sqrt)\n",
    "    return math.sqrt(np.var(x))\n",
    "\n",
    "x = [2200, 2300, 2500, 2700, 2900]\n",
    "\n",
    "print(np.mean(x))   # 평균 출력\n",
    "print(var(x))       # 분산 출력\n",
    "print(np.var(x))    # numpy 함수 사용\n",
    "print(std(x))       # 표준편차 출력\n",
    "print(np.std(x))    # numpy 함수 사용"
   ]
  },
  {
   "cell_type": "markdown",
   "metadata": {},
   "source": [
    "### 모집단과 표본집단\n",
    "- 데이터 분석 분야 관련: 모집단, 표본 집단을 분리하여 생각해야함.\n",
    "- 데이터 분석을 진행하는 분야는 모집단과 표본 집단을 분리하여 처리함.\n",
    "- 표본의 중요성: 생각보다 모집단(전체 데이터)의 데이터를 수집하기 어려움\n",
    "- 전국에 있는 IT 개발자의 연봉: IT 개발자 업무 관련도의 기준?\n",
    "- 모든 IT 개발자의 연봉 수집이 어려움으로 경력별 표본을 수집하여 조사함\n",
    "- 모집단의 이용 사례(범위 제약): A IT 기업의 직원 평균 연봉 "
   ]
  },
  {
   "cell_type": "code",
   "execution_count": 54,
   "metadata": {},
   "outputs": [
    {
     "name": "stdout",
     "output_type": "stream",
     "text": [
      "65600.0\n",
      "256.12496949731394\n"
     ]
    }
   ],
   "source": [
    "import numpy as np\n",
    "\n",
    "x = [2200, 2300, 2500, 2700, 2900]\n",
    "\n",
    "print(np.var(x))   # 모분산 출력\n",
    "print(np.std(x))   # 모표준편차 출력"
   ]
  },
  {
   "cell_type": "code",
   "execution_count": 55,
   "metadata": {},
   "outputs": [
    {
     "name": "stdout",
     "output_type": "stream",
     "text": [
      "82000.0\n",
      "286.35642126552705\n"
     ]
    }
   ],
   "source": [
    "# 데이터 분석 분야 관련: 모집단, 표본 집단 분리하여 생각해야함.\n",
    "# 일반적으로 표본집단의 분산이 모집단보다 작음으로 균형을 맞추기위하여\n",
    "# 표본 집단의 분산을 값을 증가시킴\n",
    "# 모집단의 데이터의 갯수를 자유도(n)라고한다.\n",
    "# 표본집단의 데이터의 갯수를 자유도-1(n-1)하여 값을 증가시킨다.\n",
    "print(np.var(x, ddof=1))   # 표본 분산 출력, n-ddof\n",
    "print(np.std(x, ddof=1))   # 표본 표준편차 출력"
   ]
  },
  {
   "cell_type": "code",
   "execution_count": 59,
   "metadata": {},
   "outputs": [
    {
     "name": "stdout",
     "output_type": "stream",
     "text": [
      "82000.0\n",
      "286.35642126552705\n",
      "나의 예상 급여는 2520 만원에서 286 만원 차이가 발생 할 수 있음\n"
     ]
    }
   ],
   "source": [
    "# 표본 분산, 표본 표준편차\n",
    "avg = np.mean(x)\n",
    "deviation = x-avg # 편차(평균으로부터의 차이)\n",
    "ds = deviation ** 2\n",
    "variation = np.sum(ds) / (ds.shape[0] - 1)\n",
    "print(variation)\n",
    "sd = np.sqrt(variation)\n",
    "print(sd)\n",
    "print('나의 예상 급여는', int(avg),'만원에서',int(sd),'만원 차이가 발생 할 수 있음')"
   ]
  },
  {
   "cell_type": "markdown",
   "metadata": {},
   "source": [
    "### 표준화\n",
    "- 단위가 다른 데이터간의 크기 비교\n",
    "- TOEIC <-> TOFEL <-> TEPS 점수 인정 비교"
   ]
  },
  {
   "cell_type": "code",
   "execution_count": 64,
   "metadata": {},
   "outputs": [
    {
     "name": "stdout",
     "output_type": "stream",
     "text": [
      "20.959999999999997\n",
      "0.0020960000000000037\n"
     ]
    }
   ],
   "source": [
    "# 분산의 차이 확인\n",
    "import numpy as np\n",
    "\n",
    "a = [173, 181, 168, 175, 179]\n",
    "b = [1.73, 1.81, 1.68, 1.75, 1.79]\n",
    "\n",
    "print(np.var(a))\n",
    "print(np.var(b)) "
   ]
  },
  {
   "cell_type": "code",
   "execution_count": 65,
   "metadata": {},
   "outputs": [
    {
     "name": "stdout",
     "output_type": "stream",
     "text": [
      "[-0.48053723  1.26687088 -1.5726673  -0.0436852   0.83001885]\n",
      "[-0.48053723  1.26687088 -1.5726673  -0.0436852   0.83001885]\n"
     ]
    }
   ],
   "source": [
    "# 데이터의 표준값 확인, 단위의 통일\n",
    "# 표준화를 해야 변수의 가중치가 동일하게 영향을 발생함.\n",
    "# 특정 변수가 분석 방향을 심하게 왜곡하는 것을 방지함.\n",
    "a = [173, 181, 168, 175, 179]\n",
    "b = [1.73, 1.81, 1.68, 1.75, 1.79]\n",
    "\n",
    "def standardize(x):\n",
    "    return (x - np.mean(x)) / np.std(x)\n",
    "\n",
    "print(standardize(a))\n",
    "print(standardize(b))"
   ]
  },
  {
   "cell_type": "markdown",
   "metadata": {},
   "source": [
    "### 난수"
   ]
  },
  {
   "cell_type": "code",
   "execution_count": 109,
   "metadata": {},
   "outputs": [
    {
     "name": "stdout",
     "output_type": "stream",
     "text": [
      "5\n"
     ]
    }
   ],
   "source": [
    "# 1부터 6까지의 정수의 난수를 생성\n",
    "r_int = np.random.randint(6) + 1  # 0부터 5까지의 난수에 1을 더한다\n",
    "print(r_int)  # 1부터 6까지가 랜덤으로 표시된다."
   ]
  },
  {
   "cell_type": "code",
   "execution_count": 122,
   "metadata": {},
   "outputs": [
    {
     "name": "stdout",
     "output_type": "stream",
     "text": [
      "0.7092302375100851\n"
     ]
    }
   ],
   "source": [
    "# 0부터 1까지 소수의 난수를 생성\n",
    "r_dec = np.random.rand()   # 0부터 1 사이의 소수를 랜덤으로 반환한다.\n",
    "print(r_dec)"
   ]
  },
  {
   "cell_type": "code",
   "execution_count": 125,
   "metadata": {},
   "outputs": [
    {
     "data": {
      "image/png": "[encoded data removed]",
      "text/plain": [
       "<Figure size 432x288 with 1 Axes>"
      ]
     },
     "metadata": {
      "needs_background": "light"
     },
     "output_type": "display_data"
    }
   ],
   "source": [
    "# 난수의 균일한 균등 분포\n",
    "n = 1000  # 샘플 수\n",
    "x = np.random.rand(n)  # 0-1의 균일한 난수\n",
    "y = np.random.rand(n)  # 0-1의 균일한 난수\n",
    "\n",
    "plt.scatter(x, y)  # 산포도의 플롯\n",
    "plt.grid()\n",
    "plt.show()"
   ]
  },
  {
   "cell_type": "code",
   "execution_count": 126,
   "metadata": {},
   "outputs": [
    {
     "data": {
      "image/png": "[encoded data removed]",
      "text/plain": [
       "<Figure size 432x288 with 1 Axes>"
      ]
     },
     "metadata": {
      "needs_background": "light"
     },
     "output_type": "display_data"
    }
   ],
   "source": [
    "# 정규분포를 따른 난수의 분포, 가우시안 분포\n",
    "n = 1000  # 샘플 수\n",
    "x = np.random.randn(n)  # 정규분포를 따른 난수의 분포\n",
    "y = np.random.randn(n)  # 정규분포를 따른 난수의 분포\n",
    "\n",
    "plt.scatter(x, y)  # 산포도의 플롯\n",
    "plt.grid()\n",
    "plt.show()"
   ]
  },
  {
   "cell_type": "code",
   "execution_count": null,
   "metadata": {},
   "outputs": [],
   "source": []
  },
  {
   "cell_type": "code",
   "execution_count": null,
   "metadata": {},
   "outputs": [],
   "source": []
  },
  {
   "cell_type": "code",
   "execution_count": null,
   "metadata": {},
   "outputs": [],
   "source": []
  }
 ],
 "metadata": {
  "kernelspec": {
   "display_name": "ai",
   "language": "python",
   "name": "ai"
  },
  "language_info": {
   "codemirror_mode": {
    "name": "ipython",
    "version": 3
   },
   "file_extension": ".py",
   "mimetype": "text/x-python",
   "name": "python",
   "nbconvert_exporter": "python",
   "pygments_lexer": "ipython3",
   "version": "3.7.11"
  }
 },
 "nbformat": 4,
 "nbformat_minor": 4
}
