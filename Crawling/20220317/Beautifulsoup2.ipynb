{
 "cells": [
  {
   "cell_type": "markdown",
   "metadata": {},
   "source": [
    "### 웹에 접속하여 태그를 크롤링\n",
    "- SSL 에러 관련\n",
    "- import ssl\n",
    "- ssl._create_default_https_context = ssl._create_unverified_context\n"
   ]
  },
  {
   "cell_type": "code",
   "execution_count": 24,
   "metadata": {},
   "outputs": [
    {
     "name": "stdout",
     "output_type": "stream",
     "text": [
      "b'<html>\\n<head>\\n<title>A Useful Page</title>\\n</head>\\n<body>\\n<h1>An Interesting Title</h1>\\n<div>\\nLorem ipsum dolor sit amet, consectetur adipisicing elit, sed do eiusmod tempor incididunt ut labore et dolore magna aliqua. Ut enim ad minim veniam, quis nostrud exercitation ullamco laboris nisi ut aliquip ex ea commodo consequat. Duis aute irure dolor in reprehenderit in voluptate velit esse cillum dolore eu fugiat nulla pariatur. Excepteur sint occaecat cupidatat non proident, sunt in culpa qui officia deserunt mollit anim id est laborum.\\n</div>\\n</body>\\n</html>\\n'\n"
     ]
    }
   ],
   "source": [
    "# urllib 패키지의 request 모듈(python 파일)에서 urlopen() 함수를 가져옴\n",
    "from urllib.request import urlopen\n",
    "\n",
    "# Retrieve HTML string from the URL\n",
    "# 한글 출력, b': 바이트 스트림을 의미, 한글 깨짐\n",
    "html = urlopen(\"http://www.pythonscraping.com/exercises/exercise1.html\")\n",
    "print(html.read())"
   ]
  },
  {
   "cell_type": "code",
   "execution_count": 3,
   "metadata": {},
   "outputs": [
    {
     "name": "stdout",
     "output_type": "stream",
     "text": [
      "<class 'bytes'>\n",
      "<!DOCTYPE html>\n",
      "<html class=\"client-nojs\" lang=\"en\" dir=\"ltr\">\n",
      "<head>\n",
      "<meta charset=\"UTF-8\"/>\n",
      "<title>Kevin Bacon - Wikipedia</title>\n",
      "<script>document.documentElement.className=\"client-js\";RLCONF={\"wgBreakFrames\":false,\"wgSeparatorTransformTable\":[\"\",\"\"],\"wgDigitTransformTable\":[\"\",\"\"],\"wgDefaultDateFormat\":\"dmy\",\"wgMonthNames\":[\"\",\"January\",\"February\",\"March\",\"April\",\"May\",\"June\",\"July\",\"August\",\"September\",\"October\",\"November\",\"December\"],\"wgRequestId\":\"4b56cef3-9988-4c03-b44a-fe764444a337\",\"wg\n"
     ]
    }
   ],
   "source": [
    "html = urlopen(\"https://en.wikipedia.org/wiki/Kevin_Bacon\").read()\n",
    "print(type(html))\n",
    "print(str(html, 'utf-8')[:500])  # bytes -> str"
   ]
  },
  {
   "cell_type": "code",
   "execution_count": 4,
   "metadata": {},
   "outputs": [
    {
     "name": "stdout",
     "output_type": "stream",
     "text": [
      "utf-8\n"
     ]
    }
   ],
   "source": [
    "import sys\n",
    "print(sys.getdefaultencoding())"
   ]
  },
  {
   "cell_type": "code",
   "execution_count": null,
   "metadata": {},
   "outputs": [],
   "source": [
    "# ERROR, 한글 표현 불가능\n",
    "html = urlopen(\"https://ko.wikipedia.org/wiki/케빈_베이컨\").read()\n",
    "print(type(html))\n",
    "print(str(html, 'utf-8')[:500])  # bytes -> str"
   ]
  },
  {
   "cell_type": "code",
   "execution_count": 8,
   "metadata": {},
   "outputs": [
    {
     "name": "stdout",
     "output_type": "stream",
     "text": [
      "<class 'bytes'>\n",
      "<!DOCTYPE html>\n",
      "<html class=\"client-nojs\" lang=\"ko\" dir=\"ltr\">\n",
      "<head>\n",
      "<meta charset=\"UTF-8\"/>\n",
      "<title>케빈 베이컨 - 위키백과, 우리 모두의 백과사전</title>\n",
      "<script>document.documentElement.className=\"client-js\";RLCONF={\"wgBreakFrames\":false,\"wgSeparatorTransformTable\":[\"\",\"\"],\"wgDigitTransformTable\":[\"\",\"\"],\"wgDefaultDateFormat\":\"ko\",\"wgMonthNames\":[\"\",\"1월\",\"2월\",\"3월\",\"4월\",\"5월\",\"6월\",\"7월\",\"8월\",\"9월\",\"10월\",\"11월\",\"12월\"],\"wgRequestId\":\"484689b2-6bd0-41ad-a031-416bdf74a2d9\",\"wgCSPNonce\":false,\"wgCanonicalNamespace\":\"\",\"wg\n"
     ]
    }
   ],
   "source": [
    "# Chrome은 한글 입력시 문자 코드로 변경하여 처리함으로 한글 처리 가능\n",
    "# Chrome의 URL을 복사하여 사용\n",
    "html = urlopen(\"https://ko.wikipedia.org/wiki/%EC%BC%80%EB%B9%88_%EB%B2%A0%EC%9D%B4%EC%BB%A8\").read()\n",
    "print(type(html))\n",
    "print(str(html, 'utf-8')[:500])  # bytes -> str"
   ]
  },
  {
   "cell_type": "code",
   "execution_count": null,
   "metadata": {},
   "outputs": [],
   "source": [
    "# UnicodeEncodeError\n",
    "html = urlopen(\"https://ko.wikipedia.org/wiki/\" + \"케빈_베이컨\").read()\n",
    "print(type(html))\n",
    "print(str(html, 'utf-8')[:500])  # bytes -> str"
   ]
  },
  {
   "cell_type": "code",
   "execution_count": 10,
   "metadata": {},
   "outputs": [
    {
     "data": {
      "text/plain": [
       "'%EC%BC%80%EB%B9%88_%EB%B2%A0%EC%9D%B4%EC%BB%A8'"
      ]
     },
     "execution_count": 10,
     "metadata": {},
     "output_type": "execute_result"
    }
   ],
   "source": [
    "from urllib.parse import quote # 한글 처리 함수\n",
    "quote(\"케빈_베이컨\")"
   ]
  },
  {
   "cell_type": "code",
   "execution_count": 11,
   "metadata": {},
   "outputs": [
    {
     "name": "stdout",
     "output_type": "stream",
     "text": [
      "<class 'bytes'>\n",
      "<!DOCTYPE html>\n",
      "<html class=\"client-nojs\" lang=\"ko\" dir=\"ltr\">\n",
      "<head>\n",
      "<meta charset=\"UTF-8\"/>\n",
      "<title>케빈 베이컨 - 위키백과, 우리 모두의 백과사전</title>\n",
      "<script>document.documentElement.className=\"client-js\";RLCONF={\"wgBreakFrames\":false,\"wgSeparatorTransformTable\":[\"\",\"\"],\"wgDigitTransformTable\":[\"\",\"\"],\"wgDefaultDateFormat\":\"ko\",\"wgMonthNames\":[\"\",\"1월\",\"2월\",\"3월\",\"4월\",\"5월\",\"6월\",\"7월\",\"8월\",\"9월\",\"10월\",\"11월\",\"12월\"],\"wgRequestId\":\"484689b2-6bd0-41ad-a031-416bdf74a2d9\",\"wgCSPNonce\":false,\"wgCanonicalNamespace\":\"\",\"wg\n"
     ]
    }
   ],
   "source": [
    "html = urlopen(\"https://ko.wikipedia.org/wiki/\" + quote(\"케빈_베이컨\")).read()\n",
    "print(type(html))\n",
    "print(str(html, 'utf-8')[:500])  # bytes -> str"
   ]
  },
  {
   "cell_type": "code",
   "execution_count": null,
   "metadata": {},
   "outputs": [],
   "source": [
    "# 존재하지 않는 URL은 많은 메시지 출력과 서버라면 처리중 다운이됨.\n",
    "html = urlopen(\"http://www.pythonscraping.com/exercises/exercise1000.html\")"
   ]
  },
  {
   "cell_type": "code",
   "execution_count": null,
   "metadata": {},
   "outputs": [],
   "source": []
  },
  {
   "cell_type": "code",
   "execution_count": null,
   "metadata": {},
   "outputs": [],
   "source": []
  },
  {
   "cell_type": "code",
   "execution_count": null,
   "metadata": {},
   "outputs": [],
   "source": []
  },
  {
   "cell_type": "code",
   "execution_count": null,
   "metadata": {},
   "outputs": [],
   "source": []
  },
  {
   "cell_type": "code",
   "execution_count": null,
   "metadata": {},
   "outputs": [],
   "source": []
  },
  {
   "cell_type": "code",
   "execution_count": null,
   "metadata": {},
   "outputs": [],
   "source": []
  }
 ],
 "metadata": {
  "kernelspec": {
   "display_name": "ai",
   "language": "python",
   "name": "ai"
  },
  "language_info": {
   "codemirror_mode": {
    "name": "ipython",
    "version": 3
   },
   "file_extension": ".py",
   "mimetype": "text/x-python",
   "name": "python",
   "nbconvert_exporter": "python",
   "pygments_lexer": "ipython3",
   "version": "3.7.11"
  }
 },
 "nbformat": 4,
 "nbformat_minor": 4
}
