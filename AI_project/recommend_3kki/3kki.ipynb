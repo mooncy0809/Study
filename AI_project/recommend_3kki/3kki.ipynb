{
 "cells": [
  {
   "cell_type": "markdown",
   "metadata": {},
   "source": [
    "### 추천 시스템 제작(하루3끼)"
   ]
  },
  {
   "cell_type": "code",
   "execution_count": 26,
   "metadata": {},
   "outputs": [],
   "source": [
    "# %autosave 0\n",
    "import warnings\n",
    "warnings.filterwarnings(action='ignore')\n",
    "\n",
    "import os\n",
    "\n",
    "import numpy as np\n",
    "import pandas as pd\n",
    "import seaborn as sb\n",
    "\n",
    "from IPython.display import Image\n",
    "\n",
    "from tensorflow.keras.models import Sequential  # class\n",
    "from tensorflow.keras.models import load_model  # model 사용\n",
    "from tensorflow.keras.layers import Dense       # 전결합\n",
    "from tensorflow.keras.layers import Dropout     # 특정 node를 사용안함.\n",
    "from tensorflow.keras.callbacks import EarlyStopping   # 학습 자동 중지\n",
    "from tensorflow.keras.callbacks import ModelCheckpoint # 우수한 학습 모델 파일 저장\n",
    "from tensorflow.keras import regularizers \n",
    "from tensorflow.keras.utils import to_categorical   # one-hot 엔코딩\n",
    "from tensorflow.keras.optimizers import Adam    # 가중치, bias 최적화\n",
    "\n",
    "from sklearn.preprocessing import LabelEncoder\n",
    "from sklearn.model_selection import train_test_split # 학습셋과 테스트셋의 분리 지원\n",
    "from sklearn.model_selection import StratifiedKFold  # K겹 교차 검증\n",
    "\n",
    "import matplotlib.pyplot as plt\n",
    "\n",
    "from matplotlib import font_manager, rc\n",
    "\n",
    "import platform \n",
    "\n",
    "if (platform.system() == 'Windows'):  # Windows, Linux, Darwin\n",
    "    rc('font', family=font_manager.FontProperties(fname=\"C:/Windows/Fonts/malgun.ttf\").get_name())\n",
    "    path = '.' # Local\n",
    "else:    \n",
    "    plt.rc('font', family='NanumBarunGothic')  # Ubuntu 18.04 기준 한글 처리\n",
    "    path = '/content/drive/My Drive/ai7/dnn/recommendation' # Colab\n",
    "\n",
    "plt.rcParams[\"font.size\"] = 12         # 글자 크기\n",
    "# plt.rcParams[\"figure.figsize\"] = (10, 4) # 10:4의 그래프 비율\n",
    "plt.rcParams['axes.unicode_minus'] = False  # minus 부호는 unicode 적용시 한글이 깨짐으로 설정\n",
    "\n",
    "%matplotlib inline"
   ]
  },
  {
   "cell_type": "code",
   "execution_count": 27,
   "metadata": {},
   "outputs": [
    {
     "name": "stdout",
     "output_type": "stream",
     "text": [
      "<class 'numpy.ndarray'>\n",
      "(370, 26)\n"
     ]
    }
   ],
   "source": [
    "# header가 있을경우 skiprows=1 선언\n",
    "data = np.loadtxt(path + '/train1.csv', delimiter=',', skiprows=1, dtype=np.float64)   # 특성이 작은 데이터의 예외 추가\n",
    "print(type(data))\n",
    "print(data.shape)"
   ]
  },
  {
   "cell_type": "code",
   "execution_count": 28,
   "metadata": {},
   "outputs": [
    {
     "name": "stdout",
     "output_type": "stream",
     "text": [
      "(370, 25)\n",
      "(370,)\n"
     ]
    }
   ],
   "source": [
    "# 데이터와 class의 분리\n",
    "# 0: 닭가슴살\n",
    "# 1: 간편요리\n",
    "# 2: 샐러드\n",
    "# 3: 건강미용\n",
    "# 4: 간식\n",
    "X = data[:, 0:25]  # 0 ~ 24\n",
    "print(X.shape)\n",
    "Y = data[:, 25]    # 25 번째 데이터, class의 분리\n",
    "print(Y.shape)"
   ]
  },
  {
   "cell_type": "code",
   "execution_count": 29,
   "metadata": {},
   "outputs": [
    {
     "name": "stdout",
     "output_type": "stream",
     "text": [
      "[0. 1. 2. 3. 4. 0. 1. 2. 3. 4. 0. 1. 2. 3. 4. 0. 1. 2. 3. 4. 0. 1. 2. 3.\n",
      " 4. 0. 1. 2. 3. 4. 0. 0. 0. 0. 0. 0. 1. 0. 0. 0. 1. 1. 1. 0. 1. 2. 0. 0.\n",
      " 0. 0. 0. 0. 0. 0. 0. 1. 3. 0. 0. 0. 0. 0. 1. 4. 0. 0. 0. 0. 0. 0. 1. 0.\n",
      " 0. 0. 1. 1. 1. 0. 1. 2. 0. 0. 0. 0. 0. 0. 0. 0. 0. 1. 3. 0. 0. 0. 0. 0.\n",
      " 1. 4. 0. 0. 0. 0. 0. 0. 1. 0. 0. 0. 1. 1. 1. 0. 1. 2. 0. 0. 0. 0. 0. 0.\n",
      " 0. 0. 0. 1. 3. 0. 0. 0. 0. 0. 1. 4. 0. 0. 0. 0. 0. 0. 0. 0. 0. 0. 1. 2.\n",
      " 0. 0. 2. 0. 0. 2. 2. 2. 0. 0. 0. 0. 0. 2. 3. 0. 0. 0. 0. 0. 2. 4. 0. 1.\n",
      " 0. 0. 0. 1. 1. 1. 1. 1. 1. 1. 1. 1. 1. 1. 1. 1. 0. 2. 1. 1. 1. 1. 1. 0.\n",
      " 3. 1. 1. 1. 1. 1. 0. 4. 0. 1. 0. 0. 0. 1. 1. 1. 1. 1. 1. 1. 1. 1. 1. 1.\n",
      " 1. 1. 0. 2. 1. 1. 1. 1. 1. 0. 3. 1. 1. 1. 1. 1. 0. 4. 0. 1. 0. 0. 0. 1.\n",
      " 1. 1. 1. 1. 1. 1. 1. 1. 1. 1. 1. 1. 0. 2. 1. 1. 1. 1. 1. 0. 3. 1. 1. 1.\n",
      " 1. 1. 0. 4. 0. 0. 2. 0. 0. 2. 2. 2. 2. 2. 2. 2. 2. 0. 1. 2. 2. 2. 2. 2.\n",
      " 2. 2. 2. 2. 2. 0. 3. 2. 2. 2. 2. 2. 0. 4. 0. 0. 2. 0. 0. 2. 2. 2. 2. 2.\n",
      " 2. 2. 2. 0. 1. 2. 2. 2. 2. 2. 2. 2. 2. 2. 2. 0. 3. 2. 2. 2. 2. 2. 0. 4.\n",
      " 0. 0. 2. 0. 0. 2. 2. 2. 2. 2. 2. 2. 2. 0. 1. 2. 2. 2. 2. 2. 2. 2. 2. 2.\n",
      " 2. 0. 3. 2. 2. 2. 2. 2. 0. 4.]\n"
     ]
    }
   ],
   "source": [
    "print(Y)"
   ]
  },
  {
   "cell_type": "code",
   "execution_count": 30,
   "metadata": {},
   "outputs": [
    {
     "name": "stdout",
     "output_type": "stream",
     "text": [
      "[0 1 2 3 4 0 1 2 3 4 0 1 2 3 4 0 1 2 3 4 0 1 2 3 4 0 1 2 3 4 0 0 0 0 0 0 1\n",
      " 0 0 0 1 1 1 0 1 2 0 0 0 0 0 0 0 0 0 1 3 0 0 0 0 0 1 4 0 0 0 0 0 0 1 0 0 0\n",
      " 1 1 1 0 1 2 0 0 0 0 0 0 0 0 0 1 3 0 0 0 0 0 1 4 0 0 0 0 0 0 1 0 0 0 1 1 1\n",
      " 0 1 2 0 0 0 0 0 0 0 0 0 1 3 0 0 0 0 0 1 4 0 0 0 0 0 0 0 0 0 0 1 2 0 0 2 0\n",
      " 0 2 2 2 0 0 0 0 0 2 3 0 0 0 0 0 2 4 0 1 0 0 0 1 1 1 1 1 1 1 1 1 1 1 1 1 0\n",
      " 2 1 1 1 1 1 0 3 1 1 1 1 1 0 4 0 1 0 0 0 1 1 1 1 1 1 1 1 1 1 1 1 1 0 2 1 1\n",
      " 1 1 1 0 3 1 1 1 1 1 0 4 0 1 0 0 0 1 1 1 1 1 1 1 1 1 1 1 1 1 0 2 1 1 1 1 1\n",
      " 0 3 1 1 1 1 1 0 4 0 0 2 0 0 2 2 2 2 2 2 2 2 0 1 2 2 2 2 2 2 2 2 2 2 0 3 2\n",
      " 2 2 2 2 0 4 0 0 2 0 0 2 2 2 2 2 2 2 2 0 1 2 2 2 2 2 2 2 2 2 2 0 3 2 2 2 2\n",
      " 2 0 4 0 0 2 0 0 2 2 2 2 2 2 2 2 0 1 2 2 2 2 2 2 2 2 2 2 0 3 2 2 2 2 2 0 4]\n"
     ]
    }
   ],
   "source": [
    "Y = Y.astype('int') # 정수로 형변환\n",
    "print(Y)"
   ]
  },
  {
   "cell_type": "code",
   "execution_count": 31,
   "metadata": {},
   "outputs": [
    {
     "name": "stdout",
     "output_type": "stream",
     "text": [
      "[[1. 0. 0. 0. 0.]\n",
      " [0. 1. 0. 0. 0.]\n",
      " [0. 0. 1. 0. 0.]\n",
      " ...\n",
      " [0. 0. 1. 0. 0.]\n",
      " [1. 0. 0. 0. 0.]\n",
      " [0. 0. 0. 0. 1.]]\n"
     ]
    }
   ],
   "source": [
    "# 0: 닭가슴살\n",
    "# 1: 간편요리\n",
    "# 2: 샐러드\n",
    "# 3: 건강미용\n",
    "# 4: 간식\n",
    "Y_encoded = to_categorical(Y) # one-hot-encoding\n",
    "\n",
    "print(Y_encoded) "
   ]
  },
  {
   "cell_type": "code",
   "execution_count": 32,
   "metadata": {},
   "outputs": [
    {
     "name": "stdout",
     "output_type": "stream",
     "text": [
      "[0.96 0.01 0.01 0.01 0.01 0.96 0.01 0.01 0.01 0.01 0.96 0.01 0.01 0.01\n",
      " 0.01 0.96 0.01 0.01 0.01 0.01 0.96 0.01 0.01 0.01 0.01]\n",
      "[1. 0. 0. 0. 0.]\n"
     ]
    }
   ],
   "source": [
    "print(X[0])\n",
    "print(Y_encoded[0])"
   ]
  },
  {
   "cell_type": "code",
   "execution_count": 33,
   "metadata": {},
   "outputs": [
    {
     "name": "stdout",
     "output_type": "stream",
     "text": [
      "[[1. 0. 0. 0. 0.]\n",
      " [0. 0. 0. 1. 0.]\n",
      " [0. 1. 0. 0. 0.]\n",
      " [0. 0. 0. 0. 1.]\n",
      " [1. 0. 0. 0. 0.]\n",
      " [1. 0. 0. 0. 0.]\n",
      " [1. 0. 0. 0. 0.]\n",
      " [1. 0. 0. 0. 0.]\n",
      " [0. 0. 1. 0. 0.]\n",
      " [1. 0. 0. 0. 0.]\n",
      " [1. 0. 0. 0. 0.]\n",
      " [1. 0. 0. 0. 0.]\n",
      " [0. 1. 0. 0. 0.]\n",
      " [1. 0. 0. 0. 0.]\n",
      " [0. 1. 0. 0. 0.]\n",
      " [0. 0. 1. 0. 0.]\n",
      " [1. 0. 0. 0. 0.]\n",
      " [0. 1. 0. 0. 0.]\n",
      " [0. 1. 0. 0. 0.]\n",
      " [0. 0. 1. 0. 0.]\n",
      " [1. 0. 0. 0. 0.]\n",
      " [0. 1. 0. 0. 0.]\n",
      " [0. 0. 1. 0. 0.]\n",
      " [0. 0. 1. 0. 0.]\n",
      " [1. 0. 0. 0. 0.]\n",
      " [1. 0. 0. 0. 0.]\n",
      " [0. 0. 0. 0. 1.]\n",
      " [1. 0. 0. 0. 0.]\n",
      " [0. 1. 0. 0. 0.]\n",
      " [0. 0. 1. 0. 0.]\n",
      " [1. 0. 0. 0. 0.]\n",
      " [0. 0. 1. 0. 0.]\n",
      " [0. 1. 0. 0. 0.]\n",
      " [0. 1. 0. 0. 0.]\n",
      " [0. 1. 0. 0. 0.]\n",
      " [0. 0. 1. 0. 0.]\n",
      " [0. 1. 0. 0. 0.]\n",
      " [0. 0. 1. 0. 0.]\n",
      " [0. 1. 0. 0. 0.]\n",
      " [0. 0. 1. 0. 0.]\n",
      " [0. 0. 1. 0. 0.]\n",
      " [0. 1. 0. 0. 0.]\n",
      " [0. 0. 1. 0. 0.]\n",
      " [1. 0. 0. 0. 0.]\n",
      " [1. 0. 0. 0. 0.]\n",
      " [0. 1. 0. 0. 0.]\n",
      " [1. 0. 0. 0. 0.]\n",
      " [1. 0. 0. 0. 0.]\n",
      " [0. 0. 0. 0. 1.]\n",
      " [1. 0. 0. 0. 0.]\n",
      " [0. 1. 0. 0. 0.]\n",
      " [1. 0. 0. 0. 0.]\n",
      " [0. 0. 1. 0. 0.]\n",
      " [0. 0. 1. 0. 0.]\n",
      " [1. 0. 0. 0. 0.]\n",
      " [0. 0. 1. 0. 0.]\n",
      " [1. 0. 0. 0. 0.]\n",
      " [0. 1. 0. 0. 0.]\n",
      " [1. 0. 0. 0. 0.]\n",
      " [0. 0. 0. 1. 0.]\n",
      " [0. 0. 1. 0. 0.]\n",
      " [0. 1. 0. 0. 0.]\n",
      " [0. 1. 0. 0. 0.]\n",
      " [0. 0. 0. 1. 0.]\n",
      " [1. 0. 0. 0. 0.]\n",
      " [1. 0. 0. 0. 0.]\n",
      " [0. 1. 0. 0. 0.]]\n",
      "(67, 5)\n"
     ]
    }
   ],
   "source": [
    "# train_test_split 분할을 통한 훈련, 검증, 테스트 데이터의 분리\n",
    "seed = 0\n",
    "# 90%: 분할대기, 10%: 테스트\n",
    "x_train_all, x_test, y_train_all, y_test = train_test_split(X, Y_encoded,\n",
    "                                           stratify=Y_encoded,\n",
    "                                           test_size=0.1,\n",
    "                                           random_state=seed)\n",
    "# 나머지 데이터 90%를 분할, 80%: 훈련, 20%: 검증\n",
    "x_train, x_val, y_train, y_val = train_test_split(x_train_all, y_train_all,\n",
    "                                           stratify=y_train_all,\n",
    "                                           test_size=0.2,\n",
    "                                           random_state=seed)\n",
    "\n",
    "print(y_val)\n",
    "print(y_val.shape)\n",
    "# 닭가슴살: 0 , 간편요리: 1, 샐러드: 2 , 건강미용 : 3 , 간식 : 4\n",
    "# (67, 5): 67건의 데이터가 입력되어 한건당 5가지에 속할 확률이 출력됨으로 67행 5열이됨."
   ]
  },
  {
   "cell_type": "code",
   "execution_count": 34,
   "metadata": {},
   "outputs": [
    {
     "name": "stdout",
     "output_type": "stream",
     "text": [
      "[[0. 1. 0. 0. 0.]\n",
      " [1. 0. 0. 0. 0.]\n",
      " [1. 0. 0. 0. 0.]\n",
      " [0. 1. 0. 0. 0.]\n",
      " [0. 0. 1. 0. 0.]\n",
      " [0. 0. 1. 0. 0.]\n",
      " [1. 0. 0. 0. 0.]\n",
      " [0. 0. 1. 0. 0.]\n",
      " [1. 0. 0. 0. 0.]\n",
      " [0. 1. 0. 0. 0.]\n",
      " [0. 0. 0. 0. 1.]\n",
      " [0. 1. 0. 0. 0.]\n",
      " [0. 0. 1. 0. 0.]\n",
      " [0. 0. 1. 0. 0.]\n",
      " [1. 0. 0. 0. 0.]\n",
      " [0. 1. 0. 0. 0.]\n",
      " [0. 0. 1. 0. 0.]\n",
      " [1. 0. 0. 0. 0.]\n",
      " [0. 1. 0. 0. 0.]\n",
      " [1. 0. 0. 0. 0.]\n",
      " [0. 0. 0. 1. 0.]\n",
      " [1. 0. 0. 0. 0.]\n",
      " [1. 0. 0. 0. 0.]\n",
      " [1. 0. 0. 0. 0.]\n",
      " [0. 0. 1. 0. 0.]\n",
      " [1. 0. 0. 0. 0.]\n",
      " [0. 0. 1. 0. 0.]\n",
      " [0. 0. 0. 0. 1.]\n",
      " [0. 1. 0. 0. 0.]\n",
      " [0. 1. 0. 0. 0.]\n",
      " [0. 1. 0. 0. 0.]\n",
      " [0. 0. 1. 0. 0.]\n",
      " [0. 0. 0. 1. 0.]\n",
      " [0. 1. 0. 0. 0.]\n",
      " [1. 0. 0. 0. 0.]\n",
      " [1. 0. 0. 0. 0.]\n",
      " [1. 0. 0. 0. 0.]]\n",
      "(37, 5)\n"
     ]
    }
   ],
   "source": [
    "print(y_test)\n",
    "print(y_test.shape)\n",
    "# (37, 5): 37건의 데이터가 입력되어 한건당 5가지에 속할 확률이 출력됨으로 37행 5열이됨."
   ]
  },
  {
   "cell_type": "code",
   "execution_count": 42,
   "metadata": {},
   "outputs": [
    {
     "name": "stdout",
     "output_type": "stream",
     "text": [
      "Model: \"sequential_6\"\n",
      "_________________________________________________________________\n",
      "Layer (type)                 Output Shape              Param #   \n",
      "=================================================================\n",
      "dense_12 (Dense)             (None, 5)                 130       \n",
      "_________________________________________________________________\n",
      "dense_13 (Dense)             (None, 5)                 30        \n",
      "=================================================================\n",
      "Total params: 160\n",
      "Trainable params: 160\n",
      "Non-trainable params: 0\n",
      "_________________________________________________________________\n",
      "Epoch 1/100\n",
      "266/266 [==============================] - 1s 2ms/step - loss: 1.4042 - accuracy: 0.4197 - val_loss: 1.0303 - val_accuracy: 0.5821\n",
      "\n",
      "Epoch 00001: val_accuracy improved from -inf to 0.58209, saving model to .\\3kki2.h5\n",
      "Epoch 2/100\n",
      "266/266 [==============================] - 0s 1ms/step - loss: 0.9889 - accuracy: 0.5492 - val_loss: 0.7988 - val_accuracy: 0.7015\n",
      "\n",
      "Epoch 00002: val_accuracy improved from 0.58209 to 0.70149, saving model to .\\3kki2.h5\n",
      "Epoch 3/100\n",
      "266/266 [==============================] - 0s 1ms/step - loss: 0.7572 - accuracy: 0.6766 - val_loss: 0.7166 - val_accuracy: 0.7015\n",
      "\n",
      "Epoch 00003: val_accuracy did not improve from 0.70149\n",
      "Epoch 4/100\n",
      "266/266 [==============================] - 0s 1ms/step - loss: 0.6605 - accuracy: 0.6862 - val_loss: 0.7033 - val_accuracy: 0.7015\n",
      "\n",
      "Epoch 00004: val_accuracy did not improve from 0.70149\n",
      "Epoch 5/100\n",
      "266/266 [==============================] - 0s 1ms/step - loss: 0.6622 - accuracy: 0.7233 - val_loss: 0.8036 - val_accuracy: 0.6418\n",
      "\n",
      "Epoch 00005: val_accuracy did not improve from 0.70149\n",
      "Epoch 6/100\n",
      "266/266 [==============================] - 0s 1ms/step - loss: 0.5875 - accuracy: 0.7762 - val_loss: 0.7117 - val_accuracy: 0.6866\n",
      "\n",
      "Epoch 00006: val_accuracy did not improve from 0.70149\n",
      "Epoch 7/100\n",
      "266/266 [==============================] - 0s 991us/step - loss: 0.5371 - accuracy: 0.7466 - val_loss: 0.6662 - val_accuracy: 0.6716\n",
      "\n",
      "Epoch 00007: val_accuracy did not improve from 0.70149\n",
      "Epoch 8/100\n",
      "266/266 [==============================] - 0s 997us/step - loss: 0.4668 - accuracy: 0.7534 - val_loss: 0.6817 - val_accuracy: 0.7164\n",
      "\n",
      "Epoch 00008: val_accuracy improved from 0.70149 to 0.71642, saving model to .\\3kki2.h5\n",
      "Epoch 9/100\n",
      "266/266 [==============================] - 0s 1ms/step - loss: 0.5134 - accuracy: 0.7426 - val_loss: 0.7103 - val_accuracy: 0.7015\n",
      "\n",
      "Epoch 00009: val_accuracy did not improve from 0.71642\n"
     ]
    }
   ],
   "source": [
    "model = Sequential()\n",
    "\n",
    "# 네트워크 구성\n",
    "# model.add(Dense(20, input_shape=(25, ), activation='relu'))\n",
    "model.add(Dense(5, input_dim=25, activation='relu'))\n",
    "# 0.98 0.01 0.01 0.98 0.01 0.01 0.98 0.01 0.01 -> 1 0 0 → 0 ~ 1 사이의 확률 5가지 출력, 총합은 1\n",
    "model.add(Dense(5, activation='softmax'))\n",
    "model.compile(optimizer=Adam(lr=0.01), loss='categorical_crossentropy', \n",
    "                                metrics=['accuracy'])\n",
    "model.summary()\n",
    "\n",
    "mcp = ModelCheckpoint(filepath='./3kki2.h5', monitor='val_accuracy',\n",
    "                      verbose=1, save_best_only=True)\n",
    "\n",
    "es = EarlyStopping(monitor='loss', patience=1, restore_best_weights=True)\n",
    "\n",
    "hist = model.fit(x_train, y_train, validation_data=(x_val, y_val), shuffle=True,\n",
    "                 epochs=100, batch_size=1, callbacks=[mcp, es])"
   ]
  },
  {
   "cell_type": "code",
   "execution_count": 43,
   "metadata": {},
   "outputs": [
    {
     "data": {
      "image/png": "[encoded data removed]",
      "text/plain": [
       "<Figure size 720x360 with 2 Axes>"
      ]
     },
     "metadata": {
      "needs_background": "light"
     },
     "output_type": "display_data"
    }
   ],
   "source": [
    "import matplotlib.pyplot as plt\n",
    "%matplotlib inline  \n",
    "\n",
    "fig, loss_ax = plt.subplots()\n",
    "# plt.figure(figsize=(6,4)) # ERROR\n",
    "fig.set_size_inches(10, 5)  # 챠트 크기 설정\n",
    "\n",
    "acc_ax = loss_ax.twinx()  # 오른쪽 y 출 설정\n",
    "\n",
    "# 왼쪽 y 축 설정\n",
    "loss_ax.plot(hist.history['loss'], 'y', label='train loss')\n",
    "loss_ax.plot(hist.history['val_loss'], 'r', label='val loss')\n",
    "loss_ax.set_ylim([0.0, 1.5]) # 값을 반영하여 변경\n",
    "\n",
    "# 오른쪽 y 축 설정\n",
    "acc_ax.plot(hist.history['accuracy'], 'b', label='train accuracy')\n",
    "acc_ax.plot(hist.history['val_accuracy'], 'g', label='val accuracy')\n",
    "acc_ax.set_ylim([0.0, 1.1])\n",
    "\n",
    "# 축 레이블 설정\n",
    "loss_ax.set_xlabel('epoch' )  # 학습 횟수\n",
    "loss_ax.set_ylabel('loss')    # 왼쪽 y 축 레이블, 오차\n",
    "acc_ax.set_ylabel('accuracy') # 오른쪽 y 축 레이블,정확도\n",
    "\n",
    "loss_ax.legend(loc='upper left') # 왼쪽 y 축 오차 레이블 위치\n",
    "acc_ax.legend(loc='lower left')  # 오른쪽 y 축 정확도 레이블 위치\n",
    "\n",
    "plt.show()"
   ]
  },
  {
   "cell_type": "code",
   "execution_count": 44,
   "metadata": {},
   "outputs": [
    {
     "name": "stdout",
     "output_type": "stream",
     "text": [
      "손실값: 0.6817086935043335 /정확도: 71.6417908668518 %\n"
     ]
    }
   ],
   "source": [
    "test_loss, test_acc = model.evaluate(x_val, y_val, batch_size=1, verbose=0)\n",
    "print('손실값:', test_loss, '/정확도:', (test_acc*100), '%')"
   ]
  },
  {
   "cell_type": "code",
   "execution_count": 45,
   "metadata": {},
   "outputs": [],
   "source": [
    "# model.save(path + '/Book.h5')"
   ]
  },
  {
   "cell_type": "code",
   "execution_count": 46,
   "metadata": {},
   "outputs": [
    {
     "name": "stdout",
     "output_type": "stream",
     "text": [
      "데이터: (37, 25)\n",
      "데이터: [0.01 0.96 0.01 0.01 0.01 0.96 0.01 0.01 0.01 0.01 0.01 0.96 0.01 0.01\n",
      " 0.01 0.01 0.01 0.01 0.96 0.01 0.01 0.96 0.01 0.01 0.01]\n",
      "예측 결과 p.shape: (37, 5)\n"
     ]
    }
   ],
   "source": [
    "print('데이터:', x_test.shape) # 변수가 9개로 구성된 4건의 관측치(행)\n",
    "print('데이터:', x_test[0])    # 첫번째 데이터행\n",
    "\n",
    "p = model.predict(x_test)      # 테스트 데이터 4건 ★\n",
    "print('예측 결과 p.shape:', p.shape)     # (4, 3): 3: 폼종의 갯수"
   ]
  },
  {
   "cell_type": "code",
   "execution_count": 47,
   "metadata": {},
   "outputs": [
    {
     "name": "stdout",
     "output_type": "stream",
     "text": [
      "예측값: [1.1268056e-02 9.7152519e-01 1.6706467e-04 1.2928473e-02 4.1111275e-03]\n",
      "예측값의 합: 1.000\n",
      "예측값: 1.12681% 97.15252% 0.01671%\n",
      "One-hot-encoding:  [0. 1. 0. 0. 0.]\n",
      "1\n"
     ]
    }
   ],
   "source": [
    "print('예측값:', p[0])        # 첫번째 예측값 출력, 확률 0 ~ 1사이의 실수값\n",
    "print('예측값의 합: {0:0.3f}'.format(np.sum(p[0])))\n",
    "print('예측값: {0:.5f}% {1:.5f}% {2:.5f}%'.format(p[0,0]*100,p[0,1]*100,p[0,2]*100))\n",
    "print('One-hot-encoding: ', y_test[0])\n",
    "print(np.argmax(p[0]))      # 가장 큰값의 index"
   ]
  },
  {
   "cell_type": "code",
   "execution_count": 48,
   "metadata": {},
   "outputs": [
    {
     "name": "stdout",
     "output_type": "stream",
     "text": [
      "[[1.12680560e-02 9.71525192e-01 1.67064674e-04 1.29284728e-02\n",
      "  4.11112746e-03]\n",
      " [7.73861587e-01 3.59347798e-02 1.25980496e-01 3.27525521e-03\n",
      "  6.09477907e-02]\n",
      " [8.85907471e-01 3.41127031e-02 3.31253372e-02 4.49406058e-02\n",
      "  1.91397977e-03]\n",
      " [6.84439391e-03 9.86449897e-01 1.07199186e-04 2.90999794e-03\n",
      "  3.68842506e-03]\n",
      " [1.38622401e-02 4.24993550e-03 9.79620397e-01 9.77765194e-06\n",
      "  2.25759833e-03]\n",
      " [9.00800005e-02 1.57797188e-02 8.81129652e-02 8.05174649e-01\n",
      "  8.52716330e-04]\n",
      " [3.57310504e-01 4.63886093e-03 6.37452424e-01 1.66838036e-05\n",
      "  5.81570261e-04]\n",
      " [1.96903432e-03 2.68713175e-03 9.95058060e-01 6.13911425e-07\n",
      "  2.85206217e-04]\n",
      " [9.94559824e-01 3.08751734e-03 1.49100041e-03 7.31897453e-05\n",
      "  7.88381207e-04]\n",
      " [9.37189311e-02 4.23259407e-01 1.48505438e-03 4.75323975e-01\n",
      "  6.21270342e-03]\n",
      " [1.30427659e-01 5.82808197e-01 6.43370487e-03 7.63018876e-02\n",
      "  2.04028532e-01]\n",
      " [1.38119897e-02 9.67943966e-01 4.34507034e-04 5.74179785e-03\n",
      "  1.20677585e-02]\n",
      " [1.95801124e-01 3.16523798e-02 7.27352440e-01 2.88954750e-02\n",
      "  1.62985101e-02]\n",
      " [8.78751457e-01 6.94541540e-03 7.52012208e-02 3.89469527e-02\n",
      "  1.54902096e-04]\n",
      " [9.93182361e-01 2.52698478e-03 4.13146941e-03 3.11901422e-05\n",
      "  1.28142899e-04]\n",
      " [1.12551479e-02 9.78018105e-01 9.03968699e-03 8.38847045e-05\n",
      "  1.60319230e-03]\n",
      " [7.07270205e-01 7.06280023e-03 2.79601395e-01 6.25897083e-05\n",
      "  6.00297889e-03]\n",
      " [5.87885797e-01 3.68455976e-01 1.91028742e-03 1.61978062e-02\n",
      "  2.55501736e-02]\n",
      " [8.36464405e-01 1.32098019e-01 3.44033819e-03 2.77752569e-03\n",
      "  2.52196752e-02]\n",
      " [9.19597089e-01 2.42216513e-02 4.78618592e-02 1.51557068e-03\n",
      "  6.80382457e-03]\n",
      " [3.84590983e-01 3.03242337e-02 1.91228907e-03 5.83147705e-01\n",
      "  2.48135239e-05]\n",
      " [8.33996415e-01 7.84342885e-02 1.07018128e-02 3.68505158e-02\n",
      "  4.00169678e-02]\n",
      " [9.99944091e-01 1.43647321e-05 4.14777824e-05 3.08310035e-08\n",
      "  4.03142693e-08]\n",
      " [7.18872786e-01 5.65277860e-02 1.90139771e-01 4.35373047e-03\n",
      "  3.01058888e-02]\n",
      " [9.09577459e-02 1.69637392e-03 9.06568110e-01 1.19835192e-06\n",
      "  7.76604342e-04]\n",
      " [5.60092330e-01 9.66246650e-02 2.56433468e-02 6.03353642e-02\n",
      "  2.57304251e-01]\n",
      " [3.01402882e-02 1.07965702e-02 9.32779670e-01 4.46490565e-04\n",
      "  2.58370377e-02]\n",
      " [1.37960210e-01 3.52239124e-02 1.59896940e-01 1.85469300e-01\n",
      "  4.81449693e-01]\n",
      " [2.22696979e-02 9.63710546e-01 1.17907934e-02 1.07936110e-04\n",
      "  2.12102057e-03]\n",
      " [3.62323076e-02 9.55357909e-01 7.15074968e-03 4.07595617e-05\n",
      "  1.21820427e-03]\n",
      " [6.53927509e-06 9.99986410e-01 4.79683763e-07 2.04668117e-06\n",
      "  4.58733302e-06]\n",
      " [2.56552752e-02 9.73157492e-03 9.61967647e-01 1.45897141e-03\n",
      "  1.18639739e-03]\n",
      " [2.29959050e-03 3.80383688e-04 5.76546154e-05 9.97262359e-01\n",
      "  4.99826802e-09]\n",
      " [1.24580234e-01 5.15250623e-01 3.03233159e-03 3.10572356e-01\n",
      "  4.65643965e-02]\n",
      " [3.67593884e-01 1.05902487e-02 6.16451442e-01 7.82181334e-04\n",
      "  4.58221603e-03]\n",
      " [9.76642609e-01 2.25723516e-02 1.27793115e-04 3.87483269e-05\n",
      "  6.18391263e-04]\n",
      " [5.63544333e-01 1.28829805e-02 4.16381836e-01 9.21988321e-05\n",
      "  7.09862215e-03]]\n"
     ]
    }
   ],
   "source": [
    "print(p)"
   ]
  },
  {
   "cell_type": "code",
   "execution_count": null,
   "metadata": {},
   "outputs": [],
   "source": []
  },
  {
   "cell_type": "code",
   "execution_count": null,
   "metadata": {},
   "outputs": [],
   "source": []
  },
  {
   "cell_type": "code",
   "execution_count": null,
   "metadata": {},
   "outputs": [],
   "source": []
  }
 ],
 "metadata": {
  "kernelspec": {
   "display_name": "ai",
   "language": "python",
   "name": "ai"
  },
  "language_info": {
   "codemirror_mode": {
    "name": "ipython",
    "version": 3
   },
   "file_extension": ".py",
   "mimetype": "text/x-python",
   "name": "python",
   "nbconvert_exporter": "python",
   "pygments_lexer": "ipython3",
   "version": "3.7.11"
  }
 },
 "nbformat": 4,
 "nbformat_minor": 2
}
